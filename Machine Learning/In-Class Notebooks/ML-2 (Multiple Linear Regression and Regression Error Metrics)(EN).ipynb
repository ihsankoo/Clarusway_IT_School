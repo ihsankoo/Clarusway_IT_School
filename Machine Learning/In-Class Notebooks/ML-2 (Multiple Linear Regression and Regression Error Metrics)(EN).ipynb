{
 "cells": [
  {
   "cell_type": "markdown",
   "id": "roman-genesis",
   "metadata": {},
   "source": [
    "## Multiple Linear Regression and Regression Error Metrics"
   ]
  },
  {
   "cell_type": "markdown",
   "id": "complex-president",
   "metadata": {
    "tags": []
   },
   "source": [
    "## Import library"
   ]
  },
  {
   "cell_type": "code",
   "execution_count": 1,
   "id": "portable-subscriber",
   "metadata": {},
   "outputs": [
    {
     "name": "stderr",
     "output_type": "stream",
     "text": [
      "c:\\Users\\ihsankoo\\anaconda3\\lib\\site-packages\\scipy\\__init__.py:146: UserWarning: A NumPy version >=1.16.5 and <1.23.0 is required for this version of SciPy (detected version 1.24.2\n",
      "  warnings.warn(f\"A NumPy version >={np_minversion} and <{np_maxversion}\"\n"
     ]
    }
   ],
   "source": [
    "import numpy as np\n",
    "import pandas as pd\n",
    "import matplotlib.pyplot as plt\n",
    "import seaborn as sns\n",
    "import scipy.stats as stats\n",
    "\n",
    "%matplotlib inline\n",
    "\n",
    "plt.rcParams[\"figure.figsize\"] = (10,7)"
   ]
  },
  {
   "cell_type": "markdown",
   "id": "incorporate-denver",
   "metadata": {},
   "source": [
    "## Read Dataset"
   ]
  },
  {
   "cell_type": "code",
   "execution_count": null,
   "id": "powerful-belfast",
   "metadata": {},
   "outputs": [],
   "source": [
    "df = pd.read_csv(\"Advertising.csv\")\n",
    "df"
   ]
  },
  {
   "cell_type": "markdown",
   "id": "focal-employee",
   "metadata": {},
   "source": [
    "## Data Preparation"
   ]
  },
  {
   "cell_type": "code",
   "execution_count": 3,
   "id": "interpreted-zealand",
   "metadata": {},
   "outputs": [
    {
     "data": {
      "text/plain": [
       "(200, 4)"
      ]
     },
     "execution_count": 3,
     "metadata": {},
     "output_type": "execute_result"
    }
   ],
   "source": [
    "df.shape"
   ]
  },
  {
   "cell_type": "code",
   "execution_count": 4,
   "id": "coated-bowling",
   "metadata": {},
   "outputs": [
    {
     "name": "stdout",
     "output_type": "stream",
     "text": [
      "<class 'pandas.core.frame.DataFrame'>\n",
      "RangeIndex: 200 entries, 0 to 199\n",
      "Data columns (total 4 columns):\n",
      " #   Column     Non-Null Count  Dtype  \n",
      "---  ------     --------------  -----  \n",
      " 0   TV         200 non-null    float64\n",
      " 1   radio      200 non-null    float64\n",
      " 2   newspaper  200 non-null    float64\n",
      " 3   sales      200 non-null    float64\n",
      "dtypes: float64(4)\n",
      "memory usage: 6.4 KB\n"
     ]
    }
   ],
   "source": [
    "df.info()"
   ]
  },
  {
   "cell_type": "code",
   "execution_count": 5,
   "id": "killing-rochester",
   "metadata": {},
   "outputs": [
    {
     "data": {
      "text/html": [
       "<div>\n",
       "<style scoped>\n",
       "    .dataframe tbody tr th:only-of-type {\n",
       "        vertical-align: middle;\n",
       "    }\n",
       "\n",
       "    .dataframe tbody tr th {\n",
       "        vertical-align: top;\n",
       "    }\n",
       "\n",
       "    .dataframe thead th {\n",
       "        text-align: right;\n",
       "    }\n",
       "</style>\n",
       "<table border=\"1\" class=\"dataframe\">\n",
       "  <thead>\n",
       "    <tr style=\"text-align: right;\">\n",
       "      <th></th>\n",
       "      <th>TV</th>\n",
       "      <th>radio</th>\n",
       "      <th>newspaper</th>\n",
       "      <th>sales</th>\n",
       "    </tr>\n",
       "  </thead>\n",
       "  <tbody>\n",
       "    <tr>\n",
       "      <th>count</th>\n",
       "      <td>200.000000</td>\n",
       "      <td>200.000000</td>\n",
       "      <td>200.000000</td>\n",
       "      <td>200.000000</td>\n",
       "    </tr>\n",
       "    <tr>\n",
       "      <th>mean</th>\n",
       "      <td>147.042500</td>\n",
       "      <td>23.264000</td>\n",
       "      <td>30.554000</td>\n",
       "      <td>14.022500</td>\n",
       "    </tr>\n",
       "    <tr>\n",
       "      <th>std</th>\n",
       "      <td>85.854236</td>\n",
       "      <td>14.846809</td>\n",
       "      <td>21.778621</td>\n",
       "      <td>5.217457</td>\n",
       "    </tr>\n",
       "    <tr>\n",
       "      <th>min</th>\n",
       "      <td>0.700000</td>\n",
       "      <td>0.000000</td>\n",
       "      <td>0.300000</td>\n",
       "      <td>1.600000</td>\n",
       "    </tr>\n",
       "    <tr>\n",
       "      <th>25%</th>\n",
       "      <td>74.375000</td>\n",
       "      <td>9.975000</td>\n",
       "      <td>12.750000</td>\n",
       "      <td>10.375000</td>\n",
       "    </tr>\n",
       "    <tr>\n",
       "      <th>50%</th>\n",
       "      <td>149.750000</td>\n",
       "      <td>22.900000</td>\n",
       "      <td>25.750000</td>\n",
       "      <td>12.900000</td>\n",
       "    </tr>\n",
       "    <tr>\n",
       "      <th>75%</th>\n",
       "      <td>218.825000</td>\n",
       "      <td>36.525000</td>\n",
       "      <td>45.100000</td>\n",
       "      <td>17.400000</td>\n",
       "    </tr>\n",
       "    <tr>\n",
       "      <th>max</th>\n",
       "      <td>296.400000</td>\n",
       "      <td>49.600000</td>\n",
       "      <td>114.000000</td>\n",
       "      <td>27.000000</td>\n",
       "    </tr>\n",
       "  </tbody>\n",
       "</table>\n",
       "</div>"
      ],
      "text/plain": [
       "               TV       radio   newspaper       sales\n",
       "count  200.000000  200.000000  200.000000  200.000000\n",
       "mean   147.042500   23.264000   30.554000   14.022500\n",
       "std     85.854236   14.846809   21.778621    5.217457\n",
       "min      0.700000    0.000000    0.300000    1.600000\n",
       "25%     74.375000    9.975000   12.750000   10.375000\n",
       "50%    149.750000   22.900000   25.750000   12.900000\n",
       "75%    218.825000   36.525000   45.100000   17.400000\n",
       "max    296.400000   49.600000  114.000000   27.000000"
      ]
     },
     "execution_count": 5,
     "metadata": {},
     "output_type": "execute_result"
    }
   ],
   "source": [
    "df.describe()"
   ]
  },
  {
   "cell_type": "markdown",
   "id": "d0720c89",
   "metadata": {},
   "source": [
    "## Distribution of features"
   ]
  },
  {
   "cell_type": "code",
   "execution_count": 6,
   "id": "secure-interest",
   "metadata": {},
   "outputs": [
    {
     "data": {
      "image/png": "[encoded data removed]",
      "text/plain": [
       "<Figure size 1000x1000 with 20 Axes>"
      ]
     },
     "metadata": {},
     "output_type": "display_data"
    }
   ],
   "source": [
    "sns.pairplot(df)\n",
    "plt.show();"
   ]
  },
  {
   "cell_type": "code",
   "execution_count": 7,
   "id": "expressed-paraguay",
   "metadata": {},
   "outputs": [
    {
     "data": {
      "text/html": [
       "<div>\n",
       "<style scoped>\n",
       "    .dataframe tbody tr th:only-of-type {\n",
       "        vertical-align: middle;\n",
       "    }\n",
       "\n",
       "    .dataframe tbody tr th {\n",
       "        vertical-align: top;\n",
       "    }\n",
       "\n",
       "    .dataframe thead th {\n",
       "        text-align: right;\n",
       "    }\n",
       "</style>\n",
       "<table border=\"1\" class=\"dataframe\">\n",
       "  <thead>\n",
       "    <tr style=\"text-align: right;\">\n",
       "      <th></th>\n",
       "      <th>TV</th>\n",
       "      <th>radio</th>\n",
       "      <th>newspaper</th>\n",
       "      <th>sales</th>\n",
       "    </tr>\n",
       "  </thead>\n",
       "  <tbody>\n",
       "    <tr>\n",
       "      <th>TV</th>\n",
       "      <td>1.000000</td>\n",
       "      <td>0.054809</td>\n",
       "      <td>0.056648</td>\n",
       "      <td>0.782224</td>\n",
       "    </tr>\n",
       "    <tr>\n",
       "      <th>radio</th>\n",
       "      <td>0.054809</td>\n",
       "      <td>1.000000</td>\n",
       "      <td>0.354104</td>\n",
       "      <td>0.576223</td>\n",
       "    </tr>\n",
       "    <tr>\n",
       "      <th>newspaper</th>\n",
       "      <td>0.056648</td>\n",
       "      <td>0.354104</td>\n",
       "      <td>1.000000</td>\n",
       "      <td>0.228299</td>\n",
       "    </tr>\n",
       "    <tr>\n",
       "      <th>sales</th>\n",
       "      <td>0.782224</td>\n",
       "      <td>0.576223</td>\n",
       "      <td>0.228299</td>\n",
       "      <td>1.000000</td>\n",
       "    </tr>\n",
       "  </tbody>\n",
       "</table>\n",
       "</div>"
      ],
      "text/plain": [
       "                 TV     radio  newspaper     sales\n",
       "TV         1.000000  0.054809   0.056648  0.782224\n",
       "radio      0.054809  1.000000   0.354104  0.576223\n",
       "newspaper  0.056648  0.354104   1.000000  0.228299\n",
       "sales      0.782224  0.576223   0.228299  1.000000"
      ]
     },
     "execution_count": 7,
     "metadata": {},
     "output_type": "execute_result"
    }
   ],
   "source": [
    "df.corr()"
   ]
  },
  {
   "cell_type": "code",
   "execution_count": 8,
   "id": "widespread-celebrity",
   "metadata": {},
   "outputs": [
    {
     "data": {
      "image/png": "[encoded data removed]",
      "text/plain": [
       "<Figure size 1000x700 with 2 Axes>"
      ]
     },
     "metadata": {},
     "output_type": "display_data"
    }
   ],
   "source": [
    "sns.heatmap(df.corr(), annot=True, cmap='coolwarm', vmin=-1, vmax=1)\n",
    "plt.show();"
   ]
  },
  {
   "cell_type": "markdown",
   "id": "revised-compiler",
   "metadata": {},
   "source": [
    "## Train-Test Split"
   ]
  },
  {
   "cell_type": "code",
   "execution_count": 9,
   "id": "fancy-designer",
   "metadata": {},
   "outputs": [],
   "source": [
    "# If you're not using anaconda:\n",
    "# pip install scikit-learn\n",
    "# conda install scikit-learn"
   ]
  },
  {
   "cell_type": "code",
   "execution_count": 10,
   "id": "physical-shopping",
   "metadata": {},
   "outputs": [],
   "source": [
    "X = df.drop(columns=\"sales\")  # df[[\"TV\", \"radio\", \"newspaper\"]]\n",
    "y = df[\"sales\"]"
   ]
  },
  {
   "cell_type": "code",
   "execution_count": 11,
   "id": "capable-chinese",
   "metadata": {},
   "outputs": [],
   "source": [
    "from sklearn.model_selection import train_test_split\n",
    "\n",
    "# We will use this function to split the data into train/test"
   ]
  },
  {
   "cell_type": "code",
   "execution_count": 12,
   "id": "controlled-education",
   "metadata": {},
   "outputs": [],
   "source": [
    "X_train, X_test, y_train, y_test = train_test_split(X, y, test_size=0.2, random_state=42)\n",
    "\n",
    "# Default test_size is 0.25. The idea here is to get as many data points in the train set as possible without hurting the\n",
    "# testing of the model. The choice is somewhat arbitrary."
   ]
  },
  {
   "cell_type": "code",
   "execution_count": 13,
   "id": "corrected-battle",
   "metadata": {},
   "outputs": [
    {
     "data": {
      "text/html": [
       "<div>\n",
       "<style scoped>\n",
       "    .dataframe tbody tr th:only-of-type {\n",
       "        vertical-align: middle;\n",
       "    }\n",
       "\n",
       "    .dataframe tbody tr th {\n",
       "        vertical-align: top;\n",
       "    }\n",
       "\n",
       "    .dataframe thead th {\n",
       "        text-align: right;\n",
       "    }\n",
       "</style>\n",
       "<table border=\"1\" class=\"dataframe\">\n",
       "  <thead>\n",
       "    <tr style=\"text-align: right;\">\n",
       "      <th></th>\n",
       "      <th>TV</th>\n",
       "      <th>radio</th>\n",
       "      <th>newspaper</th>\n",
       "      <th>sales</th>\n",
       "    </tr>\n",
       "  </thead>\n",
       "  <tbody>\n",
       "    <tr>\n",
       "      <th>105</th>\n",
       "      <td>137.9</td>\n",
       "      <td>46.4</td>\n",
       "      <td>59.0</td>\n",
       "      <td>19.2</td>\n",
       "    </tr>\n",
       "    <tr>\n",
       "      <th>18</th>\n",
       "      <td>69.2</td>\n",
       "      <td>20.5</td>\n",
       "      <td>18.3</td>\n",
       "      <td>11.3</td>\n",
       "    </tr>\n",
       "    <tr>\n",
       "      <th>156</th>\n",
       "      <td>93.9</td>\n",
       "      <td>43.5</td>\n",
       "      <td>50.5</td>\n",
       "      <td>15.3</td>\n",
       "    </tr>\n",
       "    <tr>\n",
       "      <th>57</th>\n",
       "      <td>136.2</td>\n",
       "      <td>19.2</td>\n",
       "      <td>16.6</td>\n",
       "      <td>13.2</td>\n",
       "    </tr>\n",
       "    <tr>\n",
       "      <th>199</th>\n",
       "      <td>232.1</td>\n",
       "      <td>8.6</td>\n",
       "      <td>8.7</td>\n",
       "      <td>13.4</td>\n",
       "    </tr>\n",
       "    <tr>\n",
       "      <th>1</th>\n",
       "      <td>44.5</td>\n",
       "      <td>39.3</td>\n",
       "      <td>45.1</td>\n",
       "      <td>10.4</td>\n",
       "    </tr>\n",
       "    <tr>\n",
       "      <th>27</th>\n",
       "      <td>240.1</td>\n",
       "      <td>16.7</td>\n",
       "      <td>22.9</td>\n",
       "      <td>15.9</td>\n",
       "    </tr>\n",
       "    <tr>\n",
       "      <th>165</th>\n",
       "      <td>234.5</td>\n",
       "      <td>3.4</td>\n",
       "      <td>84.8</td>\n",
       "      <td>11.9</td>\n",
       "    </tr>\n",
       "    <tr>\n",
       "      <th>116</th>\n",
       "      <td>139.2</td>\n",
       "      <td>14.3</td>\n",
       "      <td>25.6</td>\n",
       "      <td>12.2</td>\n",
       "    </tr>\n",
       "    <tr>\n",
       "      <th>41</th>\n",
       "      <td>177.0</td>\n",
       "      <td>33.4</td>\n",
       "      <td>38.7</td>\n",
       "      <td>17.1</td>\n",
       "    </tr>\n",
       "    <tr>\n",
       "      <th>82</th>\n",
       "      <td>75.3</td>\n",
       "      <td>20.3</td>\n",
       "      <td>32.5</td>\n",
       "      <td>11.3</td>\n",
       "    </tr>\n",
       "    <tr>\n",
       "      <th>171</th>\n",
       "      <td>164.5</td>\n",
       "      <td>20.9</td>\n",
       "      <td>47.4</td>\n",
       "      <td>14.5</td>\n",
       "    </tr>\n",
       "    <tr>\n",
       "      <th>50</th>\n",
       "      <td>199.8</td>\n",
       "      <td>3.1</td>\n",
       "      <td>34.6</td>\n",
       "      <td>11.4</td>\n",
       "    </tr>\n",
       "    <tr>\n",
       "      <th>32</th>\n",
       "      <td>97.2</td>\n",
       "      <td>1.5</td>\n",
       "      <td>30.0</td>\n",
       "      <td>9.6</td>\n",
       "    </tr>\n",
       "    <tr>\n",
       "      <th>13</th>\n",
       "      <td>97.5</td>\n",
       "      <td>7.6</td>\n",
       "      <td>7.2</td>\n",
       "      <td>9.7</td>\n",
       "    </tr>\n",
       "  </tbody>\n",
       "</table>\n",
       "</div>"
      ],
      "text/plain": [
       "        TV  radio  newspaper  sales\n",
       "105  137.9   46.4       59.0   19.2\n",
       "18    69.2   20.5       18.3   11.3\n",
       "156   93.9   43.5       50.5   15.3\n",
       "57   136.2   19.2       16.6   13.2\n",
       "199  232.1    8.6        8.7   13.4\n",
       "1     44.5   39.3       45.1   10.4\n",
       "27   240.1   16.7       22.9   15.9\n",
       "165  234.5    3.4       84.8   11.9\n",
       "116  139.2   14.3       25.6   12.2\n",
       "41   177.0   33.4       38.7   17.1\n",
       "82    75.3   20.3       32.5   11.3\n",
       "171  164.5   20.9       47.4   14.5\n",
       "50   199.8    3.1       34.6   11.4\n",
       "32    97.2    1.5       30.0    9.6\n",
       "13    97.5    7.6        7.2    9.7"
      ]
     },
     "execution_count": 13,
     "metadata": {},
     "output_type": "execute_result"
    }
   ],
   "source": [
    "df.sample(15)"
   ]
  },
  {
   "cell_type": "code",
   "execution_count": 14,
   "id": "dressed-contamination",
   "metadata": {},
   "outputs": [
    {
     "name": "stdout",
     "output_type": "stream",
     "text": [
      "Train features shape :  (160, 3)\n",
      "Train target shape   :  (160,)\n",
      "Test features shape  :  (40, 3)\n",
      "Test target shape    :  (40,)\n"
     ]
    }
   ],
   "source": [
    "print(\"Train features shape : \", X_train.shape)\n",
    "print(\"Train target shape   : \", y_train.shape)\n",
    "print(\"Test features shape  : \", X_test.shape)\n",
    "print(\"Test target shape    : \", y_test.shape)"
   ]
  },
  {
   "cell_type": "code",
   "execution_count": 15,
   "id": "hungarian-confirmation",
   "metadata": {},
   "outputs": [
    {
     "data": {
      "text/html": [
       "<div>\n",
       "<style scoped>\n",
       "    .dataframe tbody tr th:only-of-type {\n",
       "        vertical-align: middle;\n",
       "    }\n",
       "\n",
       "    .dataframe tbody tr th {\n",
       "        vertical-align: top;\n",
       "    }\n",
       "\n",
       "    .dataframe thead th {\n",
       "        text-align: right;\n",
       "    }\n",
       "</style>\n",
       "<table border=\"1\" class=\"dataframe\">\n",
       "  <thead>\n",
       "    <tr style=\"text-align: right;\">\n",
       "      <th></th>\n",
       "      <th>TV</th>\n",
       "      <th>radio</th>\n",
       "      <th>newspaper</th>\n",
       "    </tr>\n",
       "  </thead>\n",
       "  <tbody>\n",
       "    <tr>\n",
       "      <th>79</th>\n",
       "      <td>116.0</td>\n",
       "      <td>7.7</td>\n",
       "      <td>23.1</td>\n",
       "    </tr>\n",
       "    <tr>\n",
       "      <th>197</th>\n",
       "      <td>177.0</td>\n",
       "      <td>9.3</td>\n",
       "      <td>6.4</td>\n",
       "    </tr>\n",
       "    <tr>\n",
       "      <th>38</th>\n",
       "      <td>43.1</td>\n",
       "      <td>26.7</td>\n",
       "      <td>35.1</td>\n",
       "    </tr>\n",
       "    <tr>\n",
       "      <th>24</th>\n",
       "      <td>62.3</td>\n",
       "      <td>12.6</td>\n",
       "      <td>18.3</td>\n",
       "    </tr>\n",
       "    <tr>\n",
       "      <th>122</th>\n",
       "      <td>224.0</td>\n",
       "      <td>2.4</td>\n",
       "      <td>15.6</td>\n",
       "    </tr>\n",
       "    <tr>\n",
       "      <th>...</th>\n",
       "      <td>...</td>\n",
       "      <td>...</td>\n",
       "      <td>...</td>\n",
       "    </tr>\n",
       "    <tr>\n",
       "      <th>106</th>\n",
       "      <td>25.0</td>\n",
       "      <td>11.0</td>\n",
       "      <td>29.7</td>\n",
       "    </tr>\n",
       "    <tr>\n",
       "      <th>14</th>\n",
       "      <td>204.1</td>\n",
       "      <td>32.9</td>\n",
       "      <td>46.0</td>\n",
       "    </tr>\n",
       "    <tr>\n",
       "      <th>92</th>\n",
       "      <td>217.7</td>\n",
       "      <td>33.5</td>\n",
       "      <td>59.0</td>\n",
       "    </tr>\n",
       "    <tr>\n",
       "      <th>179</th>\n",
       "      <td>165.6</td>\n",
       "      <td>10.0</td>\n",
       "      <td>17.6</td>\n",
       "    </tr>\n",
       "    <tr>\n",
       "      <th>102</th>\n",
       "      <td>280.2</td>\n",
       "      <td>10.1</td>\n",
       "      <td>21.4</td>\n",
       "    </tr>\n",
       "  </tbody>\n",
       "</table>\n",
       "<p>160 rows × 3 columns</p>\n",
       "</div>"
      ],
      "text/plain": [
       "        TV  radio  newspaper\n",
       "79   116.0    7.7       23.1\n",
       "197  177.0    9.3        6.4\n",
       "38    43.1   26.7       35.1\n",
       "24    62.3   12.6       18.3\n",
       "122  224.0    2.4       15.6\n",
       "..     ...    ...        ...\n",
       "106   25.0   11.0       29.7\n",
       "14   204.1   32.9       46.0\n",
       "92   217.7   33.5       59.0\n",
       "179  165.6   10.0       17.6\n",
       "102  280.2   10.1       21.4\n",
       "\n",
       "[160 rows x 3 columns]"
      ]
     },
     "execution_count": 15,
     "metadata": {},
     "output_type": "execute_result"
    }
   ],
   "source": [
    "X_train"
   ]
  },
  {
   "cell_type": "code",
   "execution_count": 16,
   "id": "frozen-improvement",
   "metadata": {},
   "outputs": [
    {
     "data": {
      "text/html": [
       "<div>\n",
       "<style scoped>\n",
       "    .dataframe tbody tr th:only-of-type {\n",
       "        vertical-align: middle;\n",
       "    }\n",
       "\n",
       "    .dataframe tbody tr th {\n",
       "        vertical-align: top;\n",
       "    }\n",
       "\n",
       "    .dataframe thead th {\n",
       "        text-align: right;\n",
       "    }\n",
       "</style>\n",
       "<table border=\"1\" class=\"dataframe\">\n",
       "  <thead>\n",
       "    <tr style=\"text-align: right;\">\n",
       "      <th></th>\n",
       "      <th>TV</th>\n",
       "      <th>radio</th>\n",
       "      <th>newspaper</th>\n",
       "    </tr>\n",
       "  </thead>\n",
       "  <tbody>\n",
       "    <tr>\n",
       "      <th>95</th>\n",
       "      <td>163.3</td>\n",
       "      <td>31.6</td>\n",
       "      <td>52.9</td>\n",
       "    </tr>\n",
       "    <tr>\n",
       "      <th>15</th>\n",
       "      <td>195.4</td>\n",
       "      <td>47.7</td>\n",
       "      <td>52.9</td>\n",
       "    </tr>\n",
       "    <tr>\n",
       "      <th>30</th>\n",
       "      <td>292.9</td>\n",
       "      <td>28.3</td>\n",
       "      <td>43.2</td>\n",
       "    </tr>\n",
       "    <tr>\n",
       "      <th>158</th>\n",
       "      <td>11.7</td>\n",
       "      <td>36.9</td>\n",
       "      <td>45.2</td>\n",
       "    </tr>\n",
       "    <tr>\n",
       "      <th>128</th>\n",
       "      <td>220.3</td>\n",
       "      <td>49.0</td>\n",
       "      <td>3.2</td>\n",
       "    </tr>\n",
       "    <tr>\n",
       "      <th>115</th>\n",
       "      <td>75.1</td>\n",
       "      <td>35.0</td>\n",
       "      <td>52.7</td>\n",
       "    </tr>\n",
       "    <tr>\n",
       "      <th>69</th>\n",
       "      <td>216.8</td>\n",
       "      <td>43.9</td>\n",
       "      <td>27.2</td>\n",
       "    </tr>\n",
       "    <tr>\n",
       "      <th>170</th>\n",
       "      <td>50.0</td>\n",
       "      <td>11.6</td>\n",
       "      <td>18.4</td>\n",
       "    </tr>\n",
       "    <tr>\n",
       "      <th>174</th>\n",
       "      <td>222.4</td>\n",
       "      <td>3.4</td>\n",
       "      <td>13.1</td>\n",
       "    </tr>\n",
       "    <tr>\n",
       "      <th>45</th>\n",
       "      <td>175.1</td>\n",
       "      <td>22.5</td>\n",
       "      <td>31.5</td>\n",
       "    </tr>\n",
       "    <tr>\n",
       "      <th>66</th>\n",
       "      <td>31.5</td>\n",
       "      <td>24.6</td>\n",
       "      <td>2.2</td>\n",
       "    </tr>\n",
       "    <tr>\n",
       "      <th>182</th>\n",
       "      <td>56.2</td>\n",
       "      <td>5.7</td>\n",
       "      <td>29.7</td>\n",
       "    </tr>\n",
       "    <tr>\n",
       "      <th>165</th>\n",
       "      <td>234.5</td>\n",
       "      <td>3.4</td>\n",
       "      <td>84.8</td>\n",
       "    </tr>\n",
       "    <tr>\n",
       "      <th>78</th>\n",
       "      <td>5.4</td>\n",
       "      <td>29.9</td>\n",
       "      <td>9.4</td>\n",
       "    </tr>\n",
       "    <tr>\n",
       "      <th>186</th>\n",
       "      <td>139.5</td>\n",
       "      <td>2.1</td>\n",
       "      <td>26.6</td>\n",
       "    </tr>\n",
       "    <tr>\n",
       "      <th>177</th>\n",
       "      <td>170.2</td>\n",
       "      <td>7.8</td>\n",
       "      <td>35.2</td>\n",
       "    </tr>\n",
       "    <tr>\n",
       "      <th>56</th>\n",
       "      <td>7.3</td>\n",
       "      <td>28.1</td>\n",
       "      <td>41.4</td>\n",
       "    </tr>\n",
       "    <tr>\n",
       "      <th>152</th>\n",
       "      <td>197.6</td>\n",
       "      <td>23.3</td>\n",
       "      <td>14.2</td>\n",
       "    </tr>\n",
       "    <tr>\n",
       "      <th>82</th>\n",
       "      <td>75.3</td>\n",
       "      <td>20.3</td>\n",
       "      <td>32.5</td>\n",
       "    </tr>\n",
       "    <tr>\n",
       "      <th>68</th>\n",
       "      <td>237.4</td>\n",
       "      <td>27.5</td>\n",
       "      <td>11.0</td>\n",
       "    </tr>\n",
       "    <tr>\n",
       "      <th>124</th>\n",
       "      <td>229.5</td>\n",
       "      <td>32.3</td>\n",
       "      <td>74.2</td>\n",
       "    </tr>\n",
       "    <tr>\n",
       "      <th>16</th>\n",
       "      <td>67.8</td>\n",
       "      <td>36.6</td>\n",
       "      <td>114.0</td>\n",
       "    </tr>\n",
       "    <tr>\n",
       "      <th>148</th>\n",
       "      <td>38.0</td>\n",
       "      <td>40.3</td>\n",
       "      <td>11.9</td>\n",
       "    </tr>\n",
       "    <tr>\n",
       "      <th>93</th>\n",
       "      <td>250.9</td>\n",
       "      <td>36.5</td>\n",
       "      <td>72.3</td>\n",
       "    </tr>\n",
       "    <tr>\n",
       "      <th>65</th>\n",
       "      <td>69.0</td>\n",
       "      <td>9.3</td>\n",
       "      <td>0.9</td>\n",
       "    </tr>\n",
       "    <tr>\n",
       "      <th>60</th>\n",
       "      <td>53.5</td>\n",
       "      <td>2.0</td>\n",
       "      <td>21.4</td>\n",
       "    </tr>\n",
       "    <tr>\n",
       "      <th>84</th>\n",
       "      <td>213.5</td>\n",
       "      <td>43.0</td>\n",
       "      <td>33.8</td>\n",
       "    </tr>\n",
       "    <tr>\n",
       "      <th>67</th>\n",
       "      <td>139.3</td>\n",
       "      <td>14.5</td>\n",
       "      <td>10.2</td>\n",
       "    </tr>\n",
       "    <tr>\n",
       "      <th>125</th>\n",
       "      <td>87.2</td>\n",
       "      <td>11.8</td>\n",
       "      <td>25.9</td>\n",
       "    </tr>\n",
       "    <tr>\n",
       "      <th>132</th>\n",
       "      <td>8.4</td>\n",
       "      <td>27.2</td>\n",
       "      <td>2.1</td>\n",
       "    </tr>\n",
       "    <tr>\n",
       "      <th>9</th>\n",
       "      <td>199.8</td>\n",
       "      <td>2.6</td>\n",
       "      <td>21.2</td>\n",
       "    </tr>\n",
       "    <tr>\n",
       "      <th>18</th>\n",
       "      <td>69.2</td>\n",
       "      <td>20.5</td>\n",
       "      <td>18.3</td>\n",
       "    </tr>\n",
       "    <tr>\n",
       "      <th>55</th>\n",
       "      <td>198.9</td>\n",
       "      <td>49.4</td>\n",
       "      <td>60.0</td>\n",
       "    </tr>\n",
       "    <tr>\n",
       "      <th>75</th>\n",
       "      <td>16.9</td>\n",
       "      <td>43.7</td>\n",
       "      <td>89.4</td>\n",
       "    </tr>\n",
       "    <tr>\n",
       "      <th>150</th>\n",
       "      <td>280.7</td>\n",
       "      <td>13.9</td>\n",
       "      <td>37.0</td>\n",
       "    </tr>\n",
       "    <tr>\n",
       "      <th>104</th>\n",
       "      <td>238.2</td>\n",
       "      <td>34.3</td>\n",
       "      <td>5.3</td>\n",
       "    </tr>\n",
       "    <tr>\n",
       "      <th>135</th>\n",
       "      <td>48.3</td>\n",
       "      <td>47.0</td>\n",
       "      <td>8.5</td>\n",
       "    </tr>\n",
       "    <tr>\n",
       "      <th>137</th>\n",
       "      <td>273.7</td>\n",
       "      <td>28.9</td>\n",
       "      <td>59.7</td>\n",
       "    </tr>\n",
       "    <tr>\n",
       "      <th>164</th>\n",
       "      <td>117.2</td>\n",
       "      <td>14.7</td>\n",
       "      <td>5.4</td>\n",
       "    </tr>\n",
       "    <tr>\n",
       "      <th>76</th>\n",
       "      <td>27.5</td>\n",
       "      <td>1.6</td>\n",
       "      <td>20.7</td>\n",
       "    </tr>\n",
       "  </tbody>\n",
       "</table>\n",
       "</div>"
      ],
      "text/plain": [
       "        TV  radio  newspaper\n",
       "95   163.3   31.6       52.9\n",
       "15   195.4   47.7       52.9\n",
       "30   292.9   28.3       43.2\n",
       "158   11.7   36.9       45.2\n",
       "128  220.3   49.0        3.2\n",
       "115   75.1   35.0       52.7\n",
       "69   216.8   43.9       27.2\n",
       "170   50.0   11.6       18.4\n",
       "174  222.4    3.4       13.1\n",
       "45   175.1   22.5       31.5\n",
       "66    31.5   24.6        2.2\n",
       "182   56.2    5.7       29.7\n",
       "165  234.5    3.4       84.8\n",
       "78     5.4   29.9        9.4\n",
       "186  139.5    2.1       26.6\n",
       "177  170.2    7.8       35.2\n",
       "56     7.3   28.1       41.4\n",
       "152  197.6   23.3       14.2\n",
       "82    75.3   20.3       32.5\n",
       "68   237.4   27.5       11.0\n",
       "124  229.5   32.3       74.2\n",
       "16    67.8   36.6      114.0\n",
       "148   38.0   40.3       11.9\n",
       "93   250.9   36.5       72.3\n",
       "65    69.0    9.3        0.9\n",
       "60    53.5    2.0       21.4\n",
       "84   213.5   43.0       33.8\n",
       "67   139.3   14.5       10.2\n",
       "125   87.2   11.8       25.9\n",
       "132    8.4   27.2        2.1\n",
       "9    199.8    2.6       21.2\n",
       "18    69.2   20.5       18.3\n",
       "55   198.9   49.4       60.0\n",
       "75    16.9   43.7       89.4\n",
       "150  280.7   13.9       37.0\n",
       "104  238.2   34.3        5.3\n",
       "135   48.3   47.0        8.5\n",
       "137  273.7   28.9       59.7\n",
       "164  117.2   14.7        5.4\n",
       "76    27.5    1.6       20.7"
      ]
     },
     "execution_count": 16,
     "metadata": {},
     "output_type": "execute_result"
    }
   ],
   "source": [
    "X_test"
   ]
  },
  {
   "cell_type": "code",
   "execution_count": 17,
   "id": "piano-daisy",
   "metadata": {},
   "outputs": [
    {
     "data": {
      "text/plain": [
       "79     11.0\n",
       "197    12.8\n",
       "38     10.1\n",
       "24      9.7\n",
       "122    11.6\n",
       "       ... \n",
       "106     7.2\n",
       "14     19.0\n",
       "92     19.4\n",
       "179    12.6\n",
       "102    14.8\n",
       "Name: sales, Length: 160, dtype: float64"
      ]
     },
     "execution_count": 17,
     "metadata": {},
     "output_type": "execute_result"
    }
   ],
   "source": [
    "y_train"
   ]
  },
  {
   "cell_type": "code",
   "execution_count": 18,
   "id": "604ff173",
   "metadata": {},
   "outputs": [
    {
     "data": {
      "text/plain": [
       "95     16.9\n",
       "15     22.4\n",
       "30     21.4\n",
       "158     7.3\n",
       "128    24.7\n",
       "115    12.6\n",
       "69     22.3\n",
       "170     8.4\n",
       "174    11.5\n",
       "45     14.9\n",
       "66      9.5\n",
       "182     8.7\n",
       "165    11.9\n",
       "78      5.3\n",
       "186    10.3\n",
       "177    11.7\n",
       "56      5.5\n",
       "152    16.6\n",
       "82     11.3\n",
       "68     18.9\n",
       "124    19.7\n",
       "16     12.5\n",
       "148    10.9\n",
       "93     22.2\n",
       "65      9.3\n",
       "60      8.1\n",
       "84     21.7\n",
       "67     13.4\n",
       "125    10.6\n",
       "132     5.7\n",
       "9      10.6\n",
       "18     11.3\n",
       "55     23.7\n",
       "75      8.7\n",
       "150    16.1\n",
       "104    20.7\n",
       "135    11.6\n",
       "137    20.8\n",
       "164    11.9\n",
       "76      6.9\n",
       "Name: sales, dtype: float64"
      ]
     },
     "execution_count": 18,
     "metadata": {},
     "output_type": "execute_result"
    }
   ],
   "source": [
    "y_test"
   ]
  },
  {
   "cell_type": "markdown",
   "id": "valuable-sapphire",
   "metadata": {},
   "source": [
    "## Model Fitting and Compare Actual and Predicted Labels"
   ]
  },
  {
   "cell_type": "code",
   "execution_count": 19,
   "id": "thick-institution",
   "metadata": {},
   "outputs": [],
   "source": [
    "from sklearn.linear_model import LinearRegression\n",
    "\n",
    "# Import LinearRegression class from scikit-learn"
   ]
  },
  {
   "cell_type": "code",
   "execution_count": 20,
   "id": "working-drink",
   "metadata": {},
   "outputs": [],
   "source": [
    "model = LinearRegression()\n",
    "\n",
    "# Instantiate the class"
   ]
  },
  {
   "cell_type": "code",
   "execution_count": 21,
   "id": "answering-right",
   "metadata": {},
   "outputs": [
    {
     "data": {
      "text/html": [
       "<style>#sk-container-id-1 {color: black;background-color: white;}#sk-container-id-1 pre{padding: 0;}#sk-container-id-1 div.sk-toggleable {background-color: white;}#sk-container-id-1 label.sk-toggleable__label {cursor: pointer;display: block;width: 100%;margin-bottom: 0;padding: 0.3em;box-sizing: border-box;text-align: center;}#sk-container-id-1 label.sk-toggleable__label-arrow:before {content: \"▸\";float: left;margin-right: 0.25em;color: #696969;}#sk-container-id-1 label.sk-toggleable__label-arrow:hover:before {color: black;}#sk-container-id-1 div.sk-estimator:hover label.sk-toggleable__label-arrow:before {color: black;}#sk-container-id-1 div.sk-toggleable__content {max-height: 0;max-width: 0;overflow: hidden;text-align: left;background-color: #f0f8ff;}#sk-container-id-1 div.sk-toggleable__content pre {margin: 0.2em;color: black;border-radius: 0.25em;background-color: #f0f8ff;}#sk-container-id-1 input.sk-toggleable__control:checked~div.sk-toggleable__content {max-height: 200px;max-width: 100%;overflow: auto;}#sk-container-id-1 input.sk-toggleable__control:checked~label.sk-toggleable__label-arrow:before {content: \"▾\";}#sk-container-id-1 div.sk-estimator input.sk-toggleable__control:checked~label.sk-toggleable__label {background-color: #d4ebff;}#sk-container-id-1 div.sk-label input.sk-toggleable__control:checked~label.sk-toggleable__label {background-color: #d4ebff;}#sk-container-id-1 input.sk-hidden--visually {border: 0;clip: rect(1px 1px 1px 1px);clip: rect(1px, 1px, 1px, 1px);height: 1px;margin: -1px;overflow: hidden;padding: 0;position: absolute;width: 1px;}#sk-container-id-1 div.sk-estimator {font-family: monospace;background-color: #f0f8ff;border: 1px dotted black;border-radius: 0.25em;box-sizing: border-box;margin-bottom: 0.5em;}#sk-container-id-1 div.sk-estimator:hover {background-color: #d4ebff;}#sk-container-id-1 div.sk-parallel-item::after {content: \"\";width: 100%;border-bottom: 1px solid gray;flex-grow: 1;}#sk-container-id-1 div.sk-label:hover label.sk-toggleable__label {background-color: #d4ebff;}#sk-container-id-1 div.sk-serial::before {content: \"\";position: absolute;border-left: 1px solid gray;box-sizing: border-box;top: 0;bottom: 0;left: 50%;z-index: 0;}#sk-container-id-1 div.sk-serial {display: flex;flex-direction: column;align-items: center;background-color: white;padding-right: 0.2em;padding-left: 0.2em;position: relative;}#sk-container-id-1 div.sk-item {position: relative;z-index: 1;}#sk-container-id-1 div.sk-parallel {display: flex;align-items: stretch;justify-content: center;background-color: white;position: relative;}#sk-container-id-1 div.sk-item::before, #sk-container-id-1 div.sk-parallel-item::before {content: \"\";position: absolute;border-left: 1px solid gray;box-sizing: border-box;top: 0;bottom: 0;left: 50%;z-index: -1;}#sk-container-id-1 div.sk-parallel-item {display: flex;flex-direction: column;z-index: 1;position: relative;background-color: white;}#sk-container-id-1 div.sk-parallel-item:first-child::after {align-self: flex-end;width: 50%;}#sk-container-id-1 div.sk-parallel-item:last-child::after {align-self: flex-start;width: 50%;}#sk-container-id-1 div.sk-parallel-item:only-child::after {width: 0;}#sk-container-id-1 div.sk-dashed-wrapped {border: 1px dashed gray;margin: 0 0.4em 0.5em 0.4em;box-sizing: border-box;padding-bottom: 0.4em;background-color: white;}#sk-container-id-1 div.sk-label label {font-family: monospace;font-weight: bold;display: inline-block;line-height: 1.2em;}#sk-container-id-1 div.sk-label-container {text-align: center;}#sk-container-id-1 div.sk-container {/* jupyter's `normalize.less` sets `[hidden] { display: none; }` but bootstrap.min.css set `[hidden] { display: none !important; }` so we also need the `!important` here to be able to override the default hidden behavior on the sphinx rendered scikit-learn.org. See: https://github.com/scikit-learn/scikit-learn/issues/21755 */display: inline-block !important;position: relative;}#sk-container-id-1 div.sk-text-repr-fallback {display: none;}</style><div id=\"sk-container-id-1\" class=\"sk-top-container\"><div class=\"sk-text-repr-fallback\"><pre>LinearRegression()</pre><b>In a Jupyter environment, please rerun this cell to show the HTML representation or trust the notebook. <br />On GitHub, the HTML representation is unable to render, please try loading this page with nbviewer.org.</b></div><div class=\"sk-container\" hidden><div class=\"sk-item\"><div class=\"sk-estimator sk-toggleable\"><input class=\"sk-toggleable__control sk-hidden--visually\" id=\"sk-estimator-id-1\" type=\"checkbox\" checked><label for=\"sk-estimator-id-1\" class=\"sk-toggleable__label sk-toggleable__label-arrow\">LinearRegression</label><div class=\"sk-toggleable__content\"><pre>LinearRegression()</pre></div></div></div></div></div>"
      ],
      "text/plain": [
       "LinearRegression()"
      ]
     },
     "execution_count": 21,
     "metadata": {},
     "output_type": "execute_result"
    }
   ],
   "source": [
    "model.fit(X_train, y_train) \n",
    "\n",
    "# our `model` is an object of the `LinearRegression` class. We can now access its methods.\n",
    "# The `fit` method, in scikit-learn, is always used to learn some parameters about the data."
   ]
  },
  {
   "cell_type": "code",
   "execution_count": 22,
   "id": "3632af9a",
   "metadata": {},
   "outputs": [
    {
     "data": {
      "text/plain": [
       "array([16.4080242 , 20.88988209, 21.55384318, 10.60850256, 22.11237326,\n",
       "       13.10559172, 21.05719192,  7.46101034, 13.60634581, 15.15506967,\n",
       "        9.04831992,  6.65328312, 14.34554487,  8.90349333,  9.68959028,\n",
       "       12.16494386,  8.73628397, 16.26507258, 10.27759582, 18.83109103,\n",
       "       19.56036653, 13.25103464, 12.33620695, 21.30695132,  7.82740305,\n",
       "        5.80957448, 20.75753231, 11.98138077,  9.18349576,  8.5066991 ,\n",
       "       12.46646769, 10.00337695, 21.3876709 , 12.24966368, 18.26661538,\n",
       "       20.13766267, 14.05514005, 20.85411186, 11.0174441 ,  4.56899622])"
      ]
     },
     "execution_count": 22,
     "metadata": {},
     "output_type": "execute_result"
    }
   ],
   "source": [
    "y_pred = model.predict(X_test) # Since the `model` object is now the trained linear regression model, we can invoke the `predict`\n",
    "# method to get predictions on the test set.\n",
    "y_pred"
   ]
  },
  {
   "cell_type": "code",
   "execution_count": 23,
   "id": "500cc71d",
   "metadata": {},
   "outputs": [
    {
     "data": {
      "text/html": [
       "<div>\n",
       "<style scoped>\n",
       "    .dataframe tbody tr th:only-of-type {\n",
       "        vertical-align: middle;\n",
       "    }\n",
       "\n",
       "    .dataframe tbody tr th {\n",
       "        vertical-align: top;\n",
       "    }\n",
       "\n",
       "    .dataframe thead th {\n",
       "        text-align: right;\n",
       "    }\n",
       "</style>\n",
       "<table border=\"1\" class=\"dataframe\">\n",
       "  <thead>\n",
       "    <tr style=\"text-align: right;\">\n",
       "      <th></th>\n",
       "      <th>TV</th>\n",
       "      <th>radio</th>\n",
       "      <th>newspaper</th>\n",
       "    </tr>\n",
       "  </thead>\n",
       "  <tbody>\n",
       "    <tr>\n",
       "      <th>79</th>\n",
       "      <td>116.0</td>\n",
       "      <td>7.7</td>\n",
       "      <td>23.1</td>\n",
       "    </tr>\n",
       "  </tbody>\n",
       "</table>\n",
       "</div>"
      ],
      "text/plain": [
       "       TV  radio  newspaper\n",
       "79  116.0    7.7       23.1"
      ]
     },
     "execution_count": 23,
     "metadata": {},
     "output_type": "execute_result"
    }
   ],
   "source": [
    "X_train.head(1)"
   ]
  },
  {
   "cell_type": "code",
   "execution_count": 24,
   "id": "cae09423",
   "metadata": {},
   "outputs": [
    {
     "data": {
      "text/plain": [
       "array([0.04472952, 0.18919505, 0.00276111])"
      ]
     },
     "execution_count": 24,
     "metadata": {},
     "output_type": "execute_result"
    }
   ],
   "source": [
    "model.coef_\n",
    "\n",
    "# The coefficients listed in the `coef_` attribute is in the same order as with the features of our X_test."
   ]
  },
  {
   "cell_type": "code",
   "execution_count": 25,
   "id": "372505fb",
   "metadata": {},
   "outputs": [
    {
     "data": {
      "text/plain": [
       "2.9790673381226256"
      ]
     },
     "execution_count": 25,
     "metadata": {},
     "output_type": "execute_result"
    }
   ],
   "source": [
    "model.intercept_"
   ]
  },
  {
   "cell_type": "code",
   "execution_count": 26,
   "id": "4165da9a",
   "metadata": {},
   "outputs": [
    {
     "data": {
      "text/html": [
       "<div>\n",
       "<style scoped>\n",
       "    .dataframe tbody tr th:only-of-type {\n",
       "        vertical-align: middle;\n",
       "    }\n",
       "\n",
       "    .dataframe tbody tr th {\n",
       "        vertical-align: top;\n",
       "    }\n",
       "\n",
       "    .dataframe thead th {\n",
       "        text-align: right;\n",
       "    }\n",
       "</style>\n",
       "<table border=\"1\" class=\"dataframe\">\n",
       "  <thead>\n",
       "    <tr style=\"text-align: right;\">\n",
       "      <th></th>\n",
       "      <th>TV</th>\n",
       "      <th>radio</th>\n",
       "      <th>newspaper</th>\n",
       "    </tr>\n",
       "  </thead>\n",
       "  <tbody>\n",
       "    <tr>\n",
       "      <th>95</th>\n",
       "      <td>163.3</td>\n",
       "      <td>31.6</td>\n",
       "      <td>52.9</td>\n",
       "    </tr>\n",
       "  </tbody>\n",
       "</table>\n",
       "</div>"
      ],
      "text/plain": [
       "       TV  radio  newspaper\n",
       "95  163.3   31.6       52.9"
      ]
     },
     "execution_count": 26,
     "metadata": {},
     "output_type": "execute_result"
    }
   ],
   "source": [
    "X_test.loc[[95]]"
   ]
  },
  {
   "cell_type": "code",
   "execution_count": 27,
   "id": "587f042b",
   "metadata": {},
   "outputs": [
    {
     "data": {
      "text/plain": [
       "16.9"
      ]
     },
     "execution_count": 27,
     "metadata": {},
     "output_type": "execute_result"
    }
   ],
   "source": [
    "y_test.loc[95]"
   ]
  },
  {
   "cell_type": "code",
   "execution_count": 28,
   "id": "5138b0c8",
   "metadata": {},
   "outputs": [
    {
     "data": {
      "text/plain": [
       "array([16.4080242])"
      ]
     },
     "execution_count": 28,
     "metadata": {},
     "output_type": "execute_result"
    }
   ],
   "source": [
    "model.predict(X_test.loc[[95]]) # ML algorithms accept 2-dimensional data, even if you have only one instance (observation point)."
   ]
  },
  {
   "cell_type": "code",
   "execution_count": 29,
   "id": "accompanied-contact",
   "metadata": {},
   "outputs": [],
   "source": [
    "my_dict = {\"Actual\": y_test, \"Pred\": y_pred, \"Residual\":y_test-y_pred, \"LSE\":(y_test-y_pred)**2, \"ABS\": abs(y_test-y_pred)}"
   ]
  },
  {
   "cell_type": "code",
   "execution_count": 30,
   "id": "enhanced-layer",
   "metadata": {},
   "outputs": [
    {
     "data": {
      "text/html": [
       "<div>\n",
       "<style scoped>\n",
       "    .dataframe tbody tr th:only-of-type {\n",
       "        vertical-align: middle;\n",
       "    }\n",
       "\n",
       "    .dataframe tbody tr th {\n",
       "        vertical-align: top;\n",
       "    }\n",
       "\n",
       "    .dataframe thead th {\n",
       "        text-align: right;\n",
       "    }\n",
       "</style>\n",
       "<table border=\"1\" class=\"dataframe\">\n",
       "  <thead>\n",
       "    <tr style=\"text-align: right;\">\n",
       "      <th></th>\n",
       "      <th>Actual</th>\n",
       "      <th>Pred</th>\n",
       "      <th>Residual</th>\n",
       "      <th>LSE</th>\n",
       "      <th>ABS</th>\n",
       "    </tr>\n",
       "  </thead>\n",
       "  <tbody>\n",
       "    <tr>\n",
       "      <th>95</th>\n",
       "      <td>16.9</td>\n",
       "      <td>16.408024</td>\n",
       "      <td>0.491976</td>\n",
       "      <td>0.242040</td>\n",
       "      <td>0.491976</td>\n",
       "    </tr>\n",
       "    <tr>\n",
       "      <th>15</th>\n",
       "      <td>22.4</td>\n",
       "      <td>20.889882</td>\n",
       "      <td>1.510118</td>\n",
       "      <td>2.280456</td>\n",
       "      <td>1.510118</td>\n",
       "    </tr>\n",
       "    <tr>\n",
       "      <th>30</th>\n",
       "      <td>21.4</td>\n",
       "      <td>21.553843</td>\n",
       "      <td>-0.153843</td>\n",
       "      <td>0.023668</td>\n",
       "      <td>0.153843</td>\n",
       "    </tr>\n",
       "    <tr>\n",
       "      <th>158</th>\n",
       "      <td>7.3</td>\n",
       "      <td>10.608503</td>\n",
       "      <td>-3.308503</td>\n",
       "      <td>10.946189</td>\n",
       "      <td>3.308503</td>\n",
       "    </tr>\n",
       "    <tr>\n",
       "      <th>128</th>\n",
       "      <td>24.7</td>\n",
       "      <td>22.112373</td>\n",
       "      <td>2.587627</td>\n",
       "      <td>6.695812</td>\n",
       "      <td>2.587627</td>\n",
       "    </tr>\n",
       "    <tr>\n",
       "      <th>115</th>\n",
       "      <td>12.6</td>\n",
       "      <td>13.105592</td>\n",
       "      <td>-0.505592</td>\n",
       "      <td>0.255623</td>\n",
       "      <td>0.505592</td>\n",
       "    </tr>\n",
       "    <tr>\n",
       "      <th>69</th>\n",
       "      <td>22.3</td>\n",
       "      <td>21.057192</td>\n",
       "      <td>1.242808</td>\n",
       "      <td>1.544572</td>\n",
       "      <td>1.242808</td>\n",
       "    </tr>\n",
       "    <tr>\n",
       "      <th>170</th>\n",
       "      <td>8.4</td>\n",
       "      <td>7.461010</td>\n",
       "      <td>0.938990</td>\n",
       "      <td>0.881702</td>\n",
       "      <td>0.938990</td>\n",
       "    </tr>\n",
       "    <tr>\n",
       "      <th>174</th>\n",
       "      <td>11.5</td>\n",
       "      <td>13.606346</td>\n",
       "      <td>-2.106346</td>\n",
       "      <td>4.436693</td>\n",
       "      <td>2.106346</td>\n",
       "    </tr>\n",
       "    <tr>\n",
       "      <th>45</th>\n",
       "      <td>14.9</td>\n",
       "      <td>15.155070</td>\n",
       "      <td>-0.255070</td>\n",
       "      <td>0.065061</td>\n",
       "      <td>0.255070</td>\n",
       "    </tr>\n",
       "    <tr>\n",
       "      <th>66</th>\n",
       "      <td>9.5</td>\n",
       "      <td>9.048320</td>\n",
       "      <td>0.451680</td>\n",
       "      <td>0.204015</td>\n",
       "      <td>0.451680</td>\n",
       "    </tr>\n",
       "    <tr>\n",
       "      <th>182</th>\n",
       "      <td>8.7</td>\n",
       "      <td>6.653283</td>\n",
       "      <td>2.046717</td>\n",
       "      <td>4.189050</td>\n",
       "      <td>2.046717</td>\n",
       "    </tr>\n",
       "    <tr>\n",
       "      <th>165</th>\n",
       "      <td>11.9</td>\n",
       "      <td>14.345545</td>\n",
       "      <td>-2.445545</td>\n",
       "      <td>5.980690</td>\n",
       "      <td>2.445545</td>\n",
       "    </tr>\n",
       "    <tr>\n",
       "      <th>78</th>\n",
       "      <td>5.3</td>\n",
       "      <td>8.903493</td>\n",
       "      <td>-3.603493</td>\n",
       "      <td>12.985164</td>\n",
       "      <td>3.603493</td>\n",
       "    </tr>\n",
       "    <tr>\n",
       "      <th>186</th>\n",
       "      <td>10.3</td>\n",
       "      <td>9.689590</td>\n",
       "      <td>0.610410</td>\n",
       "      <td>0.372600</td>\n",
       "      <td>0.610410</td>\n",
       "    </tr>\n",
       "    <tr>\n",
       "      <th>177</th>\n",
       "      <td>11.7</td>\n",
       "      <td>12.164944</td>\n",
       "      <td>-0.464944</td>\n",
       "      <td>0.216173</td>\n",
       "      <td>0.464944</td>\n",
       "    </tr>\n",
       "    <tr>\n",
       "      <th>56</th>\n",
       "      <td>5.5</td>\n",
       "      <td>8.736284</td>\n",
       "      <td>-3.236284</td>\n",
       "      <td>10.473534</td>\n",
       "      <td>3.236284</td>\n",
       "    </tr>\n",
       "    <tr>\n",
       "      <th>152</th>\n",
       "      <td>16.6</td>\n",
       "      <td>16.265073</td>\n",
       "      <td>0.334927</td>\n",
       "      <td>0.112176</td>\n",
       "      <td>0.334927</td>\n",
       "    </tr>\n",
       "    <tr>\n",
       "      <th>82</th>\n",
       "      <td>11.3</td>\n",
       "      <td>10.277596</td>\n",
       "      <td>1.022404</td>\n",
       "      <td>1.045310</td>\n",
       "      <td>1.022404</td>\n",
       "    </tr>\n",
       "    <tr>\n",
       "      <th>68</th>\n",
       "      <td>18.9</td>\n",
       "      <td>18.831091</td>\n",
       "      <td>0.068909</td>\n",
       "      <td>0.004748</td>\n",
       "      <td>0.068909</td>\n",
       "    </tr>\n",
       "    <tr>\n",
       "      <th>124</th>\n",
       "      <td>19.7</td>\n",
       "      <td>19.560367</td>\n",
       "      <td>0.139633</td>\n",
       "      <td>0.019498</td>\n",
       "      <td>0.139633</td>\n",
       "    </tr>\n",
       "    <tr>\n",
       "      <th>16</th>\n",
       "      <td>12.5</td>\n",
       "      <td>13.251035</td>\n",
       "      <td>-0.751035</td>\n",
       "      <td>0.564053</td>\n",
       "      <td>0.751035</td>\n",
       "    </tr>\n",
       "    <tr>\n",
       "      <th>148</th>\n",
       "      <td>10.9</td>\n",
       "      <td>12.336207</td>\n",
       "      <td>-1.436207</td>\n",
       "      <td>2.062690</td>\n",
       "      <td>1.436207</td>\n",
       "    </tr>\n",
       "    <tr>\n",
       "      <th>93</th>\n",
       "      <td>22.2</td>\n",
       "      <td>21.306951</td>\n",
       "      <td>0.893049</td>\n",
       "      <td>0.797536</td>\n",
       "      <td>0.893049</td>\n",
       "    </tr>\n",
       "    <tr>\n",
       "      <th>65</th>\n",
       "      <td>9.3</td>\n",
       "      <td>7.827403</td>\n",
       "      <td>1.472597</td>\n",
       "      <td>2.168542</td>\n",
       "      <td>1.472597</td>\n",
       "    </tr>\n",
       "    <tr>\n",
       "      <th>60</th>\n",
       "      <td>8.1</td>\n",
       "      <td>5.809574</td>\n",
       "      <td>2.290426</td>\n",
       "      <td>5.246049</td>\n",
       "      <td>2.290426</td>\n",
       "    </tr>\n",
       "    <tr>\n",
       "      <th>84</th>\n",
       "      <td>21.7</td>\n",
       "      <td>20.757532</td>\n",
       "      <td>0.942468</td>\n",
       "      <td>0.888245</td>\n",
       "      <td>0.942468</td>\n",
       "    </tr>\n",
       "    <tr>\n",
       "      <th>67</th>\n",
       "      <td>13.4</td>\n",
       "      <td>11.981381</td>\n",
       "      <td>1.418619</td>\n",
       "      <td>2.012481</td>\n",
       "      <td>1.418619</td>\n",
       "    </tr>\n",
       "    <tr>\n",
       "      <th>125</th>\n",
       "      <td>10.6</td>\n",
       "      <td>9.183496</td>\n",
       "      <td>1.416504</td>\n",
       "      <td>2.006484</td>\n",
       "      <td>1.416504</td>\n",
       "    </tr>\n",
       "    <tr>\n",
       "      <th>132</th>\n",
       "      <td>5.7</td>\n",
       "      <td>8.506699</td>\n",
       "      <td>-2.806699</td>\n",
       "      <td>7.877560</td>\n",
       "      <td>2.806699</td>\n",
       "    </tr>\n",
       "    <tr>\n",
       "      <th>9</th>\n",
       "      <td>10.6</td>\n",
       "      <td>12.466468</td>\n",
       "      <td>-1.866468</td>\n",
       "      <td>3.483702</td>\n",
       "      <td>1.866468</td>\n",
       "    </tr>\n",
       "    <tr>\n",
       "      <th>18</th>\n",
       "      <td>11.3</td>\n",
       "      <td>10.003377</td>\n",
       "      <td>1.296623</td>\n",
       "      <td>1.681231</td>\n",
       "      <td>1.296623</td>\n",
       "    </tr>\n",
       "    <tr>\n",
       "      <th>55</th>\n",
       "      <td>23.7</td>\n",
       "      <td>21.387671</td>\n",
       "      <td>2.312329</td>\n",
       "      <td>5.346866</td>\n",
       "      <td>2.312329</td>\n",
       "    </tr>\n",
       "    <tr>\n",
       "      <th>75</th>\n",
       "      <td>8.7</td>\n",
       "      <td>12.249664</td>\n",
       "      <td>-3.549664</td>\n",
       "      <td>12.600112</td>\n",
       "      <td>3.549664</td>\n",
       "    </tr>\n",
       "    <tr>\n",
       "      <th>150</th>\n",
       "      <td>16.1</td>\n",
       "      <td>18.266615</td>\n",
       "      <td>-2.166615</td>\n",
       "      <td>4.694222</td>\n",
       "      <td>2.166615</td>\n",
       "    </tr>\n",
       "    <tr>\n",
       "      <th>104</th>\n",
       "      <td>20.7</td>\n",
       "      <td>20.137663</td>\n",
       "      <td>0.562337</td>\n",
       "      <td>0.316223</td>\n",
       "      <td>0.562337</td>\n",
       "    </tr>\n",
       "    <tr>\n",
       "      <th>135</th>\n",
       "      <td>11.6</td>\n",
       "      <td>14.055140</td>\n",
       "      <td>-2.455140</td>\n",
       "      <td>6.027713</td>\n",
       "      <td>2.455140</td>\n",
       "    </tr>\n",
       "    <tr>\n",
       "      <th>137</th>\n",
       "      <td>20.8</td>\n",
       "      <td>20.854112</td>\n",
       "      <td>-0.054112</td>\n",
       "      <td>0.002928</td>\n",
       "      <td>0.054112</td>\n",
       "    </tr>\n",
       "    <tr>\n",
       "      <th>164</th>\n",
       "      <td>11.9</td>\n",
       "      <td>11.017444</td>\n",
       "      <td>0.882556</td>\n",
       "      <td>0.778905</td>\n",
       "      <td>0.882556</td>\n",
       "    </tr>\n",
       "    <tr>\n",
       "      <th>76</th>\n",
       "      <td>6.9</td>\n",
       "      <td>4.568996</td>\n",
       "      <td>2.331004</td>\n",
       "      <td>5.433579</td>\n",
       "      <td>2.331004</td>\n",
       "    </tr>\n",
       "  </tbody>\n",
       "</table>\n",
       "</div>"
      ],
      "text/plain": [
       "     Actual       Pred  Residual        LSE       ABS\n",
       "95     16.9  16.408024  0.491976   0.242040  0.491976\n",
       "15     22.4  20.889882  1.510118   2.280456  1.510118\n",
       "30     21.4  21.553843 -0.153843   0.023668  0.153843\n",
       "158     7.3  10.608503 -3.308503  10.946189  3.308503\n",
       "128    24.7  22.112373  2.587627   6.695812  2.587627\n",
       "115    12.6  13.105592 -0.505592   0.255623  0.505592\n",
       "69     22.3  21.057192  1.242808   1.544572  1.242808\n",
       "170     8.4   7.461010  0.938990   0.881702  0.938990\n",
       "174    11.5  13.606346 -2.106346   4.436693  2.106346\n",
       "45     14.9  15.155070 -0.255070   0.065061  0.255070\n",
       "66      9.5   9.048320  0.451680   0.204015  0.451680\n",
       "182     8.7   6.653283  2.046717   4.189050  2.046717\n",
       "165    11.9  14.345545 -2.445545   5.980690  2.445545\n",
       "78      5.3   8.903493 -3.603493  12.985164  3.603493\n",
       "186    10.3   9.689590  0.610410   0.372600  0.610410\n",
       "177    11.7  12.164944 -0.464944   0.216173  0.464944\n",
       "56      5.5   8.736284 -3.236284  10.473534  3.236284\n",
       "152    16.6  16.265073  0.334927   0.112176  0.334927\n",
       "82     11.3  10.277596  1.022404   1.045310  1.022404\n",
       "68     18.9  18.831091  0.068909   0.004748  0.068909\n",
       "124    19.7  19.560367  0.139633   0.019498  0.139633\n",
       "16     12.5  13.251035 -0.751035   0.564053  0.751035\n",
       "148    10.9  12.336207 -1.436207   2.062690  1.436207\n",
       "93     22.2  21.306951  0.893049   0.797536  0.893049\n",
       "65      9.3   7.827403  1.472597   2.168542  1.472597\n",
       "60      8.1   5.809574  2.290426   5.246049  2.290426\n",
       "84     21.7  20.757532  0.942468   0.888245  0.942468\n",
       "67     13.4  11.981381  1.418619   2.012481  1.418619\n",
       "125    10.6   9.183496  1.416504   2.006484  1.416504\n",
       "132     5.7   8.506699 -2.806699   7.877560  2.806699\n",
       "9      10.6  12.466468 -1.866468   3.483702  1.866468\n",
       "18     11.3  10.003377  1.296623   1.681231  1.296623\n",
       "55     23.7  21.387671  2.312329   5.346866  2.312329\n",
       "75      8.7  12.249664 -3.549664  12.600112  3.549664\n",
       "150    16.1  18.266615 -2.166615   4.694222  2.166615\n",
       "104    20.7  20.137663  0.562337   0.316223  0.562337\n",
       "135    11.6  14.055140 -2.455140   6.027713  2.455140\n",
       "137    20.8  20.854112 -0.054112   0.002928  0.054112\n",
       "164    11.9  11.017444  0.882556   0.778905  0.882556\n",
       "76      6.9   4.568996  2.331004   5.433579  2.331004"
      ]
     },
     "execution_count": 30,
     "metadata": {},
     "output_type": "execute_result"
    }
   ],
   "source": [
    "comparing = pd.DataFrame(my_dict)\n",
    "comparing"
   ]
  },
  {
   "cell_type": "code",
   "execution_count": 31,
   "id": "thick-pastor",
   "metadata": {},
   "outputs": [
    {
     "data": {
      "text/html": [
       "<div>\n",
       "<style scoped>\n",
       "    .dataframe tbody tr th:only-of-type {\n",
       "        vertical-align: middle;\n",
       "    }\n",
       "\n",
       "    .dataframe tbody tr th {\n",
       "        vertical-align: top;\n",
       "    }\n",
       "\n",
       "    .dataframe thead th {\n",
       "        text-align: right;\n",
       "    }\n",
       "</style>\n",
       "<table border=\"1\" class=\"dataframe\">\n",
       "  <thead>\n",
       "    <tr style=\"text-align: right;\">\n",
       "      <th></th>\n",
       "      <th>Actual</th>\n",
       "      <th>Pred</th>\n",
       "      <th>Residual</th>\n",
       "    </tr>\n",
       "  </thead>\n",
       "  <tbody>\n",
       "    <tr>\n",
       "      <th>95</th>\n",
       "      <td>16.9</td>\n",
       "      <td>16.408024</td>\n",
       "      <td>0.491976</td>\n",
       "    </tr>\n",
       "    <tr>\n",
       "      <th>15</th>\n",
       "      <td>22.4</td>\n",
       "      <td>20.889882</td>\n",
       "      <td>1.510118</td>\n",
       "    </tr>\n",
       "    <tr>\n",
       "      <th>30</th>\n",
       "      <td>21.4</td>\n",
       "      <td>21.553843</td>\n",
       "      <td>-0.153843</td>\n",
       "    </tr>\n",
       "    <tr>\n",
       "      <th>158</th>\n",
       "      <td>7.3</td>\n",
       "      <td>10.608503</td>\n",
       "      <td>-3.308503</td>\n",
       "    </tr>\n",
       "    <tr>\n",
       "      <th>128</th>\n",
       "      <td>24.7</td>\n",
       "      <td>22.112373</td>\n",
       "      <td>2.587627</td>\n",
       "    </tr>\n",
       "    <tr>\n",
       "      <th>115</th>\n",
       "      <td>12.6</td>\n",
       "      <td>13.105592</td>\n",
       "      <td>-0.505592</td>\n",
       "    </tr>\n",
       "    <tr>\n",
       "      <th>69</th>\n",
       "      <td>22.3</td>\n",
       "      <td>21.057192</td>\n",
       "      <td>1.242808</td>\n",
       "    </tr>\n",
       "    <tr>\n",
       "      <th>170</th>\n",
       "      <td>8.4</td>\n",
       "      <td>7.461010</td>\n",
       "      <td>0.938990</td>\n",
       "    </tr>\n",
       "    <tr>\n",
       "      <th>174</th>\n",
       "      <td>11.5</td>\n",
       "      <td>13.606346</td>\n",
       "      <td>-2.106346</td>\n",
       "    </tr>\n",
       "    <tr>\n",
       "      <th>45</th>\n",
       "      <td>14.9</td>\n",
       "      <td>15.155070</td>\n",
       "      <td>-0.255070</td>\n",
       "    </tr>\n",
       "    <tr>\n",
       "      <th>66</th>\n",
       "      <td>9.5</td>\n",
       "      <td>9.048320</td>\n",
       "      <td>0.451680</td>\n",
       "    </tr>\n",
       "    <tr>\n",
       "      <th>182</th>\n",
       "      <td>8.7</td>\n",
       "      <td>6.653283</td>\n",
       "      <td>2.046717</td>\n",
       "    </tr>\n",
       "    <tr>\n",
       "      <th>165</th>\n",
       "      <td>11.9</td>\n",
       "      <td>14.345545</td>\n",
       "      <td>-2.445545</td>\n",
       "    </tr>\n",
       "    <tr>\n",
       "      <th>78</th>\n",
       "      <td>5.3</td>\n",
       "      <td>8.903493</td>\n",
       "      <td>-3.603493</td>\n",
       "    </tr>\n",
       "    <tr>\n",
       "      <th>186</th>\n",
       "      <td>10.3</td>\n",
       "      <td>9.689590</td>\n",
       "      <td>0.610410</td>\n",
       "    </tr>\n",
       "    <tr>\n",
       "      <th>177</th>\n",
       "      <td>11.7</td>\n",
       "      <td>12.164944</td>\n",
       "      <td>-0.464944</td>\n",
       "    </tr>\n",
       "    <tr>\n",
       "      <th>56</th>\n",
       "      <td>5.5</td>\n",
       "      <td>8.736284</td>\n",
       "      <td>-3.236284</td>\n",
       "    </tr>\n",
       "    <tr>\n",
       "      <th>152</th>\n",
       "      <td>16.6</td>\n",
       "      <td>16.265073</td>\n",
       "      <td>0.334927</td>\n",
       "    </tr>\n",
       "    <tr>\n",
       "      <th>82</th>\n",
       "      <td>11.3</td>\n",
       "      <td>10.277596</td>\n",
       "      <td>1.022404</td>\n",
       "    </tr>\n",
       "    <tr>\n",
       "      <th>68</th>\n",
       "      <td>18.9</td>\n",
       "      <td>18.831091</td>\n",
       "      <td>0.068909</td>\n",
       "    </tr>\n",
       "    <tr>\n",
       "      <th>124</th>\n",
       "      <td>19.7</td>\n",
       "      <td>19.560367</td>\n",
       "      <td>0.139633</td>\n",
       "    </tr>\n",
       "    <tr>\n",
       "      <th>16</th>\n",
       "      <td>12.5</td>\n",
       "      <td>13.251035</td>\n",
       "      <td>-0.751035</td>\n",
       "    </tr>\n",
       "    <tr>\n",
       "      <th>148</th>\n",
       "      <td>10.9</td>\n",
       "      <td>12.336207</td>\n",
       "      <td>-1.436207</td>\n",
       "    </tr>\n",
       "    <tr>\n",
       "      <th>93</th>\n",
       "      <td>22.2</td>\n",
       "      <td>21.306951</td>\n",
       "      <td>0.893049</td>\n",
       "    </tr>\n",
       "    <tr>\n",
       "      <th>65</th>\n",
       "      <td>9.3</td>\n",
       "      <td>7.827403</td>\n",
       "      <td>1.472597</td>\n",
       "    </tr>\n",
       "    <tr>\n",
       "      <th>60</th>\n",
       "      <td>8.1</td>\n",
       "      <td>5.809574</td>\n",
       "      <td>2.290426</td>\n",
       "    </tr>\n",
       "    <tr>\n",
       "      <th>84</th>\n",
       "      <td>21.7</td>\n",
       "      <td>20.757532</td>\n",
       "      <td>0.942468</td>\n",
       "    </tr>\n",
       "    <tr>\n",
       "      <th>67</th>\n",
       "      <td>13.4</td>\n",
       "      <td>11.981381</td>\n",
       "      <td>1.418619</td>\n",
       "    </tr>\n",
       "    <tr>\n",
       "      <th>125</th>\n",
       "      <td>10.6</td>\n",
       "      <td>9.183496</td>\n",
       "      <td>1.416504</td>\n",
       "    </tr>\n",
       "    <tr>\n",
       "      <th>132</th>\n",
       "      <td>5.7</td>\n",
       "      <td>8.506699</td>\n",
       "      <td>-2.806699</td>\n",
       "    </tr>\n",
       "    <tr>\n",
       "      <th>9</th>\n",
       "      <td>10.6</td>\n",
       "      <td>12.466468</td>\n",
       "      <td>-1.866468</td>\n",
       "    </tr>\n",
       "    <tr>\n",
       "      <th>18</th>\n",
       "      <td>11.3</td>\n",
       "      <td>10.003377</td>\n",
       "      <td>1.296623</td>\n",
       "    </tr>\n",
       "    <tr>\n",
       "      <th>55</th>\n",
       "      <td>23.7</td>\n",
       "      <td>21.387671</td>\n",
       "      <td>2.312329</td>\n",
       "    </tr>\n",
       "    <tr>\n",
       "      <th>75</th>\n",
       "      <td>8.7</td>\n",
       "      <td>12.249664</td>\n",
       "      <td>-3.549664</td>\n",
       "    </tr>\n",
       "    <tr>\n",
       "      <th>150</th>\n",
       "      <td>16.1</td>\n",
       "      <td>18.266615</td>\n",
       "      <td>-2.166615</td>\n",
       "    </tr>\n",
       "    <tr>\n",
       "      <th>104</th>\n",
       "      <td>20.7</td>\n",
       "      <td>20.137663</td>\n",
       "      <td>0.562337</td>\n",
       "    </tr>\n",
       "    <tr>\n",
       "      <th>135</th>\n",
       "      <td>11.6</td>\n",
       "      <td>14.055140</td>\n",
       "      <td>-2.455140</td>\n",
       "    </tr>\n",
       "    <tr>\n",
       "      <th>137</th>\n",
       "      <td>20.8</td>\n",
       "      <td>20.854112</td>\n",
       "      <td>-0.054112</td>\n",
       "    </tr>\n",
       "    <tr>\n",
       "      <th>164</th>\n",
       "      <td>11.9</td>\n",
       "      <td>11.017444</td>\n",
       "      <td>0.882556</td>\n",
       "    </tr>\n",
       "    <tr>\n",
       "      <th>76</th>\n",
       "      <td>6.9</td>\n",
       "      <td>4.568996</td>\n",
       "      <td>2.331004</td>\n",
       "    </tr>\n",
       "  </tbody>\n",
       "</table>\n",
       "</div>"
      ],
      "text/plain": [
       "     Actual       Pred  Residual\n",
       "95     16.9  16.408024  0.491976\n",
       "15     22.4  20.889882  1.510118\n",
       "30     21.4  21.553843 -0.153843\n",
       "158     7.3  10.608503 -3.308503\n",
       "128    24.7  22.112373  2.587627\n",
       "115    12.6  13.105592 -0.505592\n",
       "69     22.3  21.057192  1.242808\n",
       "170     8.4   7.461010  0.938990\n",
       "174    11.5  13.606346 -2.106346\n",
       "45     14.9  15.155070 -0.255070\n",
       "66      9.5   9.048320  0.451680\n",
       "182     8.7   6.653283  2.046717\n",
       "165    11.9  14.345545 -2.445545\n",
       "78      5.3   8.903493 -3.603493\n",
       "186    10.3   9.689590  0.610410\n",
       "177    11.7  12.164944 -0.464944\n",
       "56      5.5   8.736284 -3.236284\n",
       "152    16.6  16.265073  0.334927\n",
       "82     11.3  10.277596  1.022404\n",
       "68     18.9  18.831091  0.068909\n",
       "124    19.7  19.560367  0.139633\n",
       "16     12.5  13.251035 -0.751035\n",
       "148    10.9  12.336207 -1.436207\n",
       "93     22.2  21.306951  0.893049\n",
       "65      9.3   7.827403  1.472597\n",
       "60      8.1   5.809574  2.290426\n",
       "84     21.7  20.757532  0.942468\n",
       "67     13.4  11.981381  1.418619\n",
       "125    10.6   9.183496  1.416504\n",
       "132     5.7   8.506699 -2.806699\n",
       "9      10.6  12.466468 -1.866468\n",
       "18     11.3  10.003377  1.296623\n",
       "55     23.7  21.387671  2.312329\n",
       "75      8.7  12.249664 -3.549664\n",
       "150    16.1  18.266615 -2.166615\n",
       "104    20.7  20.137663  0.562337\n",
       "135    11.6  14.055140 -2.455140\n",
       "137    20.8  20.854112 -0.054112\n",
       "164    11.9  11.017444  0.882556\n",
       "76      6.9   4.568996  2.331004"
      ]
     },
     "execution_count": 31,
     "metadata": {},
     "output_type": "execute_result"
    }
   ],
   "source": [
    "result_sample = comparing.iloc[:, :3]\n",
    "result_sample\n",
    "\n",
    "# Selecting only the first 3 columns to visualise the model performance."
   ]
  },
  {
   "cell_type": "code",
   "execution_count": 32,
   "id": "hybrid-incentive",
   "metadata": {},
   "outputs": [
    {
     "data": {
      "image/png": "[encoded data removed]",
      "text/plain": [
       "<Figure size 1500x900 with 1 Axes>"
      ]
     },
     "metadata": {},
     "output_type": "display_data"
    }
   ],
   "source": [
    "result_sample.plot(kind =\"bar\", figsize=(15,9))\n",
    "plt.show();"
   ]
  },
  {
   "cell_type": "markdown",
   "id": "frozen-space",
   "metadata": {},
   "source": [
    "## Error Metrics"
   ]
  },
  {
   "cell_type": "code",
   "execution_count": 33,
   "id": "local-stupid",
   "metadata": {},
   "outputs": [],
   "source": [
    "from sklearn.metrics import mean_absolute_error, mean_squared_error, r2_score"
   ]
  },
  {
   "cell_type": "code",
   "execution_count": 34,
   "id": "coordinate-worse",
   "metadata": {},
   "outputs": [
    {
     "data": {
      "text/plain": [
       "0.899438024100912"
      ]
     },
     "execution_count": 34,
     "metadata": {},
     "output_type": "execute_result"
    }
   ],
   "source": [
    "R2_score = r2_score(y_test, y_pred)\n",
    "R2_score\n",
    "\n",
    "# We talked about R2 score. Anybody remembers?\n",
    "# Statistically R2 is between [0, 1]\n",
    "# In sklearn, [-np.inf, 1]"
   ]
  },
  {
   "cell_type": "code",
   "execution_count": 35,
   "id": "turkish-edward",
   "metadata": {},
   "outputs": [
    {
     "data": {
      "text/plain": [
       "1.4607567168117606"
      ]
     },
     "execution_count": 35,
     "metadata": {},
     "output_type": "execute_result"
    }
   ],
   "source": [
    "mae = mean_absolute_error(y_test, y_pred)  # comparing.ABS.sum()/X_test.shape[0]\n",
    "mae\n",
    "\n",
    "# Take the absolute values of residuals and sum them up. Divide the summation by the number of observation points."
   ]
  },
  {
   "cell_type": "code",
   "execution_count": 36,
   "id": "9777fefb",
   "metadata": {},
   "outputs": [],
   "source": [
    "# comparing.ABS.sum()/X_test.shape[0]"
   ]
  },
  {
   "cell_type": "code",
   "execution_count": 37,
   "id": "c4390f4e",
   "metadata": {},
   "outputs": [
    {
     "data": {
      "text/plain": [
       "(40, 3)"
      ]
     },
     "execution_count": 37,
     "metadata": {},
     "output_type": "execute_result"
    }
   ],
   "source": [
    "X_test.shape"
   ]
  },
  {
   "cell_type": "code",
   "execution_count": 38,
   "id": "sacred-dylan",
   "metadata": {},
   "outputs": [
    {
     "data": {
      "text/plain": [
       "3.174097353976104"
      ]
     },
     "execution_count": 38,
     "metadata": {},
     "output_type": "execute_result"
    }
   ],
   "source": [
    "mse = mean_squared_error(y_test, y_pred)  # comparing.LSE.sum()/X_test.shape[0]\n",
    "mse\n",
    "\n",
    "# Square the residuals individually and sum them up. Divide the summation by the number of observation points.\n",
    "# Penalises large errors. Difficult to interpret as it changes the scale."
   ]
  },
  {
   "cell_type": "code",
   "execution_count": 39,
   "id": "d653678b",
   "metadata": {},
   "outputs": [],
   "source": [
    "# Comparing.LSE.sum()/X_test.shape[0]"
   ]
  },
  {
   "cell_type": "code",
   "execution_count": 40,
   "id": "naked-medicaid",
   "metadata": {},
   "outputs": [
    {
     "data": {
      "text/plain": [
       "1.7815996615334502"
      ]
     },
     "execution_count": 40,
     "metadata": {},
     "output_type": "execute_result"
    }
   ],
   "source": [
    "rmse = np.sqrt(mean_squared_error(y_test, y_pred)) #(comparing.LSE.sum()/X_test.shape[0])**0.5\n",
    "rmse\n",
    "\n",
    "# Square the residuals individually and sum them up. Divide the summation by the number of observation points. And then square root the result.\n",
    "# Penalises large errors. Easy to interpret as we bring back the scale of the values to normal level by square rooting it."
   ]
  },
  {
   "cell_type": "code",
   "execution_count": 41,
   "id": "60bec0f6",
   "metadata": {},
   "outputs": [],
   "source": [
    "# (comparing.LSE.sum()/X_test.shape[0])**0.5"
   ]
  },
  {
   "cell_type": "code",
   "execution_count": 42,
   "id": "right-stylus",
   "metadata": {},
   "outputs": [
    {
     "data": {
      "text/plain": [
       "14.0225"
      ]
     },
     "execution_count": 42,
     "metadata": {},
     "output_type": "execute_result"
    }
   ],
   "source": [
    "sales_mean = df[\"sales\"].mean()\n",
    "sales_mean\n",
    "\n",
    "# Let's take the mean of our target to compare how well our model is doing with respect to the target mean. \n",
    "# (how much better our model is than just predicting the mean of the target every single time)"
   ]
  },
  {
   "cell_type": "code",
   "execution_count": 43,
   "id": "threatened-simon",
   "metadata": {},
   "outputs": [
    {
     "data": {
      "text/plain": [
       "0.1041723456453386"
      ]
     },
     "execution_count": 43,
     "metadata": {},
     "output_type": "execute_result"
    }
   ],
   "source": [
    "mae / sales_mean\n",
    "\n",
    "# Margin of error of our model according to MAE is 10%. "
   ]
  },
  {
   "cell_type": "code",
   "execution_count": 44,
   "id": "absent-bandwidth",
   "metadata": {},
   "outputs": [
    {
     "data": {
      "text/plain": [
       "0.127052926477693"
      ]
     },
     "execution_count": 44,
     "metadata": {},
     "output_type": "execute_result"
    }
   ],
   "source": [
    "rmse / sales_mean\n",
    "\n",
    "# Margin of error of our model according to RMSE is 13%. Notice that margin of error for RMSE is greater than that of MAE. \n",
    "# That is due to the fact that RMSE penalises large errors, hence the result is always larger compared to MAE."
   ]
  },
  {
   "cell_type": "markdown",
   "id": "31f347cf",
   "metadata": {},
   "source": [
    "## Adjusted R2 score \n",
    "\n",
    "https://towardsdatascience.com/demystifying-r-squared-and-adjusted-r-squared-52903c006a60"
   ]
  },
  {
   "cell_type": "code",
   "execution_count": 45,
   "id": "headed-turner",
   "metadata": {},
   "outputs": [],
   "source": [
    "def adj_r2(y_test, y_pred, X):\n",
    "    r2 = r2_score(y_test, y_pred)\n",
    "    n = X.shape[0] # number of observations (rows)\n",
    "    p = X.shape[1] # number of independent variables \n",
    "    adj_r2 = 1 - (1-r2)*(n-1)/(n-p-1)\n",
    "    return adj_r2\n",
    "\n",
    "# Every added independent feature, in the worst case scenario, will not change the r2 score for better or worse, and in the best case scenario, it will improve r2 score.\n",
    "# This creates a disadvantage when it comes to interpreting r2 score if we have too many independent features. Because we don't account for\n",
    "# the number of independent feature it took us to get to a certain r2 score. Adjusted r2 score does exactly that. It accounts for the number\n",
    "# of independent features it took us to get to a certain r2 score. So it's a more robust estimate of true r2 score in situations where we have\n",
    "# a lot of independent features. There's no built-in function in scikit-learn to calculate adjusted r2 score out of the box.\n",
    "# So we implemented our own function to do that."
   ]
  },
  {
   "cell_type": "code",
   "execution_count": 46,
   "id": "ad2effad",
   "metadata": {},
   "outputs": [
    {
     "data": {
      "text/plain": [
       "(200, 3)"
      ]
     },
     "execution_count": 46,
     "metadata": {},
     "output_type": "execute_result"
    }
   ],
   "source": [
    "X.shape"
   ]
  },
  {
   "cell_type": "code",
   "execution_count": 47,
   "id": "parental-depression",
   "metadata": {},
   "outputs": [
    {
     "data": {
      "text/plain": [
       "0.8978988101840892"
      ]
     },
     "execution_count": 47,
     "metadata": {},
     "output_type": "execute_result"
    }
   ],
   "source": [
    "adj_r2(y_test, y_pred, X)"
   ]
  },
  {
   "cell_type": "markdown",
   "id": "purple-cornwall",
   "metadata": {},
   "source": [
    "## What is the concept of punishment for RMSE error metric?"
   ]
  },
  {
   "cell_type": "code",
   "execution_count": 48,
   "id": "minor-election",
   "metadata": {},
   "outputs": [],
   "source": [
    "variables = {\"Actual\": [1000, 2000, 3000, 4000, 5000], \"pred\": [1100, 2200, 3200, 4200, 5300]} # 5300\n",
    "\n",
    "# Let's demonstrate with an example how RMSE penalises large errors."
   ]
  },
  {
   "cell_type": "code",
   "execution_count": 49,
   "id": "surprising-bidder",
   "metadata": {},
   "outputs": [
    {
     "data": {
      "text/html": [
       "<div>\n",
       "<style scoped>\n",
       "    .dataframe tbody tr th:only-of-type {\n",
       "        vertical-align: middle;\n",
       "    }\n",
       "\n",
       "    .dataframe tbody tr th {\n",
       "        vertical-align: top;\n",
       "    }\n",
       "\n",
       "    .dataframe thead th {\n",
       "        text-align: right;\n",
       "    }\n",
       "</style>\n",
       "<table border=\"1\" class=\"dataframe\">\n",
       "  <thead>\n",
       "    <tr style=\"text-align: right;\">\n",
       "      <th></th>\n",
       "      <th>Actual</th>\n",
       "      <th>pred</th>\n",
       "    </tr>\n",
       "  </thead>\n",
       "  <tbody>\n",
       "    <tr>\n",
       "      <th>0</th>\n",
       "      <td>1000</td>\n",
       "      <td>1100</td>\n",
       "    </tr>\n",
       "    <tr>\n",
       "      <th>1</th>\n",
       "      <td>2000</td>\n",
       "      <td>2200</td>\n",
       "    </tr>\n",
       "    <tr>\n",
       "      <th>2</th>\n",
       "      <td>3000</td>\n",
       "      <td>3200</td>\n",
       "    </tr>\n",
       "    <tr>\n",
       "      <th>3</th>\n",
       "      <td>4000</td>\n",
       "      <td>4200</td>\n",
       "    </tr>\n",
       "    <tr>\n",
       "      <th>4</th>\n",
       "      <td>5000</td>\n",
       "      <td>5300</td>\n",
       "    </tr>\n",
       "  </tbody>\n",
       "</table>\n",
       "</div>"
      ],
      "text/plain": [
       "   Actual  pred\n",
       "0    1000  1100\n",
       "1    2000  2200\n",
       "2    3000  3200\n",
       "3    4000  4200\n",
       "4    5000  5300"
      ]
     },
     "execution_count": 49,
     "metadata": {},
     "output_type": "execute_result"
    }
   ],
   "source": [
    "df_2 = pd.DataFrame(variables)\n",
    "df_2"
   ]
  },
  {
   "cell_type": "code",
   "execution_count": 50,
   "id": "foster-maple",
   "metadata": {},
   "outputs": [
    {
     "data": {
      "text/html": [
       "<div>\n",
       "<style scoped>\n",
       "    .dataframe tbody tr th:only-of-type {\n",
       "        vertical-align: middle;\n",
       "    }\n",
       "\n",
       "    .dataframe tbody tr th {\n",
       "        vertical-align: top;\n",
       "    }\n",
       "\n",
       "    .dataframe thead th {\n",
       "        text-align: right;\n",
       "    }\n",
       "</style>\n",
       "<table border=\"1\" class=\"dataframe\">\n",
       "  <thead>\n",
       "    <tr style=\"text-align: right;\">\n",
       "      <th></th>\n",
       "      <th>Actual</th>\n",
       "      <th>pred</th>\n",
       "    </tr>\n",
       "  </thead>\n",
       "  <tbody>\n",
       "    <tr>\n",
       "      <th>0</th>\n",
       "      <td>1000</td>\n",
       "      <td>1100</td>\n",
       "    </tr>\n",
       "    <tr>\n",
       "      <th>1</th>\n",
       "      <td>2000</td>\n",
       "      <td>2200</td>\n",
       "    </tr>\n",
       "    <tr>\n",
       "      <th>2</th>\n",
       "      <td>3000</td>\n",
       "      <td>3200</td>\n",
       "    </tr>\n",
       "    <tr>\n",
       "      <th>3</th>\n",
       "      <td>4000</td>\n",
       "      <td>4200</td>\n",
       "    </tr>\n",
       "    <tr>\n",
       "      <th>4</th>\n",
       "      <td>5000</td>\n",
       "      <td>5300</td>\n",
       "    </tr>\n",
       "  </tbody>\n",
       "</table>\n",
       "</div>"
      ],
      "text/plain": [
       "   Actual  pred\n",
       "0    1000  1100\n",
       "1    2000  2200\n",
       "2    3000  3200\n",
       "3    4000  4200\n",
       "4    5000  5300"
      ]
     },
     "execution_count": 50,
     "metadata": {},
     "output_type": "execute_result"
    }
   ],
   "source": [
    "df_2"
   ]
  },
  {
   "cell_type": "code",
   "execution_count": 51,
   "id": "statistical-society",
   "metadata": {},
   "outputs": [
    {
     "data": {
      "text/plain": [
       "200.0"
      ]
     },
     "execution_count": 51,
     "metadata": {},
     "output_type": "execute_result"
    }
   ],
   "source": [
    "#mae\n",
    "y_test_ex = df_2.Actual\n",
    "y_pred_ex = df_2.pred\n",
    "\n",
    "mean_absolute_error(y_test_ex, y_pred_ex)"
   ]
  },
  {
   "cell_type": "code",
   "execution_count": 52,
   "id": "equivalent-exhibition",
   "metadata": {},
   "outputs": [
    {
     "data": {
      "text/plain": [
       "209.76176963403032"
      ]
     },
     "execution_count": 52,
     "metadata": {},
     "output_type": "execute_result"
    }
   ],
   "source": [
    "#rmse\n",
    "\n",
    "np.sqrt(mean_squared_error(y_test_ex, y_pred_ex))\n",
    "\n",
    "# When we don't have large errors; that is, the actual and predicted values are relatively close to each other,\n",
    "# RMSE and MAE scores will also be relatively close to each other due to the lack of large errors."
   ]
  },
  {
   "cell_type": "code",
   "execution_count": 53,
   "id": "aware-connectivity",
   "metadata": {},
   "outputs": [],
   "source": [
    "variables2 = {\"Actual\": [1000, 2000, 3000, 4000, 5000], \"pred\": [1100, 2200, 3200, 4200, 6000]} # 5300\n",
    "\n",
    "# We added a way more off prediction now to represent a large mistake."
   ]
  },
  {
   "cell_type": "code",
   "execution_count": 54,
   "id": "437c13cf",
   "metadata": {},
   "outputs": [
    {
     "data": {
      "text/html": [
       "<div>\n",
       "<style scoped>\n",
       "    .dataframe tbody tr th:only-of-type {\n",
       "        vertical-align: middle;\n",
       "    }\n",
       "\n",
       "    .dataframe tbody tr th {\n",
       "        vertical-align: top;\n",
       "    }\n",
       "\n",
       "    .dataframe thead th {\n",
       "        text-align: right;\n",
       "    }\n",
       "</style>\n",
       "<table border=\"1\" class=\"dataframe\">\n",
       "  <thead>\n",
       "    <tr style=\"text-align: right;\">\n",
       "      <th></th>\n",
       "      <th>Actual</th>\n",
       "      <th>pred</th>\n",
       "    </tr>\n",
       "  </thead>\n",
       "  <tbody>\n",
       "    <tr>\n",
       "      <th>0</th>\n",
       "      <td>1000</td>\n",
       "      <td>1100</td>\n",
       "    </tr>\n",
       "    <tr>\n",
       "      <th>1</th>\n",
       "      <td>2000</td>\n",
       "      <td>2200</td>\n",
       "    </tr>\n",
       "    <tr>\n",
       "      <th>2</th>\n",
       "      <td>3000</td>\n",
       "      <td>3200</td>\n",
       "    </tr>\n",
       "    <tr>\n",
       "      <th>3</th>\n",
       "      <td>4000</td>\n",
       "      <td>4200</td>\n",
       "    </tr>\n",
       "    <tr>\n",
       "      <th>4</th>\n",
       "      <td>5000</td>\n",
       "      <td>6000</td>\n",
       "    </tr>\n",
       "  </tbody>\n",
       "</table>\n",
       "</div>"
      ],
      "text/plain": [
       "   Actual  pred\n",
       "0    1000  1100\n",
       "1    2000  2200\n",
       "2    3000  3200\n",
       "3    4000  4200\n",
       "4    5000  6000"
      ]
     },
     "execution_count": 54,
     "metadata": {},
     "output_type": "execute_result"
    }
   ],
   "source": [
    "df_3 = pd.DataFrame(variables2)\n",
    "df_3"
   ]
  },
  {
   "cell_type": "code",
   "execution_count": 55,
   "id": "553feb49",
   "metadata": {},
   "outputs": [
    {
     "data": {
      "text/plain": [
       "340.0"
      ]
     },
     "execution_count": 55,
     "metadata": {},
     "output_type": "execute_result"
    }
   ],
   "source": [
    "#mae\n",
    "\n",
    "y_test_ex = df_3.Actual\n",
    "y_pred_ex = df_3.pred\n",
    "\n",
    "mean_absolute_error(y_test_ex, y_pred_ex)"
   ]
  },
  {
   "cell_type": "code",
   "execution_count": 56,
   "id": "b6bea86e",
   "metadata": {},
   "outputs": [
    {
     "data": {
      "text/plain": [
       "475.3945729601885"
      ]
     },
     "execution_count": 56,
     "metadata": {},
     "output_type": "execute_result"
    }
   ],
   "source": [
    "#rmse\n",
    "\n",
    "np.sqrt(mean_squared_error(y_test_ex, y_pred_ex))\n",
    "\n",
    "# As you can see, when large errors are present, RMSE gets much larger than MAE. This is due to the fact that RMSE penalises\n",
    "# large errors by squaring them, whereas MAE does not do that. The larger errors your model makes, the more RMSE deviates from MAE. \n",
    "# Hence, in case of large errors, RMSE is a better estimate of model performance than MAE, since it accounts for large errors when large errors are undesirable."
   ]
  },
  {
   "cell_type": "markdown",
   "id": "adjustable-presence",
   "metadata": {},
   "source": [
    "## Evaluation Model"
   ]
  },
  {
   "cell_type": "code",
   "execution_count": 57,
   "id": "maritime-physiology",
   "metadata": {},
   "outputs": [],
   "source": [
    "def eval_metric(actual, pred):\n",
    "    \"\"\"\n",
    "    Prints out to the console MAE, MSE and RMSE of a regression model,\n",
    "    given the actual and predicted values of the target.\n",
    "    \n",
    "        Parameters:\n",
    "            actual: A collection of actual target values.\n",
    "            pred: A collection of predicted target values.\n",
    "            \n",
    "        Returns:\n",
    "            None\n",
    "    \"\"\"\n",
    "    mae = mean_absolute_error(actual, pred)\n",
    "    mse = mean_squared_error(actual, pred)\n",
    "    rmse = np.sqrt(mean_squared_error(actual, pred))\n",
    "    R2_score = r2_score(actual, pred)\n",
    "    print(\"Model testing performance:\")\n",
    "    print(\"--------------------------\")\n",
    "    print(f\"R2_score : {R2_score}\")\n",
    "    print(f\"MAE {'':<5}: {mae}\")\n",
    "    print(f\"MSE {'':<5}: {mse}\")\n",
    "    print(f\"RMSE{'':<5}: {rmse}\")\n",
    "    \n",
    "    return None"
   ]
  },
  {
   "cell_type": "code",
   "execution_count": 58,
   "id": "flying-economy",
   "metadata": {},
   "outputs": [
    {
     "name": "stdout",
     "output_type": "stream",
     "text": [
      "Model testing performance:\n",
      "--------------------------\n",
      "R2_score : 0.899438024100912\n",
      "MAE      : 1.4607567168117606\n",
      "MSE      : 3.174097353976104\n",
      "RMSE     : 1.7815996615334502\n"
     ]
    }
   ],
   "source": [
    "eval_metric(y_test, y_pred)\n",
    "\n",
    "# Get the evaluation metrics on the test set"
   ]
  },
  {
   "cell_type": "code",
   "execution_count": 59,
   "id": "aboriginal-kelly",
   "metadata": {},
   "outputs": [],
   "source": [
    "y_train_pred = model.predict(X_train)"
   ]
  },
  {
   "cell_type": "code",
   "execution_count": 60,
   "id": "located-mountain",
   "metadata": {},
   "outputs": [
    {
     "name": "stdout",
     "output_type": "stream",
     "text": [
      "Model testing performance:\n",
      "--------------------------\n",
      "R2_score : 0.8957008271017818\n",
      "MAE      : 1.198467896150014\n",
      "MSE      : 2.705129423081414\n",
      "RMSE     : 1.644727765644337\n"
     ]
    }
   ],
   "source": [
    "eval_metric(y_train, y_train_pred)\n",
    "\n",
    "# Get the evaluation metrics on the train set"
   ]
  },
  {
   "cell_type": "markdown",
   "id": "amended-pension",
   "metadata": {},
   "source": [
    "## Is data suitable for linear regression?\n",
    "\n",
    "For future reference:\n",
    "\n",
    "https://stats.stackexchange.com/questions/12262/what-if-residuals-are-normally-distributed-but-y-is-not"
   ]
  },
  {
   "cell_type": "markdown",
   "id": "lesbian-announcement",
   "metadata": {},
   "source": [
    "## Plotting residuals"
   ]
  },
  {
   "cell_type": "code",
   "execution_count": 61,
   "id": "through-junction",
   "metadata": {},
   "outputs": [],
   "source": [
    "residuals = y_test-y_pred\n",
    "\n",
    "# Calculate the residuals. We will plot them later on."
   ]
  },
  {
   "cell_type": "code",
   "execution_count": 62,
   "id": "entitled-wallace",
   "metadata": {},
   "outputs": [
    {
     "data": {
      "image/png": "[encoded data removed]",
      "text/plain": [
       "<Figure size 1000x600 with 1 Axes>"
      ]
     },
     "metadata": {},
     "output_type": "display_data"
    }
   ],
   "source": [
    "plt.figure(figsize = (10,6))\n",
    "sns.scatterplot(x = y_test, y = residuals) #-residuals\n",
    "plt.axhline(y = 0, color =\"r\", linestyle = \"--\")\n",
    "plt.ylabel(\"residuals\")\n",
    "plt.show();\n",
    "\n",
    "# There are 2 very fundamental and important assumptions we make on our residuals:\n",
    "# 1- They are normally distributed.\n",
    "# 2- They are randomly spread around the mean of 0. (This phenomenon is called homoscedasticity)"
   ]
  },
  {
   "cell_type": "code",
   "execution_count": 63,
   "id": "amateur-reminder",
   "metadata": {},
   "outputs": [
    {
     "data": {
      "image/png": "[encoded data removed]",
      "text/plain": [
       "<Figure size 1000x700 with 1 Axes>"
      ]
     },
     "metadata": {},
     "output_type": "display_data"
    }
   ],
   "source": [
    "sns.kdeplot(residuals)\n",
    "plt.show();\n",
    "\n",
    "# You can check kdeplot or histogram to evaluate the normality of the residuals."
   ]
  },
  {
   "cell_type": "code",
   "execution_count": 64,
   "id": "breathing-douglas",
   "metadata": {},
   "outputs": [
    {
     "data": {
      "image/png": "[encoded data removed]",
      "text/plain": [
       "<Figure size 1000x700 with 1 Axes>"
      ]
     },
     "metadata": {},
     "output_type": "display_data"
    }
   ],
   "source": [
    "stats.probplot(residuals, dist =\"norm\", plot =plt)\n",
    "plt.show();\n",
    "\n",
    "# You can also check QQ-normality plot to check if residuals are normally distributed."
   ]
  },
  {
   "cell_type": "code",
   "execution_count": 65,
   "id": "compound-workshop",
   "metadata": {},
   "outputs": [
    {
     "data": {
      "text/plain": [
       "-0.5399061927739786"
      ]
     },
     "execution_count": 65,
     "metadata": {},
     "output_type": "execute_result"
    }
   ],
   "source": [
    "from scipy.stats import skew\n",
    "skew(residuals)\n",
    "\n",
    "# Check the skewness of the residuals. This is another way of checking your data against normality, with a more formal mathematical calculation.\n",
    "# If your skewness score is between [-1, 1], you could say that it's more or less normally distributed. 0 is the perfect score, means perfectly normally distributed, which you'll probably never get."
   ]
  },
  {
   "cell_type": "code",
   "execution_count": 66,
   "id": "38803f6f",
   "metadata": {},
   "outputs": [],
   "source": [
    "# pip install yellowbrick (for shameless non-anaconda users)\n",
    "# conda install -c districtdatalabs yellowbrick  (for glorious anaconda users) (-c means channel. So we are using the channel \"districtdatalabs\" to download the package.)"
   ]
  },
  {
   "cell_type": "code",
   "execution_count": 67,
   "id": "macro-sunday",
   "metadata": {},
   "outputs": [
    {
     "data": {
      "image/png": "[encoded data removed]",
      "text/plain": [
       "<Figure size 800x550 with 2 Axes>"
      ]
     },
     "metadata": {},
     "output_type": "display_data"
    }
   ],
   "source": [
    "from yellowbrick.regressor import ResidualsPlot\n",
    "\n",
    "# Instantiate the linear model and visualizer\n",
    "model = LinearRegression()\n",
    "visualizer = ResidualsPlot(model)\n",
    "\n",
    "visualizer.fit(X_train, y_train)  # Fit the training data to the visualizer\n",
    "visualizer.score(X_test, y_test)  # Evaluate the model on the test data\n",
    "visualizer.show();                # Finalize and render the figure\n",
    "\n",
    "# A much better way of visualising residuals is using `yellowbrick.regressor.ResidualsPlot`\n",
    "# This saves us manual labour.\n",
    "# yellowbrick is a great library specifically created to visualise scikit-learn models."
   ]
  },
  {
   "cell_type": "markdown",
   "id": "imperial-seafood",
   "metadata": {},
   "source": [
    "## Prediction Error for LinearRegression"
   ]
  },
  {
   "cell_type": "code",
   "execution_count": 68,
   "id": "south-pocket",
   "metadata": {},
   "outputs": [
    {
     "data": {
      "image/png": "[encoded data removed]",
      "text/plain": [
       "<Figure size 800x550 with 1 Axes>"
      ]
     },
     "metadata": {},
     "output_type": "display_data"
    }
   ],
   "source": [
    "from yellowbrick.regressor import PredictionError\n",
    "\n",
    "# Instantiate the linear model and visualizer\n",
    "model = LinearRegression()\n",
    "visualizer = PredictionError(model)\n",
    "\n",
    "visualizer.fit(X_train, y_train)  # Fit the training data to the visualizer\n",
    "visualizer.score(X_test, y_test)  # Evaluate the model on the test data\n",
    "visualizer.show();\n",
    "\n",
    "\n",
    "# On the x-axis, we've got the real target values, whereas on the y-axis, we've got the predicted target values.\n",
    "# The greyed-out dashed line is the reference line, where predictions would meet our real target values should they be perfect.\n",
    "# But they're not perfect. Hence, we have the black dashed line, showing how far apart our residuals from the ideal perfect."
   ]
  },
  {
   "cell_type": "markdown",
   "id": "conservative-orbit",
   "metadata": {},
   "source": [
    "## Retraining Model on Full Data"
   ]
  },
  {
   "cell_type": "code",
   "execution_count": 69,
   "id": "appointed-redhead",
   "metadata": {},
   "outputs": [],
   "source": [
    "final_model = LinearRegression()\n",
    "\n",
    "# After we check our model and conclude that this model is good enough, we can train a brand new model, however,\n",
    "# on the entire dataset this time, as we no longer need to check the model performance once we conclude it's good enough."
   ]
  },
  {
   "cell_type": "code",
   "execution_count": 70,
   "id": "cellular-iceland",
   "metadata": {},
   "outputs": [
    {
     "data": {
      "text/html": [
       "<style>#sk-container-id-2 {color: black;background-color: white;}#sk-container-id-2 pre{padding: 0;}#sk-container-id-2 div.sk-toggleable {background-color: white;}#sk-container-id-2 label.sk-toggleable__label {cursor: pointer;display: block;width: 100%;margin-bottom: 0;padding: 0.3em;box-sizing: border-box;text-align: center;}#sk-container-id-2 label.sk-toggleable__label-arrow:before {content: \"▸\";float: left;margin-right: 0.25em;color: #696969;}#sk-container-id-2 label.sk-toggleable__label-arrow:hover:before {color: black;}#sk-container-id-2 div.sk-estimator:hover label.sk-toggleable__label-arrow:before {color: black;}#sk-container-id-2 div.sk-toggleable__content {max-height: 0;max-width: 0;overflow: hidden;text-align: left;background-color: #f0f8ff;}#sk-container-id-2 div.sk-toggleable__content pre {margin: 0.2em;color: black;border-radius: 0.25em;background-color: #f0f8ff;}#sk-container-id-2 input.sk-toggleable__control:checked~div.sk-toggleable__content {max-height: 200px;max-width: 100%;overflow: auto;}#sk-container-id-2 input.sk-toggleable__control:checked~label.sk-toggleable__label-arrow:before {content: \"▾\";}#sk-container-id-2 div.sk-estimator input.sk-toggleable__control:checked~label.sk-toggleable__label {background-color: #d4ebff;}#sk-container-id-2 div.sk-label input.sk-toggleable__control:checked~label.sk-toggleable__label {background-color: #d4ebff;}#sk-container-id-2 input.sk-hidden--visually {border: 0;clip: rect(1px 1px 1px 1px);clip: rect(1px, 1px, 1px, 1px);height: 1px;margin: -1px;overflow: hidden;padding: 0;position: absolute;width: 1px;}#sk-container-id-2 div.sk-estimator {font-family: monospace;background-color: #f0f8ff;border: 1px dotted black;border-radius: 0.25em;box-sizing: border-box;margin-bottom: 0.5em;}#sk-container-id-2 div.sk-estimator:hover {background-color: #d4ebff;}#sk-container-id-2 div.sk-parallel-item::after {content: \"\";width: 100%;border-bottom: 1px solid gray;flex-grow: 1;}#sk-container-id-2 div.sk-label:hover label.sk-toggleable__label {background-color: #d4ebff;}#sk-container-id-2 div.sk-serial::before {content: \"\";position: absolute;border-left: 1px solid gray;box-sizing: border-box;top: 0;bottom: 0;left: 50%;z-index: 0;}#sk-container-id-2 div.sk-serial {display: flex;flex-direction: column;align-items: center;background-color: white;padding-right: 0.2em;padding-left: 0.2em;position: relative;}#sk-container-id-2 div.sk-item {position: relative;z-index: 1;}#sk-container-id-2 div.sk-parallel {display: flex;align-items: stretch;justify-content: center;background-color: white;position: relative;}#sk-container-id-2 div.sk-item::before, #sk-container-id-2 div.sk-parallel-item::before {content: \"\";position: absolute;border-left: 1px solid gray;box-sizing: border-box;top: 0;bottom: 0;left: 50%;z-index: -1;}#sk-container-id-2 div.sk-parallel-item {display: flex;flex-direction: column;z-index: 1;position: relative;background-color: white;}#sk-container-id-2 div.sk-parallel-item:first-child::after {align-self: flex-end;width: 50%;}#sk-container-id-2 div.sk-parallel-item:last-child::after {align-self: flex-start;width: 50%;}#sk-container-id-2 div.sk-parallel-item:only-child::after {width: 0;}#sk-container-id-2 div.sk-dashed-wrapped {border: 1px dashed gray;margin: 0 0.4em 0.5em 0.4em;box-sizing: border-box;padding-bottom: 0.4em;background-color: white;}#sk-container-id-2 div.sk-label label {font-family: monospace;font-weight: bold;display: inline-block;line-height: 1.2em;}#sk-container-id-2 div.sk-label-container {text-align: center;}#sk-container-id-2 div.sk-container {/* jupyter's `normalize.less` sets `[hidden] { display: none; }` but bootstrap.min.css set `[hidden] { display: none !important; }` so we also need the `!important` here to be able to override the default hidden behavior on the sphinx rendered scikit-learn.org. See: https://github.com/scikit-learn/scikit-learn/issues/21755 */display: inline-block !important;position: relative;}#sk-container-id-2 div.sk-text-repr-fallback {display: none;}</style><div id=\"sk-container-id-2\" class=\"sk-top-container\"><div class=\"sk-text-repr-fallback\"><pre>LinearRegression()</pre><b>In a Jupyter environment, please rerun this cell to show the HTML representation or trust the notebook. <br />On GitHub, the HTML representation is unable to render, please try loading this page with nbviewer.org.</b></div><div class=\"sk-container\" hidden><div class=\"sk-item\"><div class=\"sk-estimator sk-toggleable\"><input class=\"sk-toggleable__control sk-hidden--visually\" id=\"sk-estimator-id-2\" type=\"checkbox\" checked><label for=\"sk-estimator-id-2\" class=\"sk-toggleable__label sk-toggleable__label-arrow\">LinearRegression</label><div class=\"sk-toggleable__content\"><pre>LinearRegression()</pre></div></div></div></div></div>"
      ],
      "text/plain": [
       "LinearRegression()"
      ]
     },
     "execution_count": 70,
     "metadata": {},
     "output_type": "execute_result"
    }
   ],
   "source": [
    "final_model.fit(X, y)\n",
    "\n",
    "# Notice we are training the model on the entire dataset."
   ]
  },
  {
   "cell_type": "markdown",
   "id": "collective-apollo",
   "metadata": {},
   "source": [
    "## Coefficients"
   ]
  },
  {
   "cell_type": "code",
   "execution_count": 71,
   "id": "incident-disabled",
   "metadata": {},
   "outputs": [
    {
     "data": {
      "text/plain": [
       "array([ 0.04576465,  0.18853002, -0.00103749])"
      ]
     },
     "execution_count": 71,
     "metadata": {},
     "output_type": "execute_result"
    }
   ],
   "source": [
    "final_model.coef_\n",
    "\n",
    "# Let's check the model coefficients. Keep in mind that these coefficients are created for the independent features.\n",
    "# They are in the same order as with our columns in X."
   ]
  },
  {
   "cell_type": "code",
   "execution_count": 72,
   "id": "stone-cooking",
   "metadata": {},
   "outputs": [
    {
     "data": {
      "text/plain": [
       "2.9388893694594103"
      ]
     },
     "execution_count": 72,
     "metadata": {},
     "output_type": "execute_result"
    }
   ],
   "source": [
    "# The bias/intercept of the model\n",
    "final_model.intercept_"
   ]
  },
  {
   "cell_type": "code",
   "execution_count": 73,
   "id": "spare-meaning",
   "metadata": {},
   "outputs": [
    {
     "data": {
      "text/html": [
       "<div>\n",
       "<style scoped>\n",
       "    .dataframe tbody tr th:only-of-type {\n",
       "        vertical-align: middle;\n",
       "    }\n",
       "\n",
       "    .dataframe tbody tr th {\n",
       "        vertical-align: top;\n",
       "    }\n",
       "\n",
       "    .dataframe thead th {\n",
       "        text-align: right;\n",
       "    }\n",
       "</style>\n",
       "<table border=\"1\" class=\"dataframe\">\n",
       "  <thead>\n",
       "    <tr style=\"text-align: right;\">\n",
       "      <th></th>\n",
       "      <th>TV</th>\n",
       "      <th>radio</th>\n",
       "      <th>newspaper</th>\n",
       "    </tr>\n",
       "  </thead>\n",
       "  <tbody>\n",
       "    <tr>\n",
       "      <th>0</th>\n",
       "      <td>230.1</td>\n",
       "      <td>37.8</td>\n",
       "      <td>69.2</td>\n",
       "    </tr>\n",
       "    <tr>\n",
       "      <th>1</th>\n",
       "      <td>44.5</td>\n",
       "      <td>39.3</td>\n",
       "      <td>45.1</td>\n",
       "    </tr>\n",
       "    <tr>\n",
       "      <th>2</th>\n",
       "      <td>17.2</td>\n",
       "      <td>45.9</td>\n",
       "      <td>69.3</td>\n",
       "    </tr>\n",
       "    <tr>\n",
       "      <th>3</th>\n",
       "      <td>151.5</td>\n",
       "      <td>41.3</td>\n",
       "      <td>58.5</td>\n",
       "    </tr>\n",
       "    <tr>\n",
       "      <th>4</th>\n",
       "      <td>180.8</td>\n",
       "      <td>10.8</td>\n",
       "      <td>58.4</td>\n",
       "    </tr>\n",
       "  </tbody>\n",
       "</table>\n",
       "</div>"
      ],
      "text/plain": [
       "      TV  radio  newspaper\n",
       "0  230.1   37.8       69.2\n",
       "1   44.5   39.3       45.1\n",
       "2   17.2   45.9       69.3\n",
       "3  151.5   41.3       58.5\n",
       "4  180.8   10.8       58.4"
      ]
     },
     "execution_count": 73,
     "metadata": {},
     "output_type": "execute_result"
    }
   ],
   "source": [
    "X.head()\n",
    "\n",
    "# These columns are in the same order as with our coefficients from above."
   ]
  },
  {
   "cell_type": "markdown",
   "id": "handmade-intent",
   "metadata": {},
   "source": [
    "## Prediction on New Data"
   ]
  },
  {
   "cell_type": "code",
   "execution_count": 74,
   "id": "stable-kansas",
   "metadata": {},
   "outputs": [],
   "source": [
    "adv = [[150, 20, 15]]\n",
    "\n",
    "# Let's create a new observation point on which we will get a prediction.\n",
    "# Keep in mind that even if you're getting prediction on a single observation, it still has to be represented as 2-D because ML models in scikit-learn accepts only 2-D data."
   ]
  },
  {
   "cell_type": "code",
   "execution_count": 75,
   "id": "interpreted-packet",
   "metadata": {},
   "outputs": [
    {
     "data": {
      "text/plain": [
       "[[150, 20, 15]]"
      ]
     },
     "execution_count": 75,
     "metadata": {},
     "output_type": "execute_result"
    }
   ],
   "source": [
    "adv"
   ]
  },
  {
   "cell_type": "code",
   "execution_count": 76,
   "id": "liberal-lexington",
   "metadata": {},
   "outputs": [
    {
     "name": "stderr",
     "output_type": "stream",
     "text": [
      "/home/nashjr/miniconda3/envs/ml/lib/python3.10/site-packages/sklearn/base.py:450: UserWarning: X does not have valid feature names, but LinearRegression was fitted with feature names\n",
      "  warnings.warn(\n"
     ]
    },
    {
     "data": {
      "text/plain": [
       "array([13.55862413])"
      ]
     },
     "execution_count": 76,
     "metadata": {},
     "output_type": "execute_result"
    }
   ],
   "source": [
    "final_model.predict(adv)\n",
    "\n",
    "# Getting the prediction"
   ]
  },
  {
   "cell_type": "code",
   "execution_count": 77,
   "id": "handy-producer",
   "metadata": {},
   "outputs": [],
   "source": [
    "adv_2 = [[160, 20, 15]]\n",
    "\n",
    "# We increased the first value by 10 (this value represents the TV value in this observation) and kept all else the same."
   ]
  },
  {
   "cell_type": "code",
   "execution_count": 78,
   "id": "medium-firmware",
   "metadata": {},
   "outputs": [
    {
     "name": "stderr",
     "output_type": "stream",
     "text": [
      "/home/nashjr/miniconda3/envs/ml/lib/python3.10/site-packages/sklearn/base.py:450: UserWarning: X does not have valid feature names, but LinearRegression was fitted with feature names\n",
      "  warnings.warn(\n"
     ]
    },
    {
     "data": {
      "text/plain": [
       "array([14.01627059])"
      ]
     },
     "execution_count": 78,
     "metadata": {},
     "output_type": "execute_result"
    }
   ],
   "source": [
    "final_model.predict(adv_2)\n",
    "\n",
    "# Get the predictions."
   ]
  },
  {
   "cell_type": "code",
   "execution_count": 79,
   "id": "4d19fe9b",
   "metadata": {},
   "outputs": [
    {
     "data": {
      "text/plain": [
       "0.4576464599999994"
      ]
     },
     "execution_count": 79,
     "metadata": {},
     "output_type": "execute_result"
    }
   ],
   "source": [
    "14.01627059 - 13.55862413\n",
    "\n",
    "# The difference between the predicted values is the coefficient of TV multiplied by 10. This makes sense, right? Because we only increased the TV value by 10."
   ]
  },
  {
   "cell_type": "markdown",
   "id": "brown-clothing",
   "metadata": {},
   "source": [
    "## The effect of features on the predicted label"
   ]
  },
  {
   "cell_type": "code",
   "execution_count": 80,
   "id": "chubby-representation",
   "metadata": {},
   "outputs": [
    {
     "data": {
      "text/plain": [
       "array([ 0.04576465,  0.18853002, -0.00103749])"
      ]
     },
     "execution_count": 80,
     "metadata": {},
     "output_type": "execute_result"
    }
   ],
   "source": [
    "final_model.coef_"
   ]
  },
  {
   "cell_type": "code",
   "execution_count": 81,
   "id": "51cb2dd6",
   "metadata": {},
   "outputs": [
    {
     "data": {
      "text/html": [
       "<div>\n",
       "<style scoped>\n",
       "    .dataframe tbody tr th:only-of-type {\n",
       "        vertical-align: middle;\n",
       "    }\n",
       "\n",
       "    .dataframe tbody tr th {\n",
       "        vertical-align: top;\n",
       "    }\n",
       "\n",
       "    .dataframe thead th {\n",
       "        text-align: right;\n",
       "    }\n",
       "</style>\n",
       "<table border=\"1\" class=\"dataframe\">\n",
       "  <thead>\n",
       "    <tr style=\"text-align: right;\">\n",
       "      <th></th>\n",
       "      <th>TV</th>\n",
       "      <th>radio</th>\n",
       "      <th>newspaper</th>\n",
       "      <th>sales</th>\n",
       "    </tr>\n",
       "  </thead>\n",
       "  <tbody>\n",
       "    <tr>\n",
       "      <th>count</th>\n",
       "      <td>200.000000</td>\n",
       "      <td>200.000000</td>\n",
       "      <td>200.000000</td>\n",
       "      <td>200.000000</td>\n",
       "    </tr>\n",
       "    <tr>\n",
       "      <th>mean</th>\n",
       "      <td>147.042500</td>\n",
       "      <td>23.264000</td>\n",
       "      <td>30.554000</td>\n",
       "      <td>14.022500</td>\n",
       "    </tr>\n",
       "    <tr>\n",
       "      <th>std</th>\n",
       "      <td>85.854236</td>\n",
       "      <td>14.846809</td>\n",
       "      <td>21.778621</td>\n",
       "      <td>5.217457</td>\n",
       "    </tr>\n",
       "    <tr>\n",
       "      <th>min</th>\n",
       "      <td>0.700000</td>\n",
       "      <td>0.000000</td>\n",
       "      <td>0.300000</td>\n",
       "      <td>1.600000</td>\n",
       "    </tr>\n",
       "    <tr>\n",
       "      <th>25%</th>\n",
       "      <td>74.375000</td>\n",
       "      <td>9.975000</td>\n",
       "      <td>12.750000</td>\n",
       "      <td>10.375000</td>\n",
       "    </tr>\n",
       "    <tr>\n",
       "      <th>50%</th>\n",
       "      <td>149.750000</td>\n",
       "      <td>22.900000</td>\n",
       "      <td>25.750000</td>\n",
       "      <td>12.900000</td>\n",
       "    </tr>\n",
       "    <tr>\n",
       "      <th>75%</th>\n",
       "      <td>218.825000</td>\n",
       "      <td>36.525000</td>\n",
       "      <td>45.100000</td>\n",
       "      <td>17.400000</td>\n",
       "    </tr>\n",
       "    <tr>\n",
       "      <th>max</th>\n",
       "      <td>296.400000</td>\n",
       "      <td>49.600000</td>\n",
       "      <td>114.000000</td>\n",
       "      <td>27.000000</td>\n",
       "    </tr>\n",
       "  </tbody>\n",
       "</table>\n",
       "</div>"
      ],
      "text/plain": [
       "               TV       radio   newspaper       sales\n",
       "count  200.000000  200.000000  200.000000  200.000000\n",
       "mean   147.042500   23.264000   30.554000   14.022500\n",
       "std     85.854236   14.846809   21.778621    5.217457\n",
       "min      0.700000    0.000000    0.300000    1.600000\n",
       "25%     74.375000    9.975000   12.750000   10.375000\n",
       "50%    149.750000   22.900000   25.750000   12.900000\n",
       "75%    218.825000   36.525000   45.100000   17.400000\n",
       "max    296.400000   49.600000  114.000000   27.000000"
      ]
     },
     "execution_count": 81,
     "metadata": {},
     "output_type": "execute_result"
    }
   ],
   "source": [
    "df.describe()\n",
    "\n",
    "# To be able to determine which independent feature is more important by looking at their coefficients,\n",
    "# they all need to be on the same scale. We will talk more about this in the upcoming lectures."
   ]
  }
 ],
 "metadata": {
  "kernelspec": {
   "display_name": "base",
   "language": "python",
   "name": "python3"
  },
  "language_info": {
   "codemirror_mode": {
    "name": "ipython",
    "version": 3
   },
   "file_extension": ".py",
   "mimetype": "text/x-python",
   "name": "python",
   "nbconvert_exporter": "python",
   "pygments_lexer": "ipython3",
   "version": "3.9.12"
  }
 },
 "nbformat": 4,
 "nbformat_minor": 5
}
