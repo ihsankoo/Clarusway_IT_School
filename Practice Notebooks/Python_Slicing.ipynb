{
 "cells": [
  {
   "cell_type": "markdown",
   "id": "9f9bfd2e-c4f0-4b58-8b88-ab18c9a30db6",
   "metadata": {},
   "source": [
    "<a data-flickr-embed=\"true\" href=\"https://www.flickr.com/photos/kirbyurner/52030543667/in/dateposted-public/\" title=\"Zoom Background\"><img src=\"https://live.staticflickr.com/65535/52030543667_1ec272fe0c_w.jpg\" width=\"400\" height=\"225\" alt=\"Zoom Background\"></a><script async src=\"//embedr.flickr.com/assets/client-code.js\" charset=\"utf-8\"></script>\n",
    "\n",
    "#### Showing...\n",
    "\n",
    "That numpy and pandas syntax is compatible with Python."
   ]
  },
  {
   "cell_type": "code",
   "execution_count": 2,
   "id": "f42f4ace-3c4d-40dc-b036-9e02f6003798",
   "metadata": {},
   "outputs": [
    {
     "data": {
      "text/plain": [
       "'1.21.5'"
      ]
     },
     "execution_count": 2,
     "metadata": {},
     "output_type": "execute_result"
    }
   ],
   "source": [
    "import numpy as np\n",
    "np.__version__"
   ]
  },
  {
   "cell_type": "code",
   "execution_count": 3,
   "id": "6531bfbe-e8b6-48e9-a3b2-088d3930fc9d",
   "metadata": {},
   "outputs": [
    {
     "data": {
      "text/plain": [
       "array([[7., 0., 0., 0., 0.],\n",
       "       [0., 7., 0., 0., 0.],\n",
       "       [0., 0., 7., 0., 0.],\n",
       "       [0., 0., 0., 7., 0.],\n",
       "       [0., 0., 0., 0., 7.]])"
      ]
     },
     "execution_count": 3,
     "metadata": {},
     "output_type": "execute_result"
    }
   ],
   "source": [
    "eye = np.eye(5) # identity matrix\n",
    "eye * 7"
   ]
  },
  {
   "cell_type": "code",
   "execution_count": null,
   "id": "dd00d17e-0f9e-4823-9553-694e31429d58",
   "metadata": {},
   "outputs": [],
   "source": [
    "eye[0:4, 1:-4]  # <-- two slices"
   ]
  },
  {
   "cell_type": "code",
   "execution_count": 8,
   "id": "43cecf9c-dcf4-47fa-8770-dd50524278a2",
   "metadata": {},
   "outputs": [],
   "source": [
    "class NDarray:\n",
    "    \n",
    "    def __getitem__(self, obj):\n",
    "        print(obj)"
   ]
  },
  {
   "cell_type": "code",
   "execution_count": 10,
   "id": "95460553-7d6a-413f-902a-2147ee453cfa",
   "metadata": {},
   "outputs": [],
   "source": [
    "obj = Nummy()"
   ]
  },
  {
   "cell_type": "code",
   "execution_count": 12,
   "id": "5f94b4b5-f6bf-4721-945e-59372b6e2286",
   "metadata": {},
   "outputs": [],
   "source": [
    "start = 0\n",
    "stop = 10\n",
    "step = None\n",
    "rows = slice(start, stop, step)"
   ]
  },
  {
   "cell_type": "code",
   "execution_count": 13,
   "id": "660f0dd7-58a5-4e7c-86b1-bc0a2689541a",
   "metadata": {},
   "outputs": [],
   "source": [
    "start = 1\n",
    "stop = 3\n",
    "step = None\n",
    "cols = slice(start, stop, step)"
   ]
  },
  {
   "cell_type": "code",
   "execution_count": 14,
   "id": "336cace8-4c61-4049-9c4a-835fb7218123",
   "metadata": {},
   "outputs": [
    {
     "name": "stdout",
     "output_type": "stream",
     "text": [
      "(slice(0, 10, None), slice(1, 3, None))\n"
     ]
    }
   ],
   "source": [
    "obj[rows, cols]"
   ]
  },
  {
   "cell_type": "code",
   "execution_count": 4,
   "id": "87f403b7-9c72-41fd-81b7-904ba3076d4b",
   "metadata": {},
   "outputs": [],
   "source": [
    "class Nummy2:\n",
    "    \n",
    "    def __getitem__(self, obj):\n",
    "        print(\"Thank you\")"
   ]
  },
  {
   "cell_type": "code",
   "execution_count": 6,
   "id": "450856f4-e849-4cc0-a2b2-8a9328a1172c",
   "metadata": {},
   "outputs": [
    {
     "name": "stdout",
     "output_type": "stream",
     "text": [
      "Thank you\n"
     ]
    }
   ],
   "source": [
    "obj = Nummy2()\n",
    "obj[2,3]"
   ]
  },
  {
   "cell_type": "code",
   "execution_count": null,
   "id": "146c42a1-49dc-4258-bde9-1798b3f6711d",
   "metadata": {},
   "outputs": [],
   "source": [
    "row_slice = slice(0, 10)\n",
    "col_slice = slice(1, None)"
   ]
  },
  {
   "cell_type": "code",
   "execution_count": null,
   "id": "fa75bdc6-a864-4a72-98e8-f24460dacabf",
   "metadata": {},
   "outputs": [],
   "source": [
    "onum = Nummy()"
   ]
  },
  {
   "cell_type": "code",
   "execution_count": null,
   "id": "9b8cec12-a579-4669-a7a4-1bc2f9dbc644",
   "metadata": {},
   "outputs": [],
   "source": [
    "onum[row_slice, col_slice]"
   ]
  },
  {
   "cell_type": "code",
   "execution_count": null,
   "id": "8187f4f1-1bd6-45c1-a010-47f0896494b9",
   "metadata": {},
   "outputs": [],
   "source": [
    "onum[1:4, -2:-7]"
   ]
  }
 ],
 "metadata": {
  "kernelspec": {
   "display_name": "Python 3 (ipykernel)",
   "language": "python",
   "name": "python3"
  },
  "language_info": {
   "codemirror_mode": {
    "name": "ipython",
    "version": 3
   },
   "file_extension": ".py",
   "mimetype": "text/x-python",
   "name": "python",
   "nbconvert_exporter": "python",
   "pygments_lexer": "ipython3",
   "version": "3.9.12"
  }
 },
 "nbformat": 4,
 "nbformat_minor": 5
}
