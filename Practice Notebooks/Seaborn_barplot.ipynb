{
 "cells": [
  {
   "cell_type": "markdown",
   "id": "b84d0398-0a9b-4d1f-9d9e-14ac478921f6",
   "metadata": {},
   "source": [
    "<a data-flickr-embed=\"true\" href=\"https://www.flickr.com/photos/kirbyurner/52030543667/in/dateposted-public/\" title=\"Zoom Background\"><img src=\"https://live.staticflickr.com/65535/52030543667_1ec272fe0c_w.jpg\" width=\"400\" height=\"225\" alt=\"Zoom Background\"></a><script async src=\"//embedr.flickr.com/assets/client-code.js\" charset=\"utf-8\"></script>\n",
    "\n",
    "#### Showing...\n",
    "\n",
    "How confidance interval in Seaborn bar plot depends on standard deviation in the column."
   ]
  },
  {
   "cell_type": "code",
   "execution_count": 1,
   "id": "81369336-de34-4dcb-ae02-17e39d8e1ad9",
   "metadata": {},
   "outputs": [],
   "source": [
    "import pandas as pd\n",
    "import numpy as np\n",
    "import seaborn as sns"
   ]
  },
  {
   "cell_type": "code",
   "execution_count": 2,
   "id": "e938e4fc-4c23-43fc-aad3-fff9e20ca839",
   "metadata": {},
   "outputs": [],
   "source": [
    "col_1 = np.array([1, 2, 3, 4, 4, 5, 6])\n",
    "col_2 = np.array([3, 3, 3, 3, 3, 3, 3])\n",
    "col_3 = np.array([1, 12, 25, 2, 0, 1, 1])"
   ]
  },
  {
   "cell_type": "code",
   "execution_count": 4,
   "id": "f7a1e297-df35-408e-995e-a69988aa5f24",
   "metadata": {},
   "outputs": [],
   "source": [
    "df = pd.DataFrame({\"col1\": col_1, \"col2\": col_2, \"col3\": col_3})"
   ]
  },
  {
   "cell_type": "code",
   "execution_count": 5,
   "id": "b31601a7-257b-4ba8-96c8-4e73f028fbae",
   "metadata": {},
   "outputs": [
    {
     "data": {
      "text/html": [
       "<div>\n",
       "<style scoped>\n",
       "    .dataframe tbody tr th:only-of-type {\n",
       "        vertical-align: middle;\n",
       "    }\n",
       "\n",
       "    .dataframe tbody tr th {\n",
       "        vertical-align: top;\n",
       "    }\n",
       "\n",
       "    .dataframe thead th {\n",
       "        text-align: right;\n",
       "    }\n",
       "</style>\n",
       "<table border=\"1\" class=\"dataframe\">\n",
       "  <thead>\n",
       "    <tr style=\"text-align: right;\">\n",
       "      <th></th>\n",
       "      <th>col1</th>\n",
       "      <th>col2</th>\n",
       "      <th>col3</th>\n",
       "    </tr>\n",
       "  </thead>\n",
       "  <tbody>\n",
       "    <tr>\n",
       "      <th>0</th>\n",
       "      <td>1</td>\n",
       "      <td>3</td>\n",
       "      <td>1</td>\n",
       "    </tr>\n",
       "    <tr>\n",
       "      <th>1</th>\n",
       "      <td>2</td>\n",
       "      <td>3</td>\n",
       "      <td>12</td>\n",
       "    </tr>\n",
       "    <tr>\n",
       "      <th>2</th>\n",
       "      <td>3</td>\n",
       "      <td>3</td>\n",
       "      <td>25</td>\n",
       "    </tr>\n",
       "    <tr>\n",
       "      <th>3</th>\n",
       "      <td>4</td>\n",
       "      <td>3</td>\n",
       "      <td>2</td>\n",
       "    </tr>\n",
       "    <tr>\n",
       "      <th>4</th>\n",
       "      <td>4</td>\n",
       "      <td>3</td>\n",
       "      <td>0</td>\n",
       "    </tr>\n",
       "    <tr>\n",
       "      <th>5</th>\n",
       "      <td>5</td>\n",
       "      <td>3</td>\n",
       "      <td>1</td>\n",
       "    </tr>\n",
       "    <tr>\n",
       "      <th>6</th>\n",
       "      <td>6</td>\n",
       "      <td>3</td>\n",
       "      <td>1</td>\n",
       "    </tr>\n",
       "  </tbody>\n",
       "</table>\n",
       "</div>"
      ],
      "text/plain": [
       "   col1  col2  col3\n",
       "0     1     3     1\n",
       "1     2     3    12\n",
       "2     3     3    25\n",
       "3     4     3     2\n",
       "4     4     3     0\n",
       "5     5     3     1\n",
       "6     6     3     1"
      ]
     },
     "execution_count": 5,
     "metadata": {},
     "output_type": "execute_result"
    }
   ],
   "source": [
    "df"
   ]
  },
  {
   "cell_type": "code",
   "execution_count": 6,
   "id": "eb447c5a-2eb4-4498-851e-0c069d9a025b",
   "metadata": {},
   "outputs": [
    {
     "data": {
      "text/plain": [
       "col1    3.571429\n",
       "col2    3.000000\n",
       "col3    6.000000\n",
       "dtype: float64"
      ]
     },
     "execution_count": 6,
     "metadata": {},
     "output_type": "execute_result"
    }
   ],
   "source": [
    "df.mean()"
   ]
  },
  {
   "cell_type": "code",
   "execution_count": 7,
   "id": "1e0f06cd-5e19-4d88-b5a8-8fad4be1f77c",
   "metadata": {},
   "outputs": [
    {
     "data": {
      "text/plain": [
       "col1    1.718249\n",
       "col2    0.000000\n",
       "col3    9.345231\n",
       "dtype: float64"
      ]
     },
     "execution_count": 7,
     "metadata": {},
     "output_type": "execute_result"
    }
   ],
   "source": [
    "df.std()"
   ]
  },
  {
   "cell_type": "code",
   "execution_count": 9,
   "id": "896bdd53-673e-4e44-b727-355afd9a72d8",
   "metadata": {},
   "outputs": [
    {
     "data": {
      "image/png": "[encoded data removed]",
      "text/plain": [
       "<Figure size 432x288 with 1 Axes>"
      ]
     },
     "metadata": {
      "needs_background": "light"
     },
     "output_type": "display_data"
    }
   ],
   "source": [
    "sns.barplot(data=df);"
   ]
  },
  {
   "cell_type": "code",
   "execution_count": 13,
   "id": "0132a581-d54a-477c-abfe-acb1efb56dc1",
   "metadata": {},
   "outputs": [
    {
     "data": {
      "image/png": "[encoded data removed]",
      "text/plain": [
       "<Figure size 432x288 with 1 Axes>"
      ]
     },
     "metadata": {
      "needs_background": "light"
     },
     "output_type": "display_data"
    }
   ],
   "source": [
    "sns.barplot(data=df, ci='sd');"
   ]
  },
  {
   "cell_type": "code",
   "execution_count": 14,
   "id": "f6c381b9-4fda-4d31-b1a0-b2236f6e8e83",
   "metadata": {},
   "outputs": [
    {
     "data": {
      "image/png": "[encoded data removed]",
      "text/plain": [
       "<Figure size 432x288 with 1 Axes>"
      ]
     },
     "metadata": {
      "needs_background": "light"
     },
     "output_type": "display_data"
    }
   ],
   "source": [
    "sns.barplot(data=df, ci=95);"
   ]
  },
  {
   "cell_type": "code",
   "execution_count": 15,
   "id": "59627c9d-a53a-4f8c-88b9-acc978711914",
   "metadata": {},
   "outputs": [
    {
     "data": {
      "image/png": "[encoded data removed]",
      "text/plain": [
       "<Figure size 432x288 with 1 Axes>"
      ]
     },
     "metadata": {
      "needs_background": "light"
     },
     "output_type": "display_data"
    }
   ],
   "source": [
    "sns.barplot(data=df, ci=60);"
   ]
  },
  {
   "cell_type": "code",
   "execution_count": 16,
   "id": "0a709da7-b6ed-4d0b-9173-93c1dcb30c10",
   "metadata": {},
   "outputs": [
    {
     "data": {
      "image/png": "[encoded data removed]",
      "text/plain": [
       "<Figure size 432x288 with 1 Axes>"
      ]
     },
     "metadata": {
      "needs_background": "light"
     },
     "output_type": "display_data"
    }
   ],
   "source": [
    "sns.barplot(data=df, ci=55);"
   ]
  },
  {
   "cell_type": "markdown",
   "id": "60f9e62f-87db-41db-98e1-abcf89583b96",
   "metadata": {},
   "source": [
    "## Bootstrapping Sandbox"
   ]
  },
  {
   "cell_type": "code",
   "execution_count": 48,
   "id": "d9c81b6c-417b-48ec-b0be-149b7e1dc25e",
   "metadata": {},
   "outputs": [],
   "source": [
    "def bootstrap(data, n=10):\n",
    "    data = pd.Series(data)\n",
    "    sample_size = len(data)\n",
    "    averages = [data.mean()]\n",
    "    for _ in range(n):\n",
    "        bigpool  = pd.concat([data, data, data, data, data], axis=0)\n",
    "        data     = bigpool.sample(sample_size)\n",
    "        averages.append(data.mean())\n",
    "    return averages"
   ]
  },
  {
   "cell_type": "code",
   "execution_count": 49,
   "id": "96431f7c-175b-4021-a314-30d915563246",
   "metadata": {},
   "outputs": [
    {
     "data": {
      "text/plain": [
       "array([3, 3, 3, 3, 3, 3, 3])"
      ]
     },
     "execution_count": 49,
     "metadata": {},
     "output_type": "execute_result"
    }
   ],
   "source": [
    "col_2"
   ]
  },
  {
   "cell_type": "code",
   "execution_count": 43,
   "id": "c549db5e-4465-4db5-b2d0-94d338dea2cf",
   "metadata": {},
   "outputs": [
    {
     "data": {
      "text/plain": [
       "0     1\n",
       "1    12\n",
       "2    25\n",
       "3     2\n",
       "4     0\n",
       "5     1\n",
       "6     1\n",
       "0     1\n",
       "1    12\n",
       "2    25\n",
       "3     2\n",
       "4     0\n",
       "5     1\n",
       "6     1\n",
       "dtype: int64"
      ]
     },
     "execution_count": 43,
     "metadata": {},
     "output_type": "execute_result"
    }
   ],
   "source": [
    "pd.concat([pd.Series(col_3), pd.Series(col_3)])"
   ]
  },
  {
   "cell_type": "code",
   "execution_count": 52,
   "id": "3a245e43-105e-49c5-a2c6-0a1cd9a0e496",
   "metadata": {},
   "outputs": [
    {
     "data": {
      "text/plain": [
       "[6.0,\n",
       " 2.5714285714285716,\n",
       " 1.0,\n",
       " 0.8571428571428571,\n",
       " 0.8571428571428571,\n",
       " 0.14285714285714285,\n",
       " 0.0,\n",
       " 0.0,\n",
       " 0.0,\n",
       " 0.0,\n",
       " 0.0,\n",
       " 0.0,\n",
       " 0.0,\n",
       " 0.0,\n",
       " 0.0,\n",
       " 0.0,\n",
       " 0.0,\n",
       " 0.0,\n",
       " 0.0,\n",
       " 0.0,\n",
       " 0.0,\n",
       " 0.0,\n",
       " 0.0,\n",
       " 0.0,\n",
       " 0.0,\n",
       " 0.0,\n",
       " 0.0,\n",
       " 0.0,\n",
       " 0.0,\n",
       " 0.0,\n",
       " 0.0]"
      ]
     },
     "execution_count": 52,
     "metadata": {},
     "output_type": "execute_result"
    }
   ],
   "source": [
    "avgs = bootstrap(col_3, n=30)\n",
    "avgs"
   ]
  },
  {
   "cell_type": "code",
   "execution_count": 51,
   "id": "378076ee-e2af-471a-b0e2-548cced849de",
   "metadata": {},
   "outputs": [
    {
     "data": {
      "image/png": "[encoded data removed]",
      "text/plain": [
       "<Figure size 432x288 with 1 Axes>"
      ]
     },
     "metadata": {
      "needs_background": "light"
     },
     "output_type": "display_data"
    }
   ],
   "source": [
    "sns.histplot(avgs);"
   ]
  },
  {
   "cell_type": "code",
   "execution_count": null,
   "id": "30c6b428-834b-43ec-b3df-675d8d88e28a",
   "metadata": {},
   "outputs": [],
   "source": []
  }
 ],
 "metadata": {
  "kernelspec": {
   "display_name": "Python 3 (ipykernel)",
   "language": "python",
   "name": "python3"
  },
  "language_info": {
   "codemirror_mode": {
    "name": "ipython",
    "version": 3
   },
   "file_extension": ".py",
   "mimetype": "text/x-python",
   "name": "python",
   "nbconvert_exporter": "python",
   "pygments_lexer": "ipython3",
   "version": "3.9.12"
  }
 },
 "nbformat": 4,
 "nbformat_minor": 5
}
