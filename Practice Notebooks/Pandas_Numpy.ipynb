{
 "cells": [
  {
   "cell_type": "markdown",
   "id": "bb62450f-ba77-4ced-ac60-b91499ae97ce",
   "metadata": {},
   "source": [
    "<a data-flickr-embed=\"true\" href=\"https://www.flickr.com/photos/kirbyurner/52030543667/in/dateposted-public/\" title=\"Zoom Background\"><img src=\"https://live.staticflickr.com/65535/52030543667_1ec272fe0c_w.jpg\" width=\"400\" height=\"225\" alt=\"Zoom Background\"></a><script async src=\"//embedr.flickr.com/assets/client-code.js\" charset=\"utf-8\"></script>\n",
    "\n",
    "#### Showing...\n",
    "\n",
    "pandas to numpy"
   ]
  },
  {
   "cell_type": "code",
   "execution_count": 1,
   "id": "64664bba-7a4d-4b40-a75a-356ea8f01073",
   "metadata": {},
   "outputs": [],
   "source": [
    "import numpy as np\n",
    "import pandas as pd"
   ]
  },
  {
   "cell_type": "code",
   "execution_count": 2,
   "id": "0e05b58b-ea87-4fd1-8a2c-2bbd0e6ad486",
   "metadata": {},
   "outputs": [],
   "source": [
    "col1 = pd.Series([1,2,3,4,5], dtype=np.int16)"
   ]
  },
  {
   "cell_type": "code",
   "execution_count": 3,
   "id": "6854143e-0a9a-4211-931b-cafc301d2a60",
   "metadata": {},
   "outputs": [],
   "source": [
    "col0 = pd.Series([\"A\",\"B\",\"C\",\"D\",\"E\"], dtype=np.str_)"
   ]
  },
  {
   "cell_type": "code",
   "execution_count": 4,
   "id": "bad54c88-c20c-4a90-aa0c-f56112ff1eeb",
   "metadata": {},
   "outputs": [],
   "source": [
    "dFrame = pd.DataFrame({\"Names\":col0, \"Numbers\":col1})"
   ]
  },
  {
   "cell_type": "code",
   "execution_count": 5,
   "id": "f9194fcc-34bc-4bcd-be00-b37395dbd865",
   "metadata": {},
   "outputs": [
    {
     "data": {
      "text/html": [
       "<div>\n",
       "<style scoped>\n",
       "    .dataframe tbody tr th:only-of-type {\n",
       "        vertical-align: middle;\n",
       "    }\n",
       "\n",
       "    .dataframe tbody tr th {\n",
       "        vertical-align: top;\n",
       "    }\n",
       "\n",
       "    .dataframe thead th {\n",
       "        text-align: right;\n",
       "    }\n",
       "</style>\n",
       "<table border=\"1\" class=\"dataframe\">\n",
       "  <thead>\n",
       "    <tr style=\"text-align: right;\">\n",
       "      <th></th>\n",
       "      <th>Names</th>\n",
       "      <th>Numbers</th>\n",
       "    </tr>\n",
       "  </thead>\n",
       "  <tbody>\n",
       "    <tr>\n",
       "      <th>0</th>\n",
       "      <td>A</td>\n",
       "      <td>1</td>\n",
       "    </tr>\n",
       "    <tr>\n",
       "      <th>1</th>\n",
       "      <td>B</td>\n",
       "      <td>2</td>\n",
       "    </tr>\n",
       "    <tr>\n",
       "      <th>2</th>\n",
       "      <td>C</td>\n",
       "      <td>3</td>\n",
       "    </tr>\n",
       "    <tr>\n",
       "      <th>3</th>\n",
       "      <td>D</td>\n",
       "      <td>4</td>\n",
       "    </tr>\n",
       "    <tr>\n",
       "      <th>4</th>\n",
       "      <td>E</td>\n",
       "      <td>5</td>\n",
       "    </tr>\n",
       "  </tbody>\n",
       "</table>\n",
       "</div>"
      ],
      "text/plain": [
       "  Names  Numbers\n",
       "0     A        1\n",
       "1     B        2\n",
       "2     C        3\n",
       "3     D        4\n",
       "4     E        5"
      ]
     },
     "execution_count": 5,
     "metadata": {},
     "output_type": "execute_result"
    }
   ],
   "source": [
    "dFrame"
   ]
  },
  {
   "cell_type": "markdown",
   "id": "a7336963-3ff4-4e95-bb01-baa0f74d8b1c",
   "metadata": {},
   "source": [
    "Official docs: [DataFrame to Numpy Array](https://pandas.pydata.org/docs/reference/api/pandas.DataFrame.to_numpy.html)\n",
    "\n",
    "df.to_numpy"
   ]
  },
  {
   "cell_type": "code",
   "execution_count": 11,
   "id": "62e70761-c5b3-4041-a8c1-30899127babb",
   "metadata": {},
   "outputs": [
    {
     "data": {
      "text/plain": [
       "array([['A', 1],\n",
       "       ['B', 2],\n",
       "       ['C', 3],\n",
       "       ['D', 4],\n",
       "       ['E', 5]], dtype=object)"
      ]
     },
     "execution_count": 11,
     "metadata": {},
     "output_type": "execute_result"
    }
   ],
   "source": [
    "arr = dFrame.to_numpy()\n",
    "arr"
   ]
  },
  {
   "cell_type": "code",
   "execution_count": 12,
   "id": "47a89ea8-0879-4f23-ab08-9b9517df0896",
   "metadata": {},
   "outputs": [
    {
     "data": {
      "text/plain": [
       "'O'"
      ]
     },
     "execution_count": 12,
     "metadata": {},
     "output_type": "execute_result"
    }
   ],
   "source": [
    "arr.dtype.kind"
   ]
  },
  {
   "cell_type": "code",
   "execution_count": 13,
   "id": "bf2a3ddc-c1b0-4668-b985-680b7adc49a6",
   "metadata": {},
   "outputs": [
    {
     "data": {
      "text/plain": [
       "[('', '|O')]"
      ]
     },
     "execution_count": 13,
     "metadata": {},
     "output_type": "execute_result"
    }
   ],
   "source": [
    "arr.dtype.descr"
   ]
  },
  {
   "cell_type": "code",
   "execution_count": 14,
   "id": "f23c5fc2-3c79-4706-b767-519d81617d8d",
   "metadata": {},
   "outputs": [],
   "source": [
    "arr.dtype.fields"
   ]
  },
  {
   "cell_type": "code",
   "execution_count": 15,
   "id": "f46922ff-1753-4964-9ace-8ca9c459ea30",
   "metadata": {},
   "outputs": [
    {
     "data": {
      "text/plain": [
       "array(['A', 1], dtype=object)"
      ]
     },
     "execution_count": 15,
     "metadata": {},
     "output_type": "execute_result"
    }
   ],
   "source": [
    "arr[0]"
   ]
  },
  {
   "cell_type": "code",
   "execution_count": 16,
   "id": "0a63b516-596c-4fab-9e01-368cfcd9a461",
   "metadata": {},
   "outputs": [
    {
     "data": {
      "text/plain": [
       "array(['A', 'B', 'C', 'D', 'E'], dtype=object)"
      ]
     },
     "execution_count": 16,
     "metadata": {},
     "output_type": "execute_result"
    }
   ],
   "source": [
    "arr[:,0]"
   ]
  },
  {
   "cell_type": "code",
   "execution_count": 17,
   "id": "74100c2c-0897-406c-b6d7-6a007e5bf60d",
   "metadata": {},
   "outputs": [
    {
     "data": {
      "text/plain": [
       "2"
      ]
     },
     "execution_count": 17,
     "metadata": {},
     "output_type": "execute_result"
    }
   ],
   "source": [
    "arr.ndim"
   ]
  },
  {
   "cell_type": "code",
   "execution_count": 18,
   "id": "a186d613-4b66-4184-8614-ebd01f9296ce",
   "metadata": {},
   "outputs": [
    {
     "data": {
      "text/plain": [
       "(5, 2)"
      ]
     },
     "execution_count": 18,
     "metadata": {},
     "output_type": "execute_result"
    }
   ],
   "source": [
    "arr.shape"
   ]
  }
 ],
 "metadata": {
  "kernelspec": {
   "display_name": "Python 3 (ipykernel)",
   "language": "python",
   "name": "python3"
  },
  "language_info": {
   "codemirror_mode": {
    "name": "ipython",
    "version": 3
   },
   "file_extension": ".py",
   "mimetype": "text/x-python",
   "name": "python",
   "nbconvert_exporter": "python",
   "pygments_lexer": "ipython3",
   "version": "3.9.12"
  }
 },
 "nbformat": 4,
 "nbformat_minor": 5
}
