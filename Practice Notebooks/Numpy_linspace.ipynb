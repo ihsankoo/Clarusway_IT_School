{
 "cells": [
  {
   "cell_type": "markdown",
   "id": "a2af92e2-e2a2-4e52-ba72-cc6c1d3d76e4",
   "metadata": {},
   "source": [
    "<a data-flickr-embed=\"true\" href=\"https://www.flickr.com/photos/kirbyurner/52030543667/in/dateposted-public/\" title=\"Zoom Background\"><img src=\"https://live.staticflickr.com/65535/52030543667_1ec272fe0c_w.jpg\" width=\"400\" height=\"225\" alt=\"Zoom Background\"></a><script async src=\"//embedr.flickr.com/assets/client-code.js\" charset=\"utf-8\"></script>\n",
    "\n",
    "#### Showing...\n",
    "\n",
    "About numpy linspace when start and/or stop arguments are arrays.\n",
    "\n",
    "Official documentation:\n",
    "\n",
    "* [numpy linspace](https://numpy.org/doc/stable/reference/generated/numpy.linspace.html)"
   ]
  },
  {
   "cell_type": "code",
   "execution_count": 1,
   "id": "a461c4a7-8f11-41ee-8725-fedb183e867c",
   "metadata": {},
   "outputs": [],
   "source": [
    "import numpy as np"
   ]
  },
  {
   "cell_type": "code",
   "execution_count": 2,
   "id": "e81c6a0a-bc2d-4337-b36a-d14230f65b27",
   "metadata": {},
   "outputs": [],
   "source": [
    "ones = np.ones((5,5))\n",
    "twos = np.ones((5,5)) * 2"
   ]
  },
  {
   "cell_type": "code",
   "execution_count": 3,
   "id": "23972772-e4c2-437f-99f3-48e15622c756",
   "metadata": {},
   "outputs": [
    {
     "data": {
      "text/plain": [
       "array([[1., 1., 1., 1., 1.],\n",
       "       [1., 1., 1., 1., 1.],\n",
       "       [1., 1., 1., 1., 1.],\n",
       "       [1., 1., 1., 1., 1.],\n",
       "       [1., 1., 1., 1., 1.]])"
      ]
     },
     "execution_count": 3,
     "metadata": {},
     "output_type": "execute_result"
    }
   ],
   "source": [
    "ones"
   ]
  },
  {
   "cell_type": "code",
   "execution_count": 4,
   "id": "c589f33a-997a-4539-a4c6-096e4a2019ec",
   "metadata": {},
   "outputs": [
    {
     "data": {
      "text/plain": [
       "array([[2., 2., 2., 2., 2.],\n",
       "       [2., 2., 2., 2., 2.],\n",
       "       [2., 2., 2., 2., 2.],\n",
       "       [2., 2., 2., 2., 2.],\n",
       "       [2., 2., 2., 2., 2.]])"
      ]
     },
     "execution_count": 4,
     "metadata": {},
     "output_type": "execute_result"
    }
   ],
   "source": [
    "twos"
   ]
  },
  {
   "cell_type": "code",
   "execution_count": 5,
   "id": "5d3ba64f-0cc8-4e21-8140-9c226be0805f",
   "metadata": {},
   "outputs": [
    {
     "data": {
      "text/plain": [
       "array([[[1.  , 1.  , 1.  , 1.  , 1.  ],\n",
       "        [1.  , 1.  , 1.  , 1.  , 1.  ],\n",
       "        [1.  , 1.  , 1.  , 1.  , 1.  ],\n",
       "        [1.  , 1.  , 1.  , 1.  , 1.  ],\n",
       "        [1.  , 1.  , 1.  , 1.  , 1.  ]],\n",
       "\n",
       "       [[1.25, 1.25, 1.25, 1.25, 1.25],\n",
       "        [1.25, 1.25, 1.25, 1.25, 1.25],\n",
       "        [1.25, 1.25, 1.25, 1.25, 1.25],\n",
       "        [1.25, 1.25, 1.25, 1.25, 1.25],\n",
       "        [1.25, 1.25, 1.25, 1.25, 1.25]],\n",
       "\n",
       "       [[1.5 , 1.5 , 1.5 , 1.5 , 1.5 ],\n",
       "        [1.5 , 1.5 , 1.5 , 1.5 , 1.5 ],\n",
       "        [1.5 , 1.5 , 1.5 , 1.5 , 1.5 ],\n",
       "        [1.5 , 1.5 , 1.5 , 1.5 , 1.5 ],\n",
       "        [1.5 , 1.5 , 1.5 , 1.5 , 1.5 ]],\n",
       "\n",
       "       [[1.75, 1.75, 1.75, 1.75, 1.75],\n",
       "        [1.75, 1.75, 1.75, 1.75, 1.75],\n",
       "        [1.75, 1.75, 1.75, 1.75, 1.75],\n",
       "        [1.75, 1.75, 1.75, 1.75, 1.75],\n",
       "        [1.75, 1.75, 1.75, 1.75, 1.75]],\n",
       "\n",
       "       [[2.  , 2.  , 2.  , 2.  , 2.  ],\n",
       "        [2.  , 2.  , 2.  , 2.  , 2.  ],\n",
       "        [2.  , 2.  , 2.  , 2.  , 2.  ],\n",
       "        [2.  , 2.  , 2.  , 2.  , 2.  ],\n",
       "        [2.  , 2.  , 2.  , 2.  , 2.  ]]])"
      ]
     },
     "execution_count": 5,
     "metadata": {},
     "output_type": "execute_result"
    }
   ],
   "source": [
    "np.linspace(ones, twos, num=5)"
   ]
  },
  {
   "cell_type": "code",
   "execution_count": 6,
   "id": "e11da9f5-b6aa-4ec1-8ee0-0001b97e5e45",
   "metadata": {},
   "outputs": [
    {
     "data": {
      "text/plain": [
       "array([[[1.  , 1.  ],\n",
       "        [1.  , 1.  ]],\n",
       "\n",
       "       [[1.25, 1.25],\n",
       "        [1.25, 1.25]],\n",
       "\n",
       "       [[1.5 , 1.5 ],\n",
       "        [1.5 , 1.5 ]],\n",
       "\n",
       "       [[1.75, 1.75],\n",
       "        [1.75, 1.75]],\n",
       "\n",
       "       [[2.  , 2.  ],\n",
       "        [2.  , 2.  ]]])"
      ]
     },
     "execution_count": 6,
     "metadata": {},
     "output_type": "execute_result"
    }
   ],
   "source": [
    "np.linspace(1, np.array([2,2,2,2]).reshape(2,2), num = 5)"
   ]
  },
  {
   "cell_type": "code",
   "execution_count": 7,
   "id": "2271616e-a75f-4600-9b5d-0f1ca2dd482b",
   "metadata": {},
   "outputs": [
    {
     "data": {
      "text/plain": [
       "array([[[2. , 2. ],\n",
       "        [2. , 2. ]],\n",
       "\n",
       "       [[2.5, 2.5],\n",
       "        [2.5, 2.5]],\n",
       "\n",
       "       [[3. , 3. ],\n",
       "        [3. , 3. ]],\n",
       "\n",
       "       [[3.5, 3.5],\n",
       "        [3.5, 3.5]],\n",
       "\n",
       "       [[4. , 4. ],\n",
       "        [4. , 4. ]]])"
      ]
     },
     "execution_count": 7,
     "metadata": {},
     "output_type": "execute_result"
    }
   ],
   "source": [
    "np.linspace(np.array([2,2,2,2]).reshape(2,2), 4, num = 5)"
   ]
  }
 ],
 "metadata": {
  "kernelspec": {
   "display_name": "Python 3 (ipykernel)",
   "language": "python",
   "name": "python3"
  },
  "language_info": {
   "codemirror_mode": {
    "name": "ipython",
    "version": 3
   },
   "file_extension": ".py",
   "mimetype": "text/x-python",
   "name": "python",
   "nbconvert_exporter": "python",
   "pygments_lexer": "ipython3",
   "version": "3.9.12"
  }
 },
 "nbformat": 4,
 "nbformat_minor": 5
}
