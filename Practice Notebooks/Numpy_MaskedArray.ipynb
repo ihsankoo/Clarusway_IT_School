{
 "cells": [
  {
   "cell_type": "markdown",
   "id": "9f9bfd2e-c4f0-4b58-8b88-ab18c9a30db6",
   "metadata": {},
   "source": [
    "<a data-flickr-embed=\"true\" href=\"https://www.flickr.com/photos/kirbyurner/52030543667/in/dateposted-public/\" title=\"Zoom Background\"><img src=\"https://live.staticflickr.com/65535/52030543667_1ec272fe0c_w.jpg\" width=\"400\" height=\"225\" alt=\"Zoom Background\"></a><script async src=\"//embedr.flickr.com/assets/client-code.js\" charset=\"utf-8\"></script>\n",
    "\n",
    "#### Showing...\n",
    "\n",
    "The MaskedArray feature of numpy.\n",
    "\n",
    "[Talk about MaskedArray type](https://numpy.org/doc/stable/reference/maskedarray.generic.html)"
   ]
  },
  {
   "cell_type": "code",
   "execution_count": 2,
   "id": "f42f4ace-3c4d-40dc-b036-9e02f6003798",
   "metadata": {},
   "outputs": [
    {
     "data": {
      "text/plain": [
       "'1.21.5'"
      ]
     },
     "execution_count": 2,
     "metadata": {},
     "output_type": "execute_result"
    }
   ],
   "source": [
    "import numpy as np\n",
    "np.__version__"
   ]
  },
  {
   "cell_type": "code",
   "execution_count": 4,
   "id": "6531bfbe-e8b6-48e9-a3b2-088d3930fc9d",
   "metadata": {},
   "outputs": [
    {
     "data": {
      "text/plain": [
       "masked_array(data=[--, 2, 3, 4, 5, --],\n",
       "             mask=[ True, False, False, False, False,  True],\n",
       "       fill_value=999999)"
      ]
     },
     "execution_count": 4,
     "metadata": {},
     "output_type": "execute_result"
    }
   ],
   "source": [
    "ma = np.ma.array([1,2,3,4,5,6], mask=[1,0,0,0,0,1])\n",
    "ma"
   ]
  },
  {
   "cell_type": "code",
   "execution_count": 5,
   "id": "dd00d17e-0f9e-4823-9553-694e31429d58",
   "metadata": {},
   "outputs": [
    {
     "data": {
      "text/plain": [
       "array([1, 2, 3, 4, 5, 6])"
      ]
     },
     "execution_count": 5,
     "metadata": {},
     "output_type": "execute_result"
    }
   ],
   "source": [
    "ma.data"
   ]
  },
  {
   "cell_type": "code",
   "execution_count": 6,
   "id": "43cecf9c-dcf4-47fa-8770-dd50524278a2",
   "metadata": {},
   "outputs": [
    {
     "data": {
      "text/plain": [
       "array([ True, False, False, False, False,  True])"
      ]
     },
     "execution_count": 6,
     "metadata": {},
     "output_type": "execute_result"
    }
   ],
   "source": [
    "ma.mask"
   ]
  },
  {
   "cell_type": "code",
   "execution_count": 7,
   "id": "95460553-7d6a-413f-902a-2147ee453cfa",
   "metadata": {},
   "outputs": [
    {
     "data": {
      "text/plain": [
       "14"
      ]
     },
     "execution_count": 7,
     "metadata": {},
     "output_type": "execute_result"
    }
   ],
   "source": [
    "np.sum(ma)"
   ]
  },
  {
   "cell_type": "code",
   "execution_count": 16,
   "id": "5f94b4b5-f6bf-4721-945e-59372b6e2286",
   "metadata": {},
   "outputs": [
    {
     "data": {
      "text/plain": [
       "array([[7., 6., 4., 9., 5., 8., 7., 8.],\n",
       "       [9., 2., 6., 8., 6., 7., 5., 3.],\n",
       "       [3., 5., 4., 2., 5., 4., 7., 4.],\n",
       "       [4., 1., 6., 5., 4., 5., 8., 8.],\n",
       "       [1., 2., 2., 4., 3., 8., 1., 3.],\n",
       "       [5., 9., 5., 4., 2., 2., 6., 5.],\n",
       "       [4., 7., 2., 6., 5., 3., 4., 6.],\n",
       "       [1., 1., 2., 9., 5., 1., 7., 7.]])"
      ]
     },
     "execution_count": 16,
     "metadata": {},
     "output_type": "execute_result"
    }
   ],
   "source": [
    "keep = np.random.randint(1, 10, (8, 8)).astype(np.float64)\n",
    "keep"
   ]
  },
  {
   "cell_type": "code",
   "execution_count": 19,
   "id": "660f0dd7-58a5-4e7c-86b1-bc0a2689541a",
   "metadata": {},
   "outputs": [
    {
     "data": {
      "text/plain": [
       "array([[ 7., nan,  4.,  9.,  5.,  8.,  7.,  8.],\n",
       "       [ 9.,  2.,  6.,  8.,  6.,  7.,  5.,  3.],\n",
       "       [ 3.,  5.,  4.,  2.,  5.,  4.,  7.,  4.],\n",
       "       [ 4.,  1., nan,  5.,  4.,  5.,  8.,  8.],\n",
       "       [ 1.,  2.,  2.,  4.,  3.,  8.,  1.,  3.],\n",
       "       [ 5.,  9.,  5.,  4.,  2., nan,  6.,  5.],\n",
       "       [ 4.,  7.,  2.,  6.,  5.,  3.,  4.,  6.],\n",
       "       [ 1.,  1.,  2.,  9.,  5.,  1.,  7., nan]])"
      ]
     },
     "execution_count": 19,
     "metadata": {},
     "output_type": "execute_result"
    }
   ],
   "source": [
    "keep[[0, 3, 5, 7],[1, 2, 5, 7]] = np.NaN  # random missing values\n",
    "keep"
   ]
  },
  {
   "cell_type": "code",
   "execution_count": 44,
   "id": "336cace8-4c61-4049-9c4a-835fb7218123",
   "metadata": {},
   "outputs": [
    {
     "data": {
      "text/plain": [
       "masked_array(\n",
       "  data=[[7.0, --, 4.0, 9.0, 5.0, 8.0, 7.0, 8.0],\n",
       "        [9.0, 2.0, 6.0, 8.0, 6.0, 7.0, 5.0, 3.0],\n",
       "        [3.0, 5.0, 4.0, 2.0, 5.0, 4.0, 7.0, 4.0],\n",
       "        [4.0, 1.0, --, 5.0, 4.0, 5.0, 8.0, 8.0],\n",
       "        [1.0, 2.0, 2.0, 4.0, 3.0, 8.0, 1.0, 3.0],\n",
       "        [5.0, 9.0, 5.0, 4.0, 2.0, --, 6.0, 5.0],\n",
       "        [4.0, 7.0, 2.0, 6.0, 5.0, 3.0, 4.0, 6.0],\n",
       "        [1.0, 1.0, 2.0, 9.0, 5.0, 1.0, 7.0, --]],\n",
       "  mask=[[False,  True, False, False, False, False, False, False],\n",
       "        [False, False, False, False, False, False, False, False],\n",
       "        [False, False, False, False, False, False, False, False],\n",
       "        [False, False,  True, False, False, False, False, False],\n",
       "        [False, False, False, False, False, False, False, False],\n",
       "        [False, False, False, False, False,  True, False, False],\n",
       "        [False, False, False, False, False, False, False, False],\n",
       "        [False, False, False, False, False, False, False,  True]],\n",
       "  fill_value=1e+20)"
      ]
     },
     "execution_count": 44,
     "metadata": {},
     "output_type": "execute_result"
    }
   ],
   "source": [
    "ma_matrix = np.ma.array(keep, mask = np.isnan(keep))  # mask the NaNs\n",
    "ma_matrix"
   ]
  },
  {
   "cell_type": "code",
   "execution_count": 30,
   "id": "87f403b7-9c72-41fd-81b7-904ba3076d4b",
   "metadata": {},
   "outputs": [
    {
     "data": {
      "text/plain": [
       "(8, 8)"
      ]
     },
     "execution_count": 30,
     "metadata": {},
     "output_type": "execute_result"
    }
   ],
   "source": [
    "ma_matrix.shape"
   ]
  },
  {
   "cell_type": "code",
   "execution_count": 31,
   "id": "450856f4-e849-4cc0-a2b2-8a9328a1172c",
   "metadata": {},
   "outputs": [
    {
     "data": {
      "text/plain": [
       "array([[ 7., nan,  4.,  9.,  5.,  8.,  7.,  8.],\n",
       "       [ 9.,  2.,  6.,  8.,  6.,  7.,  5.,  3.],\n",
       "       [ 3.,  5.,  4.,  2.,  5.,  4.,  7.,  4.],\n",
       "       [ 4.,  1., nan,  5.,  4.,  5.,  8.,  8.],\n",
       "       [ 1.,  2.,  2.,  4.,  3.,  8.,  1.,  3.],\n",
       "       [ 5.,  9.,  5.,  4.,  2., nan,  6.,  5.],\n",
       "       [ 4.,  7.,  2.,  6.,  5.,  3.,  4.,  6.],\n",
       "       [ 1.,  1.,  2.,  9.,  5.,  1.,  7., nan]])"
      ]
     },
     "execution_count": 31,
     "metadata": {},
     "output_type": "execute_result"
    }
   ],
   "source": [
    "ma_matrix.data"
   ]
  },
  {
   "cell_type": "code",
   "execution_count": 32,
   "id": "146c42a1-49dc-4258-bde9-1798b3f6711d",
   "metadata": {},
   "outputs": [
    {
     "data": {
      "text/plain": [
       "64"
      ]
     },
     "execution_count": 32,
     "metadata": {},
     "output_type": "execute_result"
    }
   ],
   "source": [
    "ma_matrix.size"
   ]
  },
  {
   "cell_type": "code",
   "execution_count": 33,
   "id": "fa75bdc6-a864-4a72-98e8-f24460dacabf",
   "metadata": {},
   "outputs": [
    {
     "data": {
      "text/plain": [
       "60"
      ]
     },
     "execution_count": 33,
     "metadata": {},
     "output_type": "execute_result"
    }
   ],
   "source": [
    "ma_matrix.count()"
   ]
  },
  {
   "cell_type": "code",
   "execution_count": 34,
   "id": "9b8cec12-a579-4669-a7a4-1bc2f9dbc644",
   "metadata": {},
   "outputs": [
    {
     "data": {
      "text/plain": [
       "4.766666666666667"
      ]
     },
     "execution_count": 34,
     "metadata": {},
     "output_type": "execute_result"
    }
   ],
   "source": [
    "ma_matrix.mean()"
   ]
  },
  {
   "cell_type": "code",
   "execution_count": 35,
   "id": "8187f4f1-1bd6-45c1-a010-47f0896494b9",
   "metadata": {},
   "outputs": [
    {
     "data": {
      "text/plain": [
       "4.766666666666667"
      ]
     },
     "execution_count": 35,
     "metadata": {},
     "output_type": "execute_result"
    }
   ],
   "source": [
    "ma_matrix.sum()/ma_matrix.count()"
   ]
  },
  {
   "cell_type": "code",
   "execution_count": 37,
   "id": "0190f1b4-054b-4a45-8d97-1def3841ff9d",
   "metadata": {},
   "outputs": [
    {
     "data": {
      "text/plain": [
       "nan"
      ]
     },
     "execution_count": 37,
     "metadata": {},
     "output_type": "execute_result"
    }
   ],
   "source": [
    "ma_matrix.data.sum()"
   ]
  },
  {
   "cell_type": "code",
   "execution_count": 42,
   "id": "a93b337f-37c9-4fd2-8d8c-a1baf1746342",
   "metadata": {},
   "outputs": [
    {
     "data": {
      "text/plain": [
       "286.0"
      ]
     },
     "execution_count": 42,
     "metadata": {},
     "output_type": "execute_result"
    }
   ],
   "source": [
    "np.nansum(ma_matrix.data)"
   ]
  },
  {
   "cell_type": "code",
   "execution_count": 43,
   "id": "ca02b1e8-77ed-4a66-8080-4fc6f61d8c8e",
   "metadata": {},
   "outputs": [
    {
     "data": {
      "text/plain": [
       "286.0"
      ]
     },
     "execution_count": 43,
     "metadata": {},
     "output_type": "execute_result"
    }
   ],
   "source": [
    "np.sum(ma_matrix)"
   ]
  }
 ],
 "metadata": {
  "kernelspec": {
   "display_name": "Python 3 (ipykernel)",
   "language": "python",
   "name": "python3"
  },
  "language_info": {
   "codemirror_mode": {
    "name": "ipython",
    "version": 3
   },
   "file_extension": ".py",
   "mimetype": "text/x-python",
   "name": "python",
   "nbconvert_exporter": "python",
   "pygments_lexer": "ipython3",
   "version": "3.9.12"
  }
 },
 "nbformat": 4,
 "nbformat_minor": 5
}
