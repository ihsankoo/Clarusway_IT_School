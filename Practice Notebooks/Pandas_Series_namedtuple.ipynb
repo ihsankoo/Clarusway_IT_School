{
 "cells": [
  {
   "cell_type": "markdown",
   "id": "ff32c6c1-01f9-4c83-8664-b45e19c5fb76",
   "metadata": {},
   "source": [
    "<a data-flickr-embed=\"true\" href=\"https://www.flickr.com/photos/kirbyurner/52030543667/in/dateposted-public/\" title=\"Zoom Background\"><img src=\"https://live.staticflickr.com/65535/52030543667_1ec272fe0c_w.jpg\" width=\"400\" height=\"225\" alt=\"Zoom Background\"></a><script async src=\"//embedr.flickr.com/assets/client-code.js\" charset=\"utf-8\"></script>\n",
    "\n",
    "#### Showing...\n",
    "\n",
    "pandas Series as similar to collections.namedtuple"
   ]
  },
  {
   "cell_type": "code",
   "execution_count": 1,
   "id": "116af09b-3f00-426a-8d0f-7d20a42bf72c",
   "metadata": {},
   "outputs": [],
   "source": [
    "from collections import namedtuple\n",
    "K = namedtuple(\"A\", [\"a\", \"b\", \"c\"])"
   ]
  },
  {
   "cell_type": "code",
   "execution_count": 2,
   "id": "88143d4f-e0f7-4641-bcdd-55767300e3c2",
   "metadata": {},
   "outputs": [],
   "source": [
    "nt = K(1,2,3)"
   ]
  },
  {
   "cell_type": "code",
   "execution_count": 4,
   "id": "cc2f0bc8-8441-4325-a2fd-8202eebfabcd",
   "metadata": {},
   "outputs": [
    {
     "data": {
      "text/plain": [
       "__main__.A"
      ]
     },
     "execution_count": 4,
     "metadata": {},
     "output_type": "execute_result"
    }
   ],
   "source": [
    "type(nt)"
   ]
  },
  {
   "cell_type": "code",
   "execution_count": 5,
   "id": "495ff30d-166e-4bf9-98d7-80ef21f9c78c",
   "metadata": {},
   "outputs": [
    {
     "data": {
      "text/plain": [
       "1"
      ]
     },
     "execution_count": 5,
     "metadata": {},
     "output_type": "execute_result"
    }
   ],
   "source": [
    "nt.a"
   ]
  },
  {
   "cell_type": "markdown",
   "id": "008968ef-8c21-4994-8596-4bafd3301f17",
   "metadata": {},
   "source": [
    "The Series type allows referencing values by index both through \"get attribute\" notation, i.e. `ser.attr`, *and* through \"get item\" notation e.g. `ser[\"attr\"]`.  In contrast, the namedtuple supports numeric indexing through brackets (`__getitem__`) and label indexing through dot notation (`__getattr__`)."
   ]
  },
  {
   "cell_type": "code",
   "execution_count": 6,
   "id": "1c9ec8c2-8c9b-40aa-93f9-bd5f953d16a3",
   "metadata": {},
   "outputs": [],
   "source": [
    "import pandas as pd"
   ]
  },
  {
   "cell_type": "code",
   "execution_count": 8,
   "id": "71c33c0d-cdc3-4eee-bd1b-df3c607db9f5",
   "metadata": {},
   "outputs": [
    {
     "data": {
      "text/plain": [
       "a    1\n",
       "b    2\n",
       "c    3\n",
       "dtype: int64"
      ]
     },
     "execution_count": 8,
     "metadata": {},
     "output_type": "execute_result"
    }
   ],
   "source": [
    "s = pd.Series([1,2,3], ['a','b','c'])\n",
    "s"
   ]
  },
  {
   "cell_type": "code",
   "execution_count": 9,
   "id": "6f258da3-2a39-4355-9082-86245d714d78",
   "metadata": {},
   "outputs": [
    {
     "data": {
      "text/plain": [
       "1"
      ]
     },
     "execution_count": 9,
     "metadata": {},
     "output_type": "execute_result"
    }
   ],
   "source": [
    "s.a  # s.attr"
   ]
  },
  {
   "cell_type": "code",
   "execution_count": 10,
   "id": "0c26dd63-8170-4af6-9a2d-e3eb9eead9fe",
   "metadata": {},
   "outputs": [
    {
     "data": {
      "text/plain": [
       "3"
      ]
     },
     "execution_count": 10,
     "metadata": {},
     "output_type": "execute_result"
    }
   ],
   "source": [
    "s.c"
   ]
  },
  {
   "cell_type": "code",
   "execution_count": 11,
   "id": "5109b24e-9b2b-448a-a2f9-6b726af3e1b4",
   "metadata": {},
   "outputs": [
    {
     "data": {
      "text/plain": [
       "1"
      ]
     },
     "execution_count": 11,
     "metadata": {},
     "output_type": "execute_result"
    }
   ],
   "source": [
    "s['a']  # s['attr']"
   ]
  },
  {
   "cell_type": "code",
   "execution_count": 12,
   "id": "64d95745-c78f-4f94-955e-909a1b1f73d8",
   "metadata": {},
   "outputs": [
    {
     "data": {
      "text/plain": [
       "2"
      ]
     },
     "execution_count": 12,
     "metadata": {},
     "output_type": "execute_result"
    }
   ],
   "source": [
    "s['b']"
   ]
  }
 ],
 "metadata": {
  "kernelspec": {
   "display_name": "Python 3 (ipykernel)",
   "language": "python",
   "name": "python3"
  },
  "language_info": {
   "codemirror_mode": {
    "name": "ipython",
    "version": 3
   },
   "file_extension": ".py",
   "mimetype": "text/x-python",
   "name": "python",
   "nbconvert_exporter": "python",
   "pygments_lexer": "ipython3",
   "version": "3.9.12"
  }
 },
 "nbformat": 4,
 "nbformat_minor": 5
}
