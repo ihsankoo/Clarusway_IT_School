{
 "cells": [
  {
   "cell_type": "markdown",
   "id": "224eedd8-d8c4-4a1c-a44a-087b3b2d5b63",
   "metadata": {},
   "source": [
    "<a data-flickr-embed=\"true\" href=\"https://www.flickr.com/photos/kirbyurner/52030543667/in/dateposted-public/\" title=\"Zoom Background\"><img src=\"https://live.staticflickr.com/65535/52030543667_1ec272fe0c_w.jpg\" width=\"400\" height=\"225\" alt=\"Zoom Background\"></a><script async src=\"//embedr.flickr.com/assets/client-code.js\" charset=\"utf-8\"></script>\n",
    "\n",
    "#### Showing...\n",
    "\n",
    "Vectorizing your own functions using numpy.\n",
    "\n",
    "The ability to apply to every cell without explicit looping is useful.  How might I make my own functions behave that way?\n",
    "\n",
    "This is done for convenience more than speed. Only natively vectorized functions will happen at numpy speed.\n",
    "\n",
    "With [np.vectorize](https://numpy.org/doc/stable/reference/generated/numpy.vectorize.html).  Official docs."
   ]
  },
  {
   "cell_type": "code",
   "execution_count": 1,
   "id": "6891fc96-99da-458b-a392-e2155305cd51",
   "metadata": {},
   "outputs": [],
   "source": [
    "def any_func(n):\n",
    "    return n + 2  # trivial!"
   ]
  },
  {
   "cell_type": "code",
   "execution_count": 2,
   "id": "681d21ca-84ff-4bf8-a2ca-15d0296b2141",
   "metadata": {},
   "outputs": [],
   "source": [
    "import numpy as np"
   ]
  },
  {
   "cell_type": "code",
   "execution_count": 3,
   "id": "4fc06d83-139b-4884-89d6-abf564b657e0",
   "metadata": {},
   "outputs": [],
   "source": [
    "vec_any_func = np.vectorize(any_func)"
   ]
  },
  {
   "cell_type": "code",
   "execution_count": 6,
   "id": "cb5cfdf9-a921-4013-a89c-16a20522fa9d",
   "metadata": {},
   "outputs": [],
   "source": [
    "rectangle = np.ones((5,5), dtype=np.int32)"
   ]
  },
  {
   "cell_type": "code",
   "execution_count": 7,
   "id": "8b2bc990-b0cc-496b-8e2a-896b1aef6669",
   "metadata": {},
   "outputs": [
    {
     "data": {
      "text/plain": [
       "array([[1, 1, 1, 1, 1],\n",
       "       [1, 1, 1, 1, 1],\n",
       "       [1, 1, 1, 1, 1],\n",
       "       [1, 1, 1, 1, 1],\n",
       "       [1, 1, 1, 1, 1]], dtype=int32)"
      ]
     },
     "execution_count": 7,
     "metadata": {},
     "output_type": "execute_result"
    }
   ],
   "source": [
    "rectangle"
   ]
  },
  {
   "cell_type": "code",
   "execution_count": 9,
   "id": "a5d6185f-14e7-4501-b15f-035b0534b532",
   "metadata": {},
   "outputs": [
    {
     "name": "stdout",
     "output_type": "stream",
     "text": [
      "48.9 µs ± 1.37 µs per loop (mean ± std. dev. of 7 runs, 10,000 loops each)\n"
     ]
    }
   ],
   "source": [
    "%timeit vec_any_func(rectangle)"
   ]
  },
  {
   "cell_type": "code",
   "execution_count": 23,
   "id": "c0e682c5-b005-42df-8f33-193d7a276151",
   "metadata": {},
   "outputs": [
    {
     "data": {
      "text/plain": [
       "dtype('int64')"
      ]
     },
     "execution_count": 23,
     "metadata": {},
     "output_type": "execute_result"
    }
   ],
   "source": [
    "r = vec_any_func(rectangle)\n",
    "r.dtype"
   ]
  },
  {
   "cell_type": "code",
   "execution_count": 10,
   "id": "87f3f5be-8881-4e90-bcff-abb73576381e",
   "metadata": {},
   "outputs": [
    {
     "name": "stdout",
     "output_type": "stream",
     "text": [
      "4.4 µs ± 341 ns per loop (mean ± std. dev. of 7 runs, 100,000 loops each)\n"
     ]
    }
   ],
   "source": [
    "%timeit rectangle + 2  # same result"
   ]
  },
  {
   "cell_type": "markdown",
   "id": "c01ee547-afed-43fa-8c7a-bb9097d4ba40",
   "metadata": {},
   "source": [
    "The main difference between np.vectorize and np.frompyfunc is in the return type.  np.frompyfunc returns dtype object ('O') arrays."
   ]
  },
  {
   "cell_type": "code",
   "execution_count": 25,
   "id": "52ec1865-42c0-4dd7-8b78-1079fe6c2570",
   "metadata": {},
   "outputs": [],
   "source": [
    "uadd2 = np.frompyfunc(any_func, 1, 1)"
   ]
  },
  {
   "cell_type": "code",
   "execution_count": 26,
   "id": "fdef497e-bd82-4580-a8c8-49b5df895d5d",
   "metadata": {},
   "outputs": [
    {
     "name": "stdout",
     "output_type": "stream",
     "text": [
      "13.9 µs ± 4.16 µs per loop (mean ± std. dev. of 7 runs, 10,000 loops each)\n"
     ]
    }
   ],
   "source": [
    "%timeit uadd2(rectangle)"
   ]
  },
  {
   "cell_type": "code",
   "execution_count": 27,
   "id": "61b2ea10-1693-4f81-a005-bc553a0cdd93",
   "metadata": {},
   "outputs": [
    {
     "data": {
      "text/plain": [
       "dtype('O')"
      ]
     },
     "execution_count": 27,
     "metadata": {},
     "output_type": "execute_result"
    }
   ],
   "source": [
    "r = uadd2(rectangle)\n",
    "r.dtype"
   ]
  },
  {
   "cell_type": "code",
   "execution_count": 28,
   "id": "ae972a52-8631-4fa1-a6b7-656ea66c2228",
   "metadata": {},
   "outputs": [],
   "source": [
    "oct_array = np.frompyfunc(oct, 1, 1)"
   ]
  },
  {
   "cell_type": "code",
   "execution_count": 29,
   "id": "940520f4-eaf2-48f1-a9c6-d71e135ac201",
   "metadata": {},
   "outputs": [
    {
     "data": {
      "text/plain": [
       "array(['0o12', '0o36', '0o144'], dtype=object)"
      ]
     },
     "execution_count": 29,
     "metadata": {},
     "output_type": "execute_result"
    }
   ],
   "source": [
    "oct_array(np.array((10, 30, 100)))"
   ]
  },
  {
   "cell_type": "code",
   "execution_count": 30,
   "id": "506e79cb-6b32-4889-a749-1ba8a857f0f8",
   "metadata": {},
   "outputs": [
    {
     "data": {
      "text/plain": [
       "array(['0o12', '0o36', '0o144'], dtype=object)"
      ]
     },
     "execution_count": 30,
     "metadata": {},
     "output_type": "execute_result"
    }
   ],
   "source": [
    "oct_array((10, 30, 100)) # converts to np.ndarray"
   ]
  },
  {
   "cell_type": "code",
   "execution_count": 32,
   "id": "51aea6af-2c40-4474-b60d-5f01625dfd4b",
   "metadata": {},
   "outputs": [
    {
     "data": {
      "text/plain": [
       "array(['0o12', '0o36', '0o144'], dtype='<U5')"
      ]
     },
     "execution_count": 32,
     "metadata": {},
     "output_type": "execute_result"
    }
   ],
   "source": [
    "np.array((oct(10), oct(30), oct(100)))  # not vectorized"
   ]
  },
  {
   "cell_type": "code",
   "execution_count": 17,
   "id": "2c8661c8-10ec-49f7-b7db-a0922b702dc9",
   "metadata": {},
   "outputs": [],
   "source": [
    "v_oct = np.vectorize(oct)"
   ]
  },
  {
   "cell_type": "code",
   "execution_count": 19,
   "id": "30d3c80c-e3fd-4804-ab8b-ef4ed52ccd90",
   "metadata": {},
   "outputs": [
    {
     "data": {
      "text/plain": [
       "array(['0o12', '0o36', '0o144'], dtype='<U5')"
      ]
     },
     "execution_count": 19,
     "metadata": {},
     "output_type": "execute_result"
    }
   ],
   "source": [
    "v_oct(np.array((10, 30, 100)))  # as if applied to each"
   ]
  },
  {
   "cell_type": "code",
   "execution_count": null,
   "id": "62781fbb-dfc6-4421-b821-edd2c4ef96e2",
   "metadata": {},
   "outputs": [],
   "source": []
  }
 ],
 "metadata": {
  "kernelspec": {
   "display_name": "Python 3 (ipykernel)",
   "language": "python",
   "name": "python3"
  },
  "language_info": {
   "codemirror_mode": {
    "name": "ipython",
    "version": 3
   },
   "file_extension": ".py",
   "mimetype": "text/x-python",
   "name": "python",
   "nbconvert_exporter": "python",
   "pygments_lexer": "ipython3",
   "version": "3.9.12"
  }
 },
 "nbformat": 4,
 "nbformat_minor": 5
}
