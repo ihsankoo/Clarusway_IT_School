{
 "cells": [
  {
   "cell_type": "code",
   "execution_count": 1,
   "metadata": {
    "colab": {
     "base_uri": "https://localhost:8080/"
    },
    "executionInfo": {
     "elapsed": 162,
     "status": "ok",
     "timestamp": 1664501264073,
     "user": {
      "displayName": "Serdar B",
      "userId": "01285984894529357189"
     },
     "user_tz": 240
    },
    "id": "hSo369rJpHSr",
    "outputId": "3a950171-1aa3-46c6-f65d-6c78c9b4e1b3"
   },
   "outputs": [],
   "source": [
    "#!nvidia-smi"
   ]
  },
  {
   "cell_type": "code",
   "execution_count": null,
   "metadata": {
    "colab": {
     "base_uri": "https://localhost:8080/"
    },
    "executionInfo": {
     "elapsed": 37392,
     "status": "ok",
     "timestamp": 1664492245932,
     "user": {
      "displayName": "Serdar B",
      "userId": "01285984894529357189"
     },
     "user_tz": 240
    },
    "id": "u_IpnJIEqKlv",
    "outputId": "c1092591-0176-46b8-e678-fb02017236e2"
   },
   "outputs": [],
   "source": [
    "!pip install -U spacy\n",
    "!pip install -U spacy-lookups-data\n",
    "!python -m spacy download en_core_web_sm\n",
    "!python -m spacy download en_core_web_md"
   ]
  },
  {
   "cell_type": "code",
   "execution_count": 2,
   "metadata": {
    "executionInfo": {
     "elapsed": 12863,
     "status": "ok",
     "timestamp": 1664501362371,
     "user": {
      "displayName": "Serdar B",
      "userId": "01285984894529357189"
     },
     "user_tz": 240
    },
    "id": "HqqrQI48p5kc"
   },
   "outputs": [],
   "source": [
    "import spacy\n",
    "import nltk"
   ]
  },
  {
   "cell_type": "code",
   "execution_count": 3,
   "metadata": {
    "executionInfo": {
     "elapsed": 4,
     "status": "ok",
     "timestamp": 1664501362371,
     "user": {
      "displayName": "Serdar B",
      "userId": "01285984894529357189"
     },
     "user_tz": 240
    },
    "id": "M2i7rfLVVsiJ"
   },
   "outputs": [],
   "source": [
    "from IPython.core.interactiveshell import InteractiveShell\n",
    "InteractiveShell.ast_node_interactivity = 'all'"
   ]
  },
  {
   "cell_type": "code",
   "execution_count": 5,
   "metadata": {
    "colab": {
     "base_uri": "https://localhost:8080/"
    },
    "executionInfo": {
     "elapsed": 1249,
     "status": "ok",
     "timestamp": 1664501367803,
     "user": {
      "displayName": "Serdar B",
      "userId": "01285984894529357189"
     },
     "user_tz": 240
    },
    "id": "AY79zVCMp_Mq",
    "outputId": "41aa1845-a8a1-4fe7-afa5-2fd4af2a94e0"
   },
   "outputs": [],
   "source": [
    "#spacy.prefer_gpu()\n",
    "nlp = spacy.load(\"en_core_web_sm\")"
   ]
  },
  {
   "cell_type": "code",
   "execution_count": 6,
   "metadata": {
    "executionInfo": {
     "elapsed": 651,
     "status": "ok",
     "timestamp": 1664501420678,
     "user": {
      "displayName": "Serdar B",
      "userId": "01285984894529357189"
     },
     "user_tz": 240
    },
    "id": "R9viyLdSqsq9"
   },
   "outputs": [],
   "source": [
    "text = 'Apple is looking for buying a U.K. startup for $1 billion'"
   ]
  },
  {
   "cell_type": "code",
   "execution_count": 7,
   "metadata": {
    "executionInfo": {
     "elapsed": 6416,
     "status": "ok",
     "timestamp": 1664501438355,
     "user": {
      "displayName": "Serdar B",
      "userId": "01285984894529357189"
     },
     "user_tz": 240
    },
    "id": "7UpOAI8Cun3Z"
   },
   "outputs": [],
   "source": [
    "doc = nlp(text)"
   ]
  },
  {
   "cell_type": "markdown",
   "metadata": {
    "id": "yIFrrfh7L8Su"
   },
   "source": [
    "## POS TAG"
   ]
  },
  {
   "cell_type": "code",
   "execution_count": 8,
   "metadata": {
    "colab": {
     "base_uri": "https://localhost:8080/"
    },
    "executionInfo": {
     "elapsed": 15,
     "status": "ok",
     "timestamp": 1664492253054,
     "user": {
      "displayName": "Serdar B",
      "userId": "01285984894529357189"
     },
     "user_tz": 240
    },
    "id": "yd0cjXS0xhLw",
    "outputId": "26b726d4-ce01-4f5d-912a-c51193660ac7"
   },
   "outputs": [
    {
     "name": "stdout",
     "output_type": "stream",
     "text": [
      "Apple      --> PROPN      --> NNP\n",
      "is         --> AUX        --> VBZ\n",
      "looking    --> VERB       --> VBG\n",
      "for        --> ADP        --> IN\n",
      "buying     --> VERB       --> VBG\n",
      "a          --> DET        --> DT\n",
      "U.K.       --> PROPN      --> NNP\n",
      "startup    --> NOUN       --> NN\n",
      "for        --> ADP        --> IN\n",
      "$          --> SYM        --> $\n",
      "1          --> NUM        --> CD\n",
      "billion    --> NUM        --> CD\n"
     ]
    }
   ],
   "source": [
    "for token in doc:\n",
    "    print(f'{token.text:{10}} --> {token.pos_:{10}} --> {token.tag_}')"
   ]
  },
  {
   "cell_type": "code",
   "execution_count": 9,
   "metadata": {
    "colab": {
     "base_uri": "https://localhost:8080/"
    },
    "executionInfo": {
     "elapsed": 12,
     "status": "ok",
     "timestamp": 1664492253055,
     "user": {
      "displayName": "Serdar B",
      "userId": "01285984894529357189"
     },
     "user_tz": 240
    },
    "id": "7WGfgZa7RLrA",
    "outputId": "d022ba8e-f556-40ab-ef8e-3e43a1bc3b46"
   },
   "outputs": [
    {
     "name": "stderr",
     "output_type": "stream",
     "text": [
      "[nltk_data] Downloading package punkt to /Users/serdar/nltk_data...\n",
      "[nltk_data]   Package punkt is already up-to-date!\n"
     ]
    },
    {
     "data": {
      "text/plain": [
       "True"
      ]
     },
     "execution_count": 9,
     "metadata": {},
     "output_type": "execute_result"
    },
    {
     "name": "stderr",
     "output_type": "stream",
     "text": [
      "[nltk_data] Downloading package averaged_perceptron_tagger to\n",
      "[nltk_data]     /Users/serdar/nltk_data...\n",
      "[nltk_data]   Package averaged_perceptron_tagger is already up-to-\n",
      "[nltk_data]       date!\n"
     ]
    },
    {
     "data": {
      "text/plain": [
       "True"
      ]
     },
     "execution_count": 9,
     "metadata": {},
     "output_type": "execute_result"
    }
   ],
   "source": [
    "from nltk import pos_tag\n",
    "from nltk.tokenize import word_tokenize\n",
    "\n",
    "nltk.download('punkt')\n",
    "nltk.download('averaged_perceptron_tagger')"
   ]
  },
  {
   "cell_type": "code",
   "execution_count": 10,
   "metadata": {
    "colab": {
     "base_uri": "https://localhost:8080/"
    },
    "executionInfo": {
     "elapsed": 461,
     "status": "ok",
     "timestamp": 1664492253510,
     "user": {
      "displayName": "Serdar B",
      "userId": "01285984894529357189"
     },
     "user_tz": 240
    },
    "id": "pTQJQ97UROfP",
    "outputId": "87d1c560-0b02-4e3d-c6dd-930b1134393f"
   },
   "outputs": [
    {
     "name": "stdout",
     "output_type": "stream",
     "text": [
      "Apple           --> NNP\n",
      "is              --> VBZ\n",
      "looking         --> VBG\n",
      "for             --> IN\n",
      "buying          --> VBG\n",
      "a               --> DT\n",
      "U.K.            --> NNP\n",
      "startup         --> NN\n",
      "for             --> IN\n",
      "$               --> $\n",
      "1               --> CD\n",
      "billion         --> CD\n"
     ]
    }
   ],
   "source": [
    "word_tokens = word_tokenize(text)\n",
    "pos = pos_tag(word_tokens)\n",
    "for token in pos:\n",
    "    print(f'{token[0]:{15}} --> {token[1]}')"
   ]
  },
  {
   "cell_type": "code",
   "execution_count": 11,
   "metadata": {
    "colab": {
     "base_uri": "https://localhost:8080/"
    },
    "executionInfo": {
     "elapsed": 12,
     "status": "ok",
     "timestamp": 1664488615464,
     "user": {
      "displayName": "Serdar B",
      "userId": "01285984894529357189"
     },
     "user_tz": 240
    },
    "id": "EmCt_bO7Og0z",
    "outputId": "fdbcd3e3-4a96-4bdb-d37e-a4689f90c4a0"
   },
   "outputs": [
    {
     "name": "stdout",
     "output_type": "stream",
     "text": [
      "Token -> Apple    Lemma -> Apple    POS -> PROPN    TAG -> NNP      Shape -> Xxxxx    Is_Alpha ->  1\n",
      "Token -> is       Lemma -> be       POS -> AUX      TAG -> VBZ      Shape -> xx       Is_Alpha ->  1\n",
      "Token -> looking  Lemma -> look     POS -> VERB     TAG -> VBG      Shape -> xxxx     Is_Alpha ->  1\n",
      "Token -> for      Lemma -> for      POS -> ADP      TAG -> IN       Shape -> xxx      Is_Alpha ->  1\n",
      "Token -> buying   Lemma -> buy      POS -> VERB     TAG -> VBG      Shape -> xxxx     Is_Alpha ->  1\n",
      "Token -> a        Lemma -> a        POS -> DET      TAG -> DT       Shape -> x        Is_Alpha ->  1\n",
      "Token -> U.K.     Lemma -> U.K.     POS -> PROPN    TAG -> NNP      Shape -> X.X.     Is_Alpha ->  0\n",
      "Token -> startup  Lemma -> startup  POS -> NOUN     TAG -> NN       Shape -> xxxx     Is_Alpha ->  1\n",
      "Token -> for      Lemma -> for      POS -> ADP      TAG -> IN       Shape -> xxx      Is_Alpha ->  1\n",
      "Token -> $        Lemma -> $        POS -> SYM      TAG -> $        Shape -> $        Is_Alpha ->  0\n",
      "Token -> 1        Lemma -> 1        POS -> NUM      TAG -> CD       Shape -> d        Is_Alpha ->  0\n",
      "Token -> billion  Lemma -> billion  POS -> NUM      TAG -> CD       Shape -> xxxx     Is_Alpha ->  1\n"
     ]
    }
   ],
   "source": [
    "for token in doc:\n",
    "    print(f\"\"\"Token -> {token.text:{8}} Lemma -> {token.lemma_:{8}} POS -> {token.pos_:{8}} TAG -> {token.tag_:{8}} Shape -> {token.shape_:{8}} Is_Alpha -> {token.is_alpha:{2}}\"\"\")"
   ]
  },
  {
   "cell_type": "markdown",
   "metadata": {},
   "source": [
    "### Word Frequency"
   ]
  },
  {
   "cell_type": "code",
   "execution_count": 36,
   "metadata": {},
   "outputs": [
    {
     "name": "stdout",
     "output_type": "stream",
     "text": [
      "[('Gus', 4), ('London', 3), ('Natural', 3), ('Language', 3), ('Processing', 3)]\n"
     ]
    }
   ],
   "source": [
    "from collections import Counter\n",
    "complete_text = (\n",
    "\"Gus Proto is a Python developer currently\"\n",
    "\" working for a London-based Fintech company. He is\"\n",
    "\" interested in learning Natural Language Processing.\"\n",
    "\" There is a developer conference happening on 21 July\"\n",
    "' 2019 in London. It is titled \"Applications of Natural'\n",
    "' Language Processing\". There is a helpline number'\n",
    "\" available at +44-1234567891. Gus is helping organize it.\"\n",
    "\" He keeps organizing local Python meetups and several\"\n",
    "\" internal talks at his workplace. Gus is also presenting\"\n",
    "' a talk. The talk will introduce the reader about \"Use'\n",
    "' cases of Natural Language Processing in Fintech\".'\n",
    "\" Apart from his work, he is very passionate about music.\"\n",
    "\" Gus is learning to play the Piano. He has enrolled\"\n",
    "\" himself in the weekend batch of Great Piano Academy.\"\n",
    "\" Great Piano Academy is situated in Mayfair or the City\"\n",
    "\" of London and has world-class piano instructors.\"\n",
    ")\n",
    "complete_doc = nlp(complete_text)\n",
    "\n",
    "words = [ token.text \n",
    "          for token in complete_doc\n",
    "          if not token.is_stop and not token.is_punct\n",
    "        ]\n",
    "\n",
    "print(Counter(words).most_common(5))"
   ]
  },
  {
   "cell_type": "code",
   "execution_count": 39,
   "metadata": {},
   "outputs": [
    {
     "name": "stdout",
     "output_type": "stream",
     "text": [
      "\n",
      "TOKEN: Gus\n",
      "=====\n",
      "TAG: NNP        POS: PROPN\n",
      "EXPLANATION: noun, proper singular\n",
      "\n",
      "TOKEN: Proto\n",
      "=====\n",
      "TAG: NNP        POS: PROPN\n",
      "EXPLANATION: noun, proper singular\n",
      "\n",
      "TOKEN: is\n",
      "=====\n",
      "TAG: VBZ        POS: AUX\n",
      "EXPLANATION: verb, 3rd person singular present\n",
      "\n",
      "TOKEN: a\n",
      "=====\n",
      "TAG: DT         POS: DET\n",
      "EXPLANATION: determiner\n",
      "\n",
      "TOKEN: Python\n",
      "=====\n",
      "TAG: NNP        POS: PROPN\n",
      "EXPLANATION: noun, proper singular\n",
      "\n",
      "TOKEN: developer\n",
      "=====\n",
      "TAG: NN         POS: NOUN\n",
      "EXPLANATION: noun, singular or mass\n",
      "\n",
      "TOKEN: currently\n",
      "=====\n",
      "TAG: RB         POS: ADV\n",
      "EXPLANATION: adverb\n",
      "\n",
      "TOKEN: working\n",
      "=====\n",
      "TAG: VBG        POS: VERB\n",
      "EXPLANATION: verb, gerund or present participle\n",
      "\n",
      "TOKEN: for\n",
      "=====\n",
      "TAG: IN         POS: ADP\n",
      "EXPLANATION: conjunction, subordinating or preposition\n",
      "\n",
      "TOKEN: a\n",
      "=====\n",
      "TAG: DT         POS: DET\n",
      "EXPLANATION: determiner\n",
      "\n",
      "TOKEN: London\n",
      "=====\n",
      "TAG: NNP        POS: PROPN\n",
      "EXPLANATION: noun, proper singular\n",
      "\n",
      "TOKEN: -\n",
      "=====\n",
      "TAG: HYPH       POS: PUNCT\n",
      "EXPLANATION: punctuation mark, hyphen\n",
      "\n",
      "TOKEN: based\n",
      "=====\n",
      "TAG: VBN        POS: VERB\n",
      "EXPLANATION: verb, past participle\n",
      "\n",
      "TOKEN: Fintech\n",
      "=====\n",
      "TAG: NNP        POS: PROPN\n",
      "EXPLANATION: noun, proper singular\n",
      "\n",
      "TOKEN: company\n",
      "=====\n",
      "TAG: NN         POS: NOUN\n",
      "EXPLANATION: noun, singular or mass\n",
      "\n",
      "TOKEN: .\n",
      "=====\n",
      "TAG: .          POS: PUNCT\n",
      "EXPLANATION: punctuation mark, sentence closer\n"
     ]
    }
   ],
   "source": [
    "about_text = (\n",
    "...     \"Gus Proto is a Python developer currently\"\n",
    "...     \" working for a London-based Fintech\"\n",
    "...     \" company.\"\n",
    "... )\n",
    "about_doc = nlp(about_text)\n",
    "for token in about_doc:\n",
    "...     print(\n",
    "...         f\"\"\"\n",
    "... TOKEN: {str(token)}\n",
    "... =====\n",
    "... TAG: {str(token.tag_):10} POS: {token.pos_}\n",
    "... EXPLANATION: {spacy.explain(token.tag_)}\"\"\"\n",
    "...     )"
   ]
  },
  {
   "cell_type": "markdown",
   "metadata": {
    "id": "frwLhpn4RiwK"
   },
   "source": [
    "# NER"
   ]
  },
  {
   "cell_type": "code",
   "execution_count": 12,
   "metadata": {
    "colab": {
     "base_uri": "https://localhost:8080/"
    },
    "executionInfo": {
     "elapsed": 391,
     "status": "ok",
     "timestamp": 1664488615848,
     "user": {
      "displayName": "Serdar B",
      "userId": "01285984894529357189"
     },
     "user_tz": 240
    },
    "id": "RHDkcOeRybC6",
    "outputId": "9157cbea-0f90-4c39-b433-dd0dd0e61132"
   },
   "outputs": [
    {
     "name": "stdout",
     "output_type": "stream",
     "text": [
      "Apple           --> ORG\n",
      "U.K.            --> GPE\n",
      "$1 billion      --> MONEY\n"
     ]
    }
   ],
   "source": [
    "for ent in doc.ents:\n",
    "    print(f'{ent.text:{15}} --> {ent.label_}')"
   ]
  },
  {
   "cell_type": "code",
   "execution_count": 12,
   "metadata": {
    "colab": {
     "base_uri": "https://localhost:8080/"
    },
    "executionInfo": {
     "elapsed": 534,
     "status": "ok",
     "timestamp": 1664488616376,
     "user": {
      "displayName": "Serdar B",
      "userId": "01285984894529357189"
     },
     "user_tz": 240
    },
    "id": "0MEw7XFjRbRN",
    "outputId": "5749fbc4-efe6-42fb-f238-e4db0cb0bcf4"
   },
   "outputs": [
    {
     "name": "stderr",
     "output_type": "stream",
     "text": [
      "[nltk_data] Downloading package maxent_ne_chunker to\n",
      "[nltk_data]     /root/nltk_data...\n",
      "[nltk_data]   Unzipping chunkers/maxent_ne_chunker.zip.\n"
     ]
    },
    {
     "data": {
      "text/plain": [
       "True"
      ]
     },
     "execution_count": 12,
     "metadata": {},
     "output_type": "execute_result"
    },
    {
     "name": "stderr",
     "output_type": "stream",
     "text": [
      "[nltk_data] Downloading package words to /root/nltk_data...\n",
      "[nltk_data]   Unzipping corpora/words.zip.\n"
     ]
    },
    {
     "data": {
      "text/plain": [
       "True"
      ]
     },
     "execution_count": 12,
     "metadata": {},
     "output_type": "execute_result"
    }
   ],
   "source": [
    "nltk.download('maxent_ne_chunker')\n",
    "nltk.download('words')\n",
    "from nltk import ne_chunk"
   ]
  },
  {
   "cell_type": "code",
   "execution_count": 13,
   "metadata": {
    "colab": {
     "base_uri": "https://localhost:8080/"
    },
    "executionInfo": {
     "elapsed": 6,
     "status": "ok",
     "timestamp": 1664488616376,
     "user": {
      "displayName": "Serdar B",
      "userId": "01285984894529357189"
     },
     "user_tz": 240
    },
    "id": "83ICnXhjRuLo",
    "outputId": "b34bf7de-3009-4a5c-9303-59a70b824553"
   },
   "outputs": [
    {
     "name": "stdout",
     "output_type": "stream",
     "text": [
      "Apple is looking for buying a U.K. startup for $1 billion \n",
      "\n",
      "GPE Apple\n"
     ]
    }
   ],
   "source": [
    "print(text, '\\n')\n",
    "for chunk in nltk.ne_chunk(pos):\n",
    "      if hasattr(chunk, 'label'):\n",
    "        print(chunk.label(), ' '.join(c[0] for c in chunk))"
   ]
  },
  {
   "cell_type": "code",
   "execution_count": 13,
   "metadata": {
    "executionInfo": {
     "elapsed": 887,
     "status": "ok",
     "timestamp": 1664489175724,
     "user": {
      "displayName": "Serdar B",
      "userId": "01285984894529357189"
     },
     "user_tz": 240
    },
    "id": "nz_HMoHPyBVZ"
   },
   "outputs": [],
   "source": [
    "text2 = 'Apple and banana are healty fruits to consume.'\n",
    "doc2 = nlp(text2)"
   ]
  },
  {
   "cell_type": "code",
   "execution_count": 14,
   "metadata": {
    "colab": {
     "base_uri": "https://localhost:8080/"
    },
    "executionInfo": {
     "elapsed": 232,
     "status": "ok",
     "timestamp": 1664489177148,
     "user": {
      "displayName": "Serdar B",
      "userId": "01285984894529357189"
     },
     "user_tz": 240
    },
    "id": "5UT6ZL5rxyCI",
    "outputId": "8ad88e87-505a-4cfb-d5d3-e9401c831b00"
   },
   "outputs": [
    {
     "name": "stdout",
     "output_type": "stream",
     "text": [
      "Apple           --> NOUN\n",
      "and             --> CCONJ\n",
      "banana          --> NOUN\n",
      "are             --> AUX\n",
      "healty          --> ADJ\n",
      "fruits          --> NOUN\n",
      "to              --> PART\n",
      "consume         --> VERB\n",
      ".               --> PUNCT\n"
     ]
    }
   ],
   "source": [
    "for token in doc2:\n",
    "    print(f'{token.text:{15}} --> {token.pos_}')"
   ]
  },
  {
   "cell_type": "code",
   "execution_count": 15,
   "metadata": {
    "colab": {
     "base_uri": "https://localhost:8080/"
    },
    "executionInfo": {
     "elapsed": 275,
     "status": "ok",
     "timestamp": 1664489179455,
     "user": {
      "displayName": "Serdar B",
      "userId": "01285984894529357189"
     },
     "user_tz": 240
    },
    "id": "G-vFlCQ8x6jw",
    "outputId": "a0993040-3db4-4576-a876-88ebde5f1a4c"
   },
   "outputs": [
    {
     "name": "stdout",
     "output_type": "stream",
     "text": [
      "Apple           --> ORG --> 0, 5\n"
     ]
    }
   ],
   "source": [
    "for ent in doc2.ents:\n",
    "    print(f'{ent.text:{15}} --> {ent.label_} --> {ent.start_char}, {ent.end_char}')"
   ]
  },
  {
   "cell_type": "code",
   "execution_count": 16,
   "metadata": {
    "executionInfo": {
     "elapsed": 166,
     "status": "ok",
     "timestamp": 1664501824402,
     "user": {
      "displayName": "Serdar B",
      "userId": "01285984894529357189"
     },
     "user_tz": 240
    },
    "id": "xMF-yaLSQCR0"
   },
   "outputs": [],
   "source": [
    "text3 = 'apple and banana are healty fruits to consume.'\n",
    "doc3 = nlp(text3)\n",
    "\n",
    "for ent in doc3.ents:\n",
    "    print(f'{ent.text:{15}} --> {ent.label_}') # Can't find any entity"
   ]
  },
  {
   "cell_type": "code",
   "execution_count": 18,
   "metadata": {
    "colab": {
     "base_uri": "https://localhost:8080/"
    },
    "executionInfo": {
     "elapsed": 172,
     "status": "ok",
     "timestamp": 1664501841044,
     "user": {
      "displayName": "Serdar B",
      "userId": "01285984894529357189"
     },
     "user_tz": 240
    },
    "id": "Ay-aB_0mQYaw",
    "outputId": "41438850-fb89-45e4-f973-b3469ff42888"
   },
   "outputs": [
    {
     "name": "stdout",
     "output_type": "stream",
     "text": [
      "Shell           --> ORG --> 18, 23\n"
     ]
    }
   ],
   "source": [
    "text3 = 'Did you apply for Shell DS position?'\n",
    "doc3 = nlp(text3)\n",
    "\n",
    "for ent in doc3.ents:\n",
    "    print(f'{ent.text:{15}} --> {ent.label_} --> {ent.start_char}, {ent.end_char}')"
   ]
  },
  {
   "cell_type": "code",
   "execution_count": null,
   "metadata": {
    "id": "iSCctwsEdpxJ"
   },
   "outputs": [],
   "source": [
    "#!python -m spacy download en_core_web_lg"
   ]
  },
  {
   "cell_type": "code",
   "execution_count": 20,
   "metadata": {
    "executionInfo": {
     "elapsed": 252,
     "status": "ok",
     "timestamp": 1664501868202,
     "user": {
      "displayName": "Serdar B",
      "userId": "01285984894529357189"
     },
     "user_tz": 240
    },
    "id": "Hi0b0FMeQmUP"
   },
   "outputs": [
    {
     "name": "stdout",
     "output_type": "stream",
     "text": [
      "one             --> CARDINAL\n",
      "Facebook        --> ORG\n",
      "Yahoo           --> ORG\n"
     ]
    }
   ],
   "source": [
    "#lp = spacy.load(\"en_core_web_lg\")\n",
    "text3 = 'Which one is better to work at Facebook or at Yahoo?'\n",
    "doc3 = nlp(text3)\n",
    "\n",
    "for ent in doc3.ents:\n",
    "    print(f'{ent.text:{15}} --> {ent.label_}')"
   ]
  },
  {
   "cell_type": "markdown",
   "metadata": {
    "id": "11WN0DC9SIY-"
   },
   "source": [
    "# Visualization"
   ]
  },
  {
   "cell_type": "markdown",
   "metadata": {
    "id": "CDidh_rVSRnd"
   },
   "source": [
    "https://spacy.io/api/annotation#named-entities"
   ]
  },
  {
   "cell_type": "code",
   "execution_count": null,
   "metadata": {
    "id": "xLewSSeQynYC"
   },
   "outputs": [],
   "source": [
    "# https://spacy.io/api/annotation#named-entities"
   ]
  },
  {
   "cell_type": "code",
   "execution_count": 22,
   "metadata": {
    "executionInfo": {
     "elapsed": 162,
     "status": "ok",
     "timestamp": 1664501988306,
     "user": {
      "displayName": "Serdar B",
      "userId": "01285984894529357189"
     },
     "user_tz": 240
    },
    "id": "zq1P8zV1SghT"
   },
   "outputs": [],
   "source": [
    "from spacy import displacy"
   ]
  },
  {
   "cell_type": "code",
   "execution_count": 23,
   "metadata": {
    "colab": {
     "base_uri": "https://localhost:8080/",
     "height": 52
    },
    "executionInfo": {
     "elapsed": 184,
     "status": "ok",
     "timestamp": 1664502087867,
     "user": {
      "displayName": "Serdar B",
      "userId": "01285984894529357189"
     },
     "user_tz": 240
    },
    "id": "lu1IZn5FSc7f",
    "outputId": "9eda100f-58f5-4f19-b198-207f2e943f35"
   },
   "outputs": [
    {
     "data": {
      "text/html": [
       "<span class=\"tex2jax_ignore\"><div class=\"entities\" style=\"line-height: 2.5; direction: ltr\">\n",
       "<mark class=\"entity\" style=\"background: #7aecec; padding: 0.45em 0.6em; margin: 0 0.25em; line-height: 1; border-radius: 0.35em;\">\n",
       "    Apple\n",
       "    <span style=\"font-size: 0.8em; font-weight: bold; line-height: 1; border-radius: 0.35em; vertical-align: middle; margin-left: 0.5rem\">ORG</span>\n",
       "</mark>\n",
       " is looking for buying a \n",
       "<mark class=\"entity\" style=\"background: #feca74; padding: 0.45em 0.6em; margin: 0 0.25em; line-height: 1; border-radius: 0.35em;\">\n",
       "    UK\n",
       "    <span style=\"font-size: 0.8em; font-weight: bold; line-height: 1; border-radius: 0.35em; vertical-align: middle; margin-left: 0.5rem\">GPE</span>\n",
       "</mark>\n",
       " startup for \n",
       "<mark class=\"entity\" style=\"background: #e4e7d2; padding: 0.45em 0.6em; margin: 0 0.25em; line-height: 1; border-radius: 0.35em;\">\n",
       "    $1 billion\n",
       "    <span style=\"font-size: 0.8em; font-weight: bold; line-height: 1; border-radius: 0.35em; vertical-align: middle; margin-left: 0.5rem\">MONEY</span>\n",
       "</mark>\n",
       " \n",
       "<mark class=\"entity\" style=\"background: #bfe1d9; padding: 0.45em 0.6em; margin: 0 0.25em; line-height: 1; border-radius: 0.35em;\">\n",
       "    tomorrow\n",
       "    <span style=\"font-size: 0.8em; font-weight: bold; line-height: 1; border-radius: 0.35em; vertical-align: middle; margin-left: 0.5rem\">DATE</span>\n",
       "</mark>\n",
       "</div></span>"
      ],
      "text/plain": [
       "<IPython.core.display.HTML object>"
      ]
     },
     "metadata": {},
     "output_type": "display_data"
    }
   ],
   "source": [
    "doc = nlp('Apple is looking for buying a UK startup for $1 billion tomorrow')\n",
    "displacy.render(doc, style = 'ent', jupyter=True, options={'distance': 90})"
   ]
  },
  {
   "cell_type": "code",
   "execution_count": 24,
   "metadata": {
    "colab": {
     "base_uri": "https://localhost:8080/",
     "height": 36
    },
    "executionInfo": {
     "elapsed": 175,
     "status": "ok",
     "timestamp": 1664502054507,
     "user": {
      "displayName": "Serdar B",
      "userId": "01285984894529357189"
     },
     "user_tz": 240
    },
    "id": "_lKEtnmvdQTt",
    "outputId": "52687674-34cb-44c6-b1fb-e3b7e0815a28"
   },
   "outputs": [
    {
     "data": {
      "text/plain": [
       "'Countries, cities, states'"
      ]
     },
     "execution_count": 24,
     "metadata": {},
     "output_type": "execute_result"
    }
   ],
   "source": [
    "spacy.explain('GPE')"
   ]
  },
  {
   "cell_type": "code",
   "execution_count": 25,
   "metadata": {
    "colab": {
     "base_uri": "https://localhost:8080/",
     "height": 36
    },
    "executionInfo": {
     "elapsed": 191,
     "status": "ok",
     "timestamp": 1664502074480,
     "user": {
      "displayName": "Serdar B",
      "userId": "01285984894529357189"
     },
     "user_tz": 240
    },
    "id": "eR1FLBJBdTYa",
    "outputId": "c88519bb-6c93-41d1-8caf-60e7a4ddd2ff"
   },
   "outputs": [
    {
     "data": {
      "text/plain": [
       "'Absolute or relative dates or periods'"
      ]
     },
     "execution_count": 25,
     "metadata": {},
     "output_type": "execute_result"
    }
   ],
   "source": [
    "spacy.explain('DATE')"
   ]
  },
  {
   "cell_type": "code",
   "execution_count": null,
   "metadata": {},
   "outputs": [
    {
     "data": {
      "text/html": [
       "<span class=\"tex2jax_ignore\"><!DOCTYPE html>\n",
       "<html lang=\"en\">\n",
       "    <head>\n",
       "        <title>displaCy</title>\n",
       "    </head>\n",
       "\n",
       "    <body style=\"font-size: 16px; font-family: -apple-system, BlinkMacSystemFont, 'Segoe UI', Helvetica, Arial, sans-serif, 'Apple Color Emoji', 'Segoe UI Emoji', 'Segoe UI Symbol'; padding: 4rem 2rem; direction: ltr\">\n",
       "<figure style=\"margin-bottom: 6rem\">\n",
       "<svg xmlns=\"http://www.w3.org/2000/svg\" xmlns:xlink=\"http://www.w3.org/1999/xlink\" xml:lang=\"en\" id=\"c9303db72ad84f27a4941f391af51603-0\" class=\"displacy\" width=\"1450\" height=\"312.0\" direction=\"ltr\" style=\"max-width: none; height: 312.0px; color: #000000; background: #ffffff; font-family: Arial; direction: ltr\">\n",
       "<text class=\"displacy-token\" fill=\"currentColor\" text-anchor=\"middle\" y=\"222.0\">\n",
       "    <tspan class=\"displacy-word\" fill=\"currentColor\" x=\"50\">He</tspan>\n",
       "    <tspan class=\"displacy-tag\" dy=\"2em\" fill=\"currentColor\" x=\"50\">PRON</tspan>\n",
       "</text>\n",
       "\n",
       "<text class=\"displacy-token\" fill=\"currentColor\" text-anchor=\"middle\" y=\"222.0\">\n",
       "    <tspan class=\"displacy-word\" fill=\"currentColor\" x=\"225\">is</tspan>\n",
       "    <tspan class=\"displacy-tag\" dy=\"2em\" fill=\"currentColor\" x=\"225\">AUX</tspan>\n",
       "</text>\n",
       "\n",
       "<text class=\"displacy-token\" fill=\"currentColor\" text-anchor=\"middle\" y=\"222.0\">\n",
       "    <tspan class=\"displacy-word\" fill=\"currentColor\" x=\"400\">interested</tspan>\n",
       "    <tspan class=\"displacy-tag\" dy=\"2em\" fill=\"currentColor\" x=\"400\">ADJ</tspan>\n",
       "</text>\n",
       "\n",
       "<text class=\"displacy-token\" fill=\"currentColor\" text-anchor=\"middle\" y=\"222.0\">\n",
       "    <tspan class=\"displacy-word\" fill=\"currentColor\" x=\"575\">in</tspan>\n",
       "    <tspan class=\"displacy-tag\" dy=\"2em\" fill=\"currentColor\" x=\"575\">ADP</tspan>\n",
       "</text>\n",
       "\n",
       "<text class=\"displacy-token\" fill=\"currentColor\" text-anchor=\"middle\" y=\"222.0\">\n",
       "    <tspan class=\"displacy-word\" fill=\"currentColor\" x=\"750\">learning</tspan>\n",
       "    <tspan class=\"displacy-tag\" dy=\"2em\" fill=\"currentColor\" x=\"750\">VERB</tspan>\n",
       "</text>\n",
       "\n",
       "<text class=\"displacy-token\" fill=\"currentColor\" text-anchor=\"middle\" y=\"222.0\">\n",
       "    <tspan class=\"displacy-word\" fill=\"currentColor\" x=\"925\">Natural</tspan>\n",
       "    <tspan class=\"displacy-tag\" dy=\"2em\" fill=\"currentColor\" x=\"925\">PROPN</tspan>\n",
       "</text>\n",
       "\n",
       "<text class=\"displacy-token\" fill=\"currentColor\" text-anchor=\"middle\" y=\"222.0\">\n",
       "    <tspan class=\"displacy-word\" fill=\"currentColor\" x=\"1100\">Language</tspan>\n",
       "    <tspan class=\"displacy-tag\" dy=\"2em\" fill=\"currentColor\" x=\"1100\">PROPN</tspan>\n",
       "</text>\n",
       "\n",
       "<text class=\"displacy-token\" fill=\"currentColor\" text-anchor=\"middle\" y=\"222.0\">\n",
       "    <tspan class=\"displacy-word\" fill=\"currentColor\" x=\"1275\">Processing.</tspan>\n",
       "    <tspan class=\"displacy-tag\" dy=\"2em\" fill=\"currentColor\" x=\"1275\">PROPN</tspan>\n",
       "</text>\n",
       "\n",
       "<g class=\"displacy-arrow\">\n",
       "    <path class=\"displacy-arc\" id=\"arrow-c9303db72ad84f27a4941f391af51603-0-0\" stroke-width=\"2px\" d=\"M70,177.0 C70,89.5 220.0,89.5 220.0,177.0\" fill=\"none\" stroke=\"currentColor\"/>\n",
       "    <text dy=\"1.25em\" style=\"font-size: 0.8em; letter-spacing: 1px\">\n",
       "        <textPath xlink:href=\"#arrow-c9303db72ad84f27a4941f391af51603-0-0\" class=\"displacy-label\" startOffset=\"50%\" side=\"left\" fill=\"currentColor\" text-anchor=\"middle\">nsubj</textPath>\n",
       "    </text>\n",
       "    <path class=\"displacy-arrowhead\" d=\"M70,179.0 L62,167.0 78,167.0\" fill=\"currentColor\"/>\n",
       "</g>\n",
       "\n",
       "<g class=\"displacy-arrow\">\n",
       "    <path class=\"displacy-arc\" id=\"arrow-c9303db72ad84f27a4941f391af51603-0-1\" stroke-width=\"2px\" d=\"M245,177.0 C245,89.5 395.0,89.5 395.0,177.0\" fill=\"none\" stroke=\"currentColor\"/>\n",
       "    <text dy=\"1.25em\" style=\"font-size: 0.8em; letter-spacing: 1px\">\n",
       "        <textPath xlink:href=\"#arrow-c9303db72ad84f27a4941f391af51603-0-1\" class=\"displacy-label\" startOffset=\"50%\" side=\"left\" fill=\"currentColor\" text-anchor=\"middle\">acomp</textPath>\n",
       "    </text>\n",
       "    <path class=\"displacy-arrowhead\" d=\"M395.0,179.0 L403.0,167.0 387.0,167.0\" fill=\"currentColor\"/>\n",
       "</g>\n",
       "\n",
       "<g class=\"displacy-arrow\">\n",
       "    <path class=\"displacy-arc\" id=\"arrow-c9303db72ad84f27a4941f391af51603-0-2\" stroke-width=\"2px\" d=\"M420,177.0 C420,89.5 570.0,89.5 570.0,177.0\" fill=\"none\" stroke=\"currentColor\"/>\n",
       "    <text dy=\"1.25em\" style=\"font-size: 0.8em; letter-spacing: 1px\">\n",
       "        <textPath xlink:href=\"#arrow-c9303db72ad84f27a4941f391af51603-0-2\" class=\"displacy-label\" startOffset=\"50%\" side=\"left\" fill=\"currentColor\" text-anchor=\"middle\">prep</textPath>\n",
       "    </text>\n",
       "    <path class=\"displacy-arrowhead\" d=\"M570.0,179.0 L578.0,167.0 562.0,167.0\" fill=\"currentColor\"/>\n",
       "</g>\n",
       "\n",
       "<g class=\"displacy-arrow\">\n",
       "    <path class=\"displacy-arc\" id=\"arrow-c9303db72ad84f27a4941f391af51603-0-3\" stroke-width=\"2px\" d=\"M595,177.0 C595,89.5 745.0,89.5 745.0,177.0\" fill=\"none\" stroke=\"currentColor\"/>\n",
       "    <text dy=\"1.25em\" style=\"font-size: 0.8em; letter-spacing: 1px\">\n",
       "        <textPath xlink:href=\"#arrow-c9303db72ad84f27a4941f391af51603-0-3\" class=\"displacy-label\" startOffset=\"50%\" side=\"left\" fill=\"currentColor\" text-anchor=\"middle\">pcomp</textPath>\n",
       "    </text>\n",
       "    <path class=\"displacy-arrowhead\" d=\"M745.0,179.0 L753.0,167.0 737.0,167.0\" fill=\"currentColor\"/>\n",
       "</g>\n",
       "\n",
       "<g class=\"displacy-arrow\">\n",
       "    <path class=\"displacy-arc\" id=\"arrow-c9303db72ad84f27a4941f391af51603-0-4\" stroke-width=\"2px\" d=\"M945,177.0 C945,89.5 1095.0,89.5 1095.0,177.0\" fill=\"none\" stroke=\"currentColor\"/>\n",
       "    <text dy=\"1.25em\" style=\"font-size: 0.8em; letter-spacing: 1px\">\n",
       "        <textPath xlink:href=\"#arrow-c9303db72ad84f27a4941f391af51603-0-4\" class=\"displacy-label\" startOffset=\"50%\" side=\"left\" fill=\"currentColor\" text-anchor=\"middle\">compound</textPath>\n",
       "    </text>\n",
       "    <path class=\"displacy-arrowhead\" d=\"M945,179.0 L937,167.0 953,167.0\" fill=\"currentColor\"/>\n",
       "</g>\n",
       "\n",
       "<g class=\"displacy-arrow\">\n",
       "    <path class=\"displacy-arc\" id=\"arrow-c9303db72ad84f27a4941f391af51603-0-5\" stroke-width=\"2px\" d=\"M1120,177.0 C1120,89.5 1270.0,89.5 1270.0,177.0\" fill=\"none\" stroke=\"currentColor\"/>\n",
       "    <text dy=\"1.25em\" style=\"font-size: 0.8em; letter-spacing: 1px\">\n",
       "        <textPath xlink:href=\"#arrow-c9303db72ad84f27a4941f391af51603-0-5\" class=\"displacy-label\" startOffset=\"50%\" side=\"left\" fill=\"currentColor\" text-anchor=\"middle\">compound</textPath>\n",
       "    </text>\n",
       "    <path class=\"displacy-arrowhead\" d=\"M1120,179.0 L1112,167.0 1128,167.0\" fill=\"currentColor\"/>\n",
       "</g>\n",
       "\n",
       "<g class=\"displacy-arrow\">\n",
       "    <path class=\"displacy-arc\" id=\"arrow-c9303db72ad84f27a4941f391af51603-0-6\" stroke-width=\"2px\" d=\"M770,177.0 C770,2.0 1275.0,2.0 1275.0,177.0\" fill=\"none\" stroke=\"currentColor\"/>\n",
       "    <text dy=\"1.25em\" style=\"font-size: 0.8em; letter-spacing: 1px\">\n",
       "        <textPath xlink:href=\"#arrow-c9303db72ad84f27a4941f391af51603-0-6\" class=\"displacy-label\" startOffset=\"50%\" side=\"left\" fill=\"currentColor\" text-anchor=\"middle\">dobj</textPath>\n",
       "    </text>\n",
       "    <path class=\"displacy-arrowhead\" d=\"M1275.0,179.0 L1283.0,167.0 1267.0,167.0\" fill=\"currentColor\"/>\n",
       "</g>\n",
       "</svg>\n",
       "</figure>\n",
       "</body>\n",
       "</html></span>"
      ],
      "text/plain": [
       "<IPython.core.display.HTML object>"
      ]
     },
     "metadata": {},
     "output_type": "display_data"
    },
    {
     "name": "stdout",
     "output_type": "stream",
     "text": [
      "\n",
      "Using the 'dep' visualizer\n",
      "Serving on http://0.0.0.0:5555 ...\n",
      "\n"
     ]
    },
    {
     "name": "stderr",
     "output_type": "stream",
     "text": [
      "127.0.0.1 - - [19/Jan/2023 18:15:08] \"GET / HTTP/1.1\" 200 6751\n",
      "127.0.0.1 - - [19/Jan/2023 18:15:08] \"GET /favicon.ico HTTP/1.1\" 200 6751\n"
     ]
    }
   ],
   "source": [
    "about_interest_text = (\n",
    "...     \"He is interested in learning Natural Language Processing.\"\n",
    "... )\n",
    "about_interest_doc = nlp(about_interest_text)\n",
    "displacy.serve(about_interest_doc, style=\"dep\", port= 5555)"
   ]
  },
  {
   "cell_type": "markdown",
   "metadata": {
    "id": "bV8Va2c_S4C0"
   },
   "source": [
    "# Sentence Segmentation"
   ]
  },
  {
   "cell_type": "code",
   "execution_count": 26,
   "metadata": {
    "executionInfo": {
     "elapsed": 244,
     "status": "ok",
     "timestamp": 1664502112959,
     "user": {
      "displayName": "Serdar B",
      "userId": "01285984894529357189"
     },
     "user_tz": 240
    },
    "id": "gmtT5HdeTB04"
   },
   "outputs": [],
   "source": [
    "text = 'Apple is looking for buying a U.K. startup. Government has given permission.'\n",
    "doc = nlp(text)"
   ]
  },
  {
   "cell_type": "code",
   "execution_count": 27,
   "metadata": {
    "colab": {
     "base_uri": "https://localhost:8080/"
    },
    "executionInfo": {
     "elapsed": 161,
     "status": "ok",
     "timestamp": 1664502114696,
     "user": {
      "displayName": "Serdar B",
      "userId": "01285984894529357189"
     },
     "user_tz": 240
    },
    "id": "5M_zHpdKSdXA",
    "outputId": "aba1fe1d-eb81-44b3-c353-b7da8f7d7678"
   },
   "outputs": [
    {
     "name": "stdout",
     "output_type": "stream",
     "text": [
      "Apple is looking for buying a U.K. startup.\n",
      "Government has given permission.\n"
     ]
    }
   ],
   "source": [
    "for sent in doc.sents:\n",
    "    print(sent)"
   ]
  },
  {
   "cell_type": "code",
   "execution_count": 31,
   "metadata": {},
   "outputs": [
    {
     "name": "stdout",
     "output_type": "stream",
     "text": [
      "Gus Proto is a Python developer currently working for a London-based Fintech company....\n",
      "He is interested in learning Natural Language Processing....\n"
     ]
    }
   ],
   "source": [
    "about_text = (\n",
    "    \" Gus Proto is a Python developer currently\"\n",
    "    \" working for a London-based Fintech\"\n",
    "    \" company. He is interested in learning\"\n",
    "    \" Natural Language Processing.\" )\n",
    "\n",
    "about_doc = nlp(about_text)\n",
    "sentences = list(about_doc.sents)\n",
    "for sentence in sentences:\n",
    "    print(f\"{sentence}...\")"
   ]
  },
  {
   "cell_type": "markdown",
   "metadata": {
    "id": "P48NOk4yTSDb"
   },
   "source": [
    "# Regular Expression"
   ]
  },
  {
   "cell_type": "code",
   "execution_count": 49,
   "metadata": {
    "executionInfo": {
     "elapsed": 2,
     "status": "ok",
     "timestamp": 1664489250804,
     "user": {
      "displayName": "Serdar B",
      "userId": "01285984894529357189"
     },
     "user_tz": 240
    },
    "id": "rlFzc-vBS-as"
   },
   "outputs": [],
   "source": [
    "import re"
   ]
  },
  {
   "cell_type": "code",
   "execution_count": 50,
   "metadata": {
    "colab": {
     "base_uri": "https://localhost:8080/"
    },
    "executionInfo": {
     "elapsed": 265,
     "status": "ok",
     "timestamp": 1664489253386,
     "user": {
      "displayName": "Serdar B",
      "userId": "01285984894529357189"
     },
     "user_tz": 240
    },
    "id": "12wWoCp_ULBA",
    "outputId": "da1c2f24-0b4e-41b5-cd20-17387aa0aa51"
   },
   "outputs": [
    {
     "name": "stdout",
     "output_type": "stream",
     "text": [
      "The first white-space character is located in position: 3\n"
     ]
    }
   ],
   "source": [
    "txt = \"The rain in Spain\"\n",
    "x = re.search(\"\\s\", txt)\n",
    "\n",
    "print(\"The first white-space character is located in position:\", x.start())"
   ]
  },
  {
   "cell_type": "code",
   "execution_count": null,
   "metadata": {
    "id": "lkj5Q2JBVMH0"
   },
   "outputs": [],
   "source": [
    "text = 'my phone number is 123. ohh its wrong one. correct one is 1234567890. call me'"
   ]
  },
  {
   "cell_type": "code",
   "execution_count": null,
   "metadata": {
    "colab": {
     "base_uri": "https://localhost:8080/"
    },
    "executionInfo": {
     "elapsed": 160,
     "status": "ok",
     "timestamp": 1648266119599,
     "user": {
      "displayName": "Serdar B",
      "photoUrl": "https://lh3.googleusercontent.com/a-/AOh14GhlpPrsdKUBf94S43mPyB8GSyo3dPPaOnxkkTjPFQ=s64",
      "userId": "01285984894529357189"
     },
     "user_tz": 240
    },
    "id": "284WZMwTUN_W",
    "outputId": "31c2f25b-6c2a-4c0d-c91d-b37ffecf7c03"
   },
   "outputs": [
    {
     "data": {
      "text/plain": [
       "['123', '1234567890']"
      ]
     },
     "execution_count": 52,
     "metadata": {},
     "output_type": "execute_result"
    }
   ],
   "source": [
    "re.findall(r'\\d+', text)"
   ]
  },
  {
   "cell_type": "code",
   "execution_count": null,
   "metadata": {
    "colab": {
     "base_uri": "https://localhost:8080/"
    },
    "executionInfo": {
     "elapsed": 211,
     "status": "ok",
     "timestamp": 1648266139972,
     "user": {
      "displayName": "Serdar B",
      "photoUrl": "https://lh3.googleusercontent.com/a-/AOh14GhlpPrsdKUBf94S43mPyB8GSyo3dPPaOnxkkTjPFQ=s64",
      "userId": "01285984894529357189"
     },
     "user_tz": 240
    },
    "id": "ZAx5mq_CUQdF",
    "outputId": "b22e7e4b-3662-4da9-ea0b-7a4b2aeba390"
   },
   "outputs": [
    {
     "data": {
      "text/plain": [
       "['my',\n",
       " 'phone',\n",
       " 'number',\n",
       " 'is',\n",
       " '123',\n",
       " 'ohh',\n",
       " 'its',\n",
       " 'wrong',\n",
       " 'one',\n",
       " 'correct',\n",
       " 'one',\n",
       " 'is',\n",
       " '1234567890',\n",
       " 'call',\n",
       " 'me']"
      ]
     },
     "execution_count": 53,
     "metadata": {},
     "output_type": "execute_result"
    }
   ],
   "source": [
    "re.findall(r'\\w+', text)"
   ]
  },
  {
   "cell_type": "code",
   "execution_count": null,
   "metadata": {
    "id": "yyfgff8HVRo5"
   },
   "outputs": [],
   "source": [
    "# Wildcard'"
   ]
  },
  {
   "cell_type": "code",
   "execution_count": null,
   "metadata": {
    "colab": {
     "base_uri": "https://localhost:8080/"
    },
    "executionInfo": {
     "elapsed": 180,
     "status": "ok",
     "timestamp": 1648266406195,
     "user": {
      "displayName": "Serdar B",
      "photoUrl": "https://lh3.googleusercontent.com/a-/AOh14GhlpPrsdKUBf94S43mPyB8GSyo3dPPaOnxkkTjPFQ=s64",
      "userId": "01285984894529357189"
     },
     "user_tz": 240
    },
    "id": "pkh-SNljUVeS",
    "outputId": "8b7fadc2-cfff-4e4a-9ed6-4c94163f1f18"
   },
   "outputs": [
    {
     "data": {
      "text/plain": [
       "['corr', 'ct o', 'call']"
      ]
     },
     "execution_count": 61,
     "metadata": {},
     "output_type": "execute_result"
    }
   ],
   "source": [
    "re.findall(r'c...', text)"
   ]
  },
  {
   "cell_type": "code",
   "execution_count": null,
   "metadata": {
    "colab": {
     "base_uri": "https://localhost:8080/"
    },
    "executionInfo": {
     "elapsed": 170,
     "status": "ok",
     "timestamp": 1648266419636,
     "user": {
      "displayName": "Serdar B",
      "photoUrl": "https://lh3.googleusercontent.com/a-/AOh14GhlpPrsdKUBf94S43mPyB8GSyo3dPPaOnxkkTjPFQ=s64",
      "userId": "01285984894529357189"
     },
     "user_tz": 240
    },
    "id": "EBcec_sKVWd3",
    "outputId": "cb161ffe-ef5f-4977-de02-d31b862b6161"
   },
   "outputs": [
    {
     "data": {
      "text/plain": [
       "['cal']"
      ]
     },
     "execution_count": 62,
     "metadata": {},
     "output_type": "execute_result"
    }
   ],
   "source": [
    "re.findall(r'c.l', text)"
   ]
  },
  {
   "cell_type": "code",
   "execution_count": null,
   "metadata": {
    "colab": {
     "base_uri": "https://localhost:8080/"
    },
    "executionInfo": {
     "elapsed": 172,
     "status": "ok",
     "timestamp": 1648266427171,
     "user": {
      "displayName": "Serdar B",
      "photoUrl": "https://lh3.googleusercontent.com/a-/AOh14GhlpPrsdKUBf94S43mPyB8GSyo3dPPaOnxkkTjPFQ=s64",
      "userId": "01285984894529357189"
     },
     "user_tz": 240
    },
    "id": "8KbIcfj6VZwp",
    "outputId": "07b6c818-f712-489e-ba04-51df3353cecd"
   },
   "outputs": [
    {
     "data": {
      "text/plain": [
       "['23. ohh its wrong one. correct one is 1234567890. call me']"
      ]
     },
     "execution_count": 63,
     "metadata": {},
     "output_type": "execute_result"
    }
   ],
   "source": [
    "re.findall(r'2.+', text)"
   ]
  },
  {
   "cell_type": "code",
   "execution_count": null,
   "metadata": {
    "colab": {
     "base_uri": "https://localhost:8080/",
     "height": 53
    },
    "executionInfo": {
     "elapsed": 166,
     "status": "ok",
     "timestamp": 1648266520897,
     "user": {
      "displayName": "Serdar B",
      "photoUrl": "https://lh3.googleusercontent.com/a-/AOh14GhlpPrsdKUBf94S43mPyB8GSyo3dPPaOnxkkTjPFQ=s64",
      "userId": "01285984894529357189"
     },
     "user_tz": 240
    },
    "id": "9plpyrPHVbmm",
    "outputId": "6ed59fab-7c29-4521-a095-e58acf25b8aa"
   },
   "outputs": [
    {
     "data": {
      "application/vnd.google.colaboratory.intrinsic+json": {
       "type": "string"
      },
      "text/plain": [
       "'my phone number is 123. ohh its wrong one. correct one is 1234567890. call me'"
      ]
     },
     "execution_count": 69,
     "metadata": {},
     "output_type": "execute_result"
    },
    {
     "name": "stdout",
     "output_type": "stream",
     "text": [
      "\n"
     ]
    },
    {
     "data": {
      "text/plain": [
       "['my phone number is ', '. ohh its wrong one. correct one is ', '. call me']"
      ]
     },
     "execution_count": 69,
     "metadata": {},
     "output_type": "execute_result"
    }
   ],
   "source": [
    "text\n",
    "print()\n",
    "re.findall(r'[^\\d]+', text)"
   ]
  },
  {
   "cell_type": "code",
   "execution_count": null,
   "metadata": {
    "id": "tQUIRSLsVjLA"
   },
   "outputs": [],
   "source": [
    "re.findall(r'[^\\D]+', text)"
   ]
  },
  {
   "cell_type": "markdown",
   "metadata": {
    "id": "hIf9oavKWFH4"
   },
   "source": [
    "# Processing Pipeline in Spacy"
   ]
  },
  {
   "cell_type": "code",
   "execution_count": 28,
   "metadata": {
    "executionInfo": {
     "elapsed": 249,
     "status": "ok",
     "timestamp": 1664489263431,
     "user": {
      "displayName": "Serdar B",
      "userId": "01285984894529357189"
     },
     "user_tz": 240
    },
    "id": "ltwHAzwPWBI-"
   },
   "outputs": [],
   "source": [
    "texts = ['net income was $9.4 million compared to the prior year of 2.7$ million',\n",
    "        'revenue exceeds twelve billion dollars with a loss of $1b']"
   ]
  },
  {
   "cell_type": "code",
   "execution_count": 29,
   "metadata": {
    "colab": {
     "base_uri": "https://localhost:8080/"
    },
    "executionInfo": {
     "elapsed": 7,
     "status": "ok",
     "timestamp": 1664489266202,
     "user": {
      "displayName": "Serdar B",
      "userId": "01285984894529357189"
     },
     "user_tz": 240
    },
    "id": "Z86vL8wiWN3k",
    "outputId": "db92007a-4097-4e2b-9f92-5f418c40bb6c"
   },
   "outputs": [
    {
     "name": "stdout",
     "output_type": "stream",
     "text": [
      "$9.4 million MONEY\n",
      "the prior year DATE\n",
      "2.7$ million MONEY\n",
      "\n",
      "twelve billion dollars MONEY\n",
      "1b MONEY\n",
      "\n"
     ]
    },
    {
     "name": "stderr",
     "output_type": "stream",
     "text": [
      "/Users/serdar/opt/anaconda3/envs/conda_jupyter_env_/lib/python3.8/site-packages/spacy/pipeline/lemmatizer.py:211: UserWarning: [W108] The rule-based lemmatizer did not find POS annotation for one or more tokens. Check that your pipeline includes components that assign token.pos, typically 'tagger'+'attribute_ruler' or 'morphologizer'.\n",
      "  warnings.warn(Warnings.W108)\n"
     ]
    }
   ],
   "source": [
    "# %%timeit\n",
    "docs = nlp.pipe(texts, disable = ['tagger', 'parser'])\n",
    "\n",
    "for doc in docs:\n",
    "    for ent in doc.ents:\n",
    "        print(ent.text, ent.label_)\n",
    "    print()"
   ]
  },
  {
   "cell_type": "code",
   "execution_count": 53,
   "metadata": {
    "colab": {
     "base_uri": "https://localhost:8080/"
    },
    "executionInfo": {
     "elapsed": 2492,
     "status": "ok",
     "timestamp": 1664489289108,
     "user": {
      "displayName": "Serdar B",
      "userId": "01285984894529357189"
     },
     "user_tz": 240
    },
    "id": "KQwu9ZsVWxkj",
    "outputId": "9232186a-2c23-4e6a-a891-67c800b1c915"
   },
   "outputs": [
    {
     "name": "stdout",
     "output_type": "stream",
     "text": [
      "$9.4 million MONEY\n",
      "the prior year DATE\n",
      "2.7$ million MONEY\n",
      "\n",
      "twelve billion dollars MONEY\n",
      "1b MONEY\n",
      "\n",
      "$9.4 million MONEY\n",
      "the prior year DATE\n",
      "2.7$ million MONEY\n",
      "\n",
      "twelve billion dollars MONEY\n",
      "1b MONEY\n",
      "\n",
      "$9.4 million MONEY\n",
      "the prior year DATE\n",
      "2.7$ million MONEY\n",
      "\n",
      "twelve billion dollars MONEY\n",
      "1b MONEY\n",
      "\n",
      "$9.4 million MONEY\n",
      "the prior year DATE\n",
      "2.7$ million MONEY\n",
      "\n",
      "twelve billion dollars MONEY\n",
      "1b MONEY\n",
      "\n",
      "$9.4 million MONEY\n",
      "the prior year DATE\n",
      "2.7$ million MONEY\n",
      "\n",
      "twelve billion dollars MONEY\n",
      "1b MONEY\n",
      "\n",
      "$9.4 million MONEY\n",
      "the prior year DATE\n",
      "2.7$ million MONEY\n",
      "\n",
      "twelve billion dollars MONEY\n",
      "1b MONEY\n",
      "\n",
      "$9.4 million MONEY\n",
      "the prior year DATE\n",
      "2.7$ million MONEY\n",
      "\n",
      "twelve billion dollars MONEY\n",
      "1b MONEY\n",
      "\n",
      "$9.4 million MONEY\n",
      "the prior year DATE\n",
      "2.7$ million MONEY\n",
      "\n",
      "twelve billion dollars MONEY\n",
      "1b MONEY\n",
      "\n",
      "$9.4 million MONEY\n",
      "the prior year DATE\n",
      "2.7$ million MONEY\n",
      "\n",
      "twelve billion dollars MONEY\n",
      "1b MONEY\n",
      "\n",
      "$9.4 million MONEY\n",
      "the prior year DATE\n",
      "2.7$ million MONEY\n",
      "\n",
      "twelve billion dollars MONEY\n",
      "1b MONEY\n",
      "\n",
      "$9.4 million MONEY\n",
      "the prior year DATE\n",
      "2.7$ million MONEY\n",
      "\n",
      "twelve billion dollars MONEY\n",
      "1b MONEY\n",
      "\n",
      "$9.4 million MONEY\n",
      "the prior year DATE\n",
      "2.7$ million MONEY\n",
      "\n",
      "twelve billion dollars MONEY\n",
      "1b MONEY\n",
      "\n",
      "$9.4 million MONEY\n",
      "the prior year DATE\n",
      "2.7$ million MONEY\n",
      "\n",
      "twelve billion dollars MONEY\n",
      "1b MONEY\n",
      "\n",
      "$9.4 million MONEY\n",
      "the prior year DATE\n",
      "2.7$ million MONEY\n",
      "\n",
      "twelve billion dollars MONEY\n",
      "1b MONEY\n",
      "\n",
      "$9.4 million MONEY\n",
      "the prior year DATE\n",
      "2.7$ million MONEY\n",
      "\n",
      "twelve billion dollars MONEY\n",
      "1b MONEY\n",
      "\n",
      "$9.4 million MONEY\n",
      "the prior year DATE\n",
      "2.7$ million MONEY\n",
      "\n",
      "twelve billion dollars MONEY\n",
      "1b MONEY\n",
      "\n",
      "$9.4 million MONEY\n",
      "the prior year DATE\n",
      "2.7$ million MONEY\n",
      "\n",
      "twelve billion dollars MONEY\n",
      "1b MONEY\n",
      "\n",
      "$9.4 million MONEY\n",
      "the prior year DATE\n",
      "2.7$ million MONEY\n",
      "\n",
      "twelve billion dollars MONEY\n",
      "1b MONEY\n",
      "\n",
      "$9.4 million MONEY\n",
      "the prior year DATE\n",
      "2.7$ million MONEY\n",
      "\n",
      "twelve billion dollars MONEY\n",
      "1b MONEY\n",
      "\n",
      "$9.4 million MONEY\n",
      "the prior year DATE\n",
      "2.7$ million MONEY\n",
      "\n",
      "twelve billion dollars MONEY\n",
      "1b MONEY\n",
      "\n",
      "$9.4 million MONEY\n",
      "the prior year DATE\n",
      "2.7$ million MONEY\n",
      "\n",
      "twelve billion dollars MONEY\n",
      "1b MONEY\n",
      "\n",
      "$9.4 million MONEY\n",
      "the prior year DATE\n",
      "2.7$ million MONEY\n",
      "\n",
      "twelve billion dollars MONEY\n",
      "1b MONEY\n",
      "\n",
      "$9.4 million MONEY\n",
      "the prior year DATE\n",
      "2.7$ million MONEY\n",
      "\n",
      "twelve billion dollars MONEY\n",
      "1b MONEY\n",
      "\n",
      "$9.4 million MONEY\n",
      "the prior year DATE\n",
      "2.7$ million MONEY\n",
      "\n",
      "twelve billion dollars MONEY\n",
      "1b MONEY\n",
      "\n",
      "$9.4 million MONEY\n",
      "the prior year DATE\n",
      "2.7$ million MONEY\n",
      "\n",
      "twelve billion dollars MONEY\n",
      "1b MONEY\n",
      "\n",
      "$9.4 million MONEY\n",
      "the prior year DATE\n",
      "2.7$ million MONEY\n",
      "\n",
      "twelve billion dollars MONEY\n",
      "1b MONEY\n",
      "\n",
      "$9.4 million MONEY\n",
      "the prior year DATE\n",
      "2.7$ million MONEY\n",
      "\n",
      "twelve billion dollars MONEY\n",
      "1b MONEY\n",
      "\n",
      "$9.4 million MONEY\n",
      "the prior year DATE\n",
      "2.7$ million MONEY\n",
      "\n",
      "twelve billion dollars MONEY\n",
      "1b MONEY\n",
      "\n",
      "$9.4 million MONEY\n",
      "the prior year DATE\n",
      "2.7$ million MONEY\n",
      "\n",
      "twelve billion dollars MONEY\n",
      "1b MONEY\n",
      "\n",
      "$9.4 million MONEY\n",
      "the prior year DATE\n",
      "2.7$ million MONEY\n",
      "\n",
      "twelve billion dollars MONEY\n",
      "1b MONEY\n",
      "\n",
      "$9.4 million MONEY\n",
      "the prior year DATE\n",
      "2.7$ million MONEY\n",
      "\n",
      "twelve billion dollars MONEY\n",
      "1b MONEY\n",
      "\n",
      "$9.4 million MONEY\n",
      "the prior year DATE\n",
      "2.7$ million MONEY\n",
      "\n",
      "twelve billion dollars MONEY\n",
      "1b MONEY\n",
      "\n",
      "$9.4 million MONEY\n",
      "the prior year DATE\n",
      "2.7$ million MONEY\n",
      "\n",
      "twelve billion dollars MONEY\n",
      "1b MONEY\n",
      "\n",
      "$9.4 million MONEY\n",
      "the prior year DATE\n",
      "2.7$ million MONEY\n",
      "\n",
      "twelve billion dollars MONEY\n",
      "1b MONEY\n",
      "\n",
      "$9.4 million MONEY\n",
      "the prior year DATE\n",
      "2.7$ million MONEY\n",
      "\n",
      "twelve billion dollars MONEY\n",
      "1b MONEY\n",
      "\n",
      "$9.4 million MONEY\n",
      "the prior year DATE\n",
      "2.7$ million MONEY\n",
      "\n",
      "twelve billion dollars MONEY\n",
      "1b MONEY\n",
      "\n",
      "$9.4 million MONEY\n",
      "the prior year DATE\n",
      "2.7$ million MONEY\n",
      "\n",
      "twelve billion dollars MONEY\n",
      "1b MONEY\n",
      "\n",
      "$9.4 million MONEY\n",
      "the prior year DATE\n",
      "2.7$ million MONEY\n",
      "\n",
      "twelve billion dollars MONEY\n",
      "1b MONEY\n",
      "\n",
      "$9.4 million MONEY\n",
      "the prior year DATE\n",
      "2.7$ million MONEY\n",
      "\n",
      "twelve billion dollars MONEY\n",
      "1b MONEY\n",
      "\n",
      "$9.4 million MONEY\n",
      "the prior year DATE\n",
      "2.7$ million MONEY\n",
      "\n",
      "twelve billion dollars MONEY\n",
      "1b MONEY\n",
      "\n",
      "$9.4 million MONEY\n",
      "the prior year DATE\n",
      "2.7$ million MONEY\n",
      "\n",
      "twelve billion dollars MONEY\n",
      "1b MONEY\n",
      "\n",
      "$9.4 million MONEY\n",
      "the prior year DATE\n",
      "2.7$ million MONEY\n",
      "\n",
      "twelve billion dollars MONEY\n",
      "1b MONEY\n",
      "\n",
      "$9.4 million MONEY\n",
      "the prior year DATE\n",
      "2.7$ million MONEY\n",
      "\n",
      "twelve billion dollars MONEY\n",
      "1b MONEY\n",
      "\n",
      "$9.4 million MONEY\n",
      "the prior year DATE\n",
      "2.7$ million MONEY\n",
      "\n",
      "twelve billion dollars MONEY\n",
      "1b MONEY\n",
      "\n",
      "$9.4 million MONEY\n",
      "the prior year DATE\n",
      "2.7$ million MONEY\n",
      "\n",
      "twelve billion dollars MONEY\n",
      "1b MONEY\n",
      "\n",
      "$9.4 million MONEY\n",
      "the prior year DATE\n",
      "2.7$ million MONEY\n",
      "\n",
      "twelve billion dollars MONEY\n",
      "1b MONEY\n",
      "\n",
      "$9.4 million MONEY\n",
      "the prior year DATE\n",
      "2.7$ million MONEY\n",
      "\n",
      "twelve billion dollars MONEY\n",
      "1b MONEY\n",
      "\n",
      "$9.4 million MONEY\n",
      "the prior year DATE\n",
      "2.7$ million MONEY\n",
      "\n",
      "twelve billion dollars MONEY\n",
      "1b MONEY\n",
      "\n",
      "$9.4 million MONEY\n",
      "the prior year DATE\n",
      "2.7$ million MONEY\n",
      "\n",
      "twelve billion dollars MONEY\n",
      "1b MONEY\n",
      "\n",
      "$9.4 million MONEY\n",
      "the prior year DATE\n",
      "2.7$ million MONEY\n",
      "\n",
      "twelve billion dollars MONEY\n",
      "1b MONEY\n",
      "\n",
      "$9.4 million MONEY\n",
      "the prior year DATE\n",
      "2.7$ million MONEY\n",
      "\n",
      "twelve billion dollars MONEY\n",
      "1b MONEY\n",
      "\n",
      "$9.4 million MONEY\n",
      "the prior year DATE\n",
      "2.7$ million MONEY\n",
      "\n",
      "twelve billion dollars MONEY\n",
      "1b MONEY\n",
      "\n",
      "$9.4 million MONEY\n",
      "the prior year DATE\n",
      "2.7$ million MONEY\n",
      "\n",
      "twelve billion dollars MONEY\n",
      "1b MONEY\n",
      "\n",
      "$9.4 million MONEY\n",
      "the prior year DATE\n",
      "2.7$ million MONEY\n",
      "\n",
      "twelve billion dollars MONEY\n",
      "1b MONEY\n",
      "\n",
      "$9.4 million MONEY\n",
      "the prior year DATE\n",
      "2.7$ million MONEY\n",
      "\n",
      "twelve billion dollars MONEY\n",
      "1b MONEY\n",
      "\n",
      "$9.4 million MONEY\n",
      "the prior year DATE\n",
      "2.7$ million MONEY\n",
      "\n",
      "twelve billion dollars MONEY\n",
      "1b MONEY\n",
      "\n",
      "$9.4 million MONEY\n",
      "the prior year DATE\n",
      "2.7$ million MONEY\n",
      "\n",
      "twelve billion dollars MONEY\n",
      "1b MONEY\n",
      "\n",
      "$9.4 million MONEY\n",
      "the prior year DATE\n",
      "2.7$ million MONEY\n",
      "\n",
      "twelve billion dollars MONEY\n",
      "1b MONEY\n",
      "\n",
      "$9.4 million MONEY\n",
      "the prior year DATE\n",
      "2.7$ million MONEY\n",
      "\n",
      "twelve billion dollars MONEY\n",
      "1b MONEY\n",
      "\n",
      "$9.4 million MONEY\n",
      "the prior year DATE\n",
      "2.7$ million MONEY\n",
      "\n",
      "twelve billion dollars MONEY\n",
      "1b MONEY\n",
      "\n",
      "$9.4 million MONEY\n",
      "the prior year DATE\n",
      "2.7$ million MONEY\n",
      "\n",
      "twelve billion dollars MONEY\n",
      "1b MONEY\n",
      "\n",
      "$9.4 million MONEY\n",
      "the prior year DATE\n",
      "2.7$ million MONEY\n",
      "\n",
      "twelve billion dollars MONEY\n",
      "1b MONEY\n",
      "\n",
      "$9.4 million MONEY\n",
      "the prior year DATE\n",
      "2.7$ million MONEY\n",
      "\n",
      "twelve billion dollars MONEY\n",
      "1b MONEY\n",
      "\n",
      "$9.4 million MONEY\n",
      "the prior year DATE\n",
      "2.7$ million MONEY\n",
      "\n",
      "twelve billion dollars MONEY\n",
      "1b MONEY\n",
      "\n",
      "$9.4 million MONEY\n",
      "the prior year DATE\n",
      "2.7$ million MONEY\n",
      "\n",
      "twelve billion dollars MONEY\n",
      "1b MONEY\n",
      "\n",
      "$9.4 million MONEY\n",
      "the prior year DATE\n",
      "2.7$ million MONEY\n",
      "\n",
      "twelve billion dollars MONEY\n",
      "1b MONEY\n",
      "\n",
      "$9.4 million MONEY\n",
      "the prior year DATE\n",
      "2.7$ million MONEY\n",
      "\n",
      "twelve billion dollars MONEY\n",
      "1b MONEY\n",
      "\n",
      "$9.4 million MONEY\n",
      "the prior year DATE\n",
      "2.7$ million MONEY\n",
      "\n",
      "twelve billion dollars MONEY\n",
      "1b MONEY\n",
      "\n",
      "$9.4 million MONEY\n",
      "the prior year DATE\n",
      "2.7$ million MONEY\n",
      "\n",
      "twelve billion dollars MONEY\n",
      "1b MONEY\n",
      "\n",
      "$9.4 million MONEY\n",
      "the prior year DATE\n",
      "2.7$ million MONEY\n",
      "\n",
      "twelve billion dollars MONEY\n",
      "1b MONEY\n",
      "\n",
      "$9.4 million MONEY\n",
      "the prior year DATE\n",
      "2.7$ million MONEY\n",
      "\n",
      "twelve billion dollars MONEY\n",
      "1b MONEY\n",
      "\n",
      "$9.4 million MONEY\n",
      "the prior year DATE\n",
      "2.7$ million MONEY\n",
      "\n",
      "twelve billion dollars MONEY\n",
      "1b MONEY\n",
      "\n",
      "$9.4 million MONEY\n",
      "the prior year DATE\n",
      "2.7$ million MONEY\n",
      "\n",
      "twelve billion dollars MONEY\n",
      "1b MONEY\n",
      "\n",
      "$9.4 million MONEY\n",
      "the prior year DATE\n",
      "2.7$ million MONEY\n",
      "\n",
      "twelve billion dollars MONEY\n",
      "1b MONEY\n",
      "\n",
      "$9.4 million MONEY\n",
      "the prior year DATE\n",
      "2.7$ million MONEY\n",
      "\n",
      "twelve billion dollars MONEY\n",
      "1b MONEY\n",
      "\n",
      "$9.4 million MONEY\n",
      "the prior year DATE\n",
      "2.7$ million MONEY\n",
      "\n",
      "twelve billion dollars MONEY\n",
      "1b MONEY\n",
      "\n",
      "$9.4 million MONEY\n",
      "the prior year DATE\n",
      "2.7$ million MONEY\n",
      "\n",
      "twelve billion dollars MONEY\n",
      "1b MONEY\n",
      "\n",
      "$9.4 million MONEY\n",
      "the prior year DATE\n",
      "2.7$ million MONEY\n",
      "\n",
      "twelve billion dollars MONEY\n",
      "1b MONEY\n",
      "\n",
      "$9.4 million MONEY\n",
      "the prior year DATE\n",
      "2.7$ million MONEY\n",
      "\n",
      "twelve billion dollars MONEY\n",
      "1b MONEY\n",
      "\n",
      "$9.4 million MONEY\n",
      "the prior year DATE\n",
      "2.7$ million MONEY\n",
      "\n",
      "twelve billion dollars MONEY\n",
      "1b MONEY\n",
      "\n",
      "$9.4 million MONEY\n",
      "the prior year DATE\n",
      "2.7$ million MONEY\n",
      "\n",
      "twelve billion dollars MONEY\n",
      "1b MONEY\n",
      "\n",
      "26.3 ms ± 775 µs per loop (mean ± std. dev. of 7 runs, 10 loops each)\n"
     ]
    }
   ],
   "source": [
    "%%timeit\n",
    "docs = nlp.pipe(texts)\n",
    "\n",
    "for doc in docs:\n",
    "    for ent in doc.ents:\n",
    "        print(ent.text, ent.label_)\n",
    "    print()"
   ]
  },
  {
   "cell_type": "markdown",
   "metadata": {
    "id": "X1NWUF2Jgu2v"
   },
   "source": [
    "# Matcher"
   ]
  },
  {
   "cell_type": "code",
   "execution_count": null,
   "metadata": {
    "id": "_GNURXskelX5"
   },
   "outputs": [],
   "source": [
    "# Matcher-1"
   ]
  },
  {
   "cell_type": "code",
   "execution_count": 22,
   "metadata": {
    "executionInfo": {
     "elapsed": 211,
     "status": "ok",
     "timestamp": 1664502443197,
     "user": {
      "displayName": "Serdar B",
      "userId": "01285984894529357189"
     },
     "user_tz": 240
    },
    "id": "rfeqY2wBdych"
   },
   "outputs": [],
   "source": [
    "from spacy.matcher import Matcher"
   ]
  },
  {
   "cell_type": "code",
   "execution_count": 23,
   "metadata": {
    "executionInfo": {
     "elapsed": 4,
     "status": "ok",
     "timestamp": 1664502444448,
     "user": {
      "displayName": "Serdar B",
      "userId": "01285984894529357189"
     },
     "user_tz": 240
    },
    "id": "zDMfuBbYeyjO"
   },
   "outputs": [],
   "source": [
    "nlp = spacy.load('en_core_web_sm')"
   ]
  },
  {
   "cell_type": "code",
   "execution_count": 24,
   "metadata": {
    "executionInfo": {
     "elapsed": 3,
     "status": "ok",
     "timestamp": 1664502445721,
     "user": {
      "displayName": "Serdar B",
      "userId": "01285984894529357189"
     },
     "user_tz": 240
    },
    "id": "dawAUuGna-CK"
   },
   "outputs": [],
   "source": [
    "matcher = Matcher(nlp.vocab)"
   ]
  },
  {
   "cell_type": "code",
   "execution_count": null,
   "metadata": {
    "id": "B4PZE8e0gz25"
   },
   "outputs": [],
   "source": [
    "# Matcher-1 "
   ]
  },
  {
   "cell_type": "code",
   "execution_count": 25,
   "metadata": {
    "executionInfo": {
     "elapsed": 145,
     "status": "ok",
     "timestamp": 1664502527474,
     "user": {
      "displayName": "Serdar B",
      "userId": "01285984894529357189"
     },
     "user_tz": 240
    },
    "id": "Hs-Q8cnee2Zz"
   },
   "outputs": [],
   "source": [
    "# Add pattern\n",
    "pattern = [[{\"TEXT\": \"iPhone\"}, {\"TEXT\": \"X\"}]]\n",
    "\n",
    "matcher.add(\"IPHONE_PATTERN\", pattern)\n",
    "\n",
    "# Process the text\n",
    "\n",
    "doc = nlp(\"Upcoming iPhone X release date leaked\")\n",
    "\n",
    "matches = matcher(doc)"
   ]
  },
  {
   "cell_type": "code",
   "execution_count": 26,
   "metadata": {
    "colab": {
     "base_uri": "https://localhost:8080/"
    },
    "executionInfo": {
     "elapsed": 8,
     "status": "ok",
     "timestamp": 1664502530795,
     "user": {
      "displayName": "Serdar B",
      "userId": "01285984894529357189"
     },
     "user_tz": 240
    },
    "id": "GVs1K9vxfYGQ",
    "outputId": "f764968e-bc4d-4a54-cf4d-1e30a3380275"
   },
   "outputs": [
    {
     "name": "stdout",
     "output_type": "stream",
     "text": [
      "iPhone X\n"
     ]
    }
   ],
   "source": [
    "for match_id, start, end in matches: # match_id --> hash value\n",
    "    matched_span = doc[start:end]\n",
    "    print(matched_span.text)"
   ]
  },
  {
   "cell_type": "code",
   "execution_count": null,
   "metadata": {
    "id": "bbCWB5IzgIdd"
   },
   "outputs": [],
   "source": [
    "# Matcher-2"
   ]
  },
  {
   "cell_type": "code",
   "execution_count": 28,
   "metadata": {
    "colab": {
     "base_uri": "https://localhost:8080/"
    },
    "executionInfo": {
     "elapsed": 208,
     "status": "ok",
     "timestamp": 1664502595030,
     "user": {
      "displayName": "Serdar B",
      "userId": "01285984894529357189"
     },
     "user_tz": 240
    },
    "id": "rFcdHs_tg4t8",
    "outputId": "82e4ae89-94e9-4c46-db26-e4af180e4d79"
   },
   "outputs": [
    {
     "name": "stdout",
     "output_type": "stream",
     "text": [
      "2018 FifA World Cup:\n"
     ]
    }
   ],
   "source": [
    "pattern =[[\n",
    "           {'IS_DIGIT':True},\n",
    "           {'LOWER': 'fifa'},\n",
    "           {'LOWER': 'world'},\n",
    "           {'LOWER': 'cup'},\n",
    "           {'IS_PUNCT': True}]]\n",
    "\n",
    "matcher.add('WC PATTERN', pattern)\n",
    "doc = nlp('2018 FifA World Cup: France Won')\n",
    "matches = matcher(doc)\n",
    "\n",
    "for match_id, start, end in matches: # match_id --> hash value\n",
    "    matched_span = doc[start:end]\n",
    "    print(matched_span.text)"
   ]
  },
  {
   "cell_type": "code",
   "execution_count": 29,
   "metadata": {
    "colab": {
     "base_uri": "https://localhost:8080/"
    },
    "executionInfo": {
     "elapsed": 148,
     "status": "ok",
     "timestamp": 1664502623312,
     "user": {
      "displayName": "Serdar B",
      "userId": "01285984894529357189"
     },
     "user_tz": 240
    },
    "id": "zHdIgzqYigGp",
    "outputId": "d14c2a81-e2c0-436a-b6c3-2d1f3a4c6d23"
   },
   "outputs": [
    {
     "name": "stdout",
     "output_type": "stream",
     "text": [
      "loved dogs\n",
      "love cats\n"
     ]
    }
   ],
   "source": [
    "# Matcher-3\n",
    "pattern =[[\n",
    "           {\"LEMMA\":'love', 'POS': 'VERB'},\n",
    "           {\"POS\": 'NOUN'}]]\n",
    "\n",
    "matcher.add('LOVE', pattern)\n",
    "doc = nlp('I loved dogs but now I love cats more')\n",
    "matches = matcher(doc)\n",
    "\n",
    "for match_id, start, end in matches: # match_id --> hash value\n",
    "    matched_span = doc[start:end]\n",
    "    print(matched_span.text)"
   ]
  },
  {
   "cell_type": "code",
   "execution_count": 62,
   "metadata": {
    "colab": {
     "base_uri": "https://localhost:8080/"
    },
    "executionInfo": {
     "elapsed": 242,
     "status": "ok",
     "timestamp": 1664489339714,
     "user": {
      "displayName": "Serdar B",
      "userId": "01285984894529357189"
     },
     "user_tz": 240
    },
    "id": "36loF-F0jGQ2",
    "outputId": "0c73b41e-8b15-4539-cd3d-f9c229a3103f"
   },
   "outputs": [
    {
     "name": "stdout",
     "output_type": "stream",
     "text": [
      "bought a smartphone\n",
      "buying apps\n"
     ]
    }
   ],
   "source": [
    "# Matcher-4\n",
    "\n",
    "pattern =[[\n",
    "           {\"LEMMA\":'buy'},\n",
    "           {'POS': \"DET\", \"OP\": \"?\"}, # optional match 0 or 1 time\n",
    "           {\"POS\": 'NOUN'}]]\n",
    "\n",
    "matcher.add('BUY', pattern)\n",
    "doc = nlp(\"I bought a smartphone. Now I'm buying apps.\")\n",
    "matches = matcher(doc)\n",
    "\n",
    "for match_id, start, end in matches: # match_id --> hash value\n",
    "    matched_span = doc[start:end]\n",
    "    print(matched_span.text)"
   ]
  },
  {
   "cell_type": "code",
   "execution_count": 63,
   "metadata": {
    "colab": {
     "base_uri": "https://localhost:8080/"
    },
    "executionInfo": {
     "elapsed": 252,
     "status": "ok",
     "timestamp": 1664489344186,
     "user": {
      "displayName": "Serdar B",
      "userId": "01285984894529357189"
     },
     "user_tz": 240
    },
    "id": "QweT3S9-sFcT",
    "outputId": "04cbc9ff-b0cd-4f96-c397-9e8003da25ef"
   },
   "outputs": [
    {
     "name": "stdout",
     "output_type": "stream",
     "text": [
      "March 4, 2021\n"
     ]
    }
   ],
   "source": [
    "# Matcher-5\n",
    "\n",
    "# Add the pattern to the matcher\n",
    "pattern = [[{\"LOWER\": \"march\"}, {\"IS_DIGIT\": True}, {\"IS_PUNCT\": True}, {\"IS_DIGIT\": True}]]\n",
    "matcher.add(\"DATE_PATTERN\", pattern)\n",
    "# Process some text\n",
    "doc = nlp(\"SpaceX's Starlink 17 mission lifts off on a Falcon 9 rocket from Launch Complex 39A at NASA's Kennedy Space Center in Florida, on March 4, 2021\")\n",
    "# Call the matcher on the doc\n",
    "matches = matcher(doc)\n",
    "for match_id, start, end in matches:\n",
    " print(doc[start:end])"
   ]
  },
  {
   "cell_type": "markdown",
   "metadata": {
    "id": "merAgK8mkY02"
   },
   "source": [
    "# Similarity"
   ]
  },
  {
   "cell_type": "code",
   "execution_count": null,
   "metadata": {
    "id": "HTeBTvjOj05n"
   },
   "outputs": [],
   "source": [
    "# For similarity we need to use either en_core_web_md or en_core_web_lg"
   ]
  },
  {
   "cell_type": "code",
   "execution_count": 64,
   "metadata": {
    "executionInfo": {
     "elapsed": 229,
     "status": "ok",
     "timestamp": 1664489353600,
     "user": {
      "displayName": "Serdar B",
      "userId": "01285984894529357189"
     },
     "user_tz": 240
    },
    "id": "9ZnX5w7fklv5"
   },
   "outputs": [],
   "source": [
    "#!python -m spacy download en_core_web_md"
   ]
  },
  {
   "cell_type": "code",
   "execution_count": 65,
   "metadata": {
    "executionInfo": {
     "elapsed": 2,
     "status": "ok",
     "timestamp": 1664489359993,
     "user": {
      "displayName": "Serdar B",
      "userId": "01285984894529357189"
     },
     "user_tz": 240
    },
    "id": "fo-PV3QgkwLY"
   },
   "outputs": [],
   "source": [
    "# nlp = spacy.load('en_core_web_md')"
   ]
  },
  {
   "cell_type": "code",
   "execution_count": 66,
   "metadata": {
    "colab": {
     "base_uri": "https://localhost:8080/"
    },
    "executionInfo": {
     "elapsed": 820,
     "status": "ok",
     "timestamp": 1664489361063,
     "user": {
      "displayName": "Serdar B",
      "userId": "01285984894529357189"
     },
     "user_tz": 240
    },
    "id": "DKxDe144k1Nv",
    "outputId": "a668fd08-26d1-42ed-be0a-be8b16c718b3"
   },
   "outputs": [
    {
     "name": "stderr",
     "output_type": "stream",
     "text": [
      "/usr/local/lib/python3.7/dist-packages/ipykernel_launcher.py:5: UserWarning: [W007] The model you're using has no word vectors loaded, so the result of the Doc.similarity method will be based on the tagger, parser and NER, which may not give useful similarity judgements. This may happen if you're using one of the small models, e.g. `en_core_web_sm`, which don't ship with word vectors and only use context-sensitive tensors. You can always add your own word vectors, or use one of the larger models instead if available.\n",
      "  \"\"\"\n"
     ]
    },
    {
     "name": "stdout",
     "output_type": "stream",
     "text": [
      "0.7637875080108643\n"
     ]
    }
   ],
   "source": [
    "# Compare 2 docs\n",
    "doc1 = nlp('I like fast food')\n",
    "doc2 = nlp('I like pizza')\n",
    "\n",
    "print(doc1.similarity(doc2))"
   ]
  },
  {
   "cell_type": "code",
   "execution_count": 67,
   "metadata": {
    "colab": {
     "base_uri": "https://localhost:8080/"
    },
    "executionInfo": {
     "elapsed": 1715,
     "status": "ok",
     "timestamp": 1664489366733,
     "user": {
      "displayName": "Serdar B",
      "userId": "01285984894529357189"
     },
     "user_tz": 240
    },
    "id": "-40IHQE7lBC3",
    "outputId": "c936fb37-185d-435c-eb56-e24462ccdea3"
   },
   "outputs": [
    {
     "name": "stderr",
     "output_type": "stream",
     "text": [
      "/usr/local/lib/python3.7/dist-packages/ipykernel_launcher.py:7: UserWarning: [W007] The model you're using has no word vectors loaded, so the result of the Token.similarity method will be based on the tagger, parser and NER, which may not give useful similarity judgements. This may happen if you're using one of the small models, e.g. `en_core_web_sm`, which don't ship with word vectors and only use context-sensitive tensors. You can always add your own word vectors, or use one of the larger models instead if available.\n",
      "  import sys\n"
     ]
    },
    {
     "name": "stdout",
     "output_type": "stream",
     "text": [
      "0.17194029688835144\n"
     ]
    }
   ],
   "source": [
    "# Comapre tokens\n",
    "\n",
    "doc = nlp('I like pizza and pasta')\n",
    "token1 = doc[2]\n",
    "token2 = doc[4]\n",
    "\n",
    "print(token1.similarity(token2))"
   ]
  },
  {
   "cell_type": "code",
   "execution_count": 31,
   "metadata": {
    "colab": {
     "base_uri": "https://localhost:8080/"
    },
    "executionInfo": {
     "elapsed": 2923,
     "status": "ok",
     "timestamp": 1664502930942,
     "user": {
      "displayName": "Serdar B",
      "userId": "01285984894529357189"
     },
     "user_tz": 240
    },
    "id": "ZOH0_1A_GhsB",
    "outputId": "12b9b718-1eaa-4cb8-9d50-88217085c260"
   },
   "outputs": [
    {
     "name": "stderr",
     "output_type": "stream",
     "text": [
      "/usr/local/lib/python3.7/dist-packages/ipykernel_launcher.py:5: UserWarning: [W007] The model you're using has no word vectors loaded, so the result of the Token.similarity method will be based on the tagger, parser and NER, which may not give useful similarity judgements. This may happen if you're using one of the small models, e.g. `en_core_web_sm`, which don't ship with word vectors and only use context-sensitive tensors. You can always add your own word vectors, or use one of the larger models instead if available.\n",
      "  \"\"\"\n"
     ]
    },
    {
     "name": "stdout",
     "output_type": "stream",
     "text": [
      "0.28573909401893616\n"
     ]
    }
   ],
   "source": [
    "doc = nlp(\"apple orange\")\n",
    "token1 = doc[0]\n",
    "token2 = doc[1]\n",
    "\n",
    "print(token1.similarity(token2))"
   ]
  },
  {
   "cell_type": "code",
   "execution_count": 32,
   "metadata": {
    "colab": {
     "base_uri": "https://localhost:8080/",
     "height": 166
    },
    "executionInfo": {
     "elapsed": 160,
     "status": "error",
     "timestamp": 1664502990796,
     "user": {
      "displayName": "Serdar B",
      "userId": "01285984894529357189"
     },
     "user_tz": 240
    },
    "id": "AmNtUdDyG86I",
    "outputId": "a1b21180-786f-4c71-ad59-c01cf9f017fe"
   },
   "outputs": [
    {
     "ename": "NameError",
     "evalue": "ignored",
     "output_type": "error",
     "traceback": [
      "\u001b[0;31m---------------------------------------------------------------------------\u001b[0m",
      "\u001b[0;31mNameError\u001b[0m                                 Traceback (most recent call last)",
      "\u001b[0;32m<ipython-input-32-da1833c95ad2>\u001b[0m in \u001b[0;36m<module>\u001b[0;34m\u001b[0m\n\u001b[0;32m----> 1\u001b[0;31m \u001b[0mohe\u001b[0m\u001b[0;34m\u001b[0m\u001b[0;34m\u001b[0m\u001b[0m\n\u001b[0m",
      "\u001b[0;31mNameError\u001b[0m: name 'ohe' is not defined"
     ]
    }
   ],
   "source": [
    "ohe\n",
    "vectorizing 3232\n",
    "word embebding"
   ]
  },
  {
   "cell_type": "code",
   "execution_count": 68,
   "metadata": {
    "colab": {
     "base_uri": "https://localhost:8080/"
    },
    "executionInfo": {
     "elapsed": 234,
     "status": "ok",
     "timestamp": 1664489391634,
     "user": {
      "displayName": "Serdar B",
      "userId": "01285984894529357189"
     },
     "user_tz": 240
    },
    "id": "irKooDknlY2W",
    "outputId": "f7c88dae-bfbd-4ad7-e59d-ed0a29375793"
   },
   "outputs": [
    {
     "data": {
      "text/plain": [
       "(96, array([ 0.24498098,  0.43741864,  0.38137007, -0.34508908, -0.1005477 ,\n",
       "        -0.4678353 ,  0.2666813 ,  0.04684297,  0.990312  ,  0.06843117,\n",
       "        -0.49650788, -0.5087466 ,  0.06964219, -0.04939258, -0.28219414,\n",
       "         0.03791597,  0.4888343 , -0.7695538 , -0.82771087, -0.44390124,\n",
       "        -0.07535602, -0.2071268 ,  0.4735515 ,  0.4895326 ,  0.52134985,\n",
       "         0.560056  ,  0.3186956 , -0.8008715 ,  0.20402387,  0.08067308,\n",
       "        -0.41263103,  0.09250343,  0.39594236, -0.15042749,  0.07881028,\n",
       "        -0.55189675, -0.99339783,  0.27072576,  0.09515302, -0.17678548,\n",
       "         0.06582572,  0.10700436,  0.62078273, -0.39924288, -0.39958262,\n",
       "        -0.08453593,  0.37088692,  0.2604139 ,  0.0976055 ,  0.27724546,\n",
       "        -0.32712182, -0.06978658, -0.19396116,  0.1850253 , -0.59723914,\n",
       "         0.29401463,  0.9980913 ,  0.03294671,  0.4976545 ,  0.6912219 ,\n",
       "        -0.19535166, -0.3983915 ,  0.30121094, -0.48357677, -0.59131813,\n",
       "        -0.8905617 , -0.11542082, -0.2747028 ,  0.04452755, -0.87236756,\n",
       "         0.09515643,  0.12887006, -0.2550022 , -0.5351065 ,  0.12464994,\n",
       "        -0.27858555,  0.3229099 , -0.16837649, -0.40008223,  0.84509176,\n",
       "         0.51311135, -0.23538117, -0.21954995,  0.2826953 ,  0.28316525,\n",
       "        -0.4754277 , -0.00247678, -0.1186325 , -0.45017257,  0.26643372,\n",
       "         0.10350752,  0.21349722, -0.39208424,  0.3917478 , -0.01887349,\n",
       "        -1.0067508 ], dtype=float32))"
      ]
     },
     "execution_count": 68,
     "metadata": {},
     "output_type": "execute_result"
    }
   ],
   "source": [
    "len(doc1.vector), doc1.vector"
   ]
  },
  {
   "cell_type": "markdown",
   "metadata": {
    "id": "IN_S1TvPm0Xu"
   },
   "source": [
    "# SPELL CHECKER"
   ]
  },
  {
   "cell_type": "code",
   "execution_count": 69,
   "metadata": {
    "colab": {
     "base_uri": "https://localhost:8080/"
    },
    "executionInfo": {
     "elapsed": 37711,
     "status": "ok",
     "timestamp": 1664489438961,
     "user": {
      "displayName": "Serdar B",
      "userId": "01285984894529357189"
     },
     "user_tz": 240
    },
    "id": "1eO5wVW5mzar",
    "outputId": "9d890660-7ded-468c-da09-c70858fb9949"
   },
   "outputs": [
    {
     "name": "stdout",
     "output_type": "stream",
     "text": [
      "Looking in indexes: https://pypi.org/simple, https://us-python.pkg.dev/colab-wheels/public/simple/\n",
      "Requirement already satisfied: textblob in /usr/local/lib/python3.7/dist-packages (0.15.3)\n",
      "Requirement already satisfied: nltk>=3.1 in /usr/local/lib/python3.7/dist-packages (from textblob) (3.7)\n",
      "Requirement already satisfied: tqdm in /usr/local/lib/python3.7/dist-packages (from nltk>=3.1->textblob) (4.64.1)\n",
      "Requirement already satisfied: click in /usr/local/lib/python3.7/dist-packages (from nltk>=3.1->textblob) (7.1.2)\n",
      "Requirement already satisfied: joblib in /usr/local/lib/python3.7/dist-packages (from nltk>=3.1->textblob) (1.1.0)\n",
      "Requirement already satisfied: regex>=2021.8.3 in /usr/local/lib/python3.7/dist-packages (from nltk>=3.1->textblob) (2022.6.2)\n",
      "Looking in indexes: https://pypi.org/simple, https://us-python.pkg.dev/colab-wheels/public/simple/\n",
      "Collecting autocorrect\n",
      "  Downloading autocorrect-2.6.1.tar.gz (622 kB)\n",
      "\u001b[K     |████████████████████████████████| 622 kB 14.9 MB/s \n",
      "\u001b[?25hBuilding wheels for collected packages: autocorrect\n",
      "  Building wheel for autocorrect (setup.py) ... \u001b[?25l\u001b[?25hdone\n",
      "  Created wheel for autocorrect: filename=autocorrect-2.6.1-py3-none-any.whl size=622382 sha256=8d5f9742a55b27026ccdb7d25acd415299ffa9748b517d979cc32eeef7241256\n",
      "  Stored in directory: /root/.cache/pip/wheels/54/d4/37/8244101ad50b0f7d9bffd93ce58ed7991ee1753b290923934b\n",
      "Successfully built autocorrect\n",
      "Installing collected packages: autocorrect\n",
      "Successfully installed autocorrect-2.6.1\n",
      "Looking in indexes: https://pypi.org/simple, https://us-python.pkg.dev/colab-wheels/public/simple/\n",
      "Collecting pyspellchecker\n",
      "  Downloading pyspellchecker-0.7.0-py3-none-any.whl (2.5 MB)\n",
      "\u001b[K     |████████████████████████████████| 2.5 MB 15.2 MB/s \n",
      "\u001b[?25hInstalling collected packages: pyspellchecker\n",
      "Successfully installed pyspellchecker-0.7.0\n",
      "Looking in indexes: https://pypi.org/simple, https://us-python.pkg.dev/colab-wheels/public/simple/\n",
      "Collecting pattern\n",
      "  Downloading Pattern-3.6.0.tar.gz (22.2 MB)\n",
      "\u001b[K     |████████████████████████████████| 22.2 MB 91.8 MB/s \n",
      "\u001b[?25hRequirement already satisfied: future in /usr/local/lib/python3.7/dist-packages (from pattern) (0.16.0)\n",
      "Collecting backports.csv\n",
      "  Downloading backports.csv-1.0.7-py2.py3-none-any.whl (12 kB)\n",
      "Collecting mysqlclient\n",
      "  Downloading mysqlclient-2.1.1.tar.gz (88 kB)\n",
      "\u001b[K     |████████████████████████████████| 88 kB 8.1 MB/s \n",
      "\u001b[?25hRequirement already satisfied: beautifulsoup4 in /usr/local/lib/python3.7/dist-packages (from pattern) (4.6.3)\n",
      "Requirement already satisfied: lxml in /usr/local/lib/python3.7/dist-packages (from pattern) (4.9.1)\n",
      "Collecting feedparser\n",
      "  Downloading feedparser-6.0.10-py3-none-any.whl (81 kB)\n",
      "\u001b[K     |████████████████████████████████| 81 kB 10.6 MB/s \n",
      "\u001b[?25hCollecting pdfminer.six\n",
      "  Downloading pdfminer.six-20220524-py3-none-any.whl (5.6 MB)\n",
      "\u001b[K     |████████████████████████████████| 5.6 MB 19.4 MB/s \n",
      "\u001b[?25hRequirement already satisfied: numpy in /usr/local/lib/python3.7/dist-packages (from pattern) (1.21.6)\n",
      "Requirement already satisfied: scipy in /usr/local/lib/python3.7/dist-packages (from pattern) (1.7.3)\n",
      "Requirement already satisfied: nltk in /usr/local/lib/python3.7/dist-packages (from pattern) (3.7)\n",
      "Collecting python-docx\n",
      "  Downloading python-docx-0.8.11.tar.gz (5.6 MB)\n",
      "\u001b[K     |████████████████████████████████| 5.6 MB 40.8 MB/s \n",
      "\u001b[?25hCollecting cherrypy\n",
      "  Downloading CherryPy-18.8.0-py2.py3-none-any.whl (348 kB)\n",
      "\u001b[K     |████████████████████████████████| 348 kB 63.4 MB/s \n",
      "\u001b[?25hRequirement already satisfied: requests in /usr/local/lib/python3.7/dist-packages (from pattern) (2.23.0)\n",
      "Collecting portend>=2.1.1\n",
      "  Downloading portend-3.1.0-py3-none-any.whl (5.3 kB)\n",
      "Collecting cheroot>=8.2.1\n",
      "  Downloading cheroot-8.6.0-py2.py3-none-any.whl (104 kB)\n",
      "\u001b[K     |████████████████████████████████| 104 kB 71.8 MB/s \n",
      "\u001b[?25hCollecting jaraco.collections\n",
      "  Downloading jaraco.collections-3.5.2-py3-none-any.whl (10 kB)\n",
      "Collecting zc.lockfile\n",
      "  Downloading zc.lockfile-2.0-py2.py3-none-any.whl (9.7 kB)\n",
      "Requirement already satisfied: more-itertools in /usr/local/lib/python3.7/dist-packages (from cherrypy->pattern) (8.14.0)\n",
      "Requirement already satisfied: six>=1.11.0 in /usr/local/lib/python3.7/dist-packages (from cheroot>=8.2.1->cherrypy->pattern) (1.15.0)\n",
      "Collecting jaraco.functools\n",
      "  Downloading jaraco.functools-3.5.2-py3-none-any.whl (7.3 kB)\n",
      "Collecting tempora>=1.8\n",
      "  Downloading tempora-5.0.2-py3-none-any.whl (15 kB)\n",
      "Requirement already satisfied: pytz in /usr/local/lib/python3.7/dist-packages (from tempora>=1.8->portend>=2.1.1->cherrypy->pattern) (2022.2.1)\n",
      "Collecting sgmllib3k\n",
      "  Downloading sgmllib3k-1.0.0.tar.gz (5.8 kB)\n",
      "Collecting jaraco.classes\n",
      "  Downloading jaraco.classes-3.2.3-py3-none-any.whl (6.0 kB)\n",
      "Collecting jaraco.text\n",
      "  Downloading jaraco.text-3.9.1-py3-none-any.whl (10 kB)\n",
      "Collecting autocommand\n",
      "  Downloading autocommand-2.2.1-py3-none-any.whl (22 kB)\n",
      "Requirement already satisfied: inflect in /usr/local/lib/python3.7/dist-packages (from jaraco.text->jaraco.collections->cherrypy->pattern) (2.1.0)\n",
      "Requirement already satisfied: importlib-resources in /usr/local/lib/python3.7/dist-packages (from jaraco.text->jaraco.collections->cherrypy->pattern) (5.9.0)\n",
      "Collecting jaraco.context>=4.1\n",
      "  Downloading jaraco.context-4.1.2-py3-none-any.whl (4.7 kB)\n",
      "Requirement already satisfied: zipp>=3.1.0 in /usr/local/lib/python3.7/dist-packages (from importlib-resources->jaraco.text->jaraco.collections->cherrypy->pattern) (3.8.1)\n",
      "Requirement already satisfied: joblib in /usr/local/lib/python3.7/dist-packages (from nltk->pattern) (1.1.0)\n",
      "Requirement already satisfied: regex>=2021.8.3 in /usr/local/lib/python3.7/dist-packages (from nltk->pattern) (2022.6.2)\n",
      "Requirement already satisfied: click in /usr/local/lib/python3.7/dist-packages (from nltk->pattern) (7.1.2)\n",
      "Requirement already satisfied: tqdm in /usr/local/lib/python3.7/dist-packages (from nltk->pattern) (4.64.1)\n",
      "Collecting cryptography>=36.0.0\n",
      "  Downloading cryptography-38.0.1-cp36-abi3-manylinux_2_24_x86_64.whl (4.0 MB)\n",
      "\u001b[K     |████████████████████████████████| 4.0 MB 35.0 MB/s \n",
      "\u001b[?25hRequirement already satisfied: charset-normalizer>=2.0.0 in /usr/local/lib/python3.7/dist-packages (from pdfminer.six->pattern) (2.1.1)\n",
      "Requirement already satisfied: cffi>=1.12 in /usr/local/lib/python3.7/dist-packages (from cryptography>=36.0.0->pdfminer.six->pattern) (1.15.1)\n",
      "Requirement already satisfied: pycparser in /usr/local/lib/python3.7/dist-packages (from cffi>=1.12->cryptography>=36.0.0->pdfminer.six->pattern) (2.21)\n",
      "Requirement already satisfied: certifi>=2017.4.17 in /usr/local/lib/python3.7/dist-packages (from requests->pattern) (2022.6.15)\n",
      "Requirement already satisfied: idna<3,>=2.5 in /usr/local/lib/python3.7/dist-packages (from requests->pattern) (2.10)\n",
      "Requirement already satisfied: chardet<4,>=3.0.2 in /usr/local/lib/python3.7/dist-packages (from requests->pattern) (3.0.4)\n",
      "Requirement already satisfied: urllib3!=1.25.0,!=1.25.1,<1.26,>=1.21.1 in /usr/local/lib/python3.7/dist-packages (from requests->pattern) (1.24.3)\n",
      "Requirement already satisfied: setuptools in /usr/local/lib/python3.7/dist-packages (from zc.lockfile->cherrypy->pattern) (57.4.0)\n",
      "Building wheels for collected packages: pattern, mysqlclient, python-docx, sgmllib3k\n",
      "  Building wheel for pattern (setup.py) ... \u001b[?25l\u001b[?25hdone\n",
      "  Created wheel for pattern: filename=Pattern-3.6-py3-none-any.whl size=22332721 sha256=14eeb964fa8df0aaadb307748ce7734683c4a39d6a19706b3dfb5970bbe03eee\n",
      "  Stored in directory: /root/.cache/pip/wheels/8d/1f/4e/9b67afd2430d55dee90bd57618dd7d899f1323e5852c465682\n",
      "  Building wheel for mysqlclient (setup.py) ... \u001b[?25l\u001b[?25hdone\n",
      "  Created wheel for mysqlclient: filename=mysqlclient-2.1.1-cp37-cp37m-linux_x86_64.whl size=99971 sha256=ad9419d8f0f0225f33a4c5c38f9114b59e1956cf473cd642717a21ba701d634b\n",
      "  Stored in directory: /root/.cache/pip/wheels/95/2d/67/2cb3f82e435fc8e055cb2761a15a0812bf086068f6fb835462\n",
      "  Building wheel for python-docx (setup.py) ... \u001b[?25l\u001b[?25hdone\n",
      "  Created wheel for python-docx: filename=python_docx-0.8.11-py3-none-any.whl size=184507 sha256=bf29185f8d080610db65f0b37fe51e6e0690bce130bf39b0e58eca387f2ffe1e\n",
      "  Stored in directory: /root/.cache/pip/wheels/f6/6f/b9/d798122a8b55b74ad30b5f52b01482169b445fbb84a11797a6\n",
      "  Building wheel for sgmllib3k (setup.py) ... \u001b[?25l\u001b[?25hdone\n",
      "  Created wheel for sgmllib3k: filename=sgmllib3k-1.0.0-py3-none-any.whl size=6066 sha256=464eb185ada6ffda56ce0c9aceab811e2839d7afcbe83f3a8414af19c89152be\n",
      "  Stored in directory: /root/.cache/pip/wheels/73/ad/a4/0dff4a6ef231fc0dfa12ffbac2a36cebfdddfe059f50e019aa\n",
      "Successfully built pattern mysqlclient python-docx sgmllib3k\n",
      "Installing collected packages: jaraco.functools, jaraco.context, autocommand, tempora, jaraco.text, jaraco.classes, zc.lockfile, sgmllib3k, portend, jaraco.collections, cryptography, cheroot, python-docx, pdfminer.six, mysqlclient, feedparser, cherrypy, backports.csv, pattern\n",
      "Successfully installed autocommand-2.2.1 backports.csv-1.0.7 cheroot-8.6.0 cherrypy-18.8.0 cryptography-38.0.1 feedparser-6.0.10 jaraco.classes-3.2.3 jaraco.collections-3.5.2 jaraco.context-4.1.2 jaraco.functools-3.5.2 jaraco.text-3.9.1 mysqlclient-2.1.1 pattern-3.6 pdfminer.six-20220524 portend-3.1.0 python-docx-0.8.11 sgmllib3k-1.0.0 tempora-5.0.2 zc.lockfile-2.0\n"
     ]
    }
   ],
   "source": [
    "!pip install textblob\n",
    "!pip install autocorrect\n",
    "!pip install pyspellchecker\n",
    "!pip install pattern"
   ]
  },
  {
   "cell_type": "code",
   "execution_count": 70,
   "metadata": {
    "executionInfo": {
     "elapsed": 8,
     "status": "ok",
     "timestamp": 1664489438962,
     "user": {
      "displayName": "Serdar B",
      "userId": "01285984894529357189"
     },
     "user_tz": 240
    },
    "id": "t7FkhKm3ltBq"
   },
   "outputs": [],
   "source": [
    "from spellchecker import SpellChecker"
   ]
  },
  {
   "cell_type": "code",
   "execution_count": 71,
   "metadata": {
    "executionInfo": {
     "elapsed": 327,
     "status": "ok",
     "timestamp": 1664489439281,
     "user": {
      "displayName": "Serdar B",
      "userId": "01285984894529357189"
     },
     "user_tz": 240
    },
    "id": "e7n6H0jRmff9"
   },
   "outputs": [],
   "source": [
    "spell = SpellChecker()"
   ]
  },
  {
   "cell_type": "code",
   "execution_count": 72,
   "metadata": {
    "executionInfo": {
     "elapsed": 9,
     "status": "ok",
     "timestamp": 1664489439281,
     "user": {
      "displayName": "Serdar B",
      "userId": "01285984894529357189"
     },
     "user_tz": 240
    },
    "id": "lLMnx1ktnaIk"
   },
   "outputs": [],
   "source": [
    "docs = ['calandar', 'lighteinig', 'misspel', 'booq', 'undrstand', 'receive', 'adress']"
   ]
  },
  {
   "cell_type": "code",
   "execution_count": 73,
   "metadata": {
    "colab": {
     "base_uri": "https://localhost:8080/"
    },
    "executionInfo": {
     "elapsed": 256,
     "status": "ok",
     "timestamp": 1664489439529,
     "user": {
      "displayName": "Serdar B",
      "userId": "01285984894529357189"
     },
     "user_tz": 240
    },
    "id": "iDlTFesXnp7k",
    "outputId": "2342b589-3a8c-4f9b-d74c-f87eff689c11"
   },
   "outputs": [
    {
     "name": "stdout",
     "output_type": "stream",
     "text": [
      "calandar   --> calendar            \n",
      "lighteinig --> lightning           \n",
      "misspel    --> misspell            \n",
      "booq       --> book                \n",
      "undrstand  --> understand          \n",
      "receive    --> receive             \n",
      "adress     --> dress               \n"
     ]
    }
   ],
   "source": [
    "# Correction\n",
    "for word in docs:\n",
    "    print(f'{word:{10}} --> {spell.correction(word):{20}}')"
   ]
  },
  {
   "cell_type": "code",
   "execution_count": 74,
   "metadata": {
    "colab": {
     "base_uri": "https://localhost:8080/"
    },
    "executionInfo": {
     "elapsed": 541,
     "status": "ok",
     "timestamp": 1664489440065,
     "user": {
      "displayName": "Serdar B",
      "userId": "01285984894529357189"
     },
     "user_tz": 240
    },
    "id": "k8Lzfe4-n7gh",
    "outputId": "29aaee08-6717-4ddb-db61-7d5174105e7c"
   },
   "outputs": [
    {
     "name": "stdout",
     "output_type": "stream",
     "text": [
      "calandar   --> {'calendar'}\n",
      "lighteinig --> {'lightening', 'lighting', 'lightning'}\n",
      "misspel    --> {'misspell'}\n",
      "booq       --> {'boot', 'boom', 'boo', 'book', 'boos', 'boob', 'boor', 'boon', 'boop'}\n",
      "undrstand  --> {'understand', 'undestand'}\n",
      "receive    --> {'receive'}\n",
      "adress     --> {'address', 'dress'}\n"
     ]
    }
   ],
   "source": [
    "# Candidates\n",
    "for word in docs:\n",
    "    print(f'{word:{10}} --> {spell.candidates(word)}')"
   ]
  },
  {
   "cell_type": "code",
   "execution_count": 75,
   "metadata": {
    "colab": {
     "base_uri": "https://localhost:8080/"
    },
    "executionInfo": {
     "elapsed": 255,
     "status": "ok",
     "timestamp": 1664489440313,
     "user": {
      "displayName": "Serdar B",
      "userId": "01285984894529357189"
     },
     "user_tz": 240
    },
    "id": "FbRMu_ESobeh",
    "outputId": "f08c39e1-9efc-4683-ded1-385dcac92f25"
   },
   "outputs": [
    {
     "name": "stdout",
     "output_type": "stream",
     "text": [
      "calandar   --> {'calendar'}: frequency        0.0\n",
      "lighteinig --> {'lightening', 'lighting', 'lightning'}: frequency        0.0\n",
      "misspel    --> {'misspell'}: frequency        0.0\n",
      "booq       --> {'boot', 'boom', 'boo', 'book', 'boos', 'boob', 'boor', 'boon', 'boop'}: frequency        0.0\n",
      "undrstand  --> {'understand', 'undestand'}: frequency        0.0\n",
      "receive    --> {'receive'}: frequency 3.159581511326326e-05\n",
      "adress     --> {'address', 'dress'}: frequency        0.0\n"
     ]
    }
   ],
   "source": [
    "for word in docs:\n",
    "    print(f'{word:{10}} --> {spell.candidates(word)}: frequency {spell.word_usage_frequency(word):{10}}')"
   ]
  },
  {
   "cell_type": "code",
   "execution_count": 76,
   "metadata": {
    "executionInfo": {
     "elapsed": 11,
     "status": "ok",
     "timestamp": 1664489440314,
     "user": {
      "displayName": "Serdar B",
      "userId": "01285984894529357189"
     },
     "user_tz": 240
    },
    "id": "zb9mFxU3p10I"
   },
   "outputs": [],
   "source": [
    "# TEXTBLOB\n",
    "\n",
    "from textblob import TextBlob, Word"
   ]
  },
  {
   "cell_type": "code",
   "execution_count": 77,
   "metadata": {
    "executionInfo": {
     "elapsed": 10,
     "status": "ok",
     "timestamp": 1664489440314,
     "user": {
      "displayName": "Serdar B",
      "userId": "01285984894529357189"
     },
     "user_tz": 240
    },
    "id": "c5Q97uK1qaM9"
   },
   "outputs": [],
   "source": [
    "ex = TextBlob('He was veri happy in hisn neww locotion.')"
   ]
  },
  {
   "cell_type": "code",
   "execution_count": 78,
   "metadata": {
    "colab": {
     "base_uri": "https://localhost:8080/"
    },
    "executionInfo": {
     "elapsed": 291,
     "status": "ok",
     "timestamp": 1664489440595,
     "user": {
      "displayName": "Serdar B",
      "userId": "01285984894529357189"
     },
     "user_tz": 240
    },
    "id": "wVvYUepXqhrQ",
    "outputId": "a2e66539-d6cd-4785-9998-12facfe2e5f7"
   },
   "outputs": [
    {
     "name": "stdout",
     "output_type": "stream",
     "text": [
      "He : He\n",
      "was : was\n",
      "veri : very\n",
      "happy : happy\n",
      "in : in\n",
      "hisn : his\n",
      "neww : new\n",
      "locotion : location\n"
     ]
    }
   ],
   "source": [
    "for word in ex.words:\n",
    "    print(word, \":\", word.correct())"
   ]
  },
  {
   "cell_type": "code",
   "execution_count": 84,
   "metadata": {
    "colab": {
     "base_uri": "https://localhost:8080/"
    },
    "executionInfo": {
     "elapsed": 355,
     "status": "ok",
     "timestamp": 1664489541149,
     "user": {
      "displayName": "Serdar B",
      "userId": "01285984894529357189"
     },
     "user_tz": 240
    },
    "id": "hUO-BH7zqrlB",
    "outputId": "d729be96-d402-41f8-c971-17e543d9c2db"
   },
   "outputs": [
    {
     "name": "stderr",
     "output_type": "stream",
     "text": [
      "[nltk_data] Downloading package omw-1.4 to /root/nltk_data...\n",
      "[nltk_data]   Package omw-1.4 is already up-to-date!\n"
     ]
    },
    {
     "data": {
      "text/plain": [
       "True"
      ]
     },
     "execution_count": 84,
     "metadata": {},
     "output_type": "execute_result"
    }
   ],
   "source": [
    "nltk.download('omw-1.4')\n",
    "from pattern.en import suggest"
   ]
  },
  {
   "cell_type": "code",
   "execution_count": 85,
   "metadata": {
    "colab": {
     "base_uri": "https://localhost:8080/"
    },
    "executionInfo": {
     "elapsed": 412,
     "status": "ok",
     "timestamp": 1664489543199,
     "user": {
      "displayName": "Serdar B",
      "userId": "01285984894529357189"
     },
     "user_tz": 240
    },
    "id": "QsDl8FBHrNC4",
    "outputId": "5902c735-2ff8-43cb-f8a2-1a5580ad7b9b"
   },
   "outputs": [
    {
     "data": {
      "text/plain": [
       "[('location', 1.0)]"
      ]
     },
     "execution_count": 85,
     "metadata": {},
     "output_type": "execute_result"
    }
   ],
   "source": [
    "suggest('locotion')"
   ]
  },
  {
   "cell_type": "code",
   "execution_count": 86,
   "metadata": {
    "colab": {
     "base_uri": "https://localhost:8080/"
    },
    "executionInfo": {
     "elapsed": 328,
     "status": "ok",
     "timestamp": 1664489546578,
     "user": {
      "displayName": "Serdar B",
      "userId": "01285984894529357189"
     },
     "user_tz": 240
    },
    "id": "ZwJoPfS8rP-m",
    "outputId": "e1392230-b1a5-456d-f4a9-655e7bb9a746"
   },
   "outputs": [
    {
     "data": {
      "text/plain": [
       "[('Able', 0.2022132796780684),\n",
       " ('Ale', 0.001006036217303823),\n",
       " ('Ample', 0.009054325955734407),\n",
       " ('Ape', 0.004024144869215292),\n",
       " ('Apple', 0.011066398390342052),\n",
       " ('Bile', 0.006036217303822937),\n",
       " ('Dale', 0.002012072434607646),\n",
       " ('Dole', 0.001006036217303823),\n",
       " ('File', 0.022132796780684104),\n",
       " ('Gale', 0.006036217303822937),\n",
       " ('Hale', 0.001006036217303823),\n",
       " ('Hole', 0.018108651911468814),\n",
       " ('Idle', 0.019114688128772636),\n",
       " ('Isle', 0.0030181086519114686),\n",
       " ('Le', 0.05533199195171026),\n",
       " ('Male', 0.04024144869215292),\n",
       " ('Mele', 0.001006036217303823),\n",
       " ('Mile', 0.03219315895372234),\n",
       " ('Mlle', 0.001006036217303823),\n",
       " ('Mole', 0.015090543259557344),\n",
       " ('Mule', 0.002012072434607646),\n",
       " ('Nile', 0.0030181086519114686),\n",
       " ('Ole', 0.001006036217303823),\n",
       " ('Pale', 0.1659959758551308),\n",
       " ('Pe', 0.002012072434607646),\n",
       " ('Pie', 0.005030181086519115),\n",
       " ('Pile', 0.009054325955734407),\n",
       " ('Plea', 0.02012072434607646),\n",
       " ('Ply', 0.001006036217303823),\n",
       " ('Pole', 0.022132796780684104),\n",
       " ('Pre', 0.015090543259557344),\n",
       " ('Role', 0.04225352112676056),\n",
       " ('Rule', 0.12173038229376258),\n",
       " ('Sale', 0.025150905432595575),\n",
       " ('Sole', 0.07042253521126761),\n",
       " ('Tale', 0.02112676056338028),\n",
       " ('Tile', 0.001006036217303823),\n",
       " ('Vale', 0.001006036217303823),\n",
       " ('Vile', 0.01609657947686117),\n",
       " ('Yale', 0.004024144869215292)]"
      ]
     },
     "execution_count": 86,
     "metadata": {},
     "output_type": "execute_result"
    }
   ],
   "source": [
    "sorted(suggest('Aple'))"
   ]
  },
  {
   "cell_type": "markdown",
   "metadata": {
    "id": "nfgpji0Husdo"
   },
   "source": [
    "# SENTIMENT ANALYSIS"
   ]
  },
  {
   "cell_type": "code",
   "execution_count": 87,
   "metadata": {
    "colab": {
     "base_uri": "https://localhost:8080/"
    },
    "executionInfo": {
     "elapsed": 250,
     "status": "ok",
     "timestamp": 1664489550802,
     "user": {
      "displayName": "Serdar B",
      "userId": "01285984894529357189"
     },
     "user_tz": 240
    },
    "id": "NqjH9za7rfDI",
    "outputId": "f5f9d7bb-f73b-4b46-ea21-8632034760d9"
   },
   "outputs": [
    {
     "name": "stdout",
     "output_type": "stream",
     "text": [
      "Sentiment(polarity=1.0, subjectivity=0.75)\n"
     ]
    }
   ],
   "source": [
    "testimonial = TextBlob(\"The food was great!\")\n",
    "print(testimonial.sentiment)\n",
    "# Polarity is a float that lies between [-1,1], -1 indicates negative sentiment and +1 indicates positive sentiments. \n",
    "# Subjectivity is also a float which lies in the range of [0,1]. Subjective sentences generally refer to personal opinion, emotion, or judgment. "
   ]
  },
  {
   "cell_type": "code",
   "execution_count": 90,
   "metadata": {
    "colab": {
     "base_uri": "https://localhost:8080/"
    },
    "executionInfo": {
     "elapsed": 4756,
     "status": "ok",
     "timestamp": 1664489573503,
     "user": {
      "displayName": "Serdar B",
      "userId": "01285984894529357189"
     },
     "user_tz": 240
    },
    "id": "QCyyaUVnurp-",
    "outputId": "92f40319-c24a-4bcf-c600-940eb77aa086"
   },
   "outputs": [
    {
     "name": "stdout",
     "output_type": "stream",
     "text": [
      "Looking in indexes: https://pypi.org/simple, https://us-python.pkg.dev/colab-wheels/public/simple/\n",
      "Collecting vaderSentiment\n",
      "  Downloading vaderSentiment-3.3.2-py2.py3-none-any.whl (125 kB)\n",
      "\u001b[K     |████████████████████████████████| 125 kB 8.8 MB/s \n",
      "\u001b[?25hRequirement already satisfied: requests in /usr/local/lib/python3.7/dist-packages (from vaderSentiment) (2.23.0)\n",
      "Requirement already satisfied: certifi>=2017.4.17 in /usr/local/lib/python3.7/dist-packages (from requests->vaderSentiment) (2022.6.15)\n",
      "Requirement already satisfied: chardet<4,>=3.0.2 in /usr/local/lib/python3.7/dist-packages (from requests->vaderSentiment) (3.0.4)\n",
      "Requirement already satisfied: idna<3,>=2.5 in /usr/local/lib/python3.7/dist-packages (from requests->vaderSentiment) (2.10)\n",
      "Requirement already satisfied: urllib3!=1.25.0,!=1.25.1,<1.26,>=1.21.1 in /usr/local/lib/python3.7/dist-packages (from requests->vaderSentiment) (1.24.3)\n",
      "Installing collected packages: vaderSentiment\n",
      "Successfully installed vaderSentiment-3.3.2\n"
     ]
    }
   ],
   "source": [
    "!pip install vaderSentiment"
   ]
  },
  {
   "cell_type": "code",
   "execution_count": 91,
   "metadata": {
    "colab": {
     "base_uri": "https://localhost:8080/"
    },
    "executionInfo": {
     "elapsed": 11,
     "status": "ok",
     "timestamp": 1664489573504,
     "user": {
      "displayName": "Serdar B",
      "userId": "01285984894529357189"
     },
     "user_tz": 240
    },
    "id": "Yh1prn-5uMKr",
    "outputId": "9a0e6f38-95e8-4e65-a888-1c1930dc0ddf"
   },
   "outputs": [
    {
     "name": "stdout",
     "output_type": "stream",
     "text": [
      "The food was great!---------------------------------------------- {'neg': 0.0, 'neu': 0.406, 'pos': 0.594, 'compound': 0.6588}\n"
     ]
    }
   ],
   "source": [
    "# Vader is optimized for social media data and can yield good results when used with data from twitter, facebook, etc.\n",
    "\n",
    "\n",
    "from vaderSentiment.vaderSentiment import SentimentIntensityAnalyzer\n",
    "\n",
    "\n",
    "analyzer = SentimentIntensityAnalyzer()\n",
    "sentence = \"The food was great!\" \n",
    "vs = analyzer.polarity_scores(sentence)\n",
    "print(\"{:-<65} {}\".format(sentence, str(vs)))"
   ]
  },
  {
   "cell_type": "code",
   "execution_count": 93,
   "metadata": {
    "colab": {
     "base_uri": "https://localhost:8080/",
     "height": 1000
    },
    "executionInfo": {
     "elapsed": 44450,
     "status": "ok",
     "timestamp": 1664489651251,
     "user": {
      "displayName": "Serdar B",
      "userId": "01285984894529357189"
     },
     "user_tz": 240
    },
    "id": "turgdux0vI_K",
    "outputId": "7ecee2e7-af35-4a05-b54b-de0852994bd1"
   },
   "outputs": [
    {
     "name": "stdout",
     "output_type": "stream",
     "text": [
      "Looking in indexes: https://pypi.org/simple, https://us-python.pkg.dev/colab-wheels/public/simple/\n",
      "Collecting flair\n",
      "  Downloading flair-0.11.3-py3-none-any.whl (401 kB)\n",
      "\u001b[K     |████████████████████████████████| 401 kB 14.0 MB/s \n",
      "\u001b[?25hRequirement already satisfied: regex in /usr/local/lib/python3.7/dist-packages (from flair) (2022.6.2)\n",
      "Collecting transformers>=4.0.0\n",
      "  Downloading transformers-4.22.2-py3-none-any.whl (4.9 MB)\n",
      "\u001b[K     |████████████████████████████████| 4.9 MB 58.9 MB/s \n",
      "\u001b[?25hCollecting segtok>=1.5.7\n",
      "  Downloading segtok-1.5.11-py3-none-any.whl (24 kB)\n",
      "Collecting huggingface-hub\n",
      "  Downloading huggingface_hub-0.10.0-py3-none-any.whl (163 kB)\n",
      "\u001b[K     |████████████████████████████████| 163 kB 68.4 MB/s \n",
      "\u001b[?25hCollecting deprecated>=1.2.4\n",
      "  Downloading Deprecated-1.2.13-py2.py3-none-any.whl (9.6 kB)\n",
      "Requirement already satisfied: matplotlib>=2.2.3 in /usr/local/lib/python3.7/dist-packages (from flair) (3.2.2)\n",
      "Requirement already satisfied: gdown==4.4.0 in /usr/local/lib/python3.7/dist-packages (from flair) (4.4.0)\n",
      "Collecting sqlitedict>=1.6.0\n",
      "  Downloading sqlitedict-2.0.0.tar.gz (46 kB)\n",
      "\u001b[K     |████████████████████████████████| 46 kB 4.4 MB/s \n",
      "\u001b[?25hCollecting pptree\n",
      "  Downloading pptree-3.1.tar.gz (3.0 kB)\n",
      "Requirement already satisfied: tabulate in /usr/local/lib/python3.7/dist-packages (from flair) (0.8.10)\n",
      "Requirement already satisfied: torch!=1.8,>=1.5.0 in /usr/local/lib/python3.7/dist-packages (from flair) (1.12.1+cu113)\n",
      "Requirement already satisfied: gensim>=3.4.0 in /usr/local/lib/python3.7/dist-packages (from flair) (3.6.0)\n",
      "Requirement already satisfied: python-dateutil>=2.6.1 in /usr/local/lib/python3.7/dist-packages (from flair) (2.8.2)\n",
      "Requirement already satisfied: tqdm>=4.26.0 in /usr/local/lib/python3.7/dist-packages (from flair) (4.64.1)\n",
      "Collecting janome\n",
      "  Downloading Janome-0.4.2-py2.py3-none-any.whl (19.7 MB)\n",
      "\u001b[K     |████████████████████████████████| 19.7 MB 404 kB/s \n",
      "\u001b[?25hCollecting conllu>=4.0\n",
      "  Downloading conllu-4.5.2-py2.py3-none-any.whl (16 kB)\n",
      "Collecting wikipedia-api\n",
      "  Downloading Wikipedia-API-0.5.4.tar.gz (18 kB)\n",
      "Collecting hyperopt>=0.2.7\n",
      "  Downloading hyperopt-0.2.7-py2.py3-none-any.whl (1.6 MB)\n",
      "\u001b[K     |████████████████████████████████| 1.6 MB 54.3 MB/s \n",
      "\u001b[?25hRequirement already satisfied: more-itertools in /usr/local/lib/python3.7/dist-packages (from flair) (8.14.0)\n",
      "Collecting langdetect\n",
      "  Downloading langdetect-1.0.9.tar.gz (981 kB)\n",
      "\u001b[K     |████████████████████████████████| 981 kB 58.2 MB/s \n",
      "\u001b[?25hCollecting sentencepiece==0.1.95\n",
      "  Downloading sentencepiece-0.1.95-cp37-cp37m-manylinux2014_x86_64.whl (1.2 MB)\n",
      "\u001b[K     |████████████████████████████████| 1.2 MB 50.3 MB/s \n",
      "\u001b[?25hRequirement already satisfied: scikit-learn>=0.21.3 in /usr/local/lib/python3.7/dist-packages (from flair) (1.0.2)\n",
      "Collecting mpld3==0.3\n",
      "  Downloading mpld3-0.3.tar.gz (788 kB)\n",
      "\u001b[K     |████████████████████████████████| 788 kB 55.5 MB/s \n",
      "\u001b[?25hCollecting ftfy\n",
      "  Downloading ftfy-6.1.1-py3-none-any.whl (53 kB)\n",
      "\u001b[K     |████████████████████████████████| 53 kB 2.1 MB/s \n",
      "\u001b[?25hCollecting bpemb>=0.3.2\n",
      "  Downloading bpemb-0.3.4-py3-none-any.whl (19 kB)\n",
      "Requirement already satisfied: lxml in /usr/local/lib/python3.7/dist-packages (from flair) (4.9.1)\n",
      "Collecting konoha<5.0.0,>=4.0.0\n",
      "  Downloading konoha-4.6.5-py3-none-any.whl (20 kB)\n",
      "Requirement already satisfied: beautifulsoup4 in /usr/local/lib/python3.7/dist-packages (from gdown==4.4.0->flair) (4.6.3)\n",
      "Requirement already satisfied: requests[socks] in /usr/local/lib/python3.7/dist-packages (from gdown==4.4.0->flair) (2.23.0)\n",
      "Requirement already satisfied: six in /usr/local/lib/python3.7/dist-packages (from gdown==4.4.0->flair) (1.15.0)\n",
      "Requirement already satisfied: filelock in /usr/local/lib/python3.7/dist-packages (from gdown==4.4.0->flair) (3.8.0)\n",
      "Requirement already satisfied: numpy in /usr/local/lib/python3.7/dist-packages (from bpemb>=0.3.2->flair) (1.21.6)\n",
      "Requirement already satisfied: wrapt<2,>=1.10 in /usr/local/lib/python3.7/dist-packages (from deprecated>=1.2.4->flair) (1.14.1)\n",
      "Requirement already satisfied: scipy>=0.18.1 in /usr/local/lib/python3.7/dist-packages (from gensim>=3.4.0->flair) (1.7.3)\n",
      "Requirement already satisfied: smart-open>=1.2.1 in /usr/local/lib/python3.7/dist-packages (from gensim>=3.4.0->flair) (5.2.1)\n",
      "Requirement already satisfied: networkx>=2.2 in /usr/local/lib/python3.7/dist-packages (from hyperopt>=0.2.7->flair) (2.6.3)\n",
      "Requirement already satisfied: cloudpickle in /usr/local/lib/python3.7/dist-packages (from hyperopt>=0.2.7->flair) (1.5.0)\n",
      "Collecting py4j\n",
      "  Downloading py4j-0.10.9.7-py2.py3-none-any.whl (200 kB)\n",
      "\u001b[K     |████████████████████████████████| 200 kB 66.4 MB/s \n",
      "\u001b[?25hRequirement already satisfied: future in /usr/local/lib/python3.7/dist-packages (from hyperopt>=0.2.7->flair) (0.16.0)\n",
      "Collecting requests\n",
      "  Downloading requests-2.28.1-py3-none-any.whl (62 kB)\n",
      "\u001b[K     |████████████████████████████████| 62 kB 1.6 MB/s \n",
      "\u001b[?25hCollecting overrides<4.0.0,>=3.0.0\n",
      "  Downloading overrides-3.1.0.tar.gz (11 kB)\n",
      "Collecting importlib-metadata<4.0.0,>=3.7.0\n",
      "  Downloading importlib_metadata-3.10.1-py3-none-any.whl (14 kB)\n",
      "Requirement already satisfied: zipp>=0.5 in /usr/local/lib/python3.7/dist-packages (from importlib-metadata<4.0.0,>=3.7.0->konoha<5.0.0,>=4.0.0->flair) (3.8.1)\n",
      "Requirement already satisfied: typing-extensions>=3.6.4 in /usr/local/lib/python3.7/dist-packages (from importlib-metadata<4.0.0,>=3.7.0->konoha<5.0.0,>=4.0.0->flair) (4.1.1)\n",
      "Requirement already satisfied: pyparsing!=2.0.4,!=2.1.2,!=2.1.6,>=2.0.1 in /usr/local/lib/python3.7/dist-packages (from matplotlib>=2.2.3->flair) (3.0.9)\n",
      "Requirement already satisfied: kiwisolver>=1.0.1 in /usr/local/lib/python3.7/dist-packages (from matplotlib>=2.2.3->flair) (1.4.4)\n",
      "Requirement already satisfied: cycler>=0.10 in /usr/local/lib/python3.7/dist-packages (from matplotlib>=2.2.3->flair) (0.11.0)\n",
      "Requirement already satisfied: charset-normalizer<3,>=2 in /usr/local/lib/python3.7/dist-packages (from requests->bpemb>=0.3.2->flair) (2.1.1)\n",
      "Requirement already satisfied: certifi>=2017.4.17 in /usr/local/lib/python3.7/dist-packages (from requests->bpemb>=0.3.2->flair) (2022.6.15)\n",
      "Requirement already satisfied: idna<4,>=2.5 in /usr/local/lib/python3.7/dist-packages (from requests->bpemb>=0.3.2->flair) (2.10)\n",
      "Requirement already satisfied: urllib3<1.27,>=1.21.1 in /usr/local/lib/python3.7/dist-packages (from requests->bpemb>=0.3.2->flair) (1.24.3)\n",
      "Requirement already satisfied: joblib>=0.11 in /usr/local/lib/python3.7/dist-packages (from scikit-learn>=0.21.3->flair) (1.1.0)\n",
      "Requirement already satisfied: threadpoolctl>=2.0.0 in /usr/local/lib/python3.7/dist-packages (from scikit-learn>=0.21.3->flair) (3.1.0)\n",
      "Requirement already satisfied: packaging>=20.0 in /usr/local/lib/python3.7/dist-packages (from transformers>=4.0.0->flair) (21.3)\n",
      "Requirement already satisfied: pyyaml>=5.1 in /usr/local/lib/python3.7/dist-packages (from transformers>=4.0.0->flair) (6.0)\n",
      "Collecting tokenizers!=0.11.3,<0.13,>=0.11.1\n",
      "  Downloading tokenizers-0.12.1-cp37-cp37m-manylinux_2_12_x86_64.manylinux2010_x86_64.whl (6.6 MB)\n",
      "\u001b[K     |████████████████████████████████| 6.6 MB 57.8 MB/s \n",
      "\u001b[?25hRequirement already satisfied: wcwidth>=0.2.5 in /usr/local/lib/python3.7/dist-packages (from ftfy->flair) (0.2.5)\n",
      "Requirement already satisfied: PySocks!=1.5.7,>=1.5.6 in /usr/local/lib/python3.7/dist-packages (from requests->bpemb>=0.3.2->flair) (1.7.1)\n",
      "Building wheels for collected packages: mpld3, overrides, sqlitedict, langdetect, pptree, wikipedia-api\n",
      "  Building wheel for mpld3 (setup.py) ... \u001b[?25l\u001b[?25hdone\n",
      "  Created wheel for mpld3: filename=mpld3-0.3-py3-none-any.whl size=116702 sha256=88dc93c0c09757d1af372e6a0209651b052aa72172a5d60a8e59da544f6c6cc6\n",
      "  Stored in directory: /root/.cache/pip/wheels/26/70/6a/1c79e59951a41b4045497da187b2724f5659ca64033cf4548e\n",
      "  Building wheel for overrides (setup.py) ... \u001b[?25l\u001b[?25hdone\n",
      "  Created wheel for overrides: filename=overrides-3.1.0-py3-none-any.whl size=10187 sha256=ffcb6c240ba78000f24f20c48abae53d2119e9fabcc6378b8d0b255ca26d2650\n",
      "  Stored in directory: /root/.cache/pip/wheels/3a/0d/38/01a9bc6e20dcfaf0a6a7b552d03137558ba1c38aea47644682\n",
      "  Building wheel for sqlitedict (setup.py) ... \u001b[?25l\u001b[?25hdone\n",
      "  Created wheel for sqlitedict: filename=sqlitedict-2.0.0-py3-none-any.whl size=15736 sha256=e926c354893a210b58682c6003c4baa3cf9a46038b1f3b0faf31272fae924acd\n",
      "  Stored in directory: /root/.cache/pip/wheels/96/dd/2e/0ed4a25cb73fc30c7ea8d10b50acb7226175736067e40a7ea3\n",
      "  Building wheel for langdetect (setup.py) ... \u001b[?25l\u001b[?25hdone\n",
      "  Created wheel for langdetect: filename=langdetect-1.0.9-py3-none-any.whl size=993242 sha256=8becd61e791a0740333c761b3312a5bb59d80a6de1ae56775f160251e79dcc03\n",
      "  Stored in directory: /root/.cache/pip/wheels/c5/96/8a/f90c59ed25d75e50a8c10a1b1c2d4c402e4dacfa87f3aff36a\n",
      "  Building wheel for pptree (setup.py) ... \u001b[?25l\u001b[?25hdone\n",
      "  Created wheel for pptree: filename=pptree-3.1-py3-none-any.whl size=4629 sha256=a02df287f8a954fca83711190098042ed72d75f31bfae0610d651a4d017ac13f\n",
      "  Stored in directory: /root/.cache/pip/wheels/9e/e8/7d/a9c3c19b4722608a0d8b05a38c36bc3f230c43becd2a46794b\n",
      "  Building wheel for wikipedia-api (setup.py) ... \u001b[?25l\u001b[?25hdone\n",
      "  Created wheel for wikipedia-api: filename=Wikipedia_API-0.5.4-py3-none-any.whl size=13477 sha256=c2437522e8fff6dee2d905481b79698f54731ee3998ea74558b64b28475e4d4f\n",
      "  Stored in directory: /root/.cache/pip/wheels/d3/24/56/58ba93cf78be162451144e7a9889603f437976ef1ae7013d04\n",
      "Successfully built mpld3 overrides sqlitedict langdetect pptree wikipedia-api\n",
      "Installing collected packages: requests, importlib-metadata, tokenizers, sentencepiece, py4j, overrides, huggingface-hub, wikipedia-api, transformers, sqlitedict, segtok, pptree, mpld3, langdetect, konoha, janome, hyperopt, ftfy, deprecated, conllu, bpemb, flair\n",
      "  Attempting uninstall: requests\n",
      "    Found existing installation: requests 2.23.0\n",
      "    Uninstalling requests-2.23.0:\n",
      "      Successfully uninstalled requests-2.23.0\n",
      "  Attempting uninstall: importlib-metadata\n",
      "    Found existing installation: importlib-metadata 4.12.0\n",
      "    Uninstalling importlib-metadata-4.12.0:\n",
      "      Successfully uninstalled importlib-metadata-4.12.0\n",
      "  Attempting uninstall: hyperopt\n",
      "    Found existing installation: hyperopt 0.1.2\n",
      "    Uninstalling hyperopt-0.1.2:\n",
      "      Successfully uninstalled hyperopt-0.1.2\n",
      "\u001b[31mERROR: pip's dependency resolver does not currently take into account all the packages that are installed. This behaviour is the source of the following dependency conflicts.\n",
      "markdown 3.4.1 requires importlib-metadata>=4.4; python_version < \"3.10\", but you have importlib-metadata 3.10.1 which is incompatible.\n",
      "gym 0.25.2 requires importlib-metadata>=4.8.0; python_version < \"3.10\", but you have importlib-metadata 3.10.1 which is incompatible.\u001b[0m\n",
      "Successfully installed bpemb-0.3.4 conllu-4.5.2 deprecated-1.2.13 flair-0.11.3 ftfy-6.1.1 huggingface-hub-0.10.0 hyperopt-0.2.7 importlib-metadata-3.10.1 janome-0.4.2 konoha-4.6.5 langdetect-1.0.9 mpld3-0.3 overrides-3.1.0 pptree-3.1 py4j-0.10.9.7 requests-2.28.1 segtok-1.5.11 sentencepiece-0.1.95 sqlitedict-2.0.0 tokenizers-0.12.1 transformers-4.22.2 wikipedia-api-0.5.4\n"
     ]
    },
    {
     "data": {
      "application/vnd.colab-display-data+json": {
       "pip_warning": {
        "packages": [
         "importlib_metadata",
         "requests"
        ]
       }
      }
     },
     "metadata": {},
     "output_type": "display_data"
    }
   ],
   "source": [
    "!pip install flair"
   ]
  },
  {
   "cell_type": "code",
   "execution_count": 94,
   "metadata": {
    "colab": {
     "base_uri": "https://localhost:8080/",
     "height": 269,
     "referenced_widgets": [
      "85fb09189a4b454298470da25f70a2f4",
      "36233f840b3e413d8ec898d9fade5a29",
      "8e09d9f45673405a893ce9dd928c7b6e",
      "6203da1a4afa4d63b5c88d6bf6cf54e9",
      "9fd29897b37d49fb81930554f9bf6a77",
      "8a1ef4d31d0a4f75998959e0c838ebbf",
      "816e63c41d7240598903a4b57f1774c1",
      "28f41d41b5414407a78a7065632a06dd",
      "7283baa7d393443da58acf837a08bced",
      "a60b9f865d1c48f29f83a63c39e0497e",
      "28c6d9a171484a0b9fb1080bea7858d4",
      "ec9583ddd3e74a22bbe6571d65416778",
      "057b6bd146a24903a62fa5d8b898123e",
      "00f878edf9e44fa783ef1f2c3a36d84b",
      "aaa42d2d77ab4d579a06910fc60883a3",
      "8c4126528400440ebff3c455a76b251e",
      "2d754d197561432d99104d5ea1fc1e40",
      "82be2579dc84459a8a0d5d35705fcabc",
      "c719c71e07d64fec9072560deeda9810",
      "03f23787bcea4552a6fc22a6d1475df4",
      "4800eddeaad749daa5343f1866918d90",
      "f638644268a34044b2c1162af5a59a5e",
      "e24827e1aa3e4525b4653cf765c13bc4",
      "1ea017013a7c444e908e4cd319aa0f3d",
      "7bf75da6baf14fb6aec75395129ca224",
      "121abfa10eca43e2a4c22b3c64a8b7f0",
      "3e0d818163de470bb594012d3e40d61e",
      "32c48886f0f64a3f9ed5ccfcfa3e5bc1",
      "d8428ccac2f8467c975e0147d1871d1b",
      "5586c6573a8046ce9126ce10e6f6358b",
      "8bfe4cefb1cf4d60a17aed4c6d2e350f",
      "e261135c324444c7a9bce3f0cecdaffb",
      "2a88ded329c24558a96b3cdc583700bd",
      "458f83265a8d49e8b425babb88743264",
      "28a32aef328448e6938f1b0f4c977fc8",
      "063ac167865d4139b5a4bbce8f8b73d9",
      "4cc461550c3a4ced9d289672fd61cfea",
      "2ce7737486714449aa68e27412cc038b",
      "280cadc0b55643f7b60e84d1a8d0031a",
      "3b2f4e46ad9d467ab396ea4d3f67275f",
      "f990e660f6e44c2f865f67e4f22a9f2e",
      "16cbe4e99f9d4d989fbc816b16c2b2b0",
      "d81b585f714e46b899d21ec603498982",
      "d2b60fcba62f4010b3f7a7253426dc8c"
     ]
    },
    "executionInfo": {
     "elapsed": 18297,
     "status": "ok",
     "timestamp": 1664489669539,
     "user": {
      "displayName": "Serdar B",
      "userId": "01285984894529357189"
     },
     "user_tz": 240
    },
    "id": "5tK3y58TuqUk",
    "outputId": "7605c602-5a1c-4196-da71-29e44f339a9a"
   },
   "outputs": [
    {
     "name": "stdout",
     "output_type": "stream",
     "text": [
      "2022-09-29 22:14:12,569 https://nlp.informatik.hu-berlin.de/resources/models/sentiment-curated-distilbert/sentiment-en-mix-distillbert_4.pt not found in cache, downloading to /tmp/tmpb92ia6a9\n"
     ]
    },
    {
     "name": "stderr",
     "output_type": "stream",
     "text": [
      "100%|██████████| 265512723/265512723 [00:08<00:00, 30708964.76B/s]"
     ]
    },
    {
     "name": "stdout",
     "output_type": "stream",
     "text": [
      "2022-09-29 22:14:21,295 copying /tmp/tmpb92ia6a9 to cache at /root/.flair/models/sentiment-en-mix-distillbert_4.pt\n"
     ]
    },
    {
     "name": "stderr",
     "output_type": "stream",
     "text": [
      "\n"
     ]
    },
    {
     "name": "stdout",
     "output_type": "stream",
     "text": [
      "2022-09-29 22:14:22,065 removing temp file /tmp/tmpb92ia6a9\n",
      "2022-09-29 22:14:22,197 loading file /root/.flair/models/sentiment-en-mix-distillbert_4.pt\n"
     ]
    },
    {
     "data": {
      "application/vnd.jupyter.widget-view+json": {
       "model_id": "85fb09189a4b454298470da25f70a2f4",
       "version_major": 2,
       "version_minor": 0
      },
      "text/plain": [
       "Downloading:   0%|          | 0.00/28.0 [00:00<?, ?B/s]"
      ]
     },
     "metadata": {},
     "output_type": "display_data"
    },
    {
     "data": {
      "application/vnd.jupyter.widget-view+json": {
       "model_id": "ec9583ddd3e74a22bbe6571d65416778",
       "version_major": 2,
       "version_minor": 0
      },
      "text/plain": [
       "Downloading:   0%|          | 0.00/483 [00:00<?, ?B/s]"
      ]
     },
     "metadata": {},
     "output_type": "display_data"
    },
    {
     "data": {
      "application/vnd.jupyter.widget-view+json": {
       "model_id": "e24827e1aa3e4525b4653cf765c13bc4",
       "version_major": 2,
       "version_minor": 0
      },
      "text/plain": [
       "Downloading:   0%|          | 0.00/232k [00:00<?, ?B/s]"
      ]
     },
     "metadata": {},
     "output_type": "display_data"
    },
    {
     "data": {
      "application/vnd.jupyter.widget-view+json": {
       "model_id": "458f83265a8d49e8b425babb88743264",
       "version_major": 2,
       "version_minor": 0
      },
      "text/plain": [
       "Downloading:   0%|          | 0.00/466k [00:00<?, ?B/s]"
      ]
     },
     "metadata": {},
     "output_type": "display_data"
    },
    {
     "name": "stdout",
     "output_type": "stream",
     "text": [
      "Sentence above is:  ['Sentence: \"The food was great !\"'/'POSITIVE' (0.9961)]\n"
     ]
    }
   ],
   "source": [
    "from flair.models import TextClassifier\n",
    "from flair.data import Sentence\n",
    "\n",
    "classifier = TextClassifier.load('en-sentiment')\n",
    "sentence = Sentence('The food was great!')\n",
    "classifier.predict(sentence)\n",
    "\n",
    "# print sentence with predicted labels\n",
    "print('Sentence above is: ', sentence.labels)"
   ]
  }
 ],
 "metadata": {
  "accelerator": "GPU",
  "colab": {
   "authorship_tag": "ABX9TyOFajhBGvbJt0obRS6184ey",
   "collapsed_sections": [],
   "provenance": []
  },
  "kernelspec": {
   "display_name": "Python 3.8.2 64-bit ('conda_jupyter_env_': conda)",
   "language": "python",
   "name": "python38264bitcondajupyterenvcondae878524d52c845db9808e76512101876"
  },
  "language_info": {
   "codemirror_mode": {
    "name": "ipython",
    "version": 3
   },
   "file_extension": ".py",
   "mimetype": "text/x-python",
   "name": "python",
   "nbconvert_exporter": "python",
   "pygments_lexer": "ipython3",
   "version": "3.8.2"
  },
  "widgets": {
   "application/vnd.jupyter.widget-state+json": {
    "00f878edf9e44fa783ef1f2c3a36d84b": {
     "model_module": "@jupyter-widgets/controls",
     "model_module_version": "1.5.0",
     "model_name": "FloatProgressModel",
     "state": {
      "_dom_classes": [],
      "_model_module": "@jupyter-widgets/controls",
      "_model_module_version": "1.5.0",
      "_model_name": "FloatProgressModel",
      "_view_count": null,
      "_view_module": "@jupyter-widgets/controls",
      "_view_module_version": "1.5.0",
      "_view_name": "ProgressView",
      "bar_style": "success",
      "description": "",
      "description_tooltip": null,
      "layout": "IPY_MODEL_c719c71e07d64fec9072560deeda9810",
      "max": 483,
      "min": 0,
      "orientation": "horizontal",
      "style": "IPY_MODEL_03f23787bcea4552a6fc22a6d1475df4",
      "value": 483
     }
    },
    "03f23787bcea4552a6fc22a6d1475df4": {
     "model_module": "@jupyter-widgets/controls",
     "model_module_version": "1.5.0",
     "model_name": "ProgressStyleModel",
     "state": {
      "_model_module": "@jupyter-widgets/controls",
      "_model_module_version": "1.5.0",
      "_model_name": "ProgressStyleModel",
      "_view_count": null,
      "_view_module": "@jupyter-widgets/base",
      "_view_module_version": "1.2.0",
      "_view_name": "StyleView",
      "bar_color": null,
      "description_width": ""
     }
    },
    "057b6bd146a24903a62fa5d8b898123e": {
     "model_module": "@jupyter-widgets/controls",
     "model_module_version": "1.5.0",
     "model_name": "HTMLModel",
     "state": {
      "_dom_classes": [],
      "_model_module": "@jupyter-widgets/controls",
      "_model_module_version": "1.5.0",
      "_model_name": "HTMLModel",
      "_view_count": null,
      "_view_module": "@jupyter-widgets/controls",
      "_view_module_version": "1.5.0",
      "_view_name": "HTMLView",
      "description": "",
      "description_tooltip": null,
      "layout": "IPY_MODEL_2d754d197561432d99104d5ea1fc1e40",
      "placeholder": "​",
      "style": "IPY_MODEL_82be2579dc84459a8a0d5d35705fcabc",
      "value": "Downloading: 100%"
     }
    },
    "063ac167865d4139b5a4bbce8f8b73d9": {
     "model_module": "@jupyter-widgets/controls",
     "model_module_version": "1.5.0",
     "model_name": "FloatProgressModel",
     "state": {
      "_dom_classes": [],
      "_model_module": "@jupyter-widgets/controls",
      "_model_module_version": "1.5.0",
      "_model_name": "FloatProgressModel",
      "_view_count": null,
      "_view_module": "@jupyter-widgets/controls",
      "_view_module_version": "1.5.0",
      "_view_name": "ProgressView",
      "bar_style": "success",
      "description": "",
      "description_tooltip": null,
      "layout": "IPY_MODEL_f990e660f6e44c2f865f67e4f22a9f2e",
      "max": 466062,
      "min": 0,
      "orientation": "horizontal",
      "style": "IPY_MODEL_16cbe4e99f9d4d989fbc816b16c2b2b0",
      "value": 466062
     }
    },
    "121abfa10eca43e2a4c22b3c64a8b7f0": {
     "model_module": "@jupyter-widgets/controls",
     "model_module_version": "1.5.0",
     "model_name": "HTMLModel",
     "state": {
      "_dom_classes": [],
      "_model_module": "@jupyter-widgets/controls",
      "_model_module_version": "1.5.0",
      "_model_name": "HTMLModel",
      "_view_count": null,
      "_view_module": "@jupyter-widgets/controls",
      "_view_module_version": "1.5.0",
      "_view_name": "HTMLView",
      "description": "",
      "description_tooltip": null,
      "layout": "IPY_MODEL_e261135c324444c7a9bce3f0cecdaffb",
      "placeholder": "​",
      "style": "IPY_MODEL_2a88ded329c24558a96b3cdc583700bd",
      "value": " 232k/232k [00:00&lt;00:00, 574kB/s]"
     }
    },
    "16cbe4e99f9d4d989fbc816b16c2b2b0": {
     "model_module": "@jupyter-widgets/controls",
     "model_module_version": "1.5.0",
     "model_name": "ProgressStyleModel",
     "state": {
      "_model_module": "@jupyter-widgets/controls",
      "_model_module_version": "1.5.0",
      "_model_name": "ProgressStyleModel",
      "_view_count": null,
      "_view_module": "@jupyter-widgets/base",
      "_view_module_version": "1.2.0",
      "_view_name": "StyleView",
      "bar_color": null,
      "description_width": ""
     }
    },
    "1ea017013a7c444e908e4cd319aa0f3d": {
     "model_module": "@jupyter-widgets/controls",
     "model_module_version": "1.5.0",
     "model_name": "HTMLModel",
     "state": {
      "_dom_classes": [],
      "_model_module": "@jupyter-widgets/controls",
      "_model_module_version": "1.5.0",
      "_model_name": "HTMLModel",
      "_view_count": null,
      "_view_module": "@jupyter-widgets/controls",
      "_view_module_version": "1.5.0",
      "_view_name": "HTMLView",
      "description": "",
      "description_tooltip": null,
      "layout": "IPY_MODEL_32c48886f0f64a3f9ed5ccfcfa3e5bc1",
      "placeholder": "​",
      "style": "IPY_MODEL_d8428ccac2f8467c975e0147d1871d1b",
      "value": "Downloading: 100%"
     }
    },
    "280cadc0b55643f7b60e84d1a8d0031a": {
     "model_module": "@jupyter-widgets/base",
     "model_module_version": "1.2.0",
     "model_name": "LayoutModel",
     "state": {
      "_model_module": "@jupyter-widgets/base",
      "_model_module_version": "1.2.0",
      "_model_name": "LayoutModel",
      "_view_count": null,
      "_view_module": "@jupyter-widgets/base",
      "_view_module_version": "1.2.0",
      "_view_name": "LayoutView",
      "align_content": null,
      "align_items": null,
      "align_self": null,
      "border": null,
      "bottom": null,
      "display": null,
      "flex": null,
      "flex_flow": null,
      "grid_area": null,
      "grid_auto_columns": null,
      "grid_auto_flow": null,
      "grid_auto_rows": null,
      "grid_column": null,
      "grid_gap": null,
      "grid_row": null,
      "grid_template_areas": null,
      "grid_template_columns": null,
      "grid_template_rows": null,
      "height": null,
      "justify_content": null,
      "justify_items": null,
      "left": null,
      "margin": null,
      "max_height": null,
      "max_width": null,
      "min_height": null,
      "min_width": null,
      "object_fit": null,
      "object_position": null,
      "order": null,
      "overflow": null,
      "overflow_x": null,
      "overflow_y": null,
      "padding": null,
      "right": null,
      "top": null,
      "visibility": null,
      "width": null
     }
    },
    "28a32aef328448e6938f1b0f4c977fc8": {
     "model_module": "@jupyter-widgets/controls",
     "model_module_version": "1.5.0",
     "model_name": "HTMLModel",
     "state": {
      "_dom_classes": [],
      "_model_module": "@jupyter-widgets/controls",
      "_model_module_version": "1.5.0",
      "_model_name": "HTMLModel",
      "_view_count": null,
      "_view_module": "@jupyter-widgets/controls",
      "_view_module_version": "1.5.0",
      "_view_name": "HTMLView",
      "description": "",
      "description_tooltip": null,
      "layout": "IPY_MODEL_280cadc0b55643f7b60e84d1a8d0031a",
      "placeholder": "​",
      "style": "IPY_MODEL_3b2f4e46ad9d467ab396ea4d3f67275f",
      "value": "Downloading: 100%"
     }
    },
    "28c6d9a171484a0b9fb1080bea7858d4": {
     "model_module": "@jupyter-widgets/controls",
     "model_module_version": "1.5.0",
     "model_name": "DescriptionStyleModel",
     "state": {
      "_model_module": "@jupyter-widgets/controls",
      "_model_module_version": "1.5.0",
      "_model_name": "DescriptionStyleModel",
      "_view_count": null,
      "_view_module": "@jupyter-widgets/base",
      "_view_module_version": "1.2.0",
      "_view_name": "StyleView",
      "description_width": ""
     }
    },
    "28f41d41b5414407a78a7065632a06dd": {
     "model_module": "@jupyter-widgets/base",
     "model_module_version": "1.2.0",
     "model_name": "LayoutModel",
     "state": {
      "_model_module": "@jupyter-widgets/base",
      "_model_module_version": "1.2.0",
      "_model_name": "LayoutModel",
      "_view_count": null,
      "_view_module": "@jupyter-widgets/base",
      "_view_module_version": "1.2.0",
      "_view_name": "LayoutView",
      "align_content": null,
      "align_items": null,
      "align_self": null,
      "border": null,
      "bottom": null,
      "display": null,
      "flex": null,
      "flex_flow": null,
      "grid_area": null,
      "grid_auto_columns": null,
      "grid_auto_flow": null,
      "grid_auto_rows": null,
      "grid_column": null,
      "grid_gap": null,
      "grid_row": null,
      "grid_template_areas": null,
      "grid_template_columns": null,
      "grid_template_rows": null,
      "height": null,
      "justify_content": null,
      "justify_items": null,
      "left": null,
      "margin": null,
      "max_height": null,
      "max_width": null,
      "min_height": null,
      "min_width": null,
      "object_fit": null,
      "object_position": null,
      "order": null,
      "overflow": null,
      "overflow_x": null,
      "overflow_y": null,
      "padding": null,
      "right": null,
      "top": null,
      "visibility": null,
      "width": null
     }
    },
    "2a88ded329c24558a96b3cdc583700bd": {
     "model_module": "@jupyter-widgets/controls",
     "model_module_version": "1.5.0",
     "model_name": "DescriptionStyleModel",
     "state": {
      "_model_module": "@jupyter-widgets/controls",
      "_model_module_version": "1.5.0",
      "_model_name": "DescriptionStyleModel",
      "_view_count": null,
      "_view_module": "@jupyter-widgets/base",
      "_view_module_version": "1.2.0",
      "_view_name": "StyleView",
      "description_width": ""
     }
    },
    "2ce7737486714449aa68e27412cc038b": {
     "model_module": "@jupyter-widgets/base",
     "model_module_version": "1.2.0",
     "model_name": "LayoutModel",
     "state": {
      "_model_module": "@jupyter-widgets/base",
      "_model_module_version": "1.2.0",
      "_model_name": "LayoutModel",
      "_view_count": null,
      "_view_module": "@jupyter-widgets/base",
      "_view_module_version": "1.2.0",
      "_view_name": "LayoutView",
      "align_content": null,
      "align_items": null,
      "align_self": null,
      "border": null,
      "bottom": null,
      "display": null,
      "flex": null,
      "flex_flow": null,
      "grid_area": null,
      "grid_auto_columns": null,
      "grid_auto_flow": null,
      "grid_auto_rows": null,
      "grid_column": null,
      "grid_gap": null,
      "grid_row": null,
      "grid_template_areas": null,
      "grid_template_columns": null,
      "grid_template_rows": null,
      "height": null,
      "justify_content": null,
      "justify_items": null,
      "left": null,
      "margin": null,
      "max_height": null,
      "max_width": null,
      "min_height": null,
      "min_width": null,
      "object_fit": null,
      "object_position": null,
      "order": null,
      "overflow": null,
      "overflow_x": null,
      "overflow_y": null,
      "padding": null,
      "right": null,
      "top": null,
      "visibility": null,
      "width": null
     }
    },
    "2d754d197561432d99104d5ea1fc1e40": {
     "model_module": "@jupyter-widgets/base",
     "model_module_version": "1.2.0",
     "model_name": "LayoutModel",
     "state": {
      "_model_module": "@jupyter-widgets/base",
      "_model_module_version": "1.2.0",
      "_model_name": "LayoutModel",
      "_view_count": null,
      "_view_module": "@jupyter-widgets/base",
      "_view_module_version": "1.2.0",
      "_view_name": "LayoutView",
      "align_content": null,
      "align_items": null,
      "align_self": null,
      "border": null,
      "bottom": null,
      "display": null,
      "flex": null,
      "flex_flow": null,
      "grid_area": null,
      "grid_auto_columns": null,
      "grid_auto_flow": null,
      "grid_auto_rows": null,
      "grid_column": null,
      "grid_gap": null,
      "grid_row": null,
      "grid_template_areas": null,
      "grid_template_columns": null,
      "grid_template_rows": null,
      "height": null,
      "justify_content": null,
      "justify_items": null,
      "left": null,
      "margin": null,
      "max_height": null,
      "max_width": null,
      "min_height": null,
      "min_width": null,
      "object_fit": null,
      "object_position": null,
      "order": null,
      "overflow": null,
      "overflow_x": null,
      "overflow_y": null,
      "padding": null,
      "right": null,
      "top": null,
      "visibility": null,
      "width": null
     }
    },
    "32c48886f0f64a3f9ed5ccfcfa3e5bc1": {
     "model_module": "@jupyter-widgets/base",
     "model_module_version": "1.2.0",
     "model_name": "LayoutModel",
     "state": {
      "_model_module": "@jupyter-widgets/base",
      "_model_module_version": "1.2.0",
      "_model_name": "LayoutModel",
      "_view_count": null,
      "_view_module": "@jupyter-widgets/base",
      "_view_module_version": "1.2.0",
      "_view_name": "LayoutView",
      "align_content": null,
      "align_items": null,
      "align_self": null,
      "border": null,
      "bottom": null,
      "display": null,
      "flex": null,
      "flex_flow": null,
      "grid_area": null,
      "grid_auto_columns": null,
      "grid_auto_flow": null,
      "grid_auto_rows": null,
      "grid_column": null,
      "grid_gap": null,
      "grid_row": null,
      "grid_template_areas": null,
      "grid_template_columns": null,
      "grid_template_rows": null,
      "height": null,
      "justify_content": null,
      "justify_items": null,
      "left": null,
      "margin": null,
      "max_height": null,
      "max_width": null,
      "min_height": null,
      "min_width": null,
      "object_fit": null,
      "object_position": null,
      "order": null,
      "overflow": null,
      "overflow_x": null,
      "overflow_y": null,
      "padding": null,
      "right": null,
      "top": null,
      "visibility": null,
      "width": null
     }
    },
    "36233f840b3e413d8ec898d9fade5a29": {
     "model_module": "@jupyter-widgets/controls",
     "model_module_version": "1.5.0",
     "model_name": "HTMLModel",
     "state": {
      "_dom_classes": [],
      "_model_module": "@jupyter-widgets/controls",
      "_model_module_version": "1.5.0",
      "_model_name": "HTMLModel",
      "_view_count": null,
      "_view_module": "@jupyter-widgets/controls",
      "_view_module_version": "1.5.0",
      "_view_name": "HTMLView",
      "description": "",
      "description_tooltip": null,
      "layout": "IPY_MODEL_8a1ef4d31d0a4f75998959e0c838ebbf",
      "placeholder": "​",
      "style": "IPY_MODEL_816e63c41d7240598903a4b57f1774c1",
      "value": "Downloading: 100%"
     }
    },
    "3b2f4e46ad9d467ab396ea4d3f67275f": {
     "model_module": "@jupyter-widgets/controls",
     "model_module_version": "1.5.0",
     "model_name": "DescriptionStyleModel",
     "state": {
      "_model_module": "@jupyter-widgets/controls",
      "_model_module_version": "1.5.0",
      "_model_name": "DescriptionStyleModel",
      "_view_count": null,
      "_view_module": "@jupyter-widgets/base",
      "_view_module_version": "1.2.0",
      "_view_name": "StyleView",
      "description_width": ""
     }
    },
    "3e0d818163de470bb594012d3e40d61e": {
     "model_module": "@jupyter-widgets/base",
     "model_module_version": "1.2.0",
     "model_name": "LayoutModel",
     "state": {
      "_model_module": "@jupyter-widgets/base",
      "_model_module_version": "1.2.0",
      "_model_name": "LayoutModel",
      "_view_count": null,
      "_view_module": "@jupyter-widgets/base",
      "_view_module_version": "1.2.0",
      "_view_name": "LayoutView",
      "align_content": null,
      "align_items": null,
      "align_self": null,
      "border": null,
      "bottom": null,
      "display": null,
      "flex": null,
      "flex_flow": null,
      "grid_area": null,
      "grid_auto_columns": null,
      "grid_auto_flow": null,
      "grid_auto_rows": null,
      "grid_column": null,
      "grid_gap": null,
      "grid_row": null,
      "grid_template_areas": null,
      "grid_template_columns": null,
      "grid_template_rows": null,
      "height": null,
      "justify_content": null,
      "justify_items": null,
      "left": null,
      "margin": null,
      "max_height": null,
      "max_width": null,
      "min_height": null,
      "min_width": null,
      "object_fit": null,
      "object_position": null,
      "order": null,
      "overflow": null,
      "overflow_x": null,
      "overflow_y": null,
      "padding": null,
      "right": null,
      "top": null,
      "visibility": null,
      "width": null
     }
    },
    "458f83265a8d49e8b425babb88743264": {
     "model_module": "@jupyter-widgets/controls",
     "model_module_version": "1.5.0",
     "model_name": "HBoxModel",
     "state": {
      "_dom_classes": [],
      "_model_module": "@jupyter-widgets/controls",
      "_model_module_version": "1.5.0",
      "_model_name": "HBoxModel",
      "_view_count": null,
      "_view_module": "@jupyter-widgets/controls",
      "_view_module_version": "1.5.0",
      "_view_name": "HBoxView",
      "box_style": "",
      "children": [
       "IPY_MODEL_28a32aef328448e6938f1b0f4c977fc8",
       "IPY_MODEL_063ac167865d4139b5a4bbce8f8b73d9",
       "IPY_MODEL_4cc461550c3a4ced9d289672fd61cfea"
      ],
      "layout": "IPY_MODEL_2ce7737486714449aa68e27412cc038b"
     }
    },
    "4800eddeaad749daa5343f1866918d90": {
     "model_module": "@jupyter-widgets/base",
     "model_module_version": "1.2.0",
     "model_name": "LayoutModel",
     "state": {
      "_model_module": "@jupyter-widgets/base",
      "_model_module_version": "1.2.0",
      "_model_name": "LayoutModel",
      "_view_count": null,
      "_view_module": "@jupyter-widgets/base",
      "_view_module_version": "1.2.0",
      "_view_name": "LayoutView",
      "align_content": null,
      "align_items": null,
      "align_self": null,
      "border": null,
      "bottom": null,
      "display": null,
      "flex": null,
      "flex_flow": null,
      "grid_area": null,
      "grid_auto_columns": null,
      "grid_auto_flow": null,
      "grid_auto_rows": null,
      "grid_column": null,
      "grid_gap": null,
      "grid_row": null,
      "grid_template_areas": null,
      "grid_template_columns": null,
      "grid_template_rows": null,
      "height": null,
      "justify_content": null,
      "justify_items": null,
      "left": null,
      "margin": null,
      "max_height": null,
      "max_width": null,
      "min_height": null,
      "min_width": null,
      "object_fit": null,
      "object_position": null,
      "order": null,
      "overflow": null,
      "overflow_x": null,
      "overflow_y": null,
      "padding": null,
      "right": null,
      "top": null,
      "visibility": null,
      "width": null
     }
    },
    "4cc461550c3a4ced9d289672fd61cfea": {
     "model_module": "@jupyter-widgets/controls",
     "model_module_version": "1.5.0",
     "model_name": "HTMLModel",
     "state": {
      "_dom_classes": [],
      "_model_module": "@jupyter-widgets/controls",
      "_model_module_version": "1.5.0",
      "_model_name": "HTMLModel",
      "_view_count": null,
      "_view_module": "@jupyter-widgets/controls",
      "_view_module_version": "1.5.0",
      "_view_name": "HTMLView",
      "description": "",
      "description_tooltip": null,
      "layout": "IPY_MODEL_d81b585f714e46b899d21ec603498982",
      "placeholder": "​",
      "style": "IPY_MODEL_d2b60fcba62f4010b3f7a7253426dc8c",
      "value": " 466k/466k [00:00&lt;00:00, 579kB/s]"
     }
    },
    "5586c6573a8046ce9126ce10e6f6358b": {
     "model_module": "@jupyter-widgets/base",
     "model_module_version": "1.2.0",
     "model_name": "LayoutModel",
     "state": {
      "_model_module": "@jupyter-widgets/base",
      "_model_module_version": "1.2.0",
      "_model_name": "LayoutModel",
      "_view_count": null,
      "_view_module": "@jupyter-widgets/base",
      "_view_module_version": "1.2.0",
      "_view_name": "LayoutView",
      "align_content": null,
      "align_items": null,
      "align_self": null,
      "border": null,
      "bottom": null,
      "display": null,
      "flex": null,
      "flex_flow": null,
      "grid_area": null,
      "grid_auto_columns": null,
      "grid_auto_flow": null,
      "grid_auto_rows": null,
      "grid_column": null,
      "grid_gap": null,
      "grid_row": null,
      "grid_template_areas": null,
      "grid_template_columns": null,
      "grid_template_rows": null,
      "height": null,
      "justify_content": null,
      "justify_items": null,
      "left": null,
      "margin": null,
      "max_height": null,
      "max_width": null,
      "min_height": null,
      "min_width": null,
      "object_fit": null,
      "object_position": null,
      "order": null,
      "overflow": null,
      "overflow_x": null,
      "overflow_y": null,
      "padding": null,
      "right": null,
      "top": null,
      "visibility": null,
      "width": null
     }
    },
    "6203da1a4afa4d63b5c88d6bf6cf54e9": {
     "model_module": "@jupyter-widgets/controls",
     "model_module_version": "1.5.0",
     "model_name": "HTMLModel",
     "state": {
      "_dom_classes": [],
      "_model_module": "@jupyter-widgets/controls",
      "_model_module_version": "1.5.0",
      "_model_name": "HTMLModel",
      "_view_count": null,
      "_view_module": "@jupyter-widgets/controls",
      "_view_module_version": "1.5.0",
      "_view_name": "HTMLView",
      "description": "",
      "description_tooltip": null,
      "layout": "IPY_MODEL_a60b9f865d1c48f29f83a63c39e0497e",
      "placeholder": "​",
      "style": "IPY_MODEL_28c6d9a171484a0b9fb1080bea7858d4",
      "value": " 28.0/28.0 [00:00&lt;00:00, 266B/s]"
     }
    },
    "7283baa7d393443da58acf837a08bced": {
     "model_module": "@jupyter-widgets/controls",
     "model_module_version": "1.5.0",
     "model_name": "ProgressStyleModel",
     "state": {
      "_model_module": "@jupyter-widgets/controls",
      "_model_module_version": "1.5.0",
      "_model_name": "ProgressStyleModel",
      "_view_count": null,
      "_view_module": "@jupyter-widgets/base",
      "_view_module_version": "1.2.0",
      "_view_name": "StyleView",
      "bar_color": null,
      "description_width": ""
     }
    },
    "7bf75da6baf14fb6aec75395129ca224": {
     "model_module": "@jupyter-widgets/controls",
     "model_module_version": "1.5.0",
     "model_name": "FloatProgressModel",
     "state": {
      "_dom_classes": [],
      "_model_module": "@jupyter-widgets/controls",
      "_model_module_version": "1.5.0",
      "_model_name": "FloatProgressModel",
      "_view_count": null,
      "_view_module": "@jupyter-widgets/controls",
      "_view_module_version": "1.5.0",
      "_view_name": "ProgressView",
      "bar_style": "success",
      "description": "",
      "description_tooltip": null,
      "layout": "IPY_MODEL_5586c6573a8046ce9126ce10e6f6358b",
      "max": 231508,
      "min": 0,
      "orientation": "horizontal",
      "style": "IPY_MODEL_8bfe4cefb1cf4d60a17aed4c6d2e350f",
      "value": 231508
     }
    },
    "816e63c41d7240598903a4b57f1774c1": {
     "model_module": "@jupyter-widgets/controls",
     "model_module_version": "1.5.0",
     "model_name": "DescriptionStyleModel",
     "state": {
      "_model_module": "@jupyter-widgets/controls",
      "_model_module_version": "1.5.0",
      "_model_name": "DescriptionStyleModel",
      "_view_count": null,
      "_view_module": "@jupyter-widgets/base",
      "_view_module_version": "1.2.0",
      "_view_name": "StyleView",
      "description_width": ""
     }
    },
    "82be2579dc84459a8a0d5d35705fcabc": {
     "model_module": "@jupyter-widgets/controls",
     "model_module_version": "1.5.0",
     "model_name": "DescriptionStyleModel",
     "state": {
      "_model_module": "@jupyter-widgets/controls",
      "_model_module_version": "1.5.0",
      "_model_name": "DescriptionStyleModel",
      "_view_count": null,
      "_view_module": "@jupyter-widgets/base",
      "_view_module_version": "1.2.0",
      "_view_name": "StyleView",
      "description_width": ""
     }
    },
    "85fb09189a4b454298470da25f70a2f4": {
     "model_module": "@jupyter-widgets/controls",
     "model_module_version": "1.5.0",
     "model_name": "HBoxModel",
     "state": {
      "_dom_classes": [],
      "_model_module": "@jupyter-widgets/controls",
      "_model_module_version": "1.5.0",
      "_model_name": "HBoxModel",
      "_view_count": null,
      "_view_module": "@jupyter-widgets/controls",
      "_view_module_version": "1.5.0",
      "_view_name": "HBoxView",
      "box_style": "",
      "children": [
       "IPY_MODEL_36233f840b3e413d8ec898d9fade5a29",
       "IPY_MODEL_8e09d9f45673405a893ce9dd928c7b6e",
       "IPY_MODEL_6203da1a4afa4d63b5c88d6bf6cf54e9"
      ],
      "layout": "IPY_MODEL_9fd29897b37d49fb81930554f9bf6a77"
     }
    },
    "8a1ef4d31d0a4f75998959e0c838ebbf": {
     "model_module": "@jupyter-widgets/base",
     "model_module_version": "1.2.0",
     "model_name": "LayoutModel",
     "state": {
      "_model_module": "@jupyter-widgets/base",
      "_model_module_version": "1.2.0",
      "_model_name": "LayoutModel",
      "_view_count": null,
      "_view_module": "@jupyter-widgets/base",
      "_view_module_version": "1.2.0",
      "_view_name": "LayoutView",
      "align_content": null,
      "align_items": null,
      "align_self": null,
      "border": null,
      "bottom": null,
      "display": null,
      "flex": null,
      "flex_flow": null,
      "grid_area": null,
      "grid_auto_columns": null,
      "grid_auto_flow": null,
      "grid_auto_rows": null,
      "grid_column": null,
      "grid_gap": null,
      "grid_row": null,
      "grid_template_areas": null,
      "grid_template_columns": null,
      "grid_template_rows": null,
      "height": null,
      "justify_content": null,
      "justify_items": null,
      "left": null,
      "margin": null,
      "max_height": null,
      "max_width": null,
      "min_height": null,
      "min_width": null,
      "object_fit": null,
      "object_position": null,
      "order": null,
      "overflow": null,
      "overflow_x": null,
      "overflow_y": null,
      "padding": null,
      "right": null,
      "top": null,
      "visibility": null,
      "width": null
     }
    },
    "8bfe4cefb1cf4d60a17aed4c6d2e350f": {
     "model_module": "@jupyter-widgets/controls",
     "model_module_version": "1.5.0",
     "model_name": "ProgressStyleModel",
     "state": {
      "_model_module": "@jupyter-widgets/controls",
      "_model_module_version": "1.5.0",
      "_model_name": "ProgressStyleModel",
      "_view_count": null,
      "_view_module": "@jupyter-widgets/base",
      "_view_module_version": "1.2.0",
      "_view_name": "StyleView",
      "bar_color": null,
      "description_width": ""
     }
    },
    "8c4126528400440ebff3c455a76b251e": {
     "model_module": "@jupyter-widgets/base",
     "model_module_version": "1.2.0",
     "model_name": "LayoutModel",
     "state": {
      "_model_module": "@jupyter-widgets/base",
      "_model_module_version": "1.2.0",
      "_model_name": "LayoutModel",
      "_view_count": null,
      "_view_module": "@jupyter-widgets/base",
      "_view_module_version": "1.2.0",
      "_view_name": "LayoutView",
      "align_content": null,
      "align_items": null,
      "align_self": null,
      "border": null,
      "bottom": null,
      "display": null,
      "flex": null,
      "flex_flow": null,
      "grid_area": null,
      "grid_auto_columns": null,
      "grid_auto_flow": null,
      "grid_auto_rows": null,
      "grid_column": null,
      "grid_gap": null,
      "grid_row": null,
      "grid_template_areas": null,
      "grid_template_columns": null,
      "grid_template_rows": null,
      "height": null,
      "justify_content": null,
      "justify_items": null,
      "left": null,
      "margin": null,
      "max_height": null,
      "max_width": null,
      "min_height": null,
      "min_width": null,
      "object_fit": null,
      "object_position": null,
      "order": null,
      "overflow": null,
      "overflow_x": null,
      "overflow_y": null,
      "padding": null,
      "right": null,
      "top": null,
      "visibility": null,
      "width": null
     }
    },
    "8e09d9f45673405a893ce9dd928c7b6e": {
     "model_module": "@jupyter-widgets/controls",
     "model_module_version": "1.5.0",
     "model_name": "FloatProgressModel",
     "state": {
      "_dom_classes": [],
      "_model_module": "@jupyter-widgets/controls",
      "_model_module_version": "1.5.0",
      "_model_name": "FloatProgressModel",
      "_view_count": null,
      "_view_module": "@jupyter-widgets/controls",
      "_view_module_version": "1.5.0",
      "_view_name": "ProgressView",
      "bar_style": "success",
      "description": "",
      "description_tooltip": null,
      "layout": "IPY_MODEL_28f41d41b5414407a78a7065632a06dd",
      "max": 28,
      "min": 0,
      "orientation": "horizontal",
      "style": "IPY_MODEL_7283baa7d393443da58acf837a08bced",
      "value": 28
     }
    },
    "9fd29897b37d49fb81930554f9bf6a77": {
     "model_module": "@jupyter-widgets/base",
     "model_module_version": "1.2.0",
     "model_name": "LayoutModel",
     "state": {
      "_model_module": "@jupyter-widgets/base",
      "_model_module_version": "1.2.0",
      "_model_name": "LayoutModel",
      "_view_count": null,
      "_view_module": "@jupyter-widgets/base",
      "_view_module_version": "1.2.0",
      "_view_name": "LayoutView",
      "align_content": null,
      "align_items": null,
      "align_self": null,
      "border": null,
      "bottom": null,
      "display": null,
      "flex": null,
      "flex_flow": null,
      "grid_area": null,
      "grid_auto_columns": null,
      "grid_auto_flow": null,
      "grid_auto_rows": null,
      "grid_column": null,
      "grid_gap": null,
      "grid_row": null,
      "grid_template_areas": null,
      "grid_template_columns": null,
      "grid_template_rows": null,
      "height": null,
      "justify_content": null,
      "justify_items": null,
      "left": null,
      "margin": null,
      "max_height": null,
      "max_width": null,
      "min_height": null,
      "min_width": null,
      "object_fit": null,
      "object_position": null,
      "order": null,
      "overflow": null,
      "overflow_x": null,
      "overflow_y": null,
      "padding": null,
      "right": null,
      "top": null,
      "visibility": null,
      "width": null
     }
    },
    "a60b9f865d1c48f29f83a63c39e0497e": {
     "model_module": "@jupyter-widgets/base",
     "model_module_version": "1.2.0",
     "model_name": "LayoutModel",
     "state": {
      "_model_module": "@jupyter-widgets/base",
      "_model_module_version": "1.2.0",
      "_model_name": "LayoutModel",
      "_view_count": null,
      "_view_module": "@jupyter-widgets/base",
      "_view_module_version": "1.2.0",
      "_view_name": "LayoutView",
      "align_content": null,
      "align_items": null,
      "align_self": null,
      "border": null,
      "bottom": null,
      "display": null,
      "flex": null,
      "flex_flow": null,
      "grid_area": null,
      "grid_auto_columns": null,
      "grid_auto_flow": null,
      "grid_auto_rows": null,
      "grid_column": null,
      "grid_gap": null,
      "grid_row": null,
      "grid_template_areas": null,
      "grid_template_columns": null,
      "grid_template_rows": null,
      "height": null,
      "justify_content": null,
      "justify_items": null,
      "left": null,
      "margin": null,
      "max_height": null,
      "max_width": null,
      "min_height": null,
      "min_width": null,
      "object_fit": null,
      "object_position": null,
      "order": null,
      "overflow": null,
      "overflow_x": null,
      "overflow_y": null,
      "padding": null,
      "right": null,
      "top": null,
      "visibility": null,
      "width": null
     }
    },
    "aaa42d2d77ab4d579a06910fc60883a3": {
     "model_module": "@jupyter-widgets/controls",
     "model_module_version": "1.5.0",
     "model_name": "HTMLModel",
     "state": {
      "_dom_classes": [],
      "_model_module": "@jupyter-widgets/controls",
      "_model_module_version": "1.5.0",
      "_model_name": "HTMLModel",
      "_view_count": null,
      "_view_module": "@jupyter-widgets/controls",
      "_view_module_version": "1.5.0",
      "_view_name": "HTMLView",
      "description": "",
      "description_tooltip": null,
      "layout": "IPY_MODEL_4800eddeaad749daa5343f1866918d90",
      "placeholder": "​",
      "style": "IPY_MODEL_f638644268a34044b2c1162af5a59a5e",
      "value": " 483/483 [00:00&lt;00:00, 5.48kB/s]"
     }
    },
    "c719c71e07d64fec9072560deeda9810": {
     "model_module": "@jupyter-widgets/base",
     "model_module_version": "1.2.0",
     "model_name": "LayoutModel",
     "state": {
      "_model_module": "@jupyter-widgets/base",
      "_model_module_version": "1.2.0",
      "_model_name": "LayoutModel",
      "_view_count": null,
      "_view_module": "@jupyter-widgets/base",
      "_view_module_version": "1.2.0",
      "_view_name": "LayoutView",
      "align_content": null,
      "align_items": null,
      "align_self": null,
      "border": null,
      "bottom": null,
      "display": null,
      "flex": null,
      "flex_flow": null,
      "grid_area": null,
      "grid_auto_columns": null,
      "grid_auto_flow": null,
      "grid_auto_rows": null,
      "grid_column": null,
      "grid_gap": null,
      "grid_row": null,
      "grid_template_areas": null,
      "grid_template_columns": null,
      "grid_template_rows": null,
      "height": null,
      "justify_content": null,
      "justify_items": null,
      "left": null,
      "margin": null,
      "max_height": null,
      "max_width": null,
      "min_height": null,
      "min_width": null,
      "object_fit": null,
      "object_position": null,
      "order": null,
      "overflow": null,
      "overflow_x": null,
      "overflow_y": null,
      "padding": null,
      "right": null,
      "top": null,
      "visibility": null,
      "width": null
     }
    },
    "d2b60fcba62f4010b3f7a7253426dc8c": {
     "model_module": "@jupyter-widgets/controls",
     "model_module_version": "1.5.0",
     "model_name": "DescriptionStyleModel",
     "state": {
      "_model_module": "@jupyter-widgets/controls",
      "_model_module_version": "1.5.0",
      "_model_name": "DescriptionStyleModel",
      "_view_count": null,
      "_view_module": "@jupyter-widgets/base",
      "_view_module_version": "1.2.0",
      "_view_name": "StyleView",
      "description_width": ""
     }
    },
    "d81b585f714e46b899d21ec603498982": {
     "model_module": "@jupyter-widgets/base",
     "model_module_version": "1.2.0",
     "model_name": "LayoutModel",
     "state": {
      "_model_module": "@jupyter-widgets/base",
      "_model_module_version": "1.2.0",
      "_model_name": "LayoutModel",
      "_view_count": null,
      "_view_module": "@jupyter-widgets/base",
      "_view_module_version": "1.2.0",
      "_view_name": "LayoutView",
      "align_content": null,
      "align_items": null,
      "align_self": null,
      "border": null,
      "bottom": null,
      "display": null,
      "flex": null,
      "flex_flow": null,
      "grid_area": null,
      "grid_auto_columns": null,
      "grid_auto_flow": null,
      "grid_auto_rows": null,
      "grid_column": null,
      "grid_gap": null,
      "grid_row": null,
      "grid_template_areas": null,
      "grid_template_columns": null,
      "grid_template_rows": null,
      "height": null,
      "justify_content": null,
      "justify_items": null,
      "left": null,
      "margin": null,
      "max_height": null,
      "max_width": null,
      "min_height": null,
      "min_width": null,
      "object_fit": null,
      "object_position": null,
      "order": null,
      "overflow": null,
      "overflow_x": null,
      "overflow_y": null,
      "padding": null,
      "right": null,
      "top": null,
      "visibility": null,
      "width": null
     }
    },
    "d8428ccac2f8467c975e0147d1871d1b": {
     "model_module": "@jupyter-widgets/controls",
     "model_module_version": "1.5.0",
     "model_name": "DescriptionStyleModel",
     "state": {
      "_model_module": "@jupyter-widgets/controls",
      "_model_module_version": "1.5.0",
      "_model_name": "DescriptionStyleModel",
      "_view_count": null,
      "_view_module": "@jupyter-widgets/base",
      "_view_module_version": "1.2.0",
      "_view_name": "StyleView",
      "description_width": ""
     }
    },
    "e24827e1aa3e4525b4653cf765c13bc4": {
     "model_module": "@jupyter-widgets/controls",
     "model_module_version": "1.5.0",
     "model_name": "HBoxModel",
     "state": {
      "_dom_classes": [],
      "_model_module": "@jupyter-widgets/controls",
      "_model_module_version": "1.5.0",
      "_model_name": "HBoxModel",
      "_view_count": null,
      "_view_module": "@jupyter-widgets/controls",
      "_view_module_version": "1.5.0",
      "_view_name": "HBoxView",
      "box_style": "",
      "children": [
       "IPY_MODEL_1ea017013a7c444e908e4cd319aa0f3d",
       "IPY_MODEL_7bf75da6baf14fb6aec75395129ca224",
       "IPY_MODEL_121abfa10eca43e2a4c22b3c64a8b7f0"
      ],
      "layout": "IPY_MODEL_3e0d818163de470bb594012d3e40d61e"
     }
    },
    "e261135c324444c7a9bce3f0cecdaffb": {
     "model_module": "@jupyter-widgets/base",
     "model_module_version": "1.2.0",
     "model_name": "LayoutModel",
     "state": {
      "_model_module": "@jupyter-widgets/base",
      "_model_module_version": "1.2.0",
      "_model_name": "LayoutModel",
      "_view_count": null,
      "_view_module": "@jupyter-widgets/base",
      "_view_module_version": "1.2.0",
      "_view_name": "LayoutView",
      "align_content": null,
      "align_items": null,
      "align_self": null,
      "border": null,
      "bottom": null,
      "display": null,
      "flex": null,
      "flex_flow": null,
      "grid_area": null,
      "grid_auto_columns": null,
      "grid_auto_flow": null,
      "grid_auto_rows": null,
      "grid_column": null,
      "grid_gap": null,
      "grid_row": null,
      "grid_template_areas": null,
      "grid_template_columns": null,
      "grid_template_rows": null,
      "height": null,
      "justify_content": null,
      "justify_items": null,
      "left": null,
      "margin": null,
      "max_height": null,
      "max_width": null,
      "min_height": null,
      "min_width": null,
      "object_fit": null,
      "object_position": null,
      "order": null,
      "overflow": null,
      "overflow_x": null,
      "overflow_y": null,
      "padding": null,
      "right": null,
      "top": null,
      "visibility": null,
      "width": null
     }
    },
    "ec9583ddd3e74a22bbe6571d65416778": {
     "model_module": "@jupyter-widgets/controls",
     "model_module_version": "1.5.0",
     "model_name": "HBoxModel",
     "state": {
      "_dom_classes": [],
      "_model_module": "@jupyter-widgets/controls",
      "_model_module_version": "1.5.0",
      "_model_name": "HBoxModel",
      "_view_count": null,
      "_view_module": "@jupyter-widgets/controls",
      "_view_module_version": "1.5.0",
      "_view_name": "HBoxView",
      "box_style": "",
      "children": [
       "IPY_MODEL_057b6bd146a24903a62fa5d8b898123e",
       "IPY_MODEL_00f878edf9e44fa783ef1f2c3a36d84b",
       "IPY_MODEL_aaa42d2d77ab4d579a06910fc60883a3"
      ],
      "layout": "IPY_MODEL_8c4126528400440ebff3c455a76b251e"
     }
    },
    "f638644268a34044b2c1162af5a59a5e": {
     "model_module": "@jupyter-widgets/controls",
     "model_module_version": "1.5.0",
     "model_name": "DescriptionStyleModel",
     "state": {
      "_model_module": "@jupyter-widgets/controls",
      "_model_module_version": "1.5.0",
      "_model_name": "DescriptionStyleModel",
      "_view_count": null,
      "_view_module": "@jupyter-widgets/base",
      "_view_module_version": "1.2.0",
      "_view_name": "StyleView",
      "description_width": ""
     }
    },
    "f990e660f6e44c2f865f67e4f22a9f2e": {
     "model_module": "@jupyter-widgets/base",
     "model_module_version": "1.2.0",
     "model_name": "LayoutModel",
     "state": {
      "_model_module": "@jupyter-widgets/base",
      "_model_module_version": "1.2.0",
      "_model_name": "LayoutModel",
      "_view_count": null,
      "_view_module": "@jupyter-widgets/base",
      "_view_module_version": "1.2.0",
      "_view_name": "LayoutView",
      "align_content": null,
      "align_items": null,
      "align_self": null,
      "border": null,
      "bottom": null,
      "display": null,
      "flex": null,
      "flex_flow": null,
      "grid_area": null,
      "grid_auto_columns": null,
      "grid_auto_flow": null,
      "grid_auto_rows": null,
      "grid_column": null,
      "grid_gap": null,
      "grid_row": null,
      "grid_template_areas": null,
      "grid_template_columns": null,
      "grid_template_rows": null,
      "height": null,
      "justify_content": null,
      "justify_items": null,
      "left": null,
      "margin": null,
      "max_height": null,
      "max_width": null,
      "min_height": null,
      "min_width": null,
      "object_fit": null,
      "object_position": null,
      "order": null,
      "overflow": null,
      "overflow_x": null,
      "overflow_y": null,
      "padding": null,
      "right": null,
      "top": null,
      "visibility": null,
      "width": null
     }
    }
   }
  }
 },
 "nbformat": 4,
 "nbformat_minor": 4
}
