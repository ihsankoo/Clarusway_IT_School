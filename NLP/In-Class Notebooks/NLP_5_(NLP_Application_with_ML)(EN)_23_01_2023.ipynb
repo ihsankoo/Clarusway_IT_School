{
 "cells": [
  {
   "cell_type": "markdown",
   "metadata": {
    "id": "HAw965WaTW_H"
   },
   "source": [
    "# NLP Application with ML\n",
    "\n",
    "## Classification of Tweets Data"
   ]
  },
  {
   "cell_type": "markdown",
   "metadata": {
    "id": "-zNsTN-0TW_K"
   },
   "source": [
    "### The Data\n",
    "\n",
    "🔑 Source: https://www.kaggle.com/crowdflower/twitter-airline-sentiment?select=Tweets.csv"
   ]
  },
  {
   "cell_type": "code",
   "execution_count": 2,
   "metadata": {
    "colab": {
     "base_uri": "https://localhost:8080/"
    },
    "id": "9CeODXNLTW_L",
    "outputId": "2cd75a2e-2a32-4c60-82c9-9b9efdda59c6"
   },
   "outputs": [
    {
     "name": "stderr",
     "output_type": "stream",
     "text": [
      "[nltk_data] Downloading package wordnet to /Users/serdar/nltk_data...\n",
      "[nltk_data]   Package wordnet is already up-to-date!\n"
     ]
    }
   ],
   "source": [
    "import pandas as pd\n",
    "import seaborn as sns\n",
    "import matplotlib.pyplot as plt\n",
    "import nltk\n",
    "from nltk.tokenize import word_tokenize\n",
    "from nltk.corpus import stopwords\n",
    "from nltk.stem import WordNetLemmatizer\n",
    "from nltk.stem import PorterStemmer\n",
    "from collections import Counter\n",
    "from sklearn.metrics import f1_score\n",
    "nltk.download('wordnet')\n",
    "\n",
    "import warnings\n",
    "warnings.filterwarnings(\"ignore\")\n",
    "plt.rcParams[\"figure.figsize\"] = (10,6)\n",
    "pd.set_option('display.max_columns', 50)\n",
    "pd.set_option('display.max_colwidth', None)"
   ]
  },
  {
   "cell_type": "markdown",
   "metadata": {
    "id": "m1BzRPMtTW_M"
   },
   "source": [
    "### Notebook Settings"
   ]
  },
  {
   "cell_type": "code",
   "execution_count": 3,
   "metadata": {
    "id": "1Y01So6pTW_N"
   },
   "outputs": [],
   "source": [
    "# from IPython.core.interactiveshell import InteractiveShell\n",
    "# InteractiveShell.ast_node_interactivity = 'all'\n",
    "# pd.set_option('display.max_columns', 50)\n",
    "# pd.set_option('display.max_colwidth', None)\n",
    "\n",
    "# sns.set_context(context='talk', font_scale=1, rc={'figure.figsize':(11.7,8.27)})\n",
    "# pd.set_option('display.float_format', lambda x: '%.2f' % x)"
   ]
  },
  {
   "cell_type": "markdown",
   "metadata": {
    "id": "YFnzICyBTW_N"
   },
   "source": [
    "### Getting Data"
   ]
  },
  {
   "cell_type": "code",
   "execution_count": 4,
   "metadata": {
    "colab": {
     "base_uri": "https://localhost:8080/"
    },
    "id": "-iy_YXmNUux3",
    "outputId": "00b34e81-7dd2-429d-ce9f-f8b4475ffd67"
   },
   "outputs": [],
   "source": [
    "# For Colab\n",
    "# from google.colab import drive\n",
    "# drive.mount('/content/drive')"
   ]
  },
  {
   "cell_type": "code",
   "execution_count": 5,
   "metadata": {
    "id": "CJP9yBeATW_N"
   },
   "outputs": [
    {
     "data": {
      "text/html": [
       "<div>\n",
       "<style scoped>\n",
       "    .dataframe tbody tr th:only-of-type {\n",
       "        vertical-align: middle;\n",
       "    }\n",
       "\n",
       "    .dataframe tbody tr th {\n",
       "        vertical-align: top;\n",
       "    }\n",
       "\n",
       "    .dataframe thead th {\n",
       "        text-align: right;\n",
       "    }\n",
       "</style>\n",
       "<table border=\"1\" class=\"dataframe\">\n",
       "  <thead>\n",
       "    <tr style=\"text-align: right;\">\n",
       "      <th></th>\n",
       "      <th>tweet_id</th>\n",
       "      <th>airline_sentiment</th>\n",
       "      <th>airline_sentiment_confidence</th>\n",
       "      <th>negativereason</th>\n",
       "      <th>negativereason_confidence</th>\n",
       "      <th>airline</th>\n",
       "      <th>airline_sentiment_gold</th>\n",
       "      <th>name</th>\n",
       "      <th>negativereason_gold</th>\n",
       "      <th>retweet_count</th>\n",
       "      <th>text</th>\n",
       "      <th>tweet_coord</th>\n",
       "      <th>tweet_created</th>\n",
       "      <th>tweet_location</th>\n",
       "      <th>user_timezone</th>\n",
       "    </tr>\n",
       "  </thead>\n",
       "  <tbody>\n",
       "    <tr>\n",
       "      <th>0</th>\n",
       "      <td>570306133677760513</td>\n",
       "      <td>neutral</td>\n",
       "      <td>1.0000</td>\n",
       "      <td>NaN</td>\n",
       "      <td>NaN</td>\n",
       "      <td>Virgin America</td>\n",
       "      <td>NaN</td>\n",
       "      <td>cairdin</td>\n",
       "      <td>NaN</td>\n",
       "      <td>0</td>\n",
       "      <td>@VirginAmerica What @dhepburn said.</td>\n",
       "      <td>NaN</td>\n",
       "      <td>2015-02-24 11:35:52 -0800</td>\n",
       "      <td>NaN</td>\n",
       "      <td>Eastern Time (US &amp; Canada)</td>\n",
       "    </tr>\n",
       "    <tr>\n",
       "      <th>1</th>\n",
       "      <td>570301130888122368</td>\n",
       "      <td>positive</td>\n",
       "      <td>0.3486</td>\n",
       "      <td>NaN</td>\n",
       "      <td>0.0000</td>\n",
       "      <td>Virgin America</td>\n",
       "      <td>NaN</td>\n",
       "      <td>jnardino</td>\n",
       "      <td>NaN</td>\n",
       "      <td>0</td>\n",
       "      <td>@VirginAmerica plus you've added commercials to the experience... tacky.</td>\n",
       "      <td>NaN</td>\n",
       "      <td>2015-02-24 11:15:59 -0800</td>\n",
       "      <td>NaN</td>\n",
       "      <td>Pacific Time (US &amp; Canada)</td>\n",
       "    </tr>\n",
       "    <tr>\n",
       "      <th>2</th>\n",
       "      <td>570301083672813571</td>\n",
       "      <td>neutral</td>\n",
       "      <td>0.6837</td>\n",
       "      <td>NaN</td>\n",
       "      <td>NaN</td>\n",
       "      <td>Virgin America</td>\n",
       "      <td>NaN</td>\n",
       "      <td>yvonnalynn</td>\n",
       "      <td>NaN</td>\n",
       "      <td>0</td>\n",
       "      <td>@VirginAmerica I didn't today... Must mean I need to take another trip!</td>\n",
       "      <td>NaN</td>\n",
       "      <td>2015-02-24 11:15:48 -0800</td>\n",
       "      <td>Lets Play</td>\n",
       "      <td>Central Time (US &amp; Canada)</td>\n",
       "    </tr>\n",
       "    <tr>\n",
       "      <th>3</th>\n",
       "      <td>570301031407624196</td>\n",
       "      <td>negative</td>\n",
       "      <td>1.0000</td>\n",
       "      <td>Bad Flight</td>\n",
       "      <td>0.7033</td>\n",
       "      <td>Virgin America</td>\n",
       "      <td>NaN</td>\n",
       "      <td>jnardino</td>\n",
       "      <td>NaN</td>\n",
       "      <td>0</td>\n",
       "      <td>@VirginAmerica it's really aggressive to blast obnoxious \"entertainment\" in your guests' faces &amp;amp; they have little recourse</td>\n",
       "      <td>NaN</td>\n",
       "      <td>2015-02-24 11:15:36 -0800</td>\n",
       "      <td>NaN</td>\n",
       "      <td>Pacific Time (US &amp; Canada)</td>\n",
       "    </tr>\n",
       "    <tr>\n",
       "      <th>4</th>\n",
       "      <td>570300817074462722</td>\n",
       "      <td>negative</td>\n",
       "      <td>1.0000</td>\n",
       "      <td>Can't Tell</td>\n",
       "      <td>1.0000</td>\n",
       "      <td>Virgin America</td>\n",
       "      <td>NaN</td>\n",
       "      <td>jnardino</td>\n",
       "      <td>NaN</td>\n",
       "      <td>0</td>\n",
       "      <td>@VirginAmerica and it's a really big bad thing about it</td>\n",
       "      <td>NaN</td>\n",
       "      <td>2015-02-24 11:14:45 -0800</td>\n",
       "      <td>NaN</td>\n",
       "      <td>Pacific Time (US &amp; Canada)</td>\n",
       "    </tr>\n",
       "  </tbody>\n",
       "</table>\n",
       "</div>"
      ],
      "text/plain": [
       "             tweet_id airline_sentiment  airline_sentiment_confidence  \\\n",
       "0  570306133677760513           neutral                        1.0000   \n",
       "1  570301130888122368          positive                        0.3486   \n",
       "2  570301083672813571           neutral                        0.6837   \n",
       "3  570301031407624196          negative                        1.0000   \n",
       "4  570300817074462722          negative                        1.0000   \n",
       "\n",
       "  negativereason  negativereason_confidence         airline  \\\n",
       "0            NaN                        NaN  Virgin America   \n",
       "1            NaN                     0.0000  Virgin America   \n",
       "2            NaN                        NaN  Virgin America   \n",
       "3     Bad Flight                     0.7033  Virgin America   \n",
       "4     Can't Tell                     1.0000  Virgin America   \n",
       "\n",
       "  airline_sentiment_gold        name negativereason_gold  retweet_count  \\\n",
       "0                    NaN     cairdin                 NaN              0   \n",
       "1                    NaN    jnardino                 NaN              0   \n",
       "2                    NaN  yvonnalynn                 NaN              0   \n",
       "3                    NaN    jnardino                 NaN              0   \n",
       "4                    NaN    jnardino                 NaN              0   \n",
       "\n",
       "                                                                                                                             text  \\\n",
       "0                                                                                             @VirginAmerica What @dhepburn said.   \n",
       "1                                                        @VirginAmerica plus you've added commercials to the experience... tacky.   \n",
       "2                                                         @VirginAmerica I didn't today... Must mean I need to take another trip!   \n",
       "3  @VirginAmerica it's really aggressive to blast obnoxious \"entertainment\" in your guests' faces &amp; they have little recourse   \n",
       "4                                                                         @VirginAmerica and it's a really big bad thing about it   \n",
       "\n",
       "  tweet_coord              tweet_created tweet_location  \\\n",
       "0         NaN  2015-02-24 11:35:52 -0800            NaN   \n",
       "1         NaN  2015-02-24 11:15:59 -0800            NaN   \n",
       "2         NaN  2015-02-24 11:15:48 -0800      Lets Play   \n",
       "3         NaN  2015-02-24 11:15:36 -0800            NaN   \n",
       "4         NaN  2015-02-24 11:14:45 -0800            NaN   \n",
       "\n",
       "                user_timezone  \n",
       "0  Eastern Time (US & Canada)  \n",
       "1  Pacific Time (US & Canada)  \n",
       "2  Central Time (US & Canada)  \n",
       "3  Pacific Time (US & Canada)  \n",
       "4  Pacific Time (US & Canada)  "
      ]
     },
     "execution_count": 5,
     "metadata": {},
     "output_type": "execute_result"
    }
   ],
   "source": [
    "#df = pd.read_csv('/content/drive/MyDrive/Colab Notebooks/Clarusway_NLP/Clarusway/clarusway-ds-students-7-21-main/3- Classes_Labs/NLP/NLP-1/airline_tweets.csv')\n",
    "df = pd.read_csv(\"airline_tweets.csv\")\n",
    "df.head()"
   ]
  },
  {
   "cell_type": "code",
   "execution_count": null,
   "metadata": {
    "id": "su3k6KNJKS7-"
   },
   "outputs": [],
   "source": [
    "plt.figure(figsize=(20,7))\n",
    "ax = sns.countplot(data = df, x =\"airline\", hue = \"airline_sentiment\")\n",
    "for c in ax.containers:\n",
    "    labels = [f'{h} - {h/df.airline.count()*100:0.2f}%' if (h:=v.get_height()) >= 0 else '' for v in c]\n",
    "    ax.bar_label(c, labels=labels, fontsize=10, rotation=60)\n",
    "ax.legend(loc='upper left');"
   ]
  },
  {
   "cell_type": "code",
   "execution_count": null,
   "metadata": {},
   "outputs": [],
   "source": [
    "plt.figure(figsize=(22,7))\n",
    "ax = sns.countplot(data = df, x =\"negativereason\")\n",
    "for c in ax.containers:\n",
    "    labels = [f'{h} - {h/df.negativereason.count()*100:0.2f}%' if (h:=v.get_height()) >= 0 else '' for v in c]\n",
    "    ax.bar_label(c, labels=labels, fontsize=10, rotation=0)\n",
    "    plt.xticks(rotation =20);"
   ]
  },
  {
   "cell_type": "code",
   "execution_count": null,
   "metadata": {
    "id": "V4RYMogZKuMP"
   },
   "outputs": [],
   "source": [
    "plt.figure(figsize=(8,5))\n",
    "ax = sns.countplot(data = df, x =\"airline_sentiment\")\n",
    "for c in ax.containers:\n",
    "    labels = [f'{h} - {h/df.airline_sentiment.count()*100:0.2f}%' if (h:=v.get_height()) >= 0 else '' for v in c]\n",
    "    ax.bar_label(c, labels=labels, fontsize=10, rotation=0)"
   ]
  },
  {
   "cell_type": "code",
   "execution_count": null,
   "metadata": {
    "id": "Xpc7d8SorntS"
   },
   "outputs": [],
   "source": []
  },
  {
   "cell_type": "markdown",
   "metadata": {
    "id": "LjSumodkTW_R"
   },
   "source": [
    "## Cleaning Data"
   ]
  },
  {
   "cell_type": "code",
   "execution_count": 9,
   "metadata": {
    "id": "01lIVD8eJ1xo"
   },
   "outputs": [],
   "source": [
    "df2 = df.copy()"
   ]
  },
  {
   "cell_type": "code",
   "execution_count": 10,
   "metadata": {
    "colab": {
     "base_uri": "https://localhost:8080/"
    },
    "id": "pDtN25wbTW_S",
    "outputId": "2c202b65-8c81-493e-a64e-ee767f038546"
   },
   "outputs": [
    {
     "name": "stderr",
     "output_type": "stream",
     "text": [
      "[nltk_data] Downloading package stopwords to\n",
      "[nltk_data]     /Users/serdar/nltk_data...\n",
      "[nltk_data]   Package stopwords is already up-to-date!\n",
      "[nltk_data] Downloading package punkt to /Users/serdar/nltk_data...\n",
      "[nltk_data]   Package punkt is already up-to-date!\n",
      "[nltk_data] Downloading package wordnet to /Users/serdar/nltk_data...\n",
      "[nltk_data]   Package wordnet is already up-to-date!\n",
      "[nltk_data] Downloading package omw-1.4 to /Users/serdar/nltk_data...\n",
      "[nltk_data]   Package omw-1.4 is already up-to-date!\n"
     ]
    },
    {
     "data": {
      "text/plain": [
       "True"
      ]
     },
     "execution_count": 10,
     "metadata": {},
     "output_type": "execute_result"
    }
   ],
   "source": [
    "nltk.download('stopwords')\n",
    "nltk.download('punkt')\n",
    "nltk.download('wordnet')\n",
    "nltk.download('omw-1.4')"
   ]
  },
  {
   "cell_type": "code",
   "execution_count": 11,
   "metadata": {
    "id": "KBmVJSPcTW_S"
   },
   "outputs": [],
   "source": [
    "stop_words = stopwords.words('english')\n",
    "words_to_exclude_from_stopwords = ['not', \"n't\", 'ain', 'aren', \"aren't\", 'couldn', \"couldn't\", 'didn', \"didn't\", 'doesn', \"doesn't\", \"don't\", 'hadn', \n",
    "                                   \"hadn't\", 'hasn', \"hasn't\", 'haven', \"haven't\", 'isn', \"isn't\", 'ma', 'mightn', \"mightn't\", 'mustn', \"mustn't\", \n",
    "                                   'needn', \"needn't\", 'shan', \"shan't\", 'shouldn', \"shouldn't\", 'wasn', \"wasn't\", 'weren', \"weren't\", 'won', \n",
    "                                   \"won't\", 'wouldn', \"wouldn't\"]\n",
    "\n",
    "new_stopwords = [w for w in stop_words if w not in words_to_exclude_from_stopwords]"
   ]
  },
  {
   "cell_type": "code",
   "execution_count": 12,
   "metadata": {
    "id": "2RtYon2KTW_T"
   },
   "outputs": [],
   "source": [
    "def cleaning(data):\n",
    "\n",
    "    import re\n",
    "    \n",
    "    #1. Removing URLS\n",
    "    data = re.sub(r'http\\S+', '', data)\n",
    "\n",
    "    #2. Removing Tags\n",
    "    data = re.sub(r'#\\w+', '', data)\n",
    "\n",
    "    #3. Removing Mentions\n",
    "    data = re.sub(r'@\\w+', '', data)\n",
    "\n",
    "    #4. Contractions Expension & Tokenize\n",
    "    #text_tokens = word_tokenize(contractions.fix(data.lower())) \n",
    "    text_tokens = word_tokenize(data.replace(\"'\", '').lower())\n",
    "\n",
    "    # #5. Removing mentions\n",
    "    tokens_without_mention = [w for w in text_tokens if not w.startswith('@')]\n",
    "    \n",
    "    #6. Remove Puncs\n",
    "    tokens_without_punc = [w for w in tokens_without_mention if w.isalpha()]\n",
    "    \n",
    "    #7. Removing Stopwords\n",
    "    tokens_without_sw = [t for t in tokens_without_punc if t not in new_stopwords]\n",
    "    \n",
    "    #8. lemma\n",
    "    text_cleaned  = [WordNetLemmatizer().lemmatize(t) for t in tokens_without_sw]\n",
    "    \n",
    "    #joining\n",
    "    return \" \".join(text_cleaned)"
   ]
  },
  {
   "cell_type": "code",
   "execution_count": 13,
   "metadata": {
    "colab": {
     "base_uri": "https://localhost:8080/"
    },
    "id": "F6uTAwXGA1su",
    "outputId": "c8856394-7f3a-4612-da88-649d781665c1"
   },
   "outputs": [
    {
     "data": {
      "text/plain": [
       "to                        8535\n",
       "the                       5781\n",
       "I                         5054\n",
       "a                         4359\n",
       "for                       3921\n",
       "                          ... \n",
       "restrooms                    1\n",
       "2244                         1\n",
       "ski/bootbag                  1\n",
       "http://t.co/IH5w9nfKz2       1\n",
       "@ubergizmo                   1\n",
       "Length: 30105, dtype: int64"
      ]
     },
     "execution_count": 13,
     "metadata": {},
     "output_type": "execute_result"
    }
   ],
   "source": [
    "words = pd.Series(\" \".join(df[\"text\"]).split()).value_counts()\n",
    "words"
   ]
  },
  {
   "cell_type": "code",
   "execution_count": 14,
   "metadata": {
    "colab": {
     "base_uri": "https://localhost:8080/",
     "height": 537
    },
    "id": "yHrvtBfBsXvg",
    "outputId": "edcd0ab3-3acf-4b40-e78a-30dcd2b9aff4"
   },
   "outputs": [
    {
     "data": {
      "text/html": [
       "<div>\n",
       "<style scoped>\n",
       "    .dataframe tbody tr th:only-of-type {\n",
       "        vertical-align: middle;\n",
       "    }\n",
       "\n",
       "    .dataframe tbody tr th {\n",
       "        vertical-align: top;\n",
       "    }\n",
       "\n",
       "    .dataframe thead th {\n",
       "        text-align: right;\n",
       "    }\n",
       "</style>\n",
       "<table border=\"1\" class=\"dataframe\">\n",
       "  <thead>\n",
       "    <tr style=\"text-align: right;\">\n",
       "      <th></th>\n",
       "      <th>text</th>\n",
       "      <th>cleaned_text</th>\n",
       "    </tr>\n",
       "  </thead>\n",
       "  <tbody>\n",
       "    <tr>\n",
       "      <th>0</th>\n",
       "      <td>@VirginAmerica What @dhepburn said.</td>\n",
       "      <td>said</td>\n",
       "    </tr>\n",
       "    <tr>\n",
       "      <th>1</th>\n",
       "      <td>@VirginAmerica plus you've added commercials to the experience... tacky.</td>\n",
       "      <td>plus youve added commercial experience tacky</td>\n",
       "    </tr>\n",
       "    <tr>\n",
       "      <th>2</th>\n",
       "      <td>@VirginAmerica I didn't today... Must mean I need to take another trip!</td>\n",
       "      <td>didnt today must mean need take another trip</td>\n",
       "    </tr>\n",
       "    <tr>\n",
       "      <th>3</th>\n",
       "      <td>@VirginAmerica it's really aggressive to blast obnoxious \"entertainment\" in your guests' faces &amp;amp; they have little recourse</td>\n",
       "      <td>really aggressive blast obnoxious entertainment guest face amp little recourse</td>\n",
       "    </tr>\n",
       "    <tr>\n",
       "      <th>4</th>\n",
       "      <td>@VirginAmerica and it's a really big bad thing about it</td>\n",
       "      <td>really big bad thing</td>\n",
       "    </tr>\n",
       "    <tr>\n",
       "      <th>...</th>\n",
       "      <td>...</td>\n",
       "      <td>...</td>\n",
       "    </tr>\n",
       "    <tr>\n",
       "      <th>14635</th>\n",
       "      <td>@AmericanAir thank you we got on a different flight to Chicago.</td>\n",
       "      <td>thank got different flight chicago</td>\n",
       "    </tr>\n",
       "    <tr>\n",
       "      <th>14636</th>\n",
       "      <td>@AmericanAir leaving over 20 minutes Late Flight. No warnings or communication until we were 15 minutes Late Flight. That's called shitty customer svc</td>\n",
       "      <td>leaving minute late flight warning communication minute late flight thats called shitty customer svc</td>\n",
       "    </tr>\n",
       "    <tr>\n",
       "      <th>14637</th>\n",
       "      <td>@AmericanAir Please bring American Airlines to #BlackBerry10</td>\n",
       "      <td>please bring american airline</td>\n",
       "    </tr>\n",
       "    <tr>\n",
       "      <th>14638</th>\n",
       "      <td>@AmericanAir you have my money, you change my flight, and don't answer your phones! Any other suggestions so I can make my commitment??</td>\n",
       "      <td>money change flight dont answer phone suggestion make commitment</td>\n",
       "    </tr>\n",
       "    <tr>\n",
       "      <th>14639</th>\n",
       "      <td>@AmericanAir we have 8 ppl so we need 2 know how many seats are on the next flight. Plz put us on standby for 4 people on the next flight?</td>\n",
       "      <td>ppl need know many seat next flight plz put u standby people next flight</td>\n",
       "    </tr>\n",
       "  </tbody>\n",
       "</table>\n",
       "<p>14640 rows × 2 columns</p>\n",
       "</div>"
      ],
      "text/plain": [
       "                                                                                                                                                         text  \\\n",
       "0                                                                                                                         @VirginAmerica What @dhepburn said.   \n",
       "1                                                                                    @VirginAmerica plus you've added commercials to the experience... tacky.   \n",
       "2                                                                                     @VirginAmerica I didn't today... Must mean I need to take another trip!   \n",
       "3                              @VirginAmerica it's really aggressive to blast obnoxious \"entertainment\" in your guests' faces &amp; they have little recourse   \n",
       "4                                                                                                     @VirginAmerica and it's a really big bad thing about it   \n",
       "...                                                                                                                                                       ...   \n",
       "14635                                                                                         @AmericanAir thank you we got on a different flight to Chicago.   \n",
       "14636  @AmericanAir leaving over 20 minutes Late Flight. No warnings or communication until we were 15 minutes Late Flight. That's called shitty customer svc   \n",
       "14637                                                                                            @AmericanAir Please bring American Airlines to #BlackBerry10   \n",
       "14638                 @AmericanAir you have my money, you change my flight, and don't answer your phones! Any other suggestions so I can make my commitment??   \n",
       "14639              @AmericanAir we have 8 ppl so we need 2 know how many seats are on the next flight. Plz put us on standby for 4 people on the next flight?   \n",
       "\n",
       "                                                                                               cleaned_text  \n",
       "0                                                                                                      said  \n",
       "1                                                              plus youve added commercial experience tacky  \n",
       "2                                                              didnt today must mean need take another trip  \n",
       "3                            really aggressive blast obnoxious entertainment guest face amp little recourse  \n",
       "4                                                                                      really big bad thing  \n",
       "...                                                                                                     ...  \n",
       "14635                                                                    thank got different flight chicago  \n",
       "14636  leaving minute late flight warning communication minute late flight thats called shitty customer svc  \n",
       "14637                                                                         please bring american airline  \n",
       "14638                                      money change flight dont answer phone suggestion make commitment  \n",
       "14639                              ppl need know many seat next flight plz put u standby people next flight  \n",
       "\n",
       "[14640 rows x 2 columns]"
      ]
     },
     "execution_count": 14,
     "metadata": {},
     "output_type": "execute_result"
    }
   ],
   "source": [
    "df2[\"cleaned_text\"] = df2[\"text\"].apply(cleaning)\n",
    "df2[['text', 'cleaned_text']]"
   ]
  },
  {
   "cell_type": "code",
   "execution_count": null,
   "metadata": {
    "id": "72Q_RRowTW_T"
   },
   "outputs": [],
   "source": []
  },
  {
   "cell_type": "markdown",
   "metadata": {
    "id": "v2l_yPTiTW_W"
   },
   "source": [
    "## Features and Label"
   ]
  },
  {
   "cell_type": "code",
   "execution_count": 15,
   "metadata": {
    "colab": {
     "base_uri": "https://localhost:8080/",
     "height": 206
    },
    "id": "OYR6oX1pTW_W",
    "outputId": "bc30d1a4-8f7a-46e6-ba67-f46f23798fb4"
   },
   "outputs": [
    {
     "data": {
      "text/html": [
       "<div>\n",
       "<style scoped>\n",
       "    .dataframe tbody tr th:only-of-type {\n",
       "        vertical-align: middle;\n",
       "    }\n",
       "\n",
       "    .dataframe tbody tr th {\n",
       "        vertical-align: top;\n",
       "    }\n",
       "\n",
       "    .dataframe thead th {\n",
       "        text-align: right;\n",
       "    }\n",
       "</style>\n",
       "<table border=\"1\" class=\"dataframe\">\n",
       "  <thead>\n",
       "    <tr style=\"text-align: right;\">\n",
       "      <th></th>\n",
       "      <th>sentiment</th>\n",
       "      <th>cleaned_text</th>\n",
       "    </tr>\n",
       "  </thead>\n",
       "  <tbody>\n",
       "    <tr>\n",
       "      <th>0</th>\n",
       "      <td>neutral</td>\n",
       "      <td>said</td>\n",
       "    </tr>\n",
       "    <tr>\n",
       "      <th>1</th>\n",
       "      <td>positive</td>\n",
       "      <td>plus youve added commercial experience tacky</td>\n",
       "    </tr>\n",
       "    <tr>\n",
       "      <th>2</th>\n",
       "      <td>neutral</td>\n",
       "      <td>didnt today must mean need take another trip</td>\n",
       "    </tr>\n",
       "    <tr>\n",
       "      <th>3</th>\n",
       "      <td>negative</td>\n",
       "      <td>really aggressive blast obnoxious entertainment guest face amp little recourse</td>\n",
       "    </tr>\n",
       "    <tr>\n",
       "      <th>4</th>\n",
       "      <td>negative</td>\n",
       "      <td>really big bad thing</td>\n",
       "    </tr>\n",
       "  </tbody>\n",
       "</table>\n",
       "</div>"
      ],
      "text/plain": [
       "  sentiment  \\\n",
       "0   neutral   \n",
       "1  positive   \n",
       "2   neutral   \n",
       "3  negative   \n",
       "4  negative   \n",
       "\n",
       "                                                                     cleaned_text  \n",
       "0                                                                            said  \n",
       "1                                    plus youve added commercial experience tacky  \n",
       "2                                    didnt today must mean need take another trip  \n",
       "3  really aggressive blast obnoxious entertainment guest face amp little recourse  \n",
       "4                                                            really big bad thing  "
      ]
     },
     "execution_count": 15,
     "metadata": {},
     "output_type": "execute_result"
    }
   ],
   "source": [
    "df2.rename(columns={'airline_sentiment':'sentiment'}, inplace=True)\n",
    "df2 = df2.loc[:, [\"sentiment\", \"cleaned_text\"]]\n",
    "df2.head()"
   ]
  },
  {
   "cell_type": "markdown",
   "metadata": {
    "id": "LgQNnuxvTW_X"
   },
   "source": [
    "## Train Test Split"
   ]
  },
  {
   "cell_type": "code",
   "execution_count": 16,
   "metadata": {
    "id": "eQt0MBJos9E3"
   },
   "outputs": [],
   "source": [
    "X = df2['cleaned_text']\n",
    "y = df2['sentiment']"
   ]
  },
  {
   "cell_type": "code",
   "execution_count": 17,
   "metadata": {
    "id": "0LLrOX5ITW_X"
   },
   "outputs": [],
   "source": [
    "from sklearn.model_selection import train_test_split\n",
    "X_train, X_test, y_train, y_test = train_test_split(X, y, test_size=0.2, stratify=y, random_state=4299)"
   ]
  },
  {
   "cell_type": "code",
   "execution_count": 18,
   "metadata": {
    "colab": {
     "base_uri": "https://localhost:8080/"
    },
    "id": "VrJF0j-as_3k",
    "outputId": "e237cb50-4e8c-4ac4-f74b-83750b9c31e7"
   },
   "outputs": [
    {
     "data": {
      "text/plain": [
       "12953    thats im asking exception staffer moving last minute nonprofit amp losing want change ticket\n",
       "Name: cleaned_text, dtype: object"
      ]
     },
     "execution_count": 18,
     "metadata": {},
     "output_type": "execute_result"
    }
   ],
   "source": [
    "X_train.sample()"
   ]
  },
  {
   "cell_type": "markdown",
   "metadata": {
    "id": "Zu135BoTTW_X"
   },
   "source": [
    "## Vectorization"
   ]
  },
  {
   "cell_type": "code",
   "execution_count": 19,
   "metadata": {
    "id": "rQy-JGvGTW_Y"
   },
   "outputs": [],
   "source": [
    "from sklearn.feature_extraction.text import CountVectorizer"
   ]
  },
  {
   "cell_type": "code",
   "execution_count": 20,
   "metadata": {
    "id": "mowD8JccTW_Y"
   },
   "outputs": [],
   "source": [
    "vectorizer = CountVectorizer(preprocessor=cleaning, min_df=2, ngram_range=(1,2)) # (1-2), would give us n-grams from one to two words.\n",
    "X_train_count = vectorizer.fit_transform(X_train)\n",
    "X_test_count = vectorizer.transform(X_test)\n",
    "\n",
    "# min_df = 3    --> if a token frequencey is less than 3 accross the corpus, those tokens will be ignored \n",
    "# max_df = 1000 --> if token frequencey is more than 1000 then ignore them. (0.95, 1.0) and 1 vs 1.0\n",
    "# max_features = 1500 --> consider only top 1500 most frequent tokens "
   ]
  },
  {
   "cell_type": "code",
   "execution_count": 21,
   "metadata": {
    "colab": {
     "base_uri": "https://localhost:8080/"
    },
    "id": "mZPsdc09NxwI",
    "outputId": "36c2a13c-86af-4317-8a38-92ff928158e3"
   },
   "outputs": [
    {
     "data": {
      "text/plain": [
       "array([[0, 0, 0, ..., 0, 0, 0],\n",
       "       [0, 0, 0, ..., 0, 0, 0],\n",
       "       [0, 0, 0, ..., 0, 0, 0],\n",
       "       ...,\n",
       "       [0, 0, 0, ..., 0, 0, 0],\n",
       "       [0, 0, 0, ..., 0, 0, 0],\n",
       "       [0, 0, 0, ..., 0, 0, 0]])"
      ]
     },
     "execution_count": 21,
     "metadata": {},
     "output_type": "execute_result"
    }
   ],
   "source": [
    "X_test_count.toarray()"
   ]
  },
  {
   "cell_type": "code",
   "execution_count": 22,
   "metadata": {
    "colab": {
     "base_uri": "https://localhost:8080/"
    },
    "id": "4qYCPpEpNr7j",
    "outputId": "1742785f-81a1-49ca-e695-16821cdd6f1a"
   },
   "outputs": [
    {
     "data": {
      "text/plain": [
       "['aa',\n",
       " 'aa agent',\n",
       " 'aa amp',\n",
       " 'aa customer',\n",
       " 'aa dallas',\n",
       " 'aa dfw',\n",
       " 'aa doesnt',\n",
       " 'aa email',\n",
       " 'aa employee',\n",
       " 'aa family',\n",
       " 'aa flight',\n",
       " 'aa gate',\n",
       " 'aa gold',\n",
       " 'aa help',\n",
       " 'aa mile',\n",
       " 'aa monday',\n",
       " 'aa number',\n",
       " 'aa platinum',\n",
       " 'aa possible',\n",
       " 'aa usair']"
      ]
     },
     "execution_count": 22,
     "metadata": {},
     "output_type": "execute_result"
    }
   ],
   "source": [
    "vectorizer.get_feature_names()[:20]"
   ]
  },
  {
   "cell_type": "code",
   "execution_count": 23,
   "metadata": {},
   "outputs": [
    {
     "data": {
      "text/html": [
       "<div>\n",
       "<style scoped>\n",
       "    .dataframe tbody tr th:only-of-type {\n",
       "        vertical-align: middle;\n",
       "    }\n",
       "\n",
       "    .dataframe tbody tr th {\n",
       "        vertical-align: top;\n",
       "    }\n",
       "\n",
       "    .dataframe thead th {\n",
       "        text-align: right;\n",
       "    }\n",
       "</style>\n",
       "<table border=\"1\" class=\"dataframe\">\n",
       "  <thead>\n",
       "    <tr style=\"text-align: right;\">\n",
       "      <th></th>\n",
       "      <th>aa</th>\n",
       "      <th>aa agent</th>\n",
       "      <th>aa amp</th>\n",
       "      <th>aa customer</th>\n",
       "      <th>aa dallas</th>\n",
       "      <th>aa dfw</th>\n",
       "      <th>aa doesnt</th>\n",
       "      <th>aa email</th>\n",
       "      <th>aa employee</th>\n",
       "      <th>aa family</th>\n",
       "      <th>aa flight</th>\n",
       "      <th>aa gate</th>\n",
       "      <th>aa gold</th>\n",
       "      <th>aa help</th>\n",
       "      <th>aa mile</th>\n",
       "      <th>aa monday</th>\n",
       "      <th>aa number</th>\n",
       "      <th>aa platinum</th>\n",
       "      <th>aa possible</th>\n",
       "      <th>aa usair</th>\n",
       "      <th>aa would</th>\n",
       "      <th>aadv</th>\n",
       "      <th>aadv svc</th>\n",
       "      <th>aadvantage</th>\n",
       "      <th>aadvantage number</th>\n",
       "      <th>...</th>\n",
       "      <th>youve completely</th>\n",
       "      <th>youve got</th>\n",
       "      <th>youve known</th>\n",
       "      <th>youve lost</th>\n",
       "      <th>youve misunderstood</th>\n",
       "      <th>yr</th>\n",
       "      <th>yr flying</th>\n",
       "      <th>yr old</th>\n",
       "      <th>yr team</th>\n",
       "      <th>yuma</th>\n",
       "      <th>yummy</th>\n",
       "      <th>yup</th>\n",
       "      <th>yvonne</th>\n",
       "      <th>yvonne anthony</th>\n",
       "      <th>yvr</th>\n",
       "      <th>yyz</th>\n",
       "      <th>yyz terminal</th>\n",
       "      <th>zero</th>\n",
       "      <th>zero communication</th>\n",
       "      <th>zero entertainment</th>\n",
       "      <th>zero response</th>\n",
       "      <th>zone</th>\n",
       "      <th>zone nine</th>\n",
       "      <th>zoom</th>\n",
       "      <th>zurich</th>\n",
       "    </tr>\n",
       "  </thead>\n",
       "  <tbody>\n",
       "    <tr>\n",
       "      <th>0</th>\n",
       "      <td>0</td>\n",
       "      <td>0</td>\n",
       "      <td>0</td>\n",
       "      <td>0</td>\n",
       "      <td>0</td>\n",
       "      <td>0</td>\n",
       "      <td>0</td>\n",
       "      <td>0</td>\n",
       "      <td>0</td>\n",
       "      <td>0</td>\n",
       "      <td>0</td>\n",
       "      <td>0</td>\n",
       "      <td>0</td>\n",
       "      <td>0</td>\n",
       "      <td>0</td>\n",
       "      <td>0</td>\n",
       "      <td>0</td>\n",
       "      <td>0</td>\n",
       "      <td>0</td>\n",
       "      <td>0</td>\n",
       "      <td>0</td>\n",
       "      <td>0</td>\n",
       "      <td>0</td>\n",
       "      <td>0</td>\n",
       "      <td>0</td>\n",
       "      <td>...</td>\n",
       "      <td>0</td>\n",
       "      <td>0</td>\n",
       "      <td>0</td>\n",
       "      <td>0</td>\n",
       "      <td>0</td>\n",
       "      <td>0</td>\n",
       "      <td>0</td>\n",
       "      <td>0</td>\n",
       "      <td>0</td>\n",
       "      <td>0</td>\n",
       "      <td>0</td>\n",
       "      <td>0</td>\n",
       "      <td>0</td>\n",
       "      <td>0</td>\n",
       "      <td>0</td>\n",
       "      <td>0</td>\n",
       "      <td>0</td>\n",
       "      <td>0</td>\n",
       "      <td>0</td>\n",
       "      <td>0</td>\n",
       "      <td>0</td>\n",
       "      <td>0</td>\n",
       "      <td>0</td>\n",
       "      <td>0</td>\n",
       "      <td>0</td>\n",
       "    </tr>\n",
       "    <tr>\n",
       "      <th>1</th>\n",
       "      <td>0</td>\n",
       "      <td>0</td>\n",
       "      <td>0</td>\n",
       "      <td>0</td>\n",
       "      <td>0</td>\n",
       "      <td>0</td>\n",
       "      <td>0</td>\n",
       "      <td>0</td>\n",
       "      <td>0</td>\n",
       "      <td>0</td>\n",
       "      <td>0</td>\n",
       "      <td>0</td>\n",
       "      <td>0</td>\n",
       "      <td>0</td>\n",
       "      <td>0</td>\n",
       "      <td>0</td>\n",
       "      <td>0</td>\n",
       "      <td>0</td>\n",
       "      <td>0</td>\n",
       "      <td>0</td>\n",
       "      <td>0</td>\n",
       "      <td>0</td>\n",
       "      <td>0</td>\n",
       "      <td>0</td>\n",
       "      <td>0</td>\n",
       "      <td>...</td>\n",
       "      <td>0</td>\n",
       "      <td>0</td>\n",
       "      <td>0</td>\n",
       "      <td>0</td>\n",
       "      <td>0</td>\n",
       "      <td>0</td>\n",
       "      <td>0</td>\n",
       "      <td>0</td>\n",
       "      <td>0</td>\n",
       "      <td>0</td>\n",
       "      <td>0</td>\n",
       "      <td>0</td>\n",
       "      <td>0</td>\n",
       "      <td>0</td>\n",
       "      <td>0</td>\n",
       "      <td>0</td>\n",
       "      <td>0</td>\n",
       "      <td>0</td>\n",
       "      <td>0</td>\n",
       "      <td>0</td>\n",
       "      <td>0</td>\n",
       "      <td>0</td>\n",
       "      <td>0</td>\n",
       "      <td>0</td>\n",
       "      <td>0</td>\n",
       "    </tr>\n",
       "    <tr>\n",
       "      <th>2</th>\n",
       "      <td>0</td>\n",
       "      <td>0</td>\n",
       "      <td>0</td>\n",
       "      <td>0</td>\n",
       "      <td>0</td>\n",
       "      <td>0</td>\n",
       "      <td>0</td>\n",
       "      <td>0</td>\n",
       "      <td>0</td>\n",
       "      <td>0</td>\n",
       "      <td>0</td>\n",
       "      <td>0</td>\n",
       "      <td>0</td>\n",
       "      <td>0</td>\n",
       "      <td>0</td>\n",
       "      <td>0</td>\n",
       "      <td>0</td>\n",
       "      <td>0</td>\n",
       "      <td>0</td>\n",
       "      <td>0</td>\n",
       "      <td>0</td>\n",
       "      <td>0</td>\n",
       "      <td>0</td>\n",
       "      <td>0</td>\n",
       "      <td>0</td>\n",
       "      <td>...</td>\n",
       "      <td>0</td>\n",
       "      <td>0</td>\n",
       "      <td>0</td>\n",
       "      <td>0</td>\n",
       "      <td>0</td>\n",
       "      <td>0</td>\n",
       "      <td>0</td>\n",
       "      <td>0</td>\n",
       "      <td>0</td>\n",
       "      <td>0</td>\n",
       "      <td>0</td>\n",
       "      <td>0</td>\n",
       "      <td>0</td>\n",
       "      <td>0</td>\n",
       "      <td>0</td>\n",
       "      <td>0</td>\n",
       "      <td>0</td>\n",
       "      <td>0</td>\n",
       "      <td>0</td>\n",
       "      <td>0</td>\n",
       "      <td>0</td>\n",
       "      <td>1</td>\n",
       "      <td>0</td>\n",
       "      <td>0</td>\n",
       "      <td>0</td>\n",
       "    </tr>\n",
       "    <tr>\n",
       "      <th>3</th>\n",
       "      <td>0</td>\n",
       "      <td>0</td>\n",
       "      <td>0</td>\n",
       "      <td>0</td>\n",
       "      <td>0</td>\n",
       "      <td>0</td>\n",
       "      <td>0</td>\n",
       "      <td>0</td>\n",
       "      <td>0</td>\n",
       "      <td>0</td>\n",
       "      <td>0</td>\n",
       "      <td>0</td>\n",
       "      <td>0</td>\n",
       "      <td>0</td>\n",
       "      <td>0</td>\n",
       "      <td>0</td>\n",
       "      <td>0</td>\n",
       "      <td>0</td>\n",
       "      <td>0</td>\n",
       "      <td>0</td>\n",
       "      <td>0</td>\n",
       "      <td>0</td>\n",
       "      <td>0</td>\n",
       "      <td>0</td>\n",
       "      <td>0</td>\n",
       "      <td>...</td>\n",
       "      <td>0</td>\n",
       "      <td>0</td>\n",
       "      <td>0</td>\n",
       "      <td>0</td>\n",
       "      <td>0</td>\n",
       "      <td>0</td>\n",
       "      <td>0</td>\n",
       "      <td>0</td>\n",
       "      <td>0</td>\n",
       "      <td>0</td>\n",
       "      <td>0</td>\n",
       "      <td>0</td>\n",
       "      <td>0</td>\n",
       "      <td>0</td>\n",
       "      <td>0</td>\n",
       "      <td>0</td>\n",
       "      <td>0</td>\n",
       "      <td>0</td>\n",
       "      <td>0</td>\n",
       "      <td>0</td>\n",
       "      <td>0</td>\n",
       "      <td>0</td>\n",
       "      <td>0</td>\n",
       "      <td>0</td>\n",
       "      <td>0</td>\n",
       "    </tr>\n",
       "    <tr>\n",
       "      <th>4</th>\n",
       "      <td>0</td>\n",
       "      <td>0</td>\n",
       "      <td>0</td>\n",
       "      <td>0</td>\n",
       "      <td>0</td>\n",
       "      <td>0</td>\n",
       "      <td>0</td>\n",
       "      <td>0</td>\n",
       "      <td>0</td>\n",
       "      <td>0</td>\n",
       "      <td>0</td>\n",
       "      <td>0</td>\n",
       "      <td>0</td>\n",
       "      <td>0</td>\n",
       "      <td>0</td>\n",
       "      <td>0</td>\n",
       "      <td>0</td>\n",
       "      <td>0</td>\n",
       "      <td>0</td>\n",
       "      <td>0</td>\n",
       "      <td>0</td>\n",
       "      <td>0</td>\n",
       "      <td>0</td>\n",
       "      <td>0</td>\n",
       "      <td>0</td>\n",
       "      <td>...</td>\n",
       "      <td>0</td>\n",
       "      <td>0</td>\n",
       "      <td>0</td>\n",
       "      <td>0</td>\n",
       "      <td>0</td>\n",
       "      <td>0</td>\n",
       "      <td>0</td>\n",
       "      <td>0</td>\n",
       "      <td>0</td>\n",
       "      <td>0</td>\n",
       "      <td>0</td>\n",
       "      <td>0</td>\n",
       "      <td>0</td>\n",
       "      <td>0</td>\n",
       "      <td>0</td>\n",
       "      <td>0</td>\n",
       "      <td>0</td>\n",
       "      <td>0</td>\n",
       "      <td>0</td>\n",
       "      <td>0</td>\n",
       "      <td>0</td>\n",
       "      <td>0</td>\n",
       "      <td>0</td>\n",
       "      <td>0</td>\n",
       "      <td>0</td>\n",
       "    </tr>\n",
       "    <tr>\n",
       "      <th>...</th>\n",
       "      <td>...</td>\n",
       "      <td>...</td>\n",
       "      <td>...</td>\n",
       "      <td>...</td>\n",
       "      <td>...</td>\n",
       "      <td>...</td>\n",
       "      <td>...</td>\n",
       "      <td>...</td>\n",
       "      <td>...</td>\n",
       "      <td>...</td>\n",
       "      <td>...</td>\n",
       "      <td>...</td>\n",
       "      <td>...</td>\n",
       "      <td>...</td>\n",
       "      <td>...</td>\n",
       "      <td>...</td>\n",
       "      <td>...</td>\n",
       "      <td>...</td>\n",
       "      <td>...</td>\n",
       "      <td>...</td>\n",
       "      <td>...</td>\n",
       "      <td>...</td>\n",
       "      <td>...</td>\n",
       "      <td>...</td>\n",
       "      <td>...</td>\n",
       "      <td>...</td>\n",
       "      <td>...</td>\n",
       "      <td>...</td>\n",
       "      <td>...</td>\n",
       "      <td>...</td>\n",
       "      <td>...</td>\n",
       "      <td>...</td>\n",
       "      <td>...</td>\n",
       "      <td>...</td>\n",
       "      <td>...</td>\n",
       "      <td>...</td>\n",
       "      <td>...</td>\n",
       "      <td>...</td>\n",
       "      <td>...</td>\n",
       "      <td>...</td>\n",
       "      <td>...</td>\n",
       "      <td>...</td>\n",
       "      <td>...</td>\n",
       "      <td>...</td>\n",
       "      <td>...</td>\n",
       "      <td>...</td>\n",
       "      <td>...</td>\n",
       "      <td>...</td>\n",
       "      <td>...</td>\n",
       "      <td>...</td>\n",
       "      <td>...</td>\n",
       "    </tr>\n",
       "    <tr>\n",
       "      <th>11707</th>\n",
       "      <td>0</td>\n",
       "      <td>0</td>\n",
       "      <td>0</td>\n",
       "      <td>0</td>\n",
       "      <td>0</td>\n",
       "      <td>0</td>\n",
       "      <td>0</td>\n",
       "      <td>0</td>\n",
       "      <td>0</td>\n",
       "      <td>0</td>\n",
       "      <td>0</td>\n",
       "      <td>0</td>\n",
       "      <td>0</td>\n",
       "      <td>0</td>\n",
       "      <td>0</td>\n",
       "      <td>0</td>\n",
       "      <td>0</td>\n",
       "      <td>0</td>\n",
       "      <td>0</td>\n",
       "      <td>0</td>\n",
       "      <td>0</td>\n",
       "      <td>0</td>\n",
       "      <td>0</td>\n",
       "      <td>0</td>\n",
       "      <td>0</td>\n",
       "      <td>...</td>\n",
       "      <td>0</td>\n",
       "      <td>0</td>\n",
       "      <td>0</td>\n",
       "      <td>0</td>\n",
       "      <td>0</td>\n",
       "      <td>0</td>\n",
       "      <td>0</td>\n",
       "      <td>0</td>\n",
       "      <td>0</td>\n",
       "      <td>0</td>\n",
       "      <td>0</td>\n",
       "      <td>0</td>\n",
       "      <td>0</td>\n",
       "      <td>0</td>\n",
       "      <td>0</td>\n",
       "      <td>0</td>\n",
       "      <td>0</td>\n",
       "      <td>0</td>\n",
       "      <td>0</td>\n",
       "      <td>0</td>\n",
       "      <td>0</td>\n",
       "      <td>0</td>\n",
       "      <td>0</td>\n",
       "      <td>0</td>\n",
       "      <td>0</td>\n",
       "    </tr>\n",
       "    <tr>\n",
       "      <th>11708</th>\n",
       "      <td>0</td>\n",
       "      <td>0</td>\n",
       "      <td>0</td>\n",
       "      <td>0</td>\n",
       "      <td>0</td>\n",
       "      <td>0</td>\n",
       "      <td>0</td>\n",
       "      <td>0</td>\n",
       "      <td>0</td>\n",
       "      <td>0</td>\n",
       "      <td>0</td>\n",
       "      <td>0</td>\n",
       "      <td>0</td>\n",
       "      <td>0</td>\n",
       "      <td>0</td>\n",
       "      <td>0</td>\n",
       "      <td>0</td>\n",
       "      <td>0</td>\n",
       "      <td>0</td>\n",
       "      <td>0</td>\n",
       "      <td>0</td>\n",
       "      <td>0</td>\n",
       "      <td>0</td>\n",
       "      <td>0</td>\n",
       "      <td>0</td>\n",
       "      <td>...</td>\n",
       "      <td>0</td>\n",
       "      <td>0</td>\n",
       "      <td>0</td>\n",
       "      <td>0</td>\n",
       "      <td>0</td>\n",
       "      <td>0</td>\n",
       "      <td>0</td>\n",
       "      <td>0</td>\n",
       "      <td>0</td>\n",
       "      <td>0</td>\n",
       "      <td>0</td>\n",
       "      <td>0</td>\n",
       "      <td>0</td>\n",
       "      <td>0</td>\n",
       "      <td>0</td>\n",
       "      <td>0</td>\n",
       "      <td>0</td>\n",
       "      <td>0</td>\n",
       "      <td>0</td>\n",
       "      <td>0</td>\n",
       "      <td>0</td>\n",
       "      <td>0</td>\n",
       "      <td>0</td>\n",
       "      <td>0</td>\n",
       "      <td>0</td>\n",
       "    </tr>\n",
       "    <tr>\n",
       "      <th>11709</th>\n",
       "      <td>0</td>\n",
       "      <td>0</td>\n",
       "      <td>0</td>\n",
       "      <td>0</td>\n",
       "      <td>0</td>\n",
       "      <td>0</td>\n",
       "      <td>0</td>\n",
       "      <td>0</td>\n",
       "      <td>0</td>\n",
       "      <td>0</td>\n",
       "      <td>0</td>\n",
       "      <td>0</td>\n",
       "      <td>0</td>\n",
       "      <td>0</td>\n",
       "      <td>0</td>\n",
       "      <td>0</td>\n",
       "      <td>0</td>\n",
       "      <td>0</td>\n",
       "      <td>0</td>\n",
       "      <td>0</td>\n",
       "      <td>0</td>\n",
       "      <td>0</td>\n",
       "      <td>0</td>\n",
       "      <td>0</td>\n",
       "      <td>0</td>\n",
       "      <td>...</td>\n",
       "      <td>0</td>\n",
       "      <td>0</td>\n",
       "      <td>0</td>\n",
       "      <td>0</td>\n",
       "      <td>0</td>\n",
       "      <td>0</td>\n",
       "      <td>0</td>\n",
       "      <td>0</td>\n",
       "      <td>0</td>\n",
       "      <td>0</td>\n",
       "      <td>0</td>\n",
       "      <td>0</td>\n",
       "      <td>0</td>\n",
       "      <td>0</td>\n",
       "      <td>0</td>\n",
       "      <td>0</td>\n",
       "      <td>0</td>\n",
       "      <td>0</td>\n",
       "      <td>0</td>\n",
       "      <td>0</td>\n",
       "      <td>0</td>\n",
       "      <td>0</td>\n",
       "      <td>0</td>\n",
       "      <td>0</td>\n",
       "      <td>0</td>\n",
       "    </tr>\n",
       "    <tr>\n",
       "      <th>11710</th>\n",
       "      <td>0</td>\n",
       "      <td>0</td>\n",
       "      <td>0</td>\n",
       "      <td>0</td>\n",
       "      <td>0</td>\n",
       "      <td>0</td>\n",
       "      <td>0</td>\n",
       "      <td>0</td>\n",
       "      <td>0</td>\n",
       "      <td>0</td>\n",
       "      <td>0</td>\n",
       "      <td>0</td>\n",
       "      <td>0</td>\n",
       "      <td>0</td>\n",
       "      <td>0</td>\n",
       "      <td>0</td>\n",
       "      <td>0</td>\n",
       "      <td>0</td>\n",
       "      <td>0</td>\n",
       "      <td>0</td>\n",
       "      <td>0</td>\n",
       "      <td>0</td>\n",
       "      <td>0</td>\n",
       "      <td>0</td>\n",
       "      <td>0</td>\n",
       "      <td>...</td>\n",
       "      <td>0</td>\n",
       "      <td>0</td>\n",
       "      <td>0</td>\n",
       "      <td>0</td>\n",
       "      <td>0</td>\n",
       "      <td>0</td>\n",
       "      <td>0</td>\n",
       "      <td>0</td>\n",
       "      <td>0</td>\n",
       "      <td>0</td>\n",
       "      <td>0</td>\n",
       "      <td>0</td>\n",
       "      <td>0</td>\n",
       "      <td>0</td>\n",
       "      <td>0</td>\n",
       "      <td>0</td>\n",
       "      <td>0</td>\n",
       "      <td>0</td>\n",
       "      <td>0</td>\n",
       "      <td>0</td>\n",
       "      <td>0</td>\n",
       "      <td>0</td>\n",
       "      <td>0</td>\n",
       "      <td>0</td>\n",
       "      <td>0</td>\n",
       "    </tr>\n",
       "    <tr>\n",
       "      <th>11711</th>\n",
       "      <td>0</td>\n",
       "      <td>0</td>\n",
       "      <td>0</td>\n",
       "      <td>0</td>\n",
       "      <td>0</td>\n",
       "      <td>0</td>\n",
       "      <td>0</td>\n",
       "      <td>0</td>\n",
       "      <td>0</td>\n",
       "      <td>0</td>\n",
       "      <td>0</td>\n",
       "      <td>0</td>\n",
       "      <td>0</td>\n",
       "      <td>0</td>\n",
       "      <td>0</td>\n",
       "      <td>0</td>\n",
       "      <td>0</td>\n",
       "      <td>0</td>\n",
       "      <td>0</td>\n",
       "      <td>0</td>\n",
       "      <td>0</td>\n",
       "      <td>0</td>\n",
       "      <td>0</td>\n",
       "      <td>0</td>\n",
       "      <td>0</td>\n",
       "      <td>...</td>\n",
       "      <td>0</td>\n",
       "      <td>0</td>\n",
       "      <td>0</td>\n",
       "      <td>0</td>\n",
       "      <td>0</td>\n",
       "      <td>0</td>\n",
       "      <td>0</td>\n",
       "      <td>0</td>\n",
       "      <td>0</td>\n",
       "      <td>0</td>\n",
       "      <td>0</td>\n",
       "      <td>0</td>\n",
       "      <td>0</td>\n",
       "      <td>0</td>\n",
       "      <td>0</td>\n",
       "      <td>0</td>\n",
       "      <td>0</td>\n",
       "      <td>0</td>\n",
       "      <td>0</td>\n",
       "      <td>0</td>\n",
       "      <td>0</td>\n",
       "      <td>0</td>\n",
       "      <td>0</td>\n",
       "      <td>0</td>\n",
       "      <td>0</td>\n",
       "    </tr>\n",
       "  </tbody>\n",
       "</table>\n",
       "<p>11712 rows × 13483 columns</p>\n",
       "</div>"
      ],
      "text/plain": [
       "       aa  aa agent  aa amp  aa customer  aa dallas  aa dfw  aa doesnt  \\\n",
       "0       0         0       0            0          0       0          0   \n",
       "1       0         0       0            0          0       0          0   \n",
       "2       0         0       0            0          0       0          0   \n",
       "3       0         0       0            0          0       0          0   \n",
       "4       0         0       0            0          0       0          0   \n",
       "...    ..       ...     ...          ...        ...     ...        ...   \n",
       "11707   0         0       0            0          0       0          0   \n",
       "11708   0         0       0            0          0       0          0   \n",
       "11709   0         0       0            0          0       0          0   \n",
       "11710   0         0       0            0          0       0          0   \n",
       "11711   0         0       0            0          0       0          0   \n",
       "\n",
       "       aa email  aa employee  aa family  aa flight  aa gate  aa gold  aa help  \\\n",
       "0             0            0          0          0        0        0        0   \n",
       "1             0            0          0          0        0        0        0   \n",
       "2             0            0          0          0        0        0        0   \n",
       "3             0            0          0          0        0        0        0   \n",
       "4             0            0          0          0        0        0        0   \n",
       "...         ...          ...        ...        ...      ...      ...      ...   \n",
       "11707         0            0          0          0        0        0        0   \n",
       "11708         0            0          0          0        0        0        0   \n",
       "11709         0            0          0          0        0        0        0   \n",
       "11710         0            0          0          0        0        0        0   \n",
       "11711         0            0          0          0        0        0        0   \n",
       "\n",
       "       aa mile  aa monday  aa number  aa platinum  aa possible  aa usair  \\\n",
       "0            0          0          0            0            0         0   \n",
       "1            0          0          0            0            0         0   \n",
       "2            0          0          0            0            0         0   \n",
       "3            0          0          0            0            0         0   \n",
       "4            0          0          0            0            0         0   \n",
       "...        ...        ...        ...          ...          ...       ...   \n",
       "11707        0          0          0            0            0         0   \n",
       "11708        0          0          0            0            0         0   \n",
       "11709        0          0          0            0            0         0   \n",
       "11710        0          0          0            0            0         0   \n",
       "11711        0          0          0            0            0         0   \n",
       "\n",
       "       aa would  aadv  aadv svc  aadvantage  aadvantage number  ...  \\\n",
       "0             0     0         0           0                  0  ...   \n",
       "1             0     0         0           0                  0  ...   \n",
       "2             0     0         0           0                  0  ...   \n",
       "3             0     0         0           0                  0  ...   \n",
       "4             0     0         0           0                  0  ...   \n",
       "...         ...   ...       ...         ...                ...  ...   \n",
       "11707         0     0         0           0                  0  ...   \n",
       "11708         0     0         0           0                  0  ...   \n",
       "11709         0     0         0           0                  0  ...   \n",
       "11710         0     0         0           0                  0  ...   \n",
       "11711         0     0         0           0                  0  ...   \n",
       "\n",
       "       youve completely  youve got  youve known  youve lost  \\\n",
       "0                     0          0            0           0   \n",
       "1                     0          0            0           0   \n",
       "2                     0          0            0           0   \n",
       "3                     0          0            0           0   \n",
       "4                     0          0            0           0   \n",
       "...                 ...        ...          ...         ...   \n",
       "11707                 0          0            0           0   \n",
       "11708                 0          0            0           0   \n",
       "11709                 0          0            0           0   \n",
       "11710                 0          0            0           0   \n",
       "11711                 0          0            0           0   \n",
       "\n",
       "       youve misunderstood  yr  yr flying  yr old  yr team  yuma  yummy  yup  \\\n",
       "0                        0   0          0       0        0     0      0    0   \n",
       "1                        0   0          0       0        0     0      0    0   \n",
       "2                        0   0          0       0        0     0      0    0   \n",
       "3                        0   0          0       0        0     0      0    0   \n",
       "4                        0   0          0       0        0     0      0    0   \n",
       "...                    ...  ..        ...     ...      ...   ...    ...  ...   \n",
       "11707                    0   0          0       0        0     0      0    0   \n",
       "11708                    0   0          0       0        0     0      0    0   \n",
       "11709                    0   0          0       0        0     0      0    0   \n",
       "11710                    0   0          0       0        0     0      0    0   \n",
       "11711                    0   0          0       0        0     0      0    0   \n",
       "\n",
       "       yvonne  yvonne anthony  yvr  yyz  yyz terminal  zero  \\\n",
       "0           0               0    0    0             0     0   \n",
       "1           0               0    0    0             0     0   \n",
       "2           0               0    0    0             0     0   \n",
       "3           0               0    0    0             0     0   \n",
       "4           0               0    0    0             0     0   \n",
       "...       ...             ...  ...  ...           ...   ...   \n",
       "11707       0               0    0    0             0     0   \n",
       "11708       0               0    0    0             0     0   \n",
       "11709       0               0    0    0             0     0   \n",
       "11710       0               0    0    0             0     0   \n",
       "11711       0               0    0    0             0     0   \n",
       "\n",
       "       zero communication  zero entertainment  zero response  zone  zone nine  \\\n",
       "0                       0                   0              0     0          0   \n",
       "1                       0                   0              0     0          0   \n",
       "2                       0                   0              0     1          0   \n",
       "3                       0                   0              0     0          0   \n",
       "4                       0                   0              0     0          0   \n",
       "...                   ...                 ...            ...   ...        ...   \n",
       "11707                   0                   0              0     0          0   \n",
       "11708                   0                   0              0     0          0   \n",
       "11709                   0                   0              0     0          0   \n",
       "11710                   0                   0              0     0          0   \n",
       "11711                   0                   0              0     0          0   \n",
       "\n",
       "       zoom  zurich  \n",
       "0         0       0  \n",
       "1         0       0  \n",
       "2         0       0  \n",
       "3         0       0  \n",
       "4         0       0  \n",
       "...     ...     ...  \n",
       "11707     0       0  \n",
       "11708     0       0  \n",
       "11709     0       0  \n",
       "11710     0       0  \n",
       "11711     0       0  \n",
       "\n",
       "[11712 rows x 13483 columns]"
      ]
     },
     "execution_count": 23,
     "metadata": {},
     "output_type": "execute_result"
    }
   ],
   "source": [
    "pd.DataFrame(X_train_count.toarray(), columns = vectorizer.get_feature_names())"
   ]
  },
  {
   "cell_type": "markdown",
   "metadata": {
    "id": "XZAPPuUHTW_Y"
   },
   "source": [
    "## Model Comparisons - Vectorization"
   ]
  },
  {
   "cell_type": "code",
   "execution_count": 24,
   "metadata": {
    "id": "YNaItFVdTW_Y"
   },
   "outputs": [],
   "source": [
    "from sklearn.metrics import confusion_matrix, classification_report, f1_score, recall_score"
   ]
  },
  {
   "cell_type": "code",
   "execution_count": 25,
   "metadata": {
    "id": "sNygwcktNrCf"
   },
   "outputs": [],
   "source": [
    "def eval1(model, X_train, X_test):\n",
    "    y_pred = model.predict(X_test)\n",
    "    y_pred_train = model.predict(X_train)\n",
    "    print(confusion_matrix(y_test, y_pred))\n",
    "    print(\"Test_Set\")\n",
    "    print(classification_report(y_test,y_pred))\n",
    "    print(\"Train_Set\")\n",
    "    print(classification_report(y_train,y_pred_train))\n",
    "    "
   ]
  },
  {
   "cell_type": "code",
   "execution_count": 26,
   "metadata": {},
   "outputs": [],
   "source": [
    "from sklearn.metrics import plot_confusion_matrix, classification_report\n",
    "def eval2(model, X_test):\n",
    "    preds = model.predict(X_test)\n",
    "    print(classification_report(y_test,preds))\n",
    "    #sns.set_context('poster')\n",
    "    fig, ax = plt.subplots(figsize=(7, 7))\n",
    "    plot_confusion_matrix(model, X_test, y_test, ax = ax, values_format = '.0f')"
   ]
  },
  {
   "cell_type": "markdown",
   "metadata": {
    "id": "JMkLqBTGTW_Z"
   },
   "source": [
    "## Naive Bayes"
   ]
  },
  {
   "cell_type": "code",
   "execution_count": 27,
   "metadata": {
    "id": "dTdJNfznTW_Z"
   },
   "outputs": [],
   "source": [
    "from sklearn.naive_bayes import MultinomialNB, BernoulliNB # BernoulliNB for binary model"
   ]
  },
  {
   "cell_type": "code",
   "execution_count": 28,
   "metadata": {
    "id": "JQgzRnbJtfQ2"
   },
   "outputs": [
    {
     "data": {
      "text/plain": [
       "MultinomialNB(alpha=10)"
      ]
     },
     "execution_count": 28,
     "metadata": {},
     "output_type": "execute_result"
    }
   ],
   "source": [
    "nb = MultinomialNB(alpha=10)\n",
    "nb.fit(X_train_count,y_train)"
   ]
  },
  {
   "cell_type": "code",
   "execution_count": 29,
   "metadata": {},
   "outputs": [
    {
     "name": "stdout",
     "output_type": "stream",
     "text": [
      "NB MODEL\n",
      "[[1825    8    3]\n",
      " [ 539   67   14]\n",
      " [ 374    7   91]]\n",
      "Test_Set\n",
      "              precision    recall  f1-score   support\n",
      "\n",
      "    negative       0.67      0.99      0.80      1836\n",
      "     neutral       0.82      0.11      0.19       620\n",
      "    positive       0.84      0.19      0.31       472\n",
      "\n",
      "    accuracy                           0.68      2928\n",
      "   macro avg       0.78      0.43      0.43      2928\n",
      "weighted avg       0.73      0.68      0.59      2928\n",
      "\n",
      "Train_Set\n",
      "              precision    recall  f1-score   support\n",
      "\n",
      "    negative       0.68      1.00      0.81      7342\n",
      "     neutral       0.85      0.15      0.25      2479\n",
      "    positive       0.93      0.27      0.42      1891\n",
      "\n",
      "    accuracy                           0.70     11712\n",
      "   macro avg       0.82      0.47      0.49     11712\n",
      "weighted avg       0.76      0.70      0.63     11712\n",
      "\n"
     ]
    }
   ],
   "source": [
    "print(\"NB MODEL\")\n",
    "eval1(nb, X_train_count, X_test_count)"
   ]
  },
  {
   "cell_type": "code",
   "execution_count": 30,
   "metadata": {},
   "outputs": [
    {
     "name": "stdout",
     "output_type": "stream",
     "text": [
      "              precision    recall  f1-score   support\n",
      "\n",
      "    negative       0.67      0.99      0.80      1836\n",
      "     neutral       0.82      0.11      0.19       620\n",
      "    positive       0.84      0.19      0.31       472\n",
      "\n",
      "    accuracy                           0.68      2928\n",
      "   macro avg       0.78      0.43      0.43      2928\n",
      "weighted avg       0.73      0.68      0.59      2928\n",
      "\n"
     ]
    },
    {
     "data": {
      "image/png": "[encoded data removed]",
      "text/plain": [
       "<Figure size 504x504 with 2 Axes>"
      ]
     },
     "metadata": {
      "needs_background": "light"
     },
     "output_type": "display_data"
    }
   ],
   "source": [
    "eval2(nb, X_test_count)"
   ]
  },
  {
   "cell_type": "code",
   "execution_count": 31,
   "metadata": {},
   "outputs": [
    {
     "data": {
      "text/plain": [
       "test_accuracy          0.678621\n",
       "train_accuracy         0.694274\n",
       "test_precision-neg     0.667210\n",
       "train_precision-neg    0.677164\n",
       "test_recall-neg        0.994688\n",
       "train_recall-neg       0.995884\n",
       "test_f1-neg            0.798675\n",
       "train_f1-neg           0.806165\n",
       "dtype: float64"
      ]
     },
     "execution_count": 31,
     "metadata": {},
     "output_type": "execute_result"
    }
   ],
   "source": [
    "from sklearn.model_selection import cross_validate\n",
    "from sklearn.metrics import make_scorer\n",
    "from sklearn.metrics import f1_score, accuracy_score, precision_score, recall_score\n",
    "\n",
    "scoring = {'accuracy': make_scorer(accuracy_score),\n",
    "            'precision-neg': make_scorer(precision_score, average=None, labels=[\"negative\"]),\n",
    "            'recall-neg': make_scorer(recall_score, average=None, labels = [\"negative\"]),\n",
    "            'f1-neg': make_scorer(f1_score, average=None, labels = [\"negative\"])}\n",
    "\n",
    "model = MultinomialNB(alpha=10)\n",
    "scores = cross_validate(model, X_train_count, y_train, scoring = scoring, cv = 10, return_train_score=True)\n",
    "df_scores = pd.DataFrame(scores, index = range(1, 11))\n",
    "df_scores.mean()[2:]"
   ]
  },
  {
   "cell_type": "code",
   "execution_count": 32,
   "metadata": {},
   "outputs": [
    {
     "data": {
      "image/png": "[encoded data removed]",
      "text/plain": [
       "<Figure size 576x396 with 1 Axes>"
      ]
     },
     "metadata": {},
     "output_type": "display_data"
    }
   ],
   "source": [
    "from yellowbrick.classifier import PrecisionRecallCurve\n",
    "\n",
    "viz = PrecisionRecallCurve(\n",
    "    MultinomialNB(alpha=10),\n",
    "    classes=nb.classes_,\n",
    "    per_class=True,\n",
    "    cmap=\"Set1\"\n",
    ")\n",
    "viz.fit(X_train_count,y_train)\n",
    "viz.score(X_test_count, y_test)\n",
    "viz.show();"
   ]
  },
  {
   "cell_type": "code",
   "execution_count": 33,
   "metadata": {},
   "outputs": [],
   "source": [
    "y_pred = nb.predict(X_test_count)\n",
    "nb_count_rec_neg = recall_score(y_test, y_pred, labels = [\"negative\"], average = None)\n",
    "nb_count_f1_neg = f1_score(y_test, y_pred, labels = [\"negative\"], average = None)\n",
    "nb_AP_neg = viz.score_[\"negative\"]"
   ]
  },
  {
   "cell_type": "markdown",
   "metadata": {
    "id": "8K54YwLHTW_Z"
   },
   "source": [
    "## Logistic Regression"
   ]
  },
  {
   "cell_type": "code",
   "execution_count": 34,
   "metadata": {
    "colab": {
     "base_uri": "https://localhost:8080/"
    },
    "id": "lfu8D2wKTW_a",
    "outputId": "cddc379a-afdb-4239-b9d2-401c03dcf90a"
   },
   "outputs": [
    {
     "data": {
      "text/plain": [
       "LogisticRegression(C=0.02, max_iter=1000)"
      ]
     },
     "execution_count": 34,
     "metadata": {},
     "output_type": "execute_result"
    }
   ],
   "source": [
    "from sklearn.linear_model import LogisticRegression\n",
    "log = LogisticRegression(C = 0.02, max_iter=1000) #class_weight='balanced'\n",
    "log.fit(X_train_count,y_train)"
   ]
  },
  {
   "cell_type": "code",
   "execution_count": 35,
   "metadata": {
    "colab": {
     "base_uri": "https://localhost:8080/",
     "height": 676
    },
    "id": "fOkEmpDCTW_a",
    "outputId": "489c9736-dc51-4d1e-d281-34ad1018333e"
   },
   "outputs": [
    {
     "name": "stdout",
     "output_type": "stream",
     "text": [
      "LOG MODEL\n",
      "[[1773   26   37]\n",
      " [ 406  175   39]\n",
      " [ 210   31  231]]\n",
      "Test_Set\n",
      "              precision    recall  f1-score   support\n",
      "\n",
      "    negative       0.74      0.97      0.84      1836\n",
      "     neutral       0.75      0.28      0.41       620\n",
      "    positive       0.75      0.49      0.59       472\n",
      "\n",
      "    accuracy                           0.74      2928\n",
      "   macro avg       0.75      0.58      0.61      2928\n",
      "weighted avg       0.75      0.74      0.71      2928\n",
      "\n",
      "Train_Set\n",
      "              precision    recall  f1-score   support\n",
      "\n",
      "    negative       0.76      0.97      0.86      7342\n",
      "     neutral       0.81      0.35      0.49      2479\n",
      "    positive       0.81      0.54      0.65      1891\n",
      "\n",
      "    accuracy                           0.77     11712\n",
      "   macro avg       0.79      0.62      0.66     11712\n",
      "weighted avg       0.78      0.77      0.74     11712\n",
      "\n"
     ]
    }
   ],
   "source": [
    "print(\"LOG MODEL\")\n",
    "eval1(log, X_train_count, X_test_count)"
   ]
  },
  {
   "cell_type": "code",
   "execution_count": 36,
   "metadata": {},
   "outputs": [
    {
     "name": "stdout",
     "output_type": "stream",
     "text": [
      "              precision    recall  f1-score   support\n",
      "\n",
      "    negative       0.74      0.97      0.84      1836\n",
      "     neutral       0.75      0.28      0.41       620\n",
      "    positive       0.75      0.49      0.59       472\n",
      "\n",
      "    accuracy                           0.74      2928\n",
      "   macro avg       0.75      0.58      0.61      2928\n",
      "weighted avg       0.75      0.74      0.71      2928\n",
      "\n"
     ]
    },
    {
     "data": {
      "image/png": "[encoded data removed]",
      "text/plain": [
       "<Figure size 504x504 with 2 Axes>"
      ]
     },
     "metadata": {},
     "output_type": "display_data"
    }
   ],
   "source": [
    "eval2(log, X_test_count)"
   ]
  },
  {
   "cell_type": "code",
   "execution_count": 37,
   "metadata": {},
   "outputs": [
    {
     "data": {
      "text/plain": [
       "test_accuracy          0.738217\n",
       "train_accuracy         0.766953\n",
       "test_precision-neg     0.736116\n",
       "train_precision-neg    0.756915\n",
       "test_recall-neg        0.965813\n",
       "train_recall-neg       0.975423\n",
       "test_f1-neg            0.835423\n",
       "train_f1-neg           0.852387\n",
       "dtype: float64"
      ]
     },
     "execution_count": 37,
     "metadata": {},
     "output_type": "execute_result"
    }
   ],
   "source": [
    "model = LogisticRegression(C = 0.02, max_iter=1000)\n",
    "scores = cross_validate(model, X_train_count, y_train, scoring = scoring, cv = 10, return_train_score=True)\n",
    "df_scores = pd.DataFrame(scores, index = range(1, 11))\n",
    "df_scores.mean()[2:]"
   ]
  },
  {
   "cell_type": "code",
   "execution_count": 38,
   "metadata": {},
   "outputs": [
    {
     "data": {
      "image/png": "[encoded data removed]",
      "text/plain": [
       "<Figure size 576x396 with 1 Axes>"
      ]
     },
     "metadata": {},
     "output_type": "display_data"
    }
   ],
   "source": [
    "from yellowbrick.classifier import PrecisionRecallCurve\n",
    "\n",
    "viz = PrecisionRecallCurve(\n",
    "    LogisticRegression(C = 0.02, max_iter=1000),\n",
    "    classes=log.classes_,\n",
    "    per_class=True,\n",
    "    cmap=\"Set1\",\n",
    "    fill_area=True\n",
    ")\n",
    "viz.fit(X_train_count,y_train)\n",
    "viz.score(X_test_count, y_test)\n",
    "viz.show();"
   ]
  },
  {
   "cell_type": "code",
   "execution_count": 39,
   "metadata": {},
   "outputs": [],
   "source": [
    "y_pred = log.predict(X_test_count)\n",
    "log_count_rec_neg = recall_score(y_test, y_pred, labels = [\"negative\"], average = None)\n",
    "log_count_f1_neg = f1_score(y_test, y_pred, labels = [\"negative\"], average = None)\n",
    "log_AP_neg = viz.score_[\"negative\"]"
   ]
  },
  {
   "cell_type": "code",
   "execution_count": 40,
   "metadata": {
    "colab": {
     "base_uri": "https://localhost:8080/"
    },
    "id": "b7rXEwcGaxv1",
    "outputId": "efe1ab28-e02f-4586-fa6d-430ef6f69795"
   },
   "outputs": [
    {
     "data": {
      "text/plain": [
       "LogisticRegression(C=0.02, class_weight='balanced', max_iter=1000)"
      ]
     },
     "execution_count": 40,
     "metadata": {},
     "output_type": "execute_result"
    }
   ],
   "source": [
    "log = LogisticRegression(C = 0.02, max_iter=1000, class_weight='balanced')\n",
    "log.fit(X_train_count,y_train)"
   ]
  },
  {
   "cell_type": "code",
   "execution_count": 41,
   "metadata": {
    "colab": {
     "base_uri": "https://localhost:8080/",
     "height": 676
    },
    "id": "CGuJCct6a2fG",
    "outputId": "fc1b6c35-b321-4d9b-97de-b6d138f62431"
   },
   "outputs": [
    {
     "name": "stdout",
     "output_type": "stream",
     "text": [
      "LOG MODEL BALANCED\n",
      "[[1339  388  109]\n",
      " [  82  482   56]\n",
      " [  51  106  315]]\n",
      "Test_Set\n",
      "              precision    recall  f1-score   support\n",
      "\n",
      "    negative       0.91      0.73      0.81      1836\n",
      "     neutral       0.49      0.78      0.60       620\n",
      "    positive       0.66      0.67      0.66       472\n",
      "\n",
      "    accuracy                           0.73      2928\n",
      "   macro avg       0.69      0.72      0.69      2928\n",
      "weighted avg       0.78      0.73      0.74      2928\n",
      "\n",
      "Train_Set\n",
      "              precision    recall  f1-score   support\n",
      "\n",
      "    negative       0.93      0.74      0.83      7342\n",
      "     neutral       0.52      0.80      0.63      2479\n",
      "    positive       0.70      0.76      0.73      1891\n",
      "\n",
      "    accuracy                           0.76     11712\n",
      "   macro avg       0.72      0.77      0.73     11712\n",
      "weighted avg       0.81      0.76      0.77     11712\n",
      "\n"
     ]
    }
   ],
   "source": [
    "print(\"LOG MODEL BALANCED\")\n",
    "eval1(log, X_train_count, X_test_count)"
   ]
  },
  {
   "cell_type": "markdown",
   "metadata": {
    "id": "ftdFmyxBTW_a"
   },
   "source": [
    "## SVM"
   ]
  },
  {
   "cell_type": "code",
   "execution_count": 42,
   "metadata": {
    "colab": {
     "base_uri": "https://localhost:8080/"
    },
    "id": "R733gxkvTW_a",
    "outputId": "31d911c4-8888-4bca-b236-214185418f96"
   },
   "outputs": [
    {
     "data": {
      "text/plain": [
       "LinearSVC(C=0.01)"
      ]
     },
     "execution_count": 42,
     "metadata": {},
     "output_type": "execute_result"
    }
   ],
   "source": [
    "from sklearn.svm import LinearSVC\n",
    "svc = LinearSVC(C=0.01)\n",
    "svc.fit(X_train_count,y_train)"
   ]
  },
  {
   "cell_type": "code",
   "execution_count": 43,
   "metadata": {
    "colab": {
     "base_uri": "https://localhost:8080/",
     "height": 678
    },
    "id": "EsBd369PbHi4",
    "outputId": "79243c71-31b3-4f1b-ce93-601e8c14a6a8"
   },
   "outputs": [
    {
     "name": "stdout",
     "output_type": "stream",
     "text": [
      "SVC MODEL\n",
      "[[1733   56   47]\n",
      " [ 322  252   46]\n",
      " [ 142   51  279]]\n",
      "Test_Set\n",
      "              precision    recall  f1-score   support\n",
      "\n",
      "    negative       0.79      0.94      0.86      1836\n",
      "     neutral       0.70      0.41      0.51       620\n",
      "    positive       0.75      0.59      0.66       472\n",
      "\n",
      "    accuracy                           0.77      2928\n",
      "   macro avg       0.75      0.65      0.68      2928\n",
      "weighted avg       0.76      0.77      0.75      2928\n",
      "\n",
      "Train_Set\n",
      "              precision    recall  f1-score   support\n",
      "\n",
      "    negative       0.84      0.97      0.90      7342\n",
      "     neutral       0.82      0.56      0.67      2479\n",
      "    positive       0.84      0.68      0.75      1891\n",
      "\n",
      "    accuracy                           0.84     11712\n",
      "   macro avg       0.83      0.74      0.77     11712\n",
      "weighted avg       0.83      0.84      0.83     11712\n",
      "\n"
     ]
    }
   ],
   "source": [
    "print(\"SVC MODEL\")\n",
    "eval1(svc, X_train_count, X_test_count)"
   ]
  },
  {
   "cell_type": "code",
   "execution_count": 44,
   "metadata": {},
   "outputs": [
    {
     "data": {
      "text/plain": [
       "test_accuracy          0.772882\n",
       "train_accuracy         0.833352\n",
       "test_precision-neg     0.789103\n",
       "train_precision-neg    0.833298\n",
       "test_recall-neg        0.940616\n",
       "train_recall-neg       0.969339\n",
       "test_f1-neg            0.858155\n",
       "train_f1-neg           0.896184\n",
       "dtype: float64"
      ]
     },
     "execution_count": 44,
     "metadata": {},
     "output_type": "execute_result"
    }
   ],
   "source": [
    "model = LinearSVC(C=0.01)\n",
    "scores = cross_validate(model, X_train_count, y_train, scoring = scoring, cv = 10, return_train_score=True)\n",
    "df_scores = pd.DataFrame(scores, index = range(1, 11))\n",
    "df_scores.mean()[2:]"
   ]
  },
  {
   "cell_type": "code",
   "execution_count": 45,
   "metadata": {},
   "outputs": [
    {
     "data": {
      "image/png": "[encoded data removed]",
      "text/plain": [
       "<Figure size 576x396 with 1 Axes>"
      ]
     },
     "metadata": {},
     "output_type": "display_data"
    }
   ],
   "source": [
    "viz = PrecisionRecallCurve(\n",
    "    LinearSVC(C=0.01),\n",
    "    classes=svc.classes_,\n",
    "    per_class=True,\n",
    "    cmap=\"Set1\"\n",
    ")\n",
    "viz.fit(X_train_count,y_train)\n",
    "viz.score(X_test_count, y_test)\n",
    "viz.show();"
   ]
  },
  {
   "cell_type": "code",
   "execution_count": 46,
   "metadata": {},
   "outputs": [],
   "source": [
    "y_pred = svc.predict(X_test_count)\n",
    "svc_count_rec_neg = recall_score(y_test, y_pred, labels = [\"negative\"], average = None)\n",
    "svc_count_f1_neg = f1_score(y_test, y_pred, labels = [\"negative\"], average = None)\n",
    "svc_AP_neg = viz.score_[\"negative\"]"
   ]
  },
  {
   "cell_type": "code",
   "execution_count": null,
   "metadata": {},
   "outputs": [],
   "source": []
  },
  {
   "cell_type": "markdown",
   "metadata": {
    "id": "W9XHC2sPTW_b"
   },
   "source": [
    "## KNN"
   ]
  },
  {
   "cell_type": "code",
   "execution_count": 47,
   "metadata": {
    "colab": {
     "base_uri": "https://localhost:8080/"
    },
    "id": "NolGDXktTW_b",
    "outputId": "c57084c3-def2-4d69-a78c-4fcd57ce344e"
   },
   "outputs": [
    {
     "data": {
      "text/plain": [
       "KNeighborsClassifier(n_neighbors=7)"
      ]
     },
     "execution_count": 47,
     "metadata": {},
     "output_type": "execute_result"
    }
   ],
   "source": [
    "from sklearn.neighbors import KNeighborsClassifier\n",
    "knn = KNeighborsClassifier(n_neighbors=7)\n",
    "knn.fit(X_train_count,y_train)"
   ]
  },
  {
   "cell_type": "code",
   "execution_count": 48,
   "metadata": {
    "colab": {
     "base_uri": "https://localhost:8080/",
     "height": 678
    },
    "id": "NlfkVyRXbTez",
    "outputId": "209e36ff-39a5-4035-f34b-d8fce20bf689"
   },
   "outputs": [
    {
     "name": "stdout",
     "output_type": "stream",
     "text": [
      "KNN MODEL\n",
      "[[779 963  94]\n",
      " [ 75 487  58]\n",
      " [ 42 209 221]]\n",
      "Test_Set\n",
      "              precision    recall  f1-score   support\n",
      "\n",
      "    negative       0.87      0.42      0.57      1836\n",
      "     neutral       0.29      0.79      0.43       620\n",
      "    positive       0.59      0.47      0.52       472\n",
      "\n",
      "    accuracy                           0.51      2928\n",
      "   macro avg       0.59      0.56      0.51      2928\n",
      "weighted avg       0.70      0.51      0.53      2928\n",
      "\n",
      "Train_Set\n",
      "              precision    recall  f1-score   support\n",
      "\n",
      "    negative       0.92      0.57      0.71      7342\n",
      "     neutral       0.37      0.84      0.52      2479\n",
      "    positive       0.70      0.56      0.62      1891\n",
      "\n",
      "    accuracy                           0.63     11712\n",
      "   macro avg       0.66      0.66      0.62     11712\n",
      "weighted avg       0.77      0.63      0.65     11712\n",
      "\n"
     ]
    }
   ],
   "source": [
    "print(\"KNN MODEL\")\n",
    "eval1(knn, X_train_count, X_test_count)"
   ]
  },
  {
   "cell_type": "code",
   "execution_count": 49,
   "metadata": {},
   "outputs": [
    {
     "data": {
      "text/plain": [
       "test_accuracy          0.506919\n",
       "train_accuracy         0.621917\n",
       "test_precision-neg     0.857686\n",
       "train_precision-neg    0.913329\n",
       "test_recall-neg        0.418013\n",
       "train_recall-neg       0.564424\n",
       "test_f1-neg            0.561793\n",
       "train_f1-neg           0.697529\n",
       "dtype: float64"
      ]
     },
     "execution_count": 49,
     "metadata": {},
     "output_type": "execute_result"
    }
   ],
   "source": [
    "model = KNeighborsClassifier(n_neighbors=7)\n",
    "scores = cross_validate(model, X_train_count, y_train, scoring = scoring, cv = 10, return_train_score=True)\n",
    "df_scores = pd.DataFrame(scores, index = range(1, 11))\n",
    "df_scores.mean()[2:]"
   ]
  },
  {
   "cell_type": "code",
   "execution_count": 50,
   "metadata": {},
   "outputs": [
    {
     "data": {
      "image/png": "[encoded data removed]",
      "text/plain": [
       "<Figure size 576x396 with 1 Axes>"
      ]
     },
     "metadata": {},
     "output_type": "display_data"
    }
   ],
   "source": [
    "viz = PrecisionRecallCurve(\n",
    "    KNeighborsClassifier(n_neighbors=7),\n",
    "    classes=knn.classes_,\n",
    "    per_class=True,\n",
    "    cmap=\"Set1\"\n",
    ")\n",
    "viz.fit(X_train_count,y_train)\n",
    "viz.score(X_test_count, y_test)\n",
    "\n",
    "viz.show();"
   ]
  },
  {
   "cell_type": "code",
   "execution_count": 51,
   "metadata": {},
   "outputs": [],
   "source": [
    "y_pred = knn.predict(X_test_count)\n",
    "knn_count_rec_neg = recall_score(y_test, y_pred, labels = [\"negative\"], average = None)\n",
    "knn_count_f1_neg = f1_score(y_test, y_pred, labels = [\"negative\"], average = None)\n",
    "knn_AP_neg = viz.score_[\"negative\"]"
   ]
  },
  {
   "cell_type": "markdown",
   "metadata": {
    "id": "XdbAYu4RTW_b"
   },
   "source": [
    "## Random Forest"
   ]
  },
  {
   "cell_type": "code",
   "execution_count": 52,
   "metadata": {
    "colab": {
     "base_uri": "https://localhost:8080/"
    },
    "id": "nd2Dg-2ITW_b",
    "outputId": "71d7b4d2-297c-47ca-ddce-177408928c79"
   },
   "outputs": [
    {
     "data": {
      "text/plain": [
       "RandomForestClassifier(n_estimators=200, n_jobs=-1, random_state=4299)"
      ]
     },
     "execution_count": 52,
     "metadata": {},
     "output_type": "execute_result"
    }
   ],
   "source": [
    "from sklearn.ensemble import RandomForestClassifier\n",
    "rf = RandomForestClassifier(200, random_state = 4299, n_jobs = -1) # class_weight=\"balanced\"\n",
    "rf.fit(X_train_count, y_train)"
   ]
  },
  {
   "cell_type": "code",
   "execution_count": 53,
   "metadata": {
    "colab": {
     "base_uri": "https://localhost:8080/",
     "height": 676
    },
    "id": "g8Jeki93bmou",
    "outputId": "36ff0d35-19ac-4fdc-8428-61eb6a661413"
   },
   "outputs": [
    {
     "name": "stdout",
     "output_type": "stream",
     "text": [
      "RF MODEL\n"
     ]
    },
    {
     "ename": "TypeError",
     "evalue": "globals must be a real dict; try eval(expr, {}, mapping)",
     "output_type": "error",
     "traceback": [
      "\u001b[0;31m---------------------------------------------------------------------------\u001b[0m",
      "\u001b[0;31mTypeError\u001b[0m                                 Traceback (most recent call last)",
      "\u001b[0;32m<ipython-input-53-88a2b28e8962>\u001b[0m in \u001b[0;36m<module>\u001b[0;34m\u001b[0m\n\u001b[1;32m      1\u001b[0m \u001b[0mprint\u001b[0m\u001b[0;34m(\u001b[0m\u001b[0;34m\"RF MODEL\"\u001b[0m\u001b[0;34m)\u001b[0m\u001b[0;34m\u001b[0m\u001b[0;34m\u001b[0m\u001b[0m\n\u001b[0;32m----> 2\u001b[0;31m \u001b[0meval\u001b[0m\u001b[0;34m(\u001b[0m\u001b[0mrf\u001b[0m\u001b[0;34m,\u001b[0m \u001b[0mX_test_count\u001b[0m\u001b[0;34m)\u001b[0m\u001b[0;34m\u001b[0m\u001b[0;34m\u001b[0m\u001b[0m\n\u001b[0m",
      "\u001b[0;31mTypeError\u001b[0m: globals must be a real dict; try eval(expr, {}, mapping)"
     ]
    }
   ],
   "source": [
    "print(\"RF MODEL\")\n",
    "eval(rf, X_test_count)"
   ]
  },
  {
   "cell_type": "markdown",
   "metadata": {
    "id": "TWXpqhBDTW_c"
   },
   "source": [
    "## Ada Boost"
   ]
  },
  {
   "cell_type": "code",
   "execution_count": null,
   "metadata": {
    "colab": {
     "base_uri": "https://localhost:8080/"
    },
    "id": "zl87u3DtTW_c",
    "outputId": "23948445-d5fb-49b5-8b99-137cf801e9b2"
   },
   "outputs": [],
   "source": [
    "from sklearn.ensemble import AdaBoostClassifier\n",
    "ada = AdaBoostClassifier(n_estimators= 200, random_state = 42)\n",
    "ada.fit(X_train_count, y_train)"
   ]
  },
  {
   "cell_type": "code",
   "execution_count": null,
   "metadata": {
    "colab": {
     "base_uri": "https://localhost:8080/",
     "height": 681
    },
    "id": "-I-2KUvvb3hr",
    "outputId": "ff88c441-5bf8-4051-a1be-e3f3e581b463"
   },
   "outputs": [],
   "source": [
    "print(\"Ada MODEL\")\n",
    "eval(ada, X_test_count)"
   ]
  },
  {
   "cell_type": "markdown",
   "metadata": {
    "id": "P9JR79JDTW_d"
   },
   "source": [
    "## TF-IDF"
   ]
  },
  {
   "cell_type": "code",
   "execution_count": null,
   "metadata": {
    "id": "fGV89UeJTW_d"
   },
   "outputs": [],
   "source": [
    "from sklearn.feature_extraction.text import TfidfVectorizer"
   ]
  },
  {
   "cell_type": "code",
   "execution_count": null,
   "metadata": {
    "id": "0971SZMTTW_d"
   },
   "outputs": [],
   "source": [
    "tf_idf_vectorizer = TfidfVectorizer(preprocessor=cleaning, min_df=2, ngram_range=(1,2))\n",
    "X_train_tf_idf = tf_idf_vectorizer.fit_transform(X_train)\n",
    "X_test_tf_idf = tf_idf_vectorizer.transform(X_test)"
   ]
  },
  {
   "cell_type": "code",
   "execution_count": null,
   "metadata": {
    "colab": {
     "base_uri": "https://localhost:8080/"
    },
    "id": "wg6F14_6cw1A",
    "outputId": "97ecc149-621d-4187-ecd8-bf4431dcb7c4"
   },
   "outputs": [],
   "source": [
    "X_train_tf_idf.toarray()"
   ]
  },
  {
   "cell_type": "code",
   "execution_count": null,
   "metadata": {
    "colab": {
     "base_uri": "https://localhost:8080/",
     "height": 540
    },
    "id": "8w-wvtLUdBnM",
    "outputId": "277be6c1-3ca6-496b-f906-8fe5b7907521"
   },
   "outputs": [],
   "source": [
    "pd.DataFrame(X_train_tf_idf.toarray(), columns = tf_idf_vectorizer.get_feature_names())"
   ]
  },
  {
   "cell_type": "markdown",
   "metadata": {
    "id": "Ux465l6qTW_d"
   },
   "source": [
    "## Model Comparisons  TF-IDF"
   ]
  },
  {
   "cell_type": "markdown",
   "metadata": {
    "id": "xnoEy-95TW_d"
   },
   "source": [
    "## Naive Bayes"
   ]
  },
  {
   "cell_type": "code",
   "execution_count": null,
   "metadata": {
    "colab": {
     "base_uri": "https://localhost:8080/"
    },
    "id": "RoTtEYwGt-a3",
    "outputId": "6ac36433-37cb-47b8-b5bd-320fde0e9522"
   },
   "outputs": [],
   "source": [
    "from sklearn.naive_bayes import MultinomialNB\n",
    "nb = MultinomialNB()\n",
    "nb.fit(X_train_tf_idf,y_train)"
   ]
  },
  {
   "cell_type": "code",
   "execution_count": null,
   "metadata": {
    "colab": {
     "base_uri": "https://localhost:8080/",
     "height": 676
    },
    "id": "CQe9rAz_dqMl",
    "outputId": "d421b1f1-3bb2-4049-db43-174bbe018c2b"
   },
   "outputs": [],
   "source": [
    "print(\"NB MODEL\")\n",
    "eval(nb, X_test_tf_idf)"
   ]
  },
  {
   "cell_type": "markdown",
   "metadata": {
    "id": "IICrN3GhTW_e"
   },
   "source": [
    "## Logistic Regression"
   ]
  },
  {
   "cell_type": "code",
   "execution_count": null,
   "metadata": {
    "colab": {
     "base_uri": "https://localhost:8080/"
    },
    "id": "RJeFj0uxTW_e",
    "outputId": "9c8a82aa-3de6-47d0-8247-745c14cd15c1"
   },
   "outputs": [],
   "source": [
    "from sklearn.linear_model import LogisticRegression\n",
    "log = LogisticRegression(max_iter=1000)\n",
    "log.fit(X_train_tf_idf,y_train)"
   ]
  },
  {
   "cell_type": "code",
   "execution_count": null,
   "metadata": {
    "colab": {
     "base_uri": "https://localhost:8080/",
     "height": 676
    },
    "id": "ZhpImBKVeJly",
    "outputId": "a200f0c2-1c0a-4ce7-de0b-a3478b41baf4"
   },
   "outputs": [],
   "source": [
    "print(\"LOG MODEL\")\n",
    "eval(log, X_test_tf_idf)"
   ]
  },
  {
   "cell_type": "markdown",
   "metadata": {
    "id": "k9ntAPozTW_f"
   },
   "source": [
    "## SVM"
   ]
  },
  {
   "cell_type": "code",
   "execution_count": null,
   "metadata": {
    "colab": {
     "base_uri": "https://localhost:8080/"
    },
    "id": "a3yf3zXWh3sK",
    "outputId": "b3be2d08-f95d-4261-a053-f104afd291e8"
   },
   "outputs": [],
   "source": [
    "from sklearn.svm import LinearSVC\n",
    "svc = LinearSVC()\n",
    "svc.fit(X_train_tf_idf,y_train)"
   ]
  },
  {
   "cell_type": "code",
   "execution_count": null,
   "metadata": {
    "colab": {
     "base_uri": "https://localhost:8080/",
     "height": 676
    },
    "id": "Z_4arew7uHKi",
    "outputId": "e72429be-ba3b-4b88-8cdb-45672c0ece9a"
   },
   "outputs": [],
   "source": [
    "print(\"SVC MODEL\")\n",
    "eval(svc, X_test_tf_idf)"
   ]
  },
  {
   "cell_type": "code",
   "execution_count": null,
   "metadata": {
    "id": "8f_alXrJiDAv"
   },
   "outputs": [],
   "source": []
  },
  {
   "cell_type": "markdown",
   "metadata": {
    "id": "K3ghsQwOTW_f"
   },
   "source": [
    "## KNN"
   ]
  },
  {
   "cell_type": "code",
   "execution_count": null,
   "metadata": {
    "colab": {
     "base_uri": "https://localhost:8080/"
    },
    "id": "g0Qlv4AMuIJe",
    "outputId": "bbe4dacb-75c4-4af8-929f-4d0f4420036e"
   },
   "outputs": [],
   "source": [
    "from sklearn.neighbors import KNeighborsClassifier\n",
    "knn = KNeighborsClassifier(n_neighbors=3)\n",
    "knn.fit(X_train_tf_idf,y_train)"
   ]
  },
  {
   "cell_type": "code",
   "execution_count": null,
   "metadata": {
    "colab": {
     "base_uri": "https://localhost:8080/",
     "height": 676
    },
    "id": "W5VgpDFNiHXg",
    "outputId": "7db274cf-6cab-46e5-f02b-fa8c67a42346"
   },
   "outputs": [],
   "source": [
    "print(\"KNN MODEL\")\n",
    "eval(knn, X_test_tf_idf)"
   ]
  },
  {
   "cell_type": "markdown",
   "metadata": {
    "id": "B95OLy5jTW_g"
   },
   "source": [
    "## RandomForest"
   ]
  },
  {
   "cell_type": "code",
   "execution_count": null,
   "metadata": {
    "colab": {
     "base_uri": "https://localhost:8080/"
    },
    "id": "XV-NsFCgih87",
    "outputId": "bea89138-8b41-4b8a-edf0-02668d1a0997"
   },
   "outputs": [],
   "source": [
    "rf = RandomForestClassifier(200, random_state = 42, n_jobs = -1)\n",
    "rf.fit(X_train_tf_idf, y_train)"
   ]
  },
  {
   "cell_type": "code",
   "execution_count": null,
   "metadata": {
    "colab": {
     "base_uri": "https://localhost:8080/",
     "height": 681
    },
    "id": "IdsGYRnMilxM",
    "outputId": "f02181e1-a80b-4911-e876-149eaa486351"
   },
   "outputs": [],
   "source": [
    "print(\"RF MODEL\")\n",
    "eval(rf, X_test_tf_idf)"
   ]
  },
  {
   "cell_type": "markdown",
   "metadata": {
    "id": "b3SBDAIFTW_h"
   },
   "source": [
    "## Ada Boost"
   ]
  },
  {
   "cell_type": "code",
   "execution_count": null,
   "metadata": {
    "colab": {
     "base_uri": "https://localhost:8080/"
    },
    "id": "-0kg6cyCTW_h",
    "outputId": "e535ef7b-d032-4f99-c0ff-47c4461ac9ac"
   },
   "outputs": [],
   "source": [
    "ada = AdaBoostClassifier(n_estimators= 200, random_state = 42)\n",
    "ada.fit(X_train_tf_idf, y_train)"
   ]
  },
  {
   "cell_type": "code",
   "execution_count": null,
   "metadata": {
    "colab": {
     "base_uri": "https://localhost:8080/",
     "height": 681
    },
    "id": "u5aH10OleigF",
    "outputId": "9d3647b5-f719-41fb-9d3a-15065e8fcb9b"
   },
   "outputs": [],
   "source": [
    "print(\"Ada MODEL\")\n",
    "eval(ada, X_test_tf_idf)\n"
   ]
  },
  {
   "cell_type": "code",
   "execution_count": null,
   "metadata": {
    "id": "CI-LYCBqi67h"
   },
   "outputs": [],
   "source": [
    "def get_results_for_a_given_algorithm(estimator, X_train, y_train, X_test, y_test):\n",
    "\n",
    "    model = estimator.fit(X_train, y_train)\n",
    "    y_pred = model.predict(X_test)\n",
    "    f1_scr = f1_score(y_test, y_pred, average='weighted')\n",
    "    print(f'{estimator} Evalaution Metrics \\n')\n",
    "    #eval(model, X_test)\n",
    "\n",
    "    return f1_scr"
   ]
  },
  {
   "cell_type": "code",
   "execution_count": null,
   "metadata": {
    "colab": {
     "base_uri": "https://localhost:8080/"
    },
    "id": "m68PhXIai9md",
    "outputId": "f80506a5-446a-49f1-f390-5b74b83aac52"
   },
   "outputs": [],
   "source": [
    "classifiers = [AdaBoostClassifier(), LogisticRegression(), RandomForestClassifier(), KNeighborsClassifier(n_neighbors=8)]\n",
    "score_df = pd.DataFrame()\n",
    "for idx, classifier in enumerate(classifiers):\n",
    "    f1 = get_results_for_a_given_algorithm(classifier, X_train_tf_idf, y_train, X_test_tf_idf, y_test)\n",
    "    score_df.loc[idx, 'model'] = str(classifier).split('(')[0]\n",
    "    score_df.loc[idx, 'f1_score'] = f1"
   ]
  },
  {
   "cell_type": "code",
   "execution_count": null,
   "metadata": {
    "colab": {
     "base_uri": "https://localhost:8080/",
     "height": 174
    },
    "id": "GEpCRaAtjEeC",
    "outputId": "9eda2b55-c454-4ee1-e911-483f7f3143a2"
   },
   "outputs": [],
   "source": [
    "score_df.sort_values(by='f1_score', ascending=False)"
   ]
  },
  {
   "cell_type": "markdown",
   "metadata": {
    "id": "fH152xlhTW_h"
   },
   "source": [
    "## Cross Val"
   ]
  },
  {
   "cell_type": "code",
   "execution_count": null,
   "metadata": {
    "colab": {
     "base_uri": "https://localhost:8080/"
    },
    "id": "qQI7SCrijDaO",
    "outputId": "c483fe57-7f62-4895-92a7-1e7a7459bae0"
   },
   "outputs": [],
   "source": [
    "classifier_names = [str(i).split('(')[0] for i in classifiers]\n",
    "classifier_names"
   ]
  },
  {
   "cell_type": "code",
   "execution_count": null,
   "metadata": {
    "colab": {
     "base_uri": "https://localhost:8080/"
    },
    "id": "8zzvqt0hjeIR",
    "outputId": "2857cb66-f861-471f-864e-b25a48db97cc"
   },
   "outputs": [],
   "source": [
    "from sklearn.model_selection import cross_val_score\n",
    "from sklearn.metrics import make_scorer\n",
    "from sklearn.metrics import f1_score, accuracy_score, precision_score, recall_score\n",
    "custom_scorer = {'accuracy': make_scorer(accuracy_score),\n",
    "                 'precision-neg': make_scorer(precision_score, average='weighted', labels=[\"negative\"]),\n",
    "                 'recall-neg': make_scorer(recall_score, average='weighted', labels = [\"negative\"]),\n",
    "                 'f1-neg': make_scorer(f1_score, average='weighted', labels = [\"negative\"]),\n",
    "                 \n",
    "                 'precision-neutral': make_scorer(precision_score, average='weighted', labels=[\"neutral\"]),\n",
    "                 'recall-neutral': make_scorer(recall_score, average='weighted', labels = [\"neutral\"]),\n",
    "                 'f1-neutral': make_scorer(f1_score, average='weighted', labels = [\"neutral\"]),\n",
    "                 \n",
    "                 'precision-pos': make_scorer(precision_score, average='weighted', labels=[\"positive\"]),\n",
    "                 'recall-pos': make_scorer(recall_score, average='weighted', labels = [\"positive\"]),\n",
    "                 'f1-pos': make_scorer(f1_score, average='weighted', labels = [\"positive\"]),\n",
    "                 }\n",
    "\n",
    "score_dict = dict() \n",
    "for idx, estimator in enumerate(classifier_names):\n",
    "    score_list = []\n",
    "    for i, j  in custom_scorer.items():\n",
    "        model = classifiers[idx] #LogisticRegression(max_iter=1000)\n",
    "        scores = cross_val_score(model, X_train_tf_idf, y_train, cv = 5, scoring = j, n_jobs = -1).mean()\n",
    "        print(f\" {i} score : {scores}\\n\")\n",
    "        score_list.append(scores)\n",
    "    score_dict[estimator]  = score_list"
   ]
  },
  {
   "cell_type": "code",
   "execution_count": null,
   "metadata": {
    "colab": {
     "base_uri": "https://localhost:8080/"
    },
    "id": "TFwo7gFgTW_i",
    "outputId": "c14b9d79-b8d1-4af1-ce84-55e5bd2d9e40"
   },
   "outputs": [],
   "source": [
    "score_dict"
   ]
  },
  {
   "cell_type": "code",
   "execution_count": null,
   "metadata": {
    "id": "zNuLDAIBkLNv"
   },
   "outputs": [],
   "source": [
    "columns = []\n",
    "for key in custom_scorer.keys():\n",
    "    columns.append(key)"
   ]
  },
  {
   "cell_type": "code",
   "execution_count": null,
   "metadata": {
    "colab": {
     "base_uri": "https://localhost:8080/",
     "height": 288
    },
    "id": "QAjlaMKmkOLx",
    "outputId": "97ef7dd4-72f1-4ccf-8124-87b9feb5c174"
   },
   "outputs": [],
   "source": [
    "score_df = pd.DataFrame([score_dict])\n",
    "score_df = score_df.T\n",
    "score_df.rename(columns={0:'score'}, inplace=True)\n",
    "score_df"
   ]
  },
  {
   "cell_type": "code",
   "execution_count": null,
   "metadata": {
    "colab": {
     "base_uri": "https://localhost:8080/",
     "height": 174
    },
    "id": "mpvT8rE6kR5t",
    "outputId": "0505d27f-a64a-480e-f490-0856aafa65d8"
   },
   "outputs": [],
   "source": [
    "score_df = pd.DataFrame(score_df['score'].tolist(), columns=columns)\n",
    "score_df.index = classifier_names\n",
    "score_df"
   ]
  },
  {
   "cell_type": "markdown",
   "metadata": {
    "id": "tblLCEc3TW_i"
   },
   "source": [
    "## For New Tweets, prediction with pipeline\n"
   ]
  },
  {
   "cell_type": "code",
   "execution_count": null,
   "metadata": {
    "id": "wppSvDQUeLVS"
   },
   "outputs": [],
   "source": [
    "from sklearn.pipeline import Pipeline\n"
   ]
  },
  {
   "cell_type": "code",
   "execution_count": null,
   "metadata": {
    "id": "_qmznSfueLNX"
   },
   "outputs": [],
   "source": [
    "from sklearn.pipeline import Pipeline\n",
    "pipe = Pipeline([('tfidf',TfidfVectorizer(preprocessor=cleaning, min_df=2, ngram_range=(1,2))),\n",
    "                 ('log',LogisticRegression(max_iter=1000))])"
   ]
  },
  {
   "cell_type": "code",
   "execution_count": null,
   "metadata": {
    "id": "2yloq146TW_i"
   },
   "outputs": [],
   "source": [
    "df3 = df.copy()\n",
    "df3 = df3[['airline_sentiment', 'text']]\n",
    "df3.rename(columns={'airline_sentiment':'sentiment'}, inplace=True)"
   ]
  },
  {
   "cell_type": "code",
   "execution_count": null,
   "metadata": {
    "colab": {
     "base_uri": "https://localhost:8080/",
     "height": 81
    },
    "id": "X-ChCalWoRoL",
    "outputId": "c6ab79e8-9933-4ddd-8da5-5ac6a1a70e54"
   },
   "outputs": [],
   "source": [
    "df3.sample()"
   ]
  },
  {
   "cell_type": "code",
   "execution_count": null,
   "metadata": {
    "colab": {
     "base_uri": "https://localhost:8080/"
    },
    "id": "7jZqa7REoZqq",
    "outputId": "ba2ca4d7-d500-4ad2-c0e7-d5bc44db4387"
   },
   "outputs": [],
   "source": [
    "pipe.fit(df3[\"text\"], df3[\"sentiment\"])"
   ]
  },
  {
   "cell_type": "code",
   "execution_count": null,
   "metadata": {
    "id": "yhW5Kklqoubc"
   },
   "outputs": [],
   "source": [
    "tweet = \"it was the worst flight i have ever been\" # data should be either pd.Series or list\n",
    "tweet = pd.Series(tweet).apply(cleaning)\n"
   ]
  },
  {
   "cell_type": "code",
   "execution_count": null,
   "metadata": {
    "colab": {
     "base_uri": "https://localhost:8080/"
    },
    "id": "k1w-ufZf6bfh",
    "outputId": "ed5ea182-fde9-4a4d-f832-beb939b0487c"
   },
   "outputs": [],
   "source": [
    "tweet"
   ]
  },
  {
   "cell_type": "code",
   "execution_count": null,
   "metadata": {
    "colab": {
     "base_uri": "https://localhost:8080/",
     "height": 36
    },
    "id": "iHthYFss6WqR",
    "outputId": "9333ab68-6c97-4db0-f1d8-c4e82907017f"
   },
   "outputs": [],
   "source": [
    "pipe.predict(tweet)[0]"
   ]
  },
  {
   "cell_type": "code",
   "execution_count": null,
   "metadata": {
    "colab": {
     "base_uri": "https://localhost:8080/"
    },
    "id": "zDdLCC1Z6oKo",
    "outputId": "cc106394-3c40-4932-e141-bb26149deb1a"
   },
   "outputs": [],
   "source": [
    "pipe.predict(tweet)"
   ]
  },
  {
   "cell_type": "code",
   "execution_count": null,
   "metadata": {
    "colab": {
     "base_uri": "https://localhost:8080/"
    },
    "id": "TnmZ3z2too2m",
    "outputId": "0f4f83ad-6020-472b-bfc5-abd01b5b090b"
   },
   "outputs": [],
   "source": [
    "tweet = \"don't enjoy flight  at all\"\n",
    "tweet = pd.Series(tweet).apply(cleaning)\n",
    "tweet"
   ]
  },
  {
   "cell_type": "code",
   "execution_count": null,
   "metadata": {
    "colab": {
     "base_uri": "https://localhost:8080/",
     "height": 36
    },
    "id": "jbtO3c-t6ts6",
    "outputId": "b2e61335-1524-4077-c506-ff39f7f05015"
   },
   "outputs": [],
   "source": [
    "pipe.predict(tweet)[0]"
   ]
  },
  {
   "cell_type": "code",
   "execution_count": null,
   "metadata": {
    "colab": {
     "base_uri": "https://localhost:8080/",
     "height": 36
    },
    "id": "hD16fuZ0pRF_",
    "outputId": "b1bace1f-f9bf-4666-9c9a-b639bb5a4f77"
   },
   "outputs": [],
   "source": [
    "tweet = \"ok flight\"\n",
    "tweet = pd.Series(tweet).apply(cleaning)\n",
    "pipe.predict(tweet)[0]"
   ]
  },
  {
   "cell_type": "code",
   "execution_count": null,
   "metadata": {
    "colab": {
     "base_uri": "https://localhost:8080/",
     "height": 36
    },
    "id": "mS9YbLUUpTbJ",
    "outputId": "55376ced-40b4-4ca7-d779-a15555107d79"
   },
   "outputs": [],
   "source": [
    "tweet = \"it was amazing\"\n",
    "tweet = pd.Series(tweet).apply(cleaning)\n",
    "pipe.predict(tweet)[0]"
   ]
  },
  {
   "cell_type": "code",
   "execution_count": null,
   "metadata": {
    "colab": {
     "base_uri": "https://localhost:8080/"
    },
    "id": "WAgi6GBZpa0B",
    "outputId": "7d9b5d8d-0948-4e8f-8632-13f17df80e5e"
   },
   "outputs": [],
   "source": [
    "results = pipe.predict([\"ok\", \"I really liked the customer service\"])\n",
    "for idx, result in enumerate(results):\n",
    "    print(f'{idx+1}. sentiment is', result)"
   ]
  },
  {
   "cell_type": "markdown",
   "metadata": {
    "id": "Lrs-5nGYTW_k"
   },
   "source": [
    "## WordCloud - Repetition of Words"
   ]
  },
  {
   "cell_type": "code",
   "execution_count": null,
   "metadata": {
    "colab": {
     "base_uri": "https://localhost:8080/"
    },
    "id": "shAq7gc1oZBr",
    "outputId": "60f1fabe-3e3f-4266-e2d1-78f67725517a"
   },
   "outputs": [],
   "source": [
    "tweets = df3[\"text\"]\n",
    "tweets"
   ]
  },
  {
   "cell_type": "code",
   "execution_count": null,
   "metadata": {
    "id": "1Q1yiM-cp8AZ"
   },
   "outputs": [],
   "source": [
    "all_words = \" \".join(tweets)"
   ]
  },
  {
   "cell_type": "code",
   "execution_count": null,
   "metadata": {
    "colab": {
     "base_uri": "https://localhost:8080/",
     "height": 157
    },
    "id": "z9z-Ajjy8eqv",
    "outputId": "f5cbf444-a712-4678-f676-d58979714fe2"
   },
   "outputs": [],
   "source": [
    "all_words"
   ]
  },
  {
   "cell_type": "code",
   "execution_count": null,
   "metadata": {
    "colab": {
     "base_uri": "https://localhost:8080/",
     "height": 36
    },
    "id": "sHPs3I_mqBm7",
    "outputId": "d82bb338-f31d-48ea-f2e9-10d94980faa8"
   },
   "outputs": [],
   "source": [
    "all_words[:100]"
   ]
  },
  {
   "cell_type": "markdown",
   "metadata": {
    "id": "hIpSlCrYTW_k"
   },
   "source": [
    "## Collect Words"
   ]
  },
  {
   "cell_type": "code",
   "execution_count": null,
   "metadata": {
    "id": "yPCyimCTTW_k"
   },
   "outputs": [],
   "source": [
    "from wordcloud import WordCloud"
   ]
  },
  {
   "cell_type": "code",
   "execution_count": null,
   "metadata": {
    "id": "E6xl4AN0TW_k"
   },
   "outputs": [],
   "source": [
    "from wordcloud import WordCloud, ImageColorGenerator \n",
    "from PIL import Image\n",
    "import matplotlib.pyplot as plt\n",
    "import numpy as np\n",
    "# create a mask based on the image we wish to include\n",
    "# create a wordcloud \n",
    "wc = WordCloud(background_color='white',\n",
    "               collocations=False,\n",
    "               width=600,\n",
    "               height=300,\n",
    "               contour_width=3,\n",
    "               max_font_size=256,\n",
    "               contour_color='black',\n",
    "               stopwords=stop_words)"
   ]
  },
  {
   "cell_type": "markdown",
   "metadata": {
    "id": "ixNUISwlTW_l"
   },
   "source": [
    "## Create Word Cloud"
   ]
  },
  {
   "cell_type": "code",
   "execution_count": null,
   "metadata": {
    "colab": {
     "base_uri": "https://localhost:8080/",
     "height": 544
    },
    "id": "42AoxGNxTW_l",
    "outputId": "d999cf31-6384-417b-e76f-a454d924e5ea"
   },
   "outputs": [],
   "source": [
    "wc.generate(all_words)\n",
    "import matplotlib.pyplot as plt\n",
    "plt.figure(figsize = (8,8), dpi =150)\n",
    "plt.imshow(wc)\n",
    "plt.axis(\"off\")\n",
    "plt.title('USA Airline Tweets', fontsize=13)\n",
    "plt.show();"
   ]
  },
  {
   "cell_type": "code",
   "execution_count": null,
   "metadata": {
    "id": "I_BfMSFKTW_l"
   },
   "outputs": [],
   "source": []
  },
  {
   "cell_type": "code",
   "execution_count": null,
   "metadata": {
    "id": "zBpYkPPyTW_l"
   },
   "outputs": [],
   "source": []
  },
  {
   "cell_type": "markdown",
   "metadata": {
    "id": "zkX4OcFcTW_l"
   },
   "source": [
    "## Counting words"
   ]
  },
  {
   "cell_type": "code",
   "execution_count": null,
   "metadata": {
    "id": "9hoVJwCOTW_l"
   },
   "outputs": [],
   "source": [
    "counter = Counter(word_tokenize(all_words))"
   ]
  },
  {
   "cell_type": "code",
   "execution_count": null,
   "metadata": {
    "colab": {
     "base_uri": "https://localhost:8080/"
    },
    "id": "uxW1ZHW-TW_m",
    "outputId": "e2e96c9e-4f62-4313-d9aa-e3a91c901af7"
   },
   "outputs": [],
   "source": [
    "counter.most_common(50)"
   ]
  },
  {
   "cell_type": "code",
   "execution_count": null,
   "metadata": {
    "colab": {
     "base_uri": "https://localhost:8080/"
    },
    "id": "UW1UHc0MMFGX",
    "outputId": "3c918c3a-ab5b-444f-e0f9-77d38a6fe2c9"
   },
   "outputs": [],
   "source": [
    "!pip install zeugma"
   ]
  },
  {
   "cell_type": "code",
   "execution_count": null,
   "metadata": {
    "colab": {
     "base_uri": "https://localhost:8080/"
    },
    "id": "entboEYd92vq",
    "outputId": "34c1ecb2-4d96-4f11-92e3-a2551ad37634"
   },
   "outputs": [],
   "source": [
    "from zeugma.embeddings import EmbeddingTransformer\n",
    "\n",
    "glove = EmbeddingTransformer('glove')"
   ]
  },
  {
   "cell_type": "code",
   "execution_count": null,
   "metadata": {
    "colab": {
     "base_uri": "https://localhost:8080/"
    },
    "id": "FeTTScadAa_z",
    "outputId": "d3aeedc4-d0ec-4ee6-b8e4-1110363ec2fa"
   },
   "outputs": [],
   "source": [
    "df3['text'].sample()"
   ]
  },
  {
   "cell_type": "code",
   "execution_count": null,
   "metadata": {
    "id": "uBLqSB4GAeHi"
   },
   "outputs": [],
   "source": [
    "from sklearn.model_selection import train_test_split\n",
    "X_train, X_test, y_train, y_test = train_test_split(df3['text'], df3['sentiment'], test_size=0.2, stratify=y, random_state=4299)"
   ]
  },
  {
   "cell_type": "code",
   "execution_count": null,
   "metadata": {
    "colab": {
     "base_uri": "https://localhost:8080/"
    },
    "id": "Mi1XenBOAhFf",
    "outputId": "ae1a56d9-08da-471e-e8f9-b08801341177"
   },
   "outputs": [],
   "source": [
    "import numpy as np\n",
    "X_train_v = glove.transform(np.array(X_train))\n",
    "\n",
    "X_train_v"
   ]
  },
  {
   "cell_type": "code",
   "execution_count": null,
   "metadata": {
    "colab": {
     "base_uri": "https://localhost:8080/"
    },
    "id": "wUnW8vjVBEz4",
    "outputId": "08425209-c3b0-42c3-e641-c76123f16489"
   },
   "outputs": [],
   "source": [
    "X_train_v.shape"
   ]
  },
  {
   "cell_type": "code",
   "execution_count": null,
   "metadata": {
    "colab": {
     "base_uri": "https://localhost:8080/"
    },
    "id": "cxSsJcyrBOtn",
    "outputId": "6edeab6e-4ebd-49fe-e8b1-5fafd432a14c"
   },
   "outputs": [],
   "source": [
    "model = LogisticRegression(max_iter=1000)\n",
    "model.fit(X_train_v, y_train)"
   ]
  },
  {
   "cell_type": "code",
   "execution_count": null,
   "metadata": {
    "colab": {
     "base_uri": "https://localhost:8080/"
    },
    "id": "OBXFRfWJBSbi",
    "outputId": "e6f06beb-56d4-4f5d-e9e9-190f380236a3"
   },
   "outputs": [],
   "source": [
    "X_test_v = glove.transform(X_test)\n",
    "model.predict(X_test_v)"
   ]
  },
  {
   "cell_type": "code",
   "execution_count": null,
   "metadata": {
    "id": "eS_HGUn5BV-S"
   },
   "outputs": [],
   "source": [
    "def eval(model, X_test):\n",
    "    preds = model.predict(X_test)\n",
    "    print(classification_report(y_test,preds))\n",
    "    sns.set_context('talk')\n",
    "    fig, ax = plt.subplots(figsize=(7, 7))\n",
    "    plot_confusion_matrix(model, X_test, y_test, ax = ax, values_format = '.0f')"
   ]
  },
  {
   "cell_type": "code",
   "execution_count": null,
   "metadata": {
    "colab": {
     "base_uri": "https://localhost:8080/",
     "height": 658
    },
    "id": "TFYJiinsBX2Y",
    "outputId": "2ebea04c-c55a-476c-94a2-96c127004c05"
   },
   "outputs": [],
   "source": [
    "eval(model, X_test_v)"
   ]
  },
  {
   "cell_type": "code",
   "execution_count": null,
   "metadata": {
    "id": "_QRzd-XXBkUD"
   },
   "outputs": [],
   "source": [
    "df3['clean_text'] = df3['text'].apply(cleaning)\n",
    "X_train, X_test, y_train, y_test = train_test_split(df3['clean_text'], df3['sentiment'], test_size=0.2, stratify=y, random_state=4299)"
   ]
  },
  {
   "cell_type": "code",
   "execution_count": null,
   "metadata": {
    "colab": {
     "base_uri": "https://localhost:8080/",
     "height": 658
    },
    "id": "yxLpdEfuBpuu",
    "outputId": "23cd721e-0efa-4278-87ed-7599838d0460"
   },
   "outputs": [],
   "source": [
    "model = LogisticRegression(max_iter=1000)\n",
    "X_train_v = glove.transform(np.array(X_train))\n",
    "model.fit(X_train_v, y_train)\n",
    "X_test_v = glove.transform(X_test)\n",
    "eval(model, X_test_v)"
   ]
  },
  {
   "cell_type": "code",
   "execution_count": null,
   "metadata": {
    "colab": {
     "base_uri": "https://localhost:8080/"
    },
    "id": "_eU4FMUhBnO3",
    "outputId": "3dadad36-8e97-416a-bf48-5c261968a21d"
   },
   "outputs": [],
   "source": [
    "import gensim\n",
    "glove_vectors = gensim.downloader.load('glove-twitter-100')"
   ]
  },
  {
   "cell_type": "code",
   "execution_count": null,
   "metadata": {
    "id": "rMVUxLaLnal0"
   },
   "outputs": [],
   "source": []
  },
  {
   "cell_type": "code",
   "execution_count": null,
   "metadata": {
    "colab": {
     "base_uri": "https://localhost:8080/"
    },
    "id": "Kh80OVvZCMPa",
    "outputId": "6e360ac0-9815-494a-bdea-3515e27463c8"
   },
   "outputs": [],
   "source": [
    "glove_vectors.most_similar('flight')"
   ]
  },
  {
   "cell_type": "code",
   "execution_count": null,
   "metadata": {
    "colab": {
     "base_uri": "https://localhost:8080/"
    },
    "id": "6mc23VykEd6y",
    "outputId": "72b4e8f0-7685-4358-a3b4-b017f845d77f"
   },
   "outputs": [],
   "source": [
    "glove_vectors.most_similar('customer')"
   ]
  },
  {
   "cell_type": "code",
   "execution_count": null,
   "metadata": {},
   "outputs": [],
   "source": []
  }
 ],
 "metadata": {
  "accelerator": "GPU",
  "colab": {
   "collapsed_sections": [
    "Ux465l6qTW_d"
   ],
   "provenance": []
  },
  "kernelspec": {
   "display_name": "Python 3",
   "language": "python",
   "name": "python3"
  },
  "language_info": {
   "codemirror_mode": {
    "name": "ipython",
    "version": 3
   },
   "file_extension": ".py",
   "mimetype": "text/x-python",
   "name": "python",
   "nbconvert_exporter": "python",
   "pygments_lexer": "ipython3",
   "version": "3.7.4"
  }
 },
 "nbformat": 4,
 "nbformat_minor": 4
}
