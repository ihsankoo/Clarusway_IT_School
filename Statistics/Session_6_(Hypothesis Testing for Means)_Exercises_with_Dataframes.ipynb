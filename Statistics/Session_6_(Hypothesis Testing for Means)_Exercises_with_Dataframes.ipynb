{
 "cells": [
  {
   "cell_type": "markdown",
   "metadata": {
    "deletable": false,
    "editable": false
   },
   "source": [
    "<a href=\"https://clarusway.com/contact-us/\"><img align=\"center\" src=\"https://i.ibb.co/B43qn24/officially-licensed-logo.png\" alt=\"Open in Clarusway LMS\" width=\"110\" height=\"200\" title=\"This notebook is licensed by Clarusway IT training school. Please contact the authorized persons about the conditions under which you can use or share.\"></a>"
   ]
  },
  {
   "cell_type": "code",
   "execution_count": 1,
   "metadata": {
    "id": "e3O0t_j12x6J"
   },
   "outputs": [],
   "source": [
    "# from google.colab import drive\n",
    "# drive.mount('/content/drive')"
   ]
  },
  {
   "cell_type": "code",
   "execution_count": 1,
   "metadata": {
    "id": "DSw4JGMtONHn"
   },
   "outputs": [],
   "source": [
    "# Importing related libraries; Pandas, Numpy, scipy.stats\n",
    "\n",
    "import pandas as pd\n",
    "import numpy as np\n",
    "from scipy import stats"
   ]
  },
  {
   "cell_type": "code",
   "execution_count": 2,
   "metadata": {},
   "outputs": [
    {
     "data": {
      "text/plain": [
       "86.44444444444444"
      ]
     },
     "execution_count": 2,
     "metadata": {},
     "output_type": "execute_result"
    }
   ],
   "source": [
    "mu = 80\n",
    "alpha = 0.05\n",
    "n = 9\n",
    "sample = [95,70,120,65,130,38,110,90,60]\n",
    "sample_mean = np.mean(sample)\n",
    "sample_mean"
   ]
  },
  {
   "cell_type": "code",
   "execution_count": 3,
   "metadata": {},
   "outputs": [
    {
     "data": {
      "text/plain": [
       "Ttest_1sampResult(statistic=0.6339555069870142, pvalue=0.5438063764856331)"
      ]
     },
     "execution_count": 3,
     "metadata": {},
     "output_type": "execute_result"
    }
   ],
   "source": [
    "stats.ttest_1samp(sample, mu)"
   ]
  },
  {
   "cell_type": "code",
   "execution_count": 4,
   "metadata": {},
   "outputs": [
    {
     "data": {
      "text/plain": [
       "78.33333333333333"
      ]
     },
     "execution_count": 4,
     "metadata": {},
     "output_type": "execute_result"
    }
   ],
   "source": [
    "mu = 60\n",
    "alpha = 0.05\n",
    "n = 9\n",
    "sample = [35, 60, 70, 95, 30, 110, 80, 95, 130]\n",
    "sample_mean = np.mean(sample)\n",
    "sample_mean"
   ]
  },
  {
   "cell_type": "code",
   "execution_count": 5,
   "metadata": {},
   "outputs": [
    {
     "data": {
      "text/plain": [
       "Ttest_1sampResult(statistic=1.653621261606223, pvalue=0.13680337348338098)"
      ]
     },
     "execution_count": 5,
     "metadata": {},
     "output_type": "execute_result"
    }
   ],
   "source": [
    "stats.ttest_1samp(sample, mu)\n",
    "# alpha > p-value, so we fail to reject the null hypothesis"
   ]
  },
  {
   "cell_type": "code",
   "execution_count": 22,
   "metadata": {},
   "outputs": [
    {
     "name": "stdout",
     "output_type": "stream",
     "text": [
      "2.8073356837675227\n",
      "1.9595917942265424\n"
     ]
    }
   ],
   "source": [
    "#h0: mu = 60\n",
    "#h1: mu != 60\n",
    "\n",
    "mu = 68\n",
    "alpha = 0.01\n",
    "sample_mean = 72\n",
    "sample_std = 10\n",
    "n = 24\n",
    "\n",
    "t_critical = stats.t.ppf(1-alpha/2, n-1) #percent point function\n",
    "print(t_critical)\n",
    "\n",
    "t_test = (sample_mean - mu)/(sample_std/np.sqrt(n))\n",
    "print(t_test)\n"
   ]
  },
  {
   "cell_type": "code",
   "execution_count": 21,
   "metadata": {},
   "outputs": [
    {
     "data": {
      "text/plain": [
       "Ttest_1sampResult(statistic=0.02763336327109021, pvalue=0.9781929445105383)"
      ]
     },
     "execution_count": 21,
     "metadata": {},
     "output_type": "execute_result"
    }
   ],
   "source": [
    "ref = np.random.normal(72,10,24)\n",
    "\n",
    "stats.ttest_1samp(ref, 68)"
   ]
  },
  {
   "cell_type": "markdown",
   "metadata": {
    "id": "gVarSWOAONHo"
   },
   "source": [
    "# One Sample T-Test"
   ]
  },
  {
   "cell_type": "markdown",
   "metadata": {
    "id": "e6cY_hXXONHo"
   },
   "source": [
    "- According to Reynolds Intellectual Ability Scales, the ``average VIQ`` (Verbal IQ scores based on the four Wechsler (1981) subtests) is about ``109``.\n",
    "\n",
    "- In our sample data, we have a ``sample of 40 cases``. \n",
    "- Let's test if the ``average VIQ of people`` is significantly ``bigger than 109``."
   ]
  },
  {
   "cell_type": "code",
   "execution_count": 3,
   "metadata": {
    "id": "Gpfb0bF4ONHp"
   },
   "outputs": [
    {
     "data": {
      "text/html": [
       "<div>\n",
       "<style scoped>\n",
       "    .dataframe tbody tr th:only-of-type {\n",
       "        vertical-align: middle;\n",
       "    }\n",
       "\n",
       "    .dataframe tbody tr th {\n",
       "        vertical-align: top;\n",
       "    }\n",
       "\n",
       "    .dataframe thead th {\n",
       "        text-align: right;\n",
       "    }\n",
       "</style>\n",
       "<table border=\"1\" class=\"dataframe\">\n",
       "  <thead>\n",
       "    <tr style=\"text-align: right;\">\n",
       "      <th></th>\n",
       "      <th>Gender</th>\n",
       "      <th>FSIQ</th>\n",
       "      <th>VIQ</th>\n",
       "      <th>PIQ</th>\n",
       "      <th>Weight</th>\n",
       "      <th>Height</th>\n",
       "      <th>MRI_Count</th>\n",
       "    </tr>\n",
       "  </thead>\n",
       "  <tbody>\n",
       "    <tr>\n",
       "      <th>1</th>\n",
       "      <td>Female</td>\n",
       "      <td>133</td>\n",
       "      <td>132</td>\n",
       "      <td>124</td>\n",
       "      <td>118.0</td>\n",
       "      <td>64.5</td>\n",
       "      <td>816932</td>\n",
       "    </tr>\n",
       "    <tr>\n",
       "      <th>2</th>\n",
       "      <td>Male</td>\n",
       "      <td>140</td>\n",
       "      <td>150</td>\n",
       "      <td>124</td>\n",
       "      <td>NaN</td>\n",
       "      <td>72.5</td>\n",
       "      <td>1001121</td>\n",
       "    </tr>\n",
       "    <tr>\n",
       "      <th>3</th>\n",
       "      <td>Male</td>\n",
       "      <td>139</td>\n",
       "      <td>123</td>\n",
       "      <td>150</td>\n",
       "      <td>143.0</td>\n",
       "      <td>73.3</td>\n",
       "      <td>1038437</td>\n",
       "    </tr>\n",
       "    <tr>\n",
       "      <th>4</th>\n",
       "      <td>Male</td>\n",
       "      <td>133</td>\n",
       "      <td>129</td>\n",
       "      <td>128</td>\n",
       "      <td>172.0</td>\n",
       "      <td>68.8</td>\n",
       "      <td>965353</td>\n",
       "    </tr>\n",
       "    <tr>\n",
       "      <th>5</th>\n",
       "      <td>Female</td>\n",
       "      <td>137</td>\n",
       "      <td>132</td>\n",
       "      <td>134</td>\n",
       "      <td>147.0</td>\n",
       "      <td>65.0</td>\n",
       "      <td>951545</td>\n",
       "    </tr>\n",
       "  </tbody>\n",
       "</table>\n",
       "</div>"
      ],
      "text/plain": [
       "   Gender  FSIQ  VIQ  PIQ  Weight  Height  MRI_Count\n",
       "1  Female   133  132  124   118.0    64.5     816932\n",
       "2    Male   140  150  124     NaN    72.5    1001121\n",
       "3    Male   139  123  150   143.0    73.3    1038437\n",
       "4    Male   133  129  128   172.0    68.8     965353\n",
       "5  Female   137  132  134   147.0    65.0     951545"
      ]
     },
     "execution_count": 3,
     "metadata": {},
     "output_type": "execute_result"
    }
   ],
   "source": [
    "# Brain size and weight and IQ data (Willerman et al. 1991)\n",
    "\n",
    "df = pd.read_csv(\"brain_size.csv\", sep=\";\", na_values = \".\", index_col=0)\n",
    "\n",
    "df.head()"
   ]
  },
  {
   "cell_type": "code",
   "execution_count": 4,
   "metadata": {
    "colab": {
     "base_uri": "https://localhost:8080/"
    },
    "executionInfo": {
     "elapsed": 344,
     "status": "ok",
     "timestamp": 1673086241975,
     "user": {
      "displayName": "Richard Thames",
      "userId": "00258987493291873022"
     },
     "user_tz": -180
    },
    "id": "6NTpc9-ETL_x",
    "outputId": "2fdb85d0-efe0-4fd6-cbf3-e6154c28fc68"
   },
   "outputs": [
    {
     "data": {
      "text/plain": [
       "(40, 7)"
      ]
     },
     "execution_count": 4,
     "metadata": {},
     "output_type": "execute_result"
    }
   ],
   "source": [
    "df.shape"
   ]
  },
  {
   "cell_type": "markdown",
   "metadata": {},
   "source": [
    "**Stating the null (H0) & alternative hypothesis (Ha or H1):**"
   ]
  },
  {
   "cell_type": "raw",
   "metadata": {},
   "source": [
    "H0: µ1 = µ2 (\"the two population means are equal\")\n",
    "H1: µ1 ≠ µ2 (\"the two population means are not equal\")"
   ]
  },
  {
   "cell_type": "code",
   "execution_count": 5,
   "metadata": {
    "id": "SqhM86dnONHq"
   },
   "outputs": [],
   "source": [
    "# H0: mu = 109\n",
    "# H1: mu > 109"
   ]
  },
  {
   "cell_type": "markdown",
   "metadata": {},
   "source": [
    "**Calculating Test Statistic & p-value:**"
   ]
  },
  {
   "cell_type": "code",
   "execution_count": 6,
   "metadata": {
    "colab": {
     "base_uri": "https://localhost:8080/"
    },
    "executionInfo": {
     "elapsed": 264,
     "status": "ok",
     "timestamp": 1673086257554,
     "user": {
      "displayName": "Richard Thames",
      "userId": "00258987493291873022"
     },
     "user_tz": -180
    },
    "id": "r1KpxvMpONHr",
    "outputId": "c29c3f5e-83fc-44f7-8a60-376ba9f57f4b"
   },
   "outputs": [
    {
     "data": {
      "text/plain": [
       "112.35"
      ]
     },
     "execution_count": 6,
     "metadata": {},
     "output_type": "execute_result"
    }
   ],
   "source": [
    "# Calculating the mean of VIQ\n",
    "\n",
    "xbar = df.VIQ.mean()\n",
    "xbar"
   ]
  },
  {
   "cell_type": "code",
   "execution_count": 7,
   "metadata": {
    "colab": {
     "base_uri": "https://localhost:8080/"
    },
    "executionInfo": {
     "elapsed": 308,
     "status": "ok",
     "timestamp": 1673077408912,
     "user": {
      "displayName": "Richard Thames",
      "userId": "00258987493291873022"
     },
     "user_tz": -180
    },
    "id": "CGHmbJdRONHs",
    "outputId": "a7fefec3-fa00-48dc-9544-43894f9c7efe"
   },
   "outputs": [
    {
     "data": {
      "text/plain": [
       "23.616107063199735"
      ]
     },
     "execution_count": 7,
     "metadata": {},
     "output_type": "execute_result"
    }
   ],
   "source": [
    "# Calculating the std of VIQ\n",
    "\n",
    "s = df.VIQ.std()\n",
    "s"
   ]
  },
  {
   "cell_type": "code",
   "execution_count": 8,
   "metadata": {
    "colab": {
     "base_uri": "https://localhost:8080/"
    },
    "executionInfo": {
     "elapsed": 315,
     "status": "ok",
     "timestamp": 1673077424326,
     "user": {
      "displayName": "Richard Thames",
      "userId": "00258987493291873022"
     },
     "user_tz": -180
    },
    "id": "PNeuSKd0TALm",
    "outputId": "a9df6e28-a6ab-46b7-a732-0c5864badd48"
   },
   "outputs": [
    {
     "data": {
      "text/plain": [
       "3.7340343893050596"
      ]
     },
     "execution_count": 8,
     "metadata": {},
     "output_type": "execute_result"
    }
   ],
   "source": [
    "s / np.sqrt(df.shape[0])"
   ]
  },
  {
   "cell_type": "code",
   "execution_count": 9,
   "metadata": {
    "colab": {
     "base_uri": "https://localhost:8080/"
    },
    "executionInfo": {
     "elapsed": 3,
     "status": "ok",
     "timestamp": 1673077427057,
     "user": {
      "displayName": "Richard Thames",
      "userId": "00258987493291873022"
     },
     "user_tz": -180
    },
    "id": "B4cNFVFgONHs",
    "outputId": "9e9ad9e0-ba14-402a-a61b-f3642fede351"
   },
   "outputs": [
    {
     "data": {
      "text/plain": [
       "(40, 7)"
      ]
     },
     "execution_count": 9,
     "metadata": {},
     "output_type": "execute_result"
    }
   ],
   "source": [
    "df.shape"
   ]
  },
  {
   "cell_type": "code",
   "execution_count": 10,
   "metadata": {
    "id": "hjwS_PQ-ONHt"
   },
   "outputs": [],
   "source": [
    "# Calculating the test statistic\n",
    "\n",
    "t_test = (xbar - 109)/(s/np.sqrt(df.shape[0]))"
   ]
  },
  {
   "cell_type": "code",
   "execution_count": 11,
   "metadata": {
    "colab": {
     "base_uri": "https://localhost:8080/"
    },
    "executionInfo": {
     "elapsed": 312,
     "status": "ok",
     "timestamp": 1673077430982,
     "user": {
      "displayName": "Richard Thames",
      "userId": "00258987493291873022"
     },
     "user_tz": -180
    },
    "id": "0IXxEHxQONHt",
    "outputId": "e71184ba-7b13-4184-83a6-5a0586317575"
   },
   "outputs": [
    {
     "data": {
      "text/plain": [
       "0.8971529586323553"
      ]
     },
     "execution_count": 11,
     "metadata": {},
     "output_type": "execute_result"
    }
   ],
   "source": [
    "# test statistic\n",
    "\n",
    "t_test"
   ]
  },
  {
   "cell_type": "code",
   "execution_count": 12,
   "metadata": {
    "colab": {
     "base_uri": "https://localhost:8080/"
    },
    "executionInfo": {
     "elapsed": 6,
     "status": "ok",
     "timestamp": 1673077433399,
     "user": {
      "displayName": "Richard Thames",
      "userId": "00258987493291873022"
     },
     "user_tz": -180
    },
    "id": "RZVX-atjONHu",
    "outputId": "ee9834d2-108c-42c8-f605-96ab9d9dc1aa"
   },
   "outputs": [
    {
     "data": {
      "text/plain": [
       "0.18757115929257173"
      ]
     },
     "execution_count": 12,
     "metadata": {},
     "output_type": "execute_result"
    }
   ],
   "source": [
    "# Calculating p-value\n",
    "\n",
    "1 - stats.t.cdf(t_test, 39)"
   ]
  },
  {
   "cell_type": "code",
   "execution_count": 13,
   "metadata": {
    "id": "lPQUZyBYVUD9"
   },
   "outputs": [],
   "source": [
    "# help(stats.ttest_1samp)"
   ]
  },
  {
   "cell_type": "code",
   "execution_count": 14,
   "metadata": {
    "colab": {
     "base_uri": "https://localhost:8080/"
    },
    "executionInfo": {
     "elapsed": 389,
     "status": "ok",
     "timestamp": 1673086373702,
     "user": {
      "displayName": "Richard Thames",
      "userId": "00258987493291873022"
     },
     "user_tz": -180
    },
    "id": "BMf1Sfe6ONHv",
    "outputId": "9f51e8c8-cdf6-4372-87a3-8b57e2f2e3d4"
   },
   "outputs": [
    {
     "data": {
      "text/plain": [
       "Ttest_1sampResult(statistic=0.8971529586323551, pvalue=0.18757115929257173)"
      ]
     },
     "execution_count": 14,
     "metadata": {},
     "output_type": "execute_result"
    }
   ],
   "source": [
    "# Using stats.ttest_1samp() to calculate the test statistic and p-value\n",
    "\n",
    "oneSamp = stats.ttest_1samp(df.VIQ, 109, alternative='greater')\n",
    "oneSamp"
   ]
  },
  {
   "cell_type": "code",
   "execution_count": 15,
   "metadata": {
    "colab": {
     "base_uri": "https://localhost:8080/"
    },
    "executionInfo": {
     "elapsed": 317,
     "status": "ok",
     "timestamp": 1673077547887,
     "user": {
      "displayName": "Richard Thames",
      "userId": "00258987493291873022"
     },
     "user_tz": -180
    },
    "id": "5RDIDUGsONHv",
    "outputId": "a22a7385-05ed-424d-e8f9-ba6301bace59"
   },
   "outputs": [
    {
     "data": {
      "text/plain": [
       "0.18757115929257173"
      ]
     },
     "execution_count": 15,
     "metadata": {},
     "output_type": "execute_result"
    }
   ],
   "source": [
    "# Displaying p-value\n",
    "\n",
    "oneSamp.pvalue"
   ]
  },
  {
   "cell_type": "markdown",
   "metadata": {},
   "source": [
    "**Making a decision:**"
   ]
  },
  {
   "cell_type": "code",
   "execution_count": 16,
   "metadata": {
    "colab": {
     "base_uri": "https://localhost:8080/"
    },
    "executionInfo": {
     "elapsed": 289,
     "status": "ok",
     "timestamp": 1673086455230,
     "user": {
      "displayName": "Richard Thames",
      "userId": "00258987493291873022"
     },
     "user_tz": -180
    },
    "id": "zPKXKr2yONHw",
    "outputId": "7359ef8d-9070-4c44-97fa-5fc09d387dec"
   },
   "outputs": [
    {
     "name": "stdout",
     "output_type": "stream",
     "text": [
      "At 0.05 level of significance, we fail to reject the null hypothesis.\n"
     ]
    }
   ],
   "source": [
    "# Comparing p-value and alpha\n",
    "\n",
    "alpha = 0.05\n",
    "\n",
    "if oneSamp.pvalue < alpha:\n",
    "    print('At {} level of significance, we can reject the null hypothesis in favor of alternative hypothesis.'.format(alpha))\n",
    "else:\n",
    "    print('At {} level of significance, we fail to reject the null hypothesis.'.format(alpha))"
   ]
  },
  {
   "cell_type": "markdown",
   "metadata": {
    "id": "xFEzHlXGONHw"
   },
   "source": [
    "# Independent Samples T-Test"
   ]
  },
  {
   "cell_type": "markdown",
   "metadata": {
    "id": "1yJQ9KpKONHx"
   },
   "source": [
    "## Arsenic Example"
   ]
  },
  {
   "cell_type": "markdown",
   "metadata": {
    "id": "IxCoQw5ZONHx"
   },
   "source": [
    "- Arsenic concentration in public drinking water supplies is a potential health risk. \n",
    "- An article in the Arizona Republic (May 27, 2001) reported drinking water arsenic concentrations in parts per billion (ppb) for 10 metropolitan Phoenix communities and 10 communities in rural Arizona.\n",
    "- You can find the data in CSV file."
   ]
  },
  {
   "cell_type": "markdown",
   "metadata": {
    "id": "vNXfvikBONHy"
   },
   "source": [
    "Determine if there is any difference in mean arsenic concentrations between metropolitan Phoenix communities and communities in rural Arizona."
   ]
  },
  {
   "cell_type": "code",
   "execution_count": 17,
   "metadata": {
    "id": "CIVxXOvVONHy"
   },
   "outputs": [
    {
     "data": {
      "text/html": [
       "<div>\n",
       "<style scoped>\n",
       "    .dataframe tbody tr th:only-of-type {\n",
       "        vertical-align: middle;\n",
       "    }\n",
       "\n",
       "    .dataframe tbody tr th {\n",
       "        vertical-align: top;\n",
       "    }\n",
       "\n",
       "    .dataframe thead th {\n",
       "        text-align: right;\n",
       "    }\n",
       "</style>\n",
       "<table border=\"1\" class=\"dataframe\">\n",
       "  <thead>\n",
       "    <tr style=\"text-align: right;\">\n",
       "      <th></th>\n",
       "      <th>Metro Phoenix</th>\n",
       "      <th>x1</th>\n",
       "      <th>Rural Arizona</th>\n",
       "      <th>x2</th>\n",
       "    </tr>\n",
       "  </thead>\n",
       "  <tbody>\n",
       "    <tr>\n",
       "      <th>0</th>\n",
       "      <td>Phoenix</td>\n",
       "      <td>3</td>\n",
       "      <td>Rimrock</td>\n",
       "      <td>48</td>\n",
       "    </tr>\n",
       "    <tr>\n",
       "      <th>1</th>\n",
       "      <td>Chandler</td>\n",
       "      <td>7</td>\n",
       "      <td>Goodyear</td>\n",
       "      <td>44</td>\n",
       "    </tr>\n",
       "    <tr>\n",
       "      <th>2</th>\n",
       "      <td>Gilbert</td>\n",
       "      <td>25</td>\n",
       "      <td>New River</td>\n",
       "      <td>40</td>\n",
       "    </tr>\n",
       "    <tr>\n",
       "      <th>3</th>\n",
       "      <td>Glendale</td>\n",
       "      <td>10</td>\n",
       "      <td>Apache Junction</td>\n",
       "      <td>38</td>\n",
       "    </tr>\n",
       "    <tr>\n",
       "      <th>4</th>\n",
       "      <td>Mesa</td>\n",
       "      <td>15</td>\n",
       "      <td>Buckeye</td>\n",
       "      <td>33</td>\n",
       "    </tr>\n",
       "    <tr>\n",
       "      <th>5</th>\n",
       "      <td>Paradise Valley</td>\n",
       "      <td>6</td>\n",
       "      <td>Nogales</td>\n",
       "      <td>21</td>\n",
       "    </tr>\n",
       "    <tr>\n",
       "      <th>6</th>\n",
       "      <td>Peoria</td>\n",
       "      <td>12</td>\n",
       "      <td>Black Canyon City</td>\n",
       "      <td>20</td>\n",
       "    </tr>\n",
       "    <tr>\n",
       "      <th>7</th>\n",
       "      <td>Scottsdale</td>\n",
       "      <td>25</td>\n",
       "      <td>Sedona</td>\n",
       "      <td>12</td>\n",
       "    </tr>\n",
       "    <tr>\n",
       "      <th>8</th>\n",
       "      <td>Tempe</td>\n",
       "      <td>15</td>\n",
       "      <td>Payson</td>\n",
       "      <td>1</td>\n",
       "    </tr>\n",
       "    <tr>\n",
       "      <th>9</th>\n",
       "      <td>Sun City</td>\n",
       "      <td>7</td>\n",
       "      <td>Casa Grande</td>\n",
       "      <td>18</td>\n",
       "    </tr>\n",
       "  </tbody>\n",
       "</table>\n",
       "</div>"
      ],
      "text/plain": [
       "     Metro Phoenix  x1      Rural Arizona  x2\n",
       "0          Phoenix   3            Rimrock  48\n",
       "1         Chandler   7           Goodyear  44\n",
       "2          Gilbert  25          New River  40\n",
       "3         Glendale  10    Apache Junction  38\n",
       "4             Mesa  15            Buckeye  33\n",
       "5  Paradise Valley   6            Nogales  21\n",
       "6           Peoria  12  Black Canyon City  20\n",
       "7       Scottsdale  25             Sedona  12\n",
       "8            Tempe  15             Payson   1\n",
       "9         Sun City   7        Casa Grande  18"
      ]
     },
     "execution_count": 17,
     "metadata": {},
     "output_type": "execute_result"
    }
   ],
   "source": [
    "# Importing arsenic dataset\n",
    "\n",
    "arsenic = pd.read_csv(\"arsenic.csv\")\n",
    "arsenic"
   ]
  },
  {
   "cell_type": "code",
   "execution_count": 18,
   "metadata": {
    "colab": {
     "base_uri": "https://localhost:8080/"
    },
    "executionInfo": {
     "elapsed": 286,
     "status": "ok",
     "timestamp": 1673086937747,
     "user": {
      "displayName": "Richard Thames",
      "userId": "00258987493291873022"
     },
     "user_tz": -180
    },
    "id": "38vFzA3oZOU_",
    "outputId": "9e7afe48-b94a-4b11-96f5-19df5d6efb2c"
   },
   "outputs": [
    {
     "data": {
      "text/plain": [
       "Index(['Metro Phoenix', 'x1', 'Rural Arizona', 'x2'], dtype='object')"
      ]
     },
     "execution_count": 18,
     "metadata": {},
     "output_type": "execute_result"
    }
   ],
   "source": [
    "arsenic.columns"
   ]
  },
  {
   "cell_type": "markdown",
   "metadata": {},
   "source": [
    "**Checking the Homogeneity of Variances:**\n",
    "\n",
    "**[What is levene's test:](https://en.wikipedia.org/wiki/Levene%27s_test)**\n",
    "\n",
    "In statistics, Levene's test is an inferential statistic used to assess the equality of variances for a variable calculated for two or more groups."
   ]
  },
  {
   "cell_type": "code",
   "execution_count": 19,
   "metadata": {
    "colab": {
     "base_uri": "https://localhost:8080/"
    },
    "executionInfo": {
     "elapsed": 299,
     "status": "ok",
     "timestamp": 1673086963723,
     "user": {
      "displayName": "Richard Thames",
      "userId": "00258987493291873022"
     },
     "user_tz": -180
    },
    "id": "osG8X_N3ONHz",
    "outputId": "a36f9cd8-29ac-49b8-9045-ef4df4933fe6"
   },
   "outputs": [
    {
     "data": {
      "text/plain": [
       "LeveneResult(statistic=7.7015516672169, pvalue=0.012482954069299166)"
      ]
     },
     "execution_count": 19,
     "metadata": {},
     "output_type": "execute_result"
    }
   ],
   "source": [
    "# Performing Levene test for equal variances\n",
    "\n",
    "# H0: The population variances are equal\n",
    "# H1: There is a difference between the variances in the population\n",
    "\n",
    "# The small p-value suggests that the populations do not have equal variances.\n",
    "\n",
    "leveneTest = stats.levene(arsenic.x1, arsenic.x2)\n",
    "leveneTest"
   ]
  },
  {
   "cell_type": "markdown",
   "metadata": {},
   "source": [
    "**Stating the null (H0) & alternative hypothesis (Ha or H1):**"
   ]
  },
  {
   "cell_type": "raw",
   "metadata": {},
   "source": [
    "H0: µ1 = µ2 (\"the two population means are equal\")\n",
    "H1: µ1 ≠ µ2 (\"the two population means are not equal\")"
   ]
  },
  {
   "cell_type": "code",
   "execution_count": 20,
   "metadata": {
    "id": "JtLddmDzONHz"
   },
   "outputs": [],
   "source": [
    "# H0: mu1 = mu2\n",
    "# H1: mu1 != mu2"
   ]
  },
  {
   "cell_type": "code",
   "execution_count": 21,
   "metadata": {
    "colab": {
     "base_uri": "https://localhost:8080/"
    },
    "executionInfo": {
     "elapsed": 265,
     "status": "ok",
     "timestamp": 1673086989773,
     "user": {
      "displayName": "Richard Thames",
      "userId": "00258987493291873022"
     },
     "user_tz": -180
    },
    "id": "K7pRFDRRONHz",
    "outputId": "4bf1e35a-e79c-40a2-e6fa-2f88ea088dcf"
   },
   "outputs": [
    {
     "data": {
      "text/plain": [
       "12.5"
      ]
     },
     "execution_count": 21,
     "metadata": {},
     "output_type": "execute_result"
    }
   ],
   "source": [
    "# average Metro Phoenix\n",
    "\n",
    "arsenic.x1.mean()"
   ]
  },
  {
   "cell_type": "code",
   "execution_count": 22,
   "metadata": {
    "colab": {
     "base_uri": "https://localhost:8080/"
    },
    "executionInfo": {
     "elapsed": 2,
     "status": "ok",
     "timestamp": 1673086992803,
     "user": {
      "displayName": "Richard Thames",
      "userId": "00258987493291873022"
     },
     "user_tz": -180
    },
    "id": "NblQjudxONHz",
    "outputId": "87684f5f-0551-4429-8a4d-1c154618f02c"
   },
   "outputs": [
    {
     "data": {
      "text/plain": [
       "27.5"
      ]
     },
     "execution_count": 22,
     "metadata": {},
     "output_type": "execute_result"
    }
   ],
   "source": [
    "# average Rural Arizona\n",
    "\n",
    "arsenic.x2.mean()"
   ]
  },
  {
   "cell_type": "markdown",
   "metadata": {
    "id": "GiciPQa_ONH0"
   },
   "source": [
    "**Calculating Test Statistic & p-value (the T-test for the means of two independent samples of scores):**"
   ]
  },
  {
   "cell_type": "code",
   "execution_count": 23,
   "metadata": {
    "id": "vlKDVRAFbGbw"
   },
   "outputs": [],
   "source": [
    "# help(stats.ttest_ind)"
   ]
  },
  {
   "cell_type": "code",
   "execution_count": 24,
   "metadata": {
    "colab": {
     "base_uri": "https://localhost:8080/"
    },
    "executionInfo": {
     "elapsed": 283,
     "status": "ok",
     "timestamp": 1673087031521,
     "user": {
      "displayName": "Richard Thames",
      "userId": "00258987493291873022"
     },
     "user_tz": -180
    },
    "id": "YGDINnV9ONH0",
    "outputId": "338b6641-39fb-4d00-f474-df5dac8a6bc3"
   },
   "outputs": [
    {
     "data": {
      "text/plain": [
       "Ttest_indResult(statistic=-2.7669395785560553, pvalue=0.0158272848161009)"
      ]
     },
     "execution_count": 24,
     "metadata": {},
     "output_type": "execute_result"
    }
   ],
   "source": [
    "# Calculating test statistics using stats.ttest_ind()\n",
    "\n",
    "indTest = stats.ttest_ind(arsenic.x1, arsenic.x2, equal_var=False)\n",
    "indTest"
   ]
  },
  {
   "cell_type": "code",
   "execution_count": 25,
   "metadata": {
    "colab": {
     "base_uri": "https://localhost:8080/"
    },
    "executionInfo": {
     "elapsed": 296,
     "status": "ok",
     "timestamp": 1673078054131,
     "user": {
      "displayName": "Richard Thames",
      "userId": "00258987493291873022"
     },
     "user_tz": -180
    },
    "id": "M4RzjtbFONH0",
    "outputId": "48fb6284-d23a-43d6-f2dc-da9d7903e564"
   },
   "outputs": [
    {
     "data": {
      "text/plain": [
       "-2.7669395785560553"
      ]
     },
     "execution_count": 25,
     "metadata": {},
     "output_type": "execute_result"
    }
   ],
   "source": [
    "indTest.statistic"
   ]
  },
  {
   "cell_type": "code",
   "execution_count": 26,
   "metadata": {
    "colab": {
     "base_uri": "https://localhost:8080/"
    },
    "executionInfo": {
     "elapsed": 265,
     "status": "ok",
     "timestamp": 1673087199116,
     "user": {
      "displayName": "Richard Thames",
      "userId": "00258987493291873022"
     },
     "user_tz": -180
    },
    "id": "yJDOaluLONH1",
    "outputId": "5957dff4-1f05-4c34-dfdd-79d65703ae48"
   },
   "outputs": [
    {
     "data": {
      "text/plain": [
       "0.0158272848161009"
      ]
     },
     "execution_count": 26,
     "metadata": {},
     "output_type": "execute_result"
    }
   ],
   "source": [
    "indTest.pvalue"
   ]
  },
  {
   "cell_type": "markdown",
   "metadata": {},
   "source": [
    "**Making a decision:**"
   ]
  },
  {
   "cell_type": "code",
   "execution_count": 27,
   "metadata": {
    "colab": {
     "base_uri": "https://localhost:8080/"
    },
    "executionInfo": {
     "elapsed": 430,
     "status": "ok",
     "timestamp": 1673087203206,
     "user": {
      "displayName": "Richard Thames",
      "userId": "00258987493291873022"
     },
     "user_tz": -180
    },
    "id": "YZvLrAqpONH1",
    "outputId": "260682ad-5997-4d9c-c873-19ef1a4cddf6"
   },
   "outputs": [
    {
     "name": "stdout",
     "output_type": "stream",
     "text": [
      "At 0.05 level of significance, we can reject the null hypothesis in favor of alternative hypothesis.\n"
     ]
    }
   ],
   "source": [
    "alpha = 0.05\n",
    "\n",
    "if indTest.pvalue < alpha:\n",
    "    print('At {} level of significance, we can reject the null hypothesis in favor of alternative hypothesis.'.format(alpha))\n",
    "else:\n",
    "    print('At {} level of significance, we fail to reject the null hypothesis.'.format(alpha))"
   ]
  },
  {
   "cell_type": "markdown",
   "metadata": {
    "id": "iKBF7QtaONH1"
   },
   "source": [
    "# Paired (Dependent) Samples T-Test"
   ]
  },
  {
   "cell_type": "markdown",
   "metadata": {
    "id": "GCU28cSfONH1"
   },
   "source": [
    "## Prozac Data"
   ]
  },
  {
   "cell_type": "markdown",
   "metadata": {
    "id": "brjzMXB3ONH2"
   },
   "source": [
    "- Let us consider a simple example of what is often termed \"pre/post\" data or \"pretest/posttest\" data. \n",
    "- Suppose you wish to test the effect of Prozac on the well-being of depressed individuals, using a standardised \"well-being scale\" that sums Likert-type items to obtain a score that could range from 0 to 20. \n",
    "- Higher scores indicate greater well-being (that is, Prozac is having a positive effect). \n",
    "- While there are flaws in this design (e.g., lack of a control group) it will serve as an example of how to analyse such data."
   ]
  },
  {
   "cell_type": "markdown",
   "metadata": {
    "id": "SXO2wP1YONH2"
   },
   "source": [
    "Determine if Prozac enhances well-being in depressed individuals. Use   0.05\n"
   ]
  },
  {
   "cell_type": "code",
   "execution_count": 28,
   "metadata": {
    "id": "hnl_JBV7ONH2"
   },
   "outputs": [
    {
     "data": {
      "text/html": [
       "<div>\n",
       "<style scoped>\n",
       "    .dataframe tbody tr th:only-of-type {\n",
       "        vertical-align: middle;\n",
       "    }\n",
       "\n",
       "    .dataframe tbody tr th {\n",
       "        vertical-align: top;\n",
       "    }\n",
       "\n",
       "    .dataframe thead th {\n",
       "        text-align: right;\n",
       "    }\n",
       "</style>\n",
       "<table border=\"1\" class=\"dataframe\">\n",
       "  <thead>\n",
       "    <tr style=\"text-align: right;\">\n",
       "      <th></th>\n",
       "      <th>moodpre</th>\n",
       "      <th>moodpost</th>\n",
       "      <th>difference</th>\n",
       "    </tr>\n",
       "  </thead>\n",
       "  <tbody>\n",
       "    <tr>\n",
       "      <th>0</th>\n",
       "      <td>3</td>\n",
       "      <td>5</td>\n",
       "      <td>2</td>\n",
       "    </tr>\n",
       "    <tr>\n",
       "      <th>1</th>\n",
       "      <td>0</td>\n",
       "      <td>1</td>\n",
       "      <td>1</td>\n",
       "    </tr>\n",
       "    <tr>\n",
       "      <th>2</th>\n",
       "      <td>6</td>\n",
       "      <td>5</td>\n",
       "      <td>-1</td>\n",
       "    </tr>\n",
       "    <tr>\n",
       "      <th>3</th>\n",
       "      <td>7</td>\n",
       "      <td>7</td>\n",
       "      <td>0</td>\n",
       "    </tr>\n",
       "    <tr>\n",
       "      <th>4</th>\n",
       "      <td>4</td>\n",
       "      <td>10</td>\n",
       "      <td>6</td>\n",
       "    </tr>\n",
       "    <tr>\n",
       "      <th>5</th>\n",
       "      <td>3</td>\n",
       "      <td>9</td>\n",
       "      <td>6</td>\n",
       "    </tr>\n",
       "    <tr>\n",
       "      <th>6</th>\n",
       "      <td>2</td>\n",
       "      <td>7</td>\n",
       "      <td>5</td>\n",
       "    </tr>\n",
       "    <tr>\n",
       "      <th>7</th>\n",
       "      <td>1</td>\n",
       "      <td>11</td>\n",
       "      <td>10</td>\n",
       "    </tr>\n",
       "    <tr>\n",
       "      <th>8</th>\n",
       "      <td>4</td>\n",
       "      <td>8</td>\n",
       "      <td>4</td>\n",
       "    </tr>\n",
       "  </tbody>\n",
       "</table>\n",
       "</div>"
      ],
      "text/plain": [
       "   moodpre  moodpost  difference\n",
       "0        3         5           2\n",
       "1        0         1           1\n",
       "2        6         5          -1\n",
       "3        7         7           0\n",
       "4        4        10           6\n",
       "5        3         9           6\n",
       "6        2         7           5\n",
       "7        1        11          10\n",
       "8        4         8           4"
      ]
     },
     "execution_count": 28,
     "metadata": {},
     "output_type": "execute_result"
    }
   ],
   "source": [
    "# Reading Prozac dataset\n",
    "\n",
    "prozac = pd.read_csv(\"prozac.csv\")\n",
    "prozac"
   ]
  },
  {
   "cell_type": "markdown",
   "metadata": {},
   "source": [
    "**Stating the null (H0) & alternative hypothesis (Ha or H1):**"
   ]
  },
  {
   "cell_type": "raw",
   "metadata": {},
   "source": [
    "H0: µ1 = µ2 (\"the paired population means are equal\")\n",
    "H1: µ1 > µ2 (\"the paired population means are not equal\")"
   ]
  },
  {
   "cell_type": "code",
   "execution_count": 29,
   "metadata": {
    "id": "BiQ6HyIoONH2"
   },
   "outputs": [],
   "source": [
    "# moodpost - moodpre\n",
    "\n",
    "# H0: d_bar = 0\n",
    "# H1: d_bar > 0"
   ]
  },
  {
   "cell_type": "markdown",
   "metadata": {},
   "source": [
    "**Calculating Test Statistic & p-value (the T-test for the means of two dependent (Paired) samples of scores):**"
   ]
  },
  {
   "cell_type": "code",
   "execution_count": 30,
   "metadata": {
    "colab": {
     "base_uri": "https://localhost:8080/"
    },
    "executionInfo": {
     "elapsed": 3,
     "status": "ok",
     "timestamp": 1673087415254,
     "user": {
      "displayName": "Richard Thames",
      "userId": "00258987493291873022"
     },
     "user_tz": -180
    },
    "id": "uPLEtigFONH3",
    "outputId": "2fd6a355-11cc-4fbc-98a4-19c9253f0582"
   },
   "outputs": [
    {
     "data": {
      "text/plain": [
       "Ttest_relResult(statistic=3.1428571428571423, pvalue=0.006872912197394244)"
      ]
     },
     "execution_count": 30,
     "metadata": {},
     "output_type": "execute_result"
    }
   ],
   "source": [
    "# Calculating test statistics using stats.ttest_rel() \n",
    "\n",
    "# moodpost - moodpre\n",
    "\n",
    "pairedtest = stats.ttest_rel(prozac.moodpost, prozac.moodpre, alternative=\"greater\")\n",
    "pairedtest"
   ]
  },
  {
   "cell_type": "code",
   "execution_count": 31,
   "metadata": {
    "id": "EY2u024FONH3"
   },
   "outputs": [],
   "source": [
    "# moodpre - moodpost\n",
    "\n",
    "# H0: d_bar = 0\n",
    "# H1: d_bar < 0\n",
    "\n",
    "# stats.ttest_rel(prozac.moodpre, prozac.moodpost, alternative=\"less\")"
   ]
  },
  {
   "cell_type": "markdown",
   "metadata": {},
   "source": [
    "**Making a decision:**"
   ]
  },
  {
   "cell_type": "code",
   "execution_count": 32,
   "metadata": {
    "colab": {
     "base_uri": "https://localhost:8080/"
    },
    "executionInfo": {
     "elapsed": 268,
     "status": "ok",
     "timestamp": 1673087530550,
     "user": {
      "displayName": "Richard Thames",
      "userId": "00258987493291873022"
     },
     "user_tz": -180
    },
    "id": "7bVGa7jrONH3",
    "outputId": "ca547779-53a9-4a58-f4ca-818adf98e27d"
   },
   "outputs": [
    {
     "name": "stdout",
     "output_type": "stream",
     "text": [
      "At 0.05 level of significance, we can reject the null hypothesis in favor of alternative hypothesis.\n"
     ]
    }
   ],
   "source": [
    "alpha = 0.05\n",
    "\n",
    "if pairedtest.pvalue < alpha:\n",
    "    print('At {} level of significance, we can reject the null hypothesis in favor of alternative hypothesis.'.format(alpha))\n",
    "else:\n",
    "    print('At {} level of significance, we fail to reject the null hypothesis.'.format(alpha))"
   ]
  },
  {
   "cell_type": "code",
   "execution_count": 33,
   "metadata": {
    "id": "cTdhutNAfTwq"
   },
   "outputs": [],
   "source": [
    "# That means prozac treatment gives good results."
   ]
  },
  {
   "cell_type": "markdown",
   "metadata": {
    "deletable": false,
    "editable": false
   },
   "source": [
    "<a href=\"https://clarusway.com/contact-us/\"><img align=\"center\" src=\"https://i.ibb.co/B43qn24/officially-licensed-logo.png\" alt=\"Open in Clarusway LMS\" width=\"110\" height=\"200\" title=\"This notebook is licensed by Clarusway IT training school. Please contact the authorized persons about the conditions under which you can use or share.\"></a>"
   ]
  }
 ],
 "metadata": {
  "colab": {
   "provenance": [
    {
     "file_id": "1TFTXwMsq_LE_E13ZfZMhwosaIUb2J6Lx",
     "timestamp": 1644940745214
    },
    {
     "file_id": "10AaYzkuMZiK4_vSS0fo4EHHbaSXh7F9k",
     "timestamp": 1644053579521
    }
   ]
  },
  "kernelspec": {
   "display_name": "base",
   "language": "python",
   "name": "python3"
  },
  "language_info": {
   "codemirror_mode": {
    "name": "ipython",
    "version": 3
   },
   "file_extension": ".py",
   "mimetype": "text/x-python",
   "name": "python",
   "nbconvert_exporter": "python",
   "pygments_lexer": "ipython3",
   "version": "3.9.12"
  },
  "toc": {
   "base_numbering": 1,
   "nav_menu": {},
   "number_sections": true,
   "sideBar": true,
   "skip_h1_title": false,
   "title_cell": "Table of Contents",
   "title_sidebar": "Contents",
   "toc_cell": false,
   "toc_position": {},
   "toc_section_display": true,
   "toc_window_display": false
  },
  "vscode": {
   "interpreter": {
    "hash": "9b40ba5a44686450f0f65a04fc1e3ac8ccc40bb973f4eae503c8685f95d0bd73"
   }
  }
 },
 "nbformat": 4,
 "nbformat_minor": 1
}
