{
 "cells": [
  {
   "cell_type": "markdown",
   "metadata": {
    "deletable": false,
    "editable": false
   },
   "source": [
    "<a href=\"https://clarusway.com/contact-us/\"><img align=\"center\" src=\"https://i.ibb.co/B43qn24/officially-licensed-logo.png\" alt=\"Open in Clarusway LMS\" width=\"110\" height=\"200\" title=\"This notebook is licensed by Clarusway IT training school. Please contact the authorized persons about the conditions under which you can use or share.\"></a>"
   ]
  },
  {
   "cell_type": "markdown",
   "metadata": {
    "id": "Kqhaon5X2lmL"
   },
   "source": [
    "# [One Sample Z-Test](https://www.analystsoft.com/en/products/statplus/content/help/analysis_basic_statistics_one_sample_z-test.html)\n",
    "\n",
    "The One-Sample z-test is used when we want to know ``whether the difference between the mean of a sample mean and the mean of a population is large enough to be statistically significant``, that is, if it is unlikely to have occurred by chance. The test is considered robust for violations of normal distribution and it is usually applied to relatively ``large samples (N > 30)`` or ``when the population variance is known``, otherwise you might consider using t-test.\n",
    "\n",
    "**``Assumptions:``**\n",
    "1. Mean and variance of the population are known.\n",
    "\n",
    "2. The test statistic follows normal distribution.\n",
    "\n",
    "**[One Sample Z-Test: Definition, Formula, and Example](https://www.statology.org/one-sample-z-test/)**<br>\n",
    "**[One-Sample Z-Test](http://psychology.emory.edu/clinical/bliwise/Tutorials/TOM/meanstests/zone.htm#:~:text=The%20one%2Dsample%20Z%20test%20compares%20a%20sample%20to%20a,central%20tendency%20and%20variability%2Fdispersion.)**<br>\n",
    "**[One Sample Z-Test: How to Run One](https://www.statisticshowto.com/one-sample-z-test/)**"
   ]
  },
  {
   "cell_type": "markdown",
   "metadata": {
    "id": "mJH02eQn2lmS"
   },
   "source": [
    "**``Performed when the population means and standard deviation are known.``**"
   ]
  },
  {
   "cell_type": "markdown",
   "metadata": {
    "id": "SCxyfVJ72lmS"
   },
   "source": [
    "## Example-1"
   ]
  },
  {
   "cell_type": "markdown",
   "metadata": {
    "id": "5c00Iz_K2lmT"
   },
   "source": [
    "- Suppose that a beach is safe to swim if the mean level of lead in the water is ``10.0 (μ0)`` parts/million.  \n",
    "- We assume Xi ~ N (μ, ``σ=1.5``)\n",
    "- Water safety is going to be determined by taking 40 water samples and using the test statistic. \n",
    "- ``Sample mean=10.5``\n",
    "- ``α=0.05``"
   ]
  },
  {
   "cell_type": "code",
   "execution_count": 35,
   "metadata": {
    "executionInfo": {
     "elapsed": 315,
     "status": "ok",
     "timestamp": 1662784676074,
     "user": {
      "displayName": "Richard Thames",
      "userId": "00258987493291873022"
     },
     "user_tz": -180
    },
    "id": "fiWDbiDD2lmT"
   },
   "outputs": [],
   "source": [
    "# Importing related libraries\n",
    "\n",
    "# import statsmodels.api as sm\n",
    "import scipy.stats as stats\n",
    "from math import sqrt\n",
    "import numpy as np"
   ]
  },
  {
   "cell_type": "code",
   "execution_count": 36,
   "metadata": {
    "id": "5UU9HfZi2lmU"
   },
   "outputs": [],
   "source": [
    "# Writing the given variables\n",
    "\n",
    "x_bar = 10.5  # sample mean \n",
    "n = 40  # number of samples\n",
    "sigma = 1.5  # sd of population\n",
    "mu = 10  # Population mean "
   ]
  },
  {
   "cell_type": "markdown",
   "metadata": {},
   "source": [
    "**Stating the null (H0) and alternative hypothesis (Ha or H1):**"
   ]
  },
  {
   "cell_type": "raw",
   "metadata": {},
   "source": [
    "The null hypothesis..........: H0: μ  <= 10\n",
    "    \n",
    "The alternative hypothesis...: Ha: μ  > 10"
   ]
  },
  {
   "cell_type": "markdown",
   "metadata": {},
   "source": [
    "<img src=https://i.ibb.co/4Sggp8f/one-two-tailed.png width=\"500\" height=\"200\">"
   ]
  },
  {
   "cell_type": "markdown",
   "metadata": {
    "id": "l62qBl7N2lmU"
   },
   "source": [
    "**Calculating the test statistic:**\n",
    "\n",
    "<img src=https://i.ibb.co/2ynY3cY/z-formula1.png width=\"600\" height=\"200\">"
   ]
  },
  {
   "cell_type": "code",
   "execution_count": 37,
   "metadata": {
    "colab": {
     "base_uri": "https://localhost:8080/"
    },
    "executionInfo": {
     "elapsed": 7,
     "status": "ok",
     "timestamp": 1662658348024,
     "user": {
      "displayName": "Richard Thames",
      "userId": "00258987493291873022"
     },
     "user_tz": -180
    },
    "id": "nE_oBxpC2lmU",
    "outputId": "03030b59-1162-4eaf-9c9d-c0222b3c7b54"
   },
   "outputs": [
    {
     "data": {
      "text/plain": [
       "2.1081851067789197"
      ]
     },
     "execution_count": 37,
     "metadata": {},
     "output_type": "execute_result"
    }
   ],
   "source": [
    "z = (x_bar-mu) / (sigma/sqrt(n))\n",
    "z"
   ]
  },
  {
   "cell_type": "markdown",
   "metadata": {
    "id": "WepdGOFB2lmV"
   },
   "source": [
    "**Calculating the p-value:**\n",
    "\n",
    "<img src=https://i.ibb.co/jRcqVnx/rejection-areas.png width=\"900\" height=\"200\">\n",
    "\n",
    "**[Source](https://sphweb.bumc.bu.edu/otlt/MPH-Modules/PH717-QuantCore/PH717-Module7-T-tests/PH717-Module7-T-tests4.html)**"
   ]
  },
  {
   "cell_type": "code",
   "execution_count": 38,
   "metadata": {
    "colab": {
     "base_uri": "https://localhost:8080/"
    },
    "executionInfo": {
     "elapsed": 7,
     "status": "ok",
     "timestamp": 1662658348025,
     "user": {
      "displayName": "Richard Thames",
      "userId": "00258987493291873022"
     },
     "user_tz": -180
    },
    "id": "fLEuq-_n2lmV",
    "outputId": "6ceb34e1-f9f6-44e5-8562-4d39eb2b03e4"
   },
   "outputs": [
    {
     "data": {
      "text/plain": [
       "0.017507490509831247"
      ]
     },
     "execution_count": 38,
     "metadata": {},
     "output_type": "execute_result"
    }
   ],
   "source": [
    "p_value = 1 - stats.norm.cdf(z)\n",
    "# p_value = 1 - stats.norm.cdf(2.1081851067789197)\n",
    "p_value"
   ]
  },
  {
   "cell_type": "markdown",
   "metadata": {},
   "source": [
    "<img src=https://i.ibb.co/MNgLbWR/one-tailed.png width=\"500\" height=\"200\">\n",
    "\n",
    "<img src=https://i.ibb.co/ChYm8Rg/rejection-acceptance-areas.png width=\"500\" height=\"200\">"
   ]
  },
  {
   "cell_type": "markdown",
   "metadata": {},
   "source": [
    "**Making a decision:**"
   ]
  },
  {
   "cell_type": "code",
   "execution_count": 39,
   "metadata": {
    "colab": {
     "base_uri": "https://localhost:8080/"
    },
    "executionInfo": {
     "elapsed": 7,
     "status": "ok",
     "timestamp": 1662658349250,
     "user": {
      "displayName": "Richard Thames",
      "userId": "00258987493291873022"
     },
     "user_tz": -180
    },
    "id": "VoFW6ujX2lmW",
    "outputId": "9c2fc57a-38f4-4fc1-9b45-a709d033b22e"
   },
   "outputs": [
    {
     "name": "stdout",
     "output_type": "stream",
     "text": [
      "At 0.05 level of significance, we can reject the null hypothesis in favor of alternative hypothesis.\n"
     ]
    }
   ],
   "source": [
    "alpha = 0.05\n",
    "\n",
    "if p_value < alpha:\n",
    "    print('At {} level of significance, we can reject the null hypothesis in favor of alternative hypothesis.'.format(alpha))\n",
    "else:\n",
    "    print('At {} level of significance, we fail to reject the null hypothesis.'.format(alpha))"
   ]
  },
  {
   "cell_type": "markdown",
   "metadata": {},
   "source": [
    "## Example-2"
   ]
  },
  {
   "cell_type": "markdown",
   "metadata": {},
   "source": [
    "- A department store manager determines that a new billing system will be cost-effective only if the ``mean`` monthly account is more than ``170 dollars``.\n",
    "- A ``random sample of 400`` monthly accounts is drawn, for which the ``sample mean`` is ``178 dollars``.\n",
    "- The accounts are ``approximately normally distributed`` with a ``standard deviation of 65 dollars``.\n",
    "- Can we conclude that the new system will be cost-effective?"
   ]
  },
  {
   "cell_type": "markdown",
   "metadata": {},
   "source": [
    "**Stating the null (H0) and alternative hypothesis (Ha or H1):**"
   ]
  },
  {
   "cell_type": "raw",
   "metadata": {},
   "source": [
    "The null hypothesis..........: H0: μ  = 170\n",
    "    \n",
    "The alternative hypothesis...: Ha: μ  > 170"
   ]
  },
  {
   "cell_type": "markdown",
   "metadata": {},
   "source": [
    "**Calculating the test statistic:**"
   ]
  },
  {
   "cell_type": "code",
   "execution_count": 40,
   "metadata": {},
   "outputs": [],
   "source": [
    "# Writing the given variables\n",
    "\n",
    "mu = 170\n",
    "\n",
    "x_bar = 178\n",
    "n = 400\n",
    "\n",
    "sigma = 65\n",
    "\n",
    "alpha = 0.05"
   ]
  },
  {
   "cell_type": "code",
   "execution_count": 41,
   "metadata": {},
   "outputs": [
    {
     "data": {
      "text/plain": [
       "2.4615384615384617"
      ]
     },
     "execution_count": 41,
     "metadata": {},
     "output_type": "execute_result"
    }
   ],
   "source": [
    "z = (x_bar - mu) / (sigma/np.sqrt(n))\n",
    "z"
   ]
  },
  {
   "cell_type": "code",
   "execution_count": 42,
   "metadata": {},
   "outputs": [
    {
     "data": {
      "text/plain": [
       "3.25"
      ]
     },
     "execution_count": 42,
     "metadata": {},
     "output_type": "execute_result"
    }
   ],
   "source": [
    "# Standard Error (standard deviation of sampling distribition od sample mean)\n",
    "\n",
    "sigma/np.sqrt(n)"
   ]
  },
  {
   "cell_type": "markdown",
   "metadata": {},
   "source": [
    "**Calculating the p-value:**"
   ]
  },
  {
   "cell_type": "code",
   "execution_count": 43,
   "metadata": {},
   "outputs": [],
   "source": [
    "p_value = 1 - stats.norm.cdf(z)"
   ]
  },
  {
   "cell_type": "code",
   "execution_count": 44,
   "metadata": {},
   "outputs": [
    {
     "data": {
      "text/plain": [
       "0.006917128192854505"
      ]
     },
     "execution_count": 44,
     "metadata": {},
     "output_type": "execute_result"
    }
   ],
   "source": [
    "1 - stats.norm.cdf(178, 170, 3.25)"
   ]
  },
  {
   "cell_type": "markdown",
   "metadata": {},
   "source": [
    "**Making a decision:**"
   ]
  },
  {
   "cell_type": "code",
   "execution_count": 45,
   "metadata": {},
   "outputs": [
    {
     "name": "stdout",
     "output_type": "stream",
     "text": [
      "At 0.05 level of significance, we can reject the null hypothesis in favor of alternative hypothesis.\n"
     ]
    }
   ],
   "source": [
    "if p_value < alpha:\n",
    "    print('At {} level of significance, we can reject the null hypothesis in favor of alternative hypothesis.'.format(alpha))\n",
    "else:\n",
    "    print('At {} level of significance, we fail to reject the null hypothesis.'.format(alpha))"
   ]
  },
  {
   "cell_type": "markdown",
   "metadata": {},
   "source": [
    "### Z-test Exercise for Students\n",
    "\n",
    "``1,500 women`` followed the Atkin’s diet for a month. A ``random sample of 43 women`` gained an ``average of 6.7 pounds``. Test the hypothesis that the average weight gain per woman for the month was ``over 5 pounds``. The ``standard deviation`` for all women in the group was ``7.1``."
   ]
  },
  {
   "cell_type": "markdown",
   "metadata": {},
   "source": [
    "**Stating the null (H0) and alternative hypothesis (Ha or H1):**"
   ]
  },
  {
   "cell_type": "code",
   "execution_count": null,
   "metadata": {},
   "outputs": [],
   "source": []
  },
  {
   "cell_type": "markdown",
   "metadata": {},
   "source": [
    "**Calculating the test statistic:**"
   ]
  },
  {
   "cell_type": "code",
   "execution_count": null,
   "metadata": {},
   "outputs": [],
   "source": []
  },
  {
   "cell_type": "markdown",
   "metadata": {},
   "source": [
    "**Calculating the p-value:**"
   ]
  },
  {
   "cell_type": "code",
   "execution_count": null,
   "metadata": {},
   "outputs": [],
   "source": []
  },
  {
   "cell_type": "markdown",
   "metadata": {},
   "source": [
    "**Making a decision:**"
   ]
  },
  {
   "cell_type": "code",
   "execution_count": null,
   "metadata": {},
   "outputs": [],
   "source": []
  },
  {
   "cell_type": "markdown",
   "metadata": {
    "id": "xHkk92Mv2lmY"
   },
   "source": [
    "# [One Sample t-Test](https://vitalflux.com/one-sample-t-test-formula-examples/)\n",
    "\n",
    "In statistics, the t-test is often used in research when the researcher wants to know ``whether there is a significant difference between the mean of sample and the population``, or ``whether there is a significant difference between the means of two different groups`` but we do ``NOT`` have full population information available to us.\n",
    "\n",
    "**[One-Sample t-Test](http://psychology.emory.edu/clinical/bliwise/Tutorials/TOM/meanstests/tone.htm)**<br>\n",
    "**[One Sample T Test - Easily Explained w/ 5+ Examples!](https://calcworkshop.com/hypothesis-test/one-sample-t-test/)**<br>\n",
    "**[One Sample T Test – Clearly Explained with Examples | ML+](https://www.machinelearningplus.com/statistics/one-sample-t-test/)**<br>\n",
    "**[How do you find the t-test statistic?](https://www.omnicalculator.com/statistics/t-test)**\n",
    "\n",
    "<img src=https://i.ibb.co/nsxqsbY/t-formula.png width=\"600\" height=\"200\">\n",
    "\n",
    "**``Performed when the population standard deviation are unknown.``**"
   ]
  },
  {
   "cell_type": "markdown",
   "metadata": {
    "id": "vNwGgsvX2lmY"
   },
   "source": [
    "## Example-1"
   ]
  },
  {
   "cell_type": "markdown",
   "metadata": {
    "id": "OFdulawW2lmY"
   },
   "source": [
    "- Bon Air ELEM has 1000 students. The principal of the school thinks that the ``average IQ`` of students at Bon Air is ``at least 110``. To prove her point, she administers an IQ test to ``20 randomly selected students``. \n",
    "- Among the sampled students, the ``average IQ`` is ``108`` with a ``standard deviation of 10``. \n",
    "- Based on these results, should the principal accept or reject her original hypothesis? ``α=0.01``"
   ]
  },
  {
   "cell_type": "code",
   "execution_count": 46,
   "metadata": {
    "id": "3e8xedXl2lmZ"
   },
   "outputs": [],
   "source": [
    "# Writing the given variables\n",
    "\n",
    "x_bar = 108  # sample mean \n",
    "n = 20  # number of students\n",
    "s = 10  # sd of sample\n",
    "mu = 110  # Population mean \n",
    "alpha = 0.01"
   ]
  },
  {
   "cell_type": "markdown",
   "metadata": {
    "id": "QDnyEEXW2lmZ"
   },
   "source": [
    "**Calculating the test statistic:**"
   ]
  },
  {
   "cell_type": "code",
   "execution_count": 47,
   "metadata": {
    "colab": {
     "base_uri": "https://localhost:8080/"
    },
    "executionInfo": {
     "elapsed": 3,
     "status": "ok",
     "timestamp": 1662658357233,
     "user": {
      "displayName": "Richard Thames",
      "userId": "00258987493291873022"
     },
     "user_tz": -180
    },
    "id": "WFK3Khm42lmZ",
    "outputId": "d48933c1-d69b-4a09-86c3-4f7ffde27458"
   },
   "outputs": [
    {
     "data": {
      "text/plain": [
       "-0.8944271909999159"
      ]
     },
     "execution_count": 47,
     "metadata": {},
     "output_type": "execute_result"
    }
   ],
   "source": [
    "t = (x_bar - mu)/(s/sqrt(n))\n",
    "t"
   ]
  },
  {
   "cell_type": "code",
   "execution_count": 48,
   "metadata": {
    "colab": {
     "base_uri": "https://localhost:8080/"
    },
    "executionInfo": {
     "elapsed": 2,
     "status": "ok",
     "timestamp": 1662658358666,
     "user": {
      "displayName": "Richard Thames",
      "userId": "00258987493291873022"
     },
     "user_tz": -180
    },
    "id": "dIrAWEV22lmZ",
    "outputId": "a6eb7530-346a-4e2d-fbc8-2f8c69eb2420"
   },
   "outputs": [
    {
     "data": {
      "text/plain": [
       "0.1911420676837155"
      ]
     },
     "execution_count": 48,
     "metadata": {},
     "output_type": "execute_result"
    }
   ],
   "source": [
    "p_value = stats.t.cdf(t, df=n-1)\n",
    "p_value"
   ]
  },
  {
   "cell_type": "markdown",
   "metadata": {},
   "source": [
    "**Making a decision:**"
   ]
  },
  {
   "cell_type": "code",
   "execution_count": 49,
   "metadata": {
    "colab": {
     "base_uri": "https://localhost:8080/"
    },
    "executionInfo": {
     "elapsed": 4,
     "status": "ok",
     "timestamp": 1662658360409,
     "user": {
      "displayName": "Richard Thames",
      "userId": "00258987493291873022"
     },
     "user_tz": -180
    },
    "id": "1pp13RAr2lmZ",
    "outputId": "4bb77928-a375-40ba-e4d7-33f0c282d6b1"
   },
   "outputs": [
    {
     "name": "stdout",
     "output_type": "stream",
     "text": [
      "At 0.01 level of significance, we fail to reject the null hypothesis.\n"
     ]
    }
   ],
   "source": [
    "if p_value<alpha:\n",
    "    print('At {} level of significance, we can reject the null hypothesis in favor of alternative hypothesis.'.format(alpha))\n",
    "else:\n",
    "    print('At {} level of significance, we fail to reject the null hypothesis.'.format(alpha))"
   ]
  },
  {
   "cell_type": "markdown",
   "metadata": {},
   "source": [
    "### Bonus\n",
    "\n",
    "A critical-T or critical-Z value is a ``“cut-off point”`` on the t and z distribution. A t-distribution/z-distribution is a probability distribution that is used to calculate population parameters when the sample size is small for t-distribution/large for z-distribution and when the population variance is unknown for t-distribution/known for z-distribution. T & Z values are used to analyze whether to support or reject a null hypothesis."
   ]
  },
  {
   "cell_type": "code",
   "execution_count": null,
   "metadata": {},
   "outputs": [],
   "source": [
    "# How to calculate critical t-value\n",
    "\n",
    "stats.t.ppf(alpha, df=n-1)"
   ]
  },
  {
   "cell_type": "markdown",
   "metadata": {},
   "source": [
    "While making your test you can compare:\n",
    "- Either ``t0 vs tcritical`` and ``z0 vs zcritical``\n",
    "- Or ``p-value vs alpha value (α)``\n",
    "\n",
    "**[Hypothesis testing and p-values](https://www.khanacademy.org/math/statistics-probability/significance-tests-one-sample/more-significance-testing-videos/v/hypothesis-testing-and-p-values)**"
   ]
  },
  {
   "cell_type": "markdown",
   "metadata": {},
   "source": [
    "### T-test Exercise for Students\n",
    "\n",
    "Imagine a company wants to test the claim that their batteries last ``more than 40 hours``. Using a simple ``random sample of 15 batteries`` yielded a ``mean of 44.9 hours``, with a ``standard deviation of 8.9 hours``. Test this claim using a ``significance level of 0.05``."
   ]
  },
  {
   "cell_type": "markdown",
   "metadata": {},
   "source": [
    "**Stating the null (H0) and alternative hypothesis (Ha or H1):**"
   ]
  },
  {
   "cell_type": "code",
   "execution_count": null,
   "metadata": {},
   "outputs": [],
   "source": []
  },
  {
   "cell_type": "markdown",
   "metadata": {},
   "source": [
    "**Calculating the test statistic:**"
   ]
  },
  {
   "cell_type": "code",
   "execution_count": null,
   "metadata": {},
   "outputs": [],
   "source": []
  },
  {
   "cell_type": "markdown",
   "metadata": {},
   "source": [
    "**Calculating the p-value:**"
   ]
  },
  {
   "cell_type": "code",
   "execution_count": null,
   "metadata": {},
   "outputs": [],
   "source": []
  },
  {
   "cell_type": "markdown",
   "metadata": {},
   "source": [
    "**Making a decision:**"
   ]
  },
  {
   "cell_type": "code",
   "execution_count": null,
   "metadata": {},
   "outputs": [],
   "source": []
  },
  {
   "cell_type": "markdown",
   "metadata": {},
   "source": [
    "### Summary\n",
    "\n",
    "<img src=https://i.ibb.co/pKK7xVk/Z-Test-vs-T-Test.png width=\"600\" height=\"200\">"
   ]
  },
  {
   "cell_type": "markdown",
   "metadata": {
    "id": "EmUB_dcx2lma"
   },
   "source": [
    "### scipy.stats"
   ]
  },
  {
   "cell_type": "code",
   "execution_count": 50,
   "metadata": {
    "colab": {
     "base_uri": "https://localhost:8080/"
    },
    "executionInfo": {
     "elapsed": 4531,
     "status": "ok",
     "timestamp": 1656700681998,
     "user": {
      "displayName": "Richard Thames",
      "userId": "00258987493291873022"
     },
     "user_tz": -180
    },
    "id": "dNvZLfEqPORx",
    "outputId": "c1b99a9d-7f88-457f-c5b6-2e488f8bfa4f"
   },
   "outputs": [],
   "source": [
    "# pip install statsmodels"
   ]
  },
  {
   "cell_type": "code",
   "execution_count": 51,
   "metadata": {
    "executionInfo": {
     "elapsed": 1738,
     "status": "ok",
     "timestamp": 1662784670787,
     "user": {
      "displayName": "Richard Thames",
      "userId": "00258987493291873022"
     },
     "user_tz": -180
    },
    "id": "KRBN2Sutovir"
   },
   "outputs": [],
   "source": [
    "import statsmodels.api as sm"
   ]
  },
  {
   "cell_type": "code",
   "execution_count": 52,
   "metadata": {
    "colab": {
     "base_uri": "https://localhost:8080/"
    },
    "executionInfo": {
     "elapsed": 726,
     "status": "ok",
     "timestamp": 1662784671509,
     "user": {
      "displayName": "Richard Thames",
      "userId": "00258987493291873022"
     },
     "user_tz": -180
    },
    "id": "ptTC05Qk2lmd",
    "outputId": "8ee6f9e1-a488-40fd-ffa6-93173eb30e45"
   },
   "outputs": [
    {
     "data": {
      "text/plain": [
       "dict_keys(['data', '__doc__', 'package', 'title', 'from_cache'])"
      ]
     },
     "execution_count": 52,
     "metadata": {},
     "output_type": "execute_result"
    }
   ],
   "source": [
    "df = sm.datasets.get_rdataset(dataname = \"Pima.tr\", package = \"MASS\")\n",
    "df.keys()"
   ]
  },
  {
   "cell_type": "code",
   "execution_count": 53,
   "metadata": {
    "colab": {
     "base_uri": "https://localhost:8080/"
    },
    "executionInfo": {
     "elapsed": 308,
     "status": "ok",
     "timestamp": 1662784681598,
     "user": {
      "displayName": "Richard Thames",
      "userId": "00258987493291873022"
     },
     "user_tz": -180
    },
    "id": "ALyWGhsyzanJ",
    "outputId": "4b263ffa-9e22-4e86-cbc7-b71e699f8d60"
   },
   "outputs": [
    {
     "name": "stdout",
     "output_type": "stream",
     "text": [
      ".. container::\n",
      "\n",
      "   ======= ===============\n",
      "   Pima.tr R Documentation\n",
      "   ======= ===============\n",
      "\n",
      "   .. rubric:: Diabetes in Pima Indian Women\n",
      "      :name: diabetes-in-pima-indian-women\n",
      "\n",
      "   .. rubric:: Description\n",
      "      :name: description\n",
      "\n",
      "   A population of women who were at least 21 years old, of Pima Indian\n",
      "   heritage and living near Phoenix, Arizona, was tested for diabetes\n",
      "   according to World Health Organization criteria. The data were\n",
      "   collected by the US National Institute of Diabetes and Digestive and\n",
      "   Kidney Diseases. We used the 532 complete records after dropping the\n",
      "   (mainly missing) data on serum insulin.\n",
      "\n",
      "   .. rubric:: Usage\n",
      "      :name: usage\n",
      "\n",
      "   ::\n",
      "\n",
      "      Pima.tr\n",
      "      Pima.tr2\n",
      "      Pima.te\n",
      "\n",
      "   .. rubric:: Format\n",
      "      :name: format\n",
      "\n",
      "   These data frames contains the following columns:\n",
      "\n",
      "   ``npreg``\n",
      "      number of pregnancies.\n",
      "\n",
      "   ``glu``\n",
      "      plasma glucose concentration in an oral glucose tolerance test.\n",
      "\n",
      "   ``bp``\n",
      "      diastolic blood pressure (mm Hg).\n",
      "\n",
      "   ``skin``\n",
      "      triceps skin fold thickness (mm).\n",
      "\n",
      "   ``bmi``\n",
      "      body mass index (weight in kg/(height in m)\\ ``^2``).\n",
      "\n",
      "   ``ped``\n",
      "      diabetes pedigree function.\n",
      "\n",
      "   ``age``\n",
      "      age in years.\n",
      "\n",
      "   ``type``\n",
      "      ``Yes`` or ``No``, for diabetic according to WHO criteria.\n",
      "\n",
      "   .. rubric:: Details\n",
      "      :name: details\n",
      "\n",
      "   The training set ``Pima.tr`` contains a randomly selected set of 200\n",
      "   subjects, and ``Pima.te`` contains the remaining 332 subjects.\n",
      "   ``Pima.tr2`` contains ``Pima.tr`` plus 100 subjects with missing\n",
      "   values in the explanatory variables.\n",
      "\n",
      "   .. rubric:: Source\n",
      "      :name: source\n",
      "\n",
      "   Smith, J. W., Everhart, J. E., Dickson, W. C., Knowler, W. C. and\n",
      "   Johannes, R. S. (1988) Using the ADAP learning algorithm to forecast\n",
      "   the onset of *diabetes mellitus*. In *Proceedings of the Symposium on\n",
      "   Computer Applications in Medical Care (Washington, 1988),* ed. R. A.\n",
      "   Greenes, pp. 261–265. Los Alamitos, CA: IEEE Computer Society Press.\n",
      "\n",
      "   Ripley, B.D. (1996) *Pattern Recognition and Neural Networks.*\n",
      "   Cambridge: Cambridge University Press.\n",
      "\n"
     ]
    }
   ],
   "source": [
    "print(df.__doc__)"
   ]
  },
  {
   "cell_type": "code",
   "execution_count": 54,
   "metadata": {
    "colab": {
     "base_uri": "https://localhost:8080/",
     "height": 424
    },
    "executionInfo": {
     "elapsed": 11,
     "status": "ok",
     "timestamp": 1662784684629,
     "user": {
      "displayName": "Richard Thames",
      "userId": "00258987493291873022"
     },
     "user_tz": -180
    },
    "id": "4XOYBjpM2lmd",
    "outputId": "515373a9-d3b3-440e-8ee9-08ae1a61188b"
   },
   "outputs": [
    {
     "data": {
      "text/html": [
       "<div>\n",
       "<style scoped>\n",
       "    .dataframe tbody tr th:only-of-type {\n",
       "        vertical-align: middle;\n",
       "    }\n",
       "\n",
       "    .dataframe tbody tr th {\n",
       "        vertical-align: top;\n",
       "    }\n",
       "\n",
       "    .dataframe thead th {\n",
       "        text-align: right;\n",
       "    }\n",
       "</style>\n",
       "<table border=\"1\" class=\"dataframe\">\n",
       "  <thead>\n",
       "    <tr style=\"text-align: right;\">\n",
       "      <th></th>\n",
       "      <th>npreg</th>\n",
       "      <th>glu</th>\n",
       "      <th>bp</th>\n",
       "      <th>skin</th>\n",
       "      <th>bmi</th>\n",
       "      <th>ped</th>\n",
       "      <th>age</th>\n",
       "      <th>type</th>\n",
       "    </tr>\n",
       "  </thead>\n",
       "  <tbody>\n",
       "    <tr>\n",
       "      <th>0</th>\n",
       "      <td>5</td>\n",
       "      <td>86</td>\n",
       "      <td>68</td>\n",
       "      <td>28</td>\n",
       "      <td>30.2</td>\n",
       "      <td>0.364</td>\n",
       "      <td>24</td>\n",
       "      <td>No</td>\n",
       "    </tr>\n",
       "    <tr>\n",
       "      <th>1</th>\n",
       "      <td>7</td>\n",
       "      <td>195</td>\n",
       "      <td>70</td>\n",
       "      <td>33</td>\n",
       "      <td>25.1</td>\n",
       "      <td>0.163</td>\n",
       "      <td>55</td>\n",
       "      <td>Yes</td>\n",
       "    </tr>\n",
       "    <tr>\n",
       "      <th>2</th>\n",
       "      <td>5</td>\n",
       "      <td>77</td>\n",
       "      <td>82</td>\n",
       "      <td>41</td>\n",
       "      <td>35.8</td>\n",
       "      <td>0.156</td>\n",
       "      <td>35</td>\n",
       "      <td>No</td>\n",
       "    </tr>\n",
       "    <tr>\n",
       "      <th>3</th>\n",
       "      <td>0</td>\n",
       "      <td>165</td>\n",
       "      <td>76</td>\n",
       "      <td>43</td>\n",
       "      <td>47.9</td>\n",
       "      <td>0.259</td>\n",
       "      <td>26</td>\n",
       "      <td>No</td>\n",
       "    </tr>\n",
       "    <tr>\n",
       "      <th>4</th>\n",
       "      <td>0</td>\n",
       "      <td>107</td>\n",
       "      <td>60</td>\n",
       "      <td>25</td>\n",
       "      <td>26.4</td>\n",
       "      <td>0.133</td>\n",
       "      <td>23</td>\n",
       "      <td>No</td>\n",
       "    </tr>\n",
       "    <tr>\n",
       "      <th>...</th>\n",
       "      <td>...</td>\n",
       "      <td>...</td>\n",
       "      <td>...</td>\n",
       "      <td>...</td>\n",
       "      <td>...</td>\n",
       "      <td>...</td>\n",
       "      <td>...</td>\n",
       "      <td>...</td>\n",
       "    </tr>\n",
       "    <tr>\n",
       "      <th>195</th>\n",
       "      <td>2</td>\n",
       "      <td>141</td>\n",
       "      <td>58</td>\n",
       "      <td>34</td>\n",
       "      <td>25.4</td>\n",
       "      <td>0.699</td>\n",
       "      <td>24</td>\n",
       "      <td>No</td>\n",
       "    </tr>\n",
       "    <tr>\n",
       "      <th>196</th>\n",
       "      <td>7</td>\n",
       "      <td>129</td>\n",
       "      <td>68</td>\n",
       "      <td>49</td>\n",
       "      <td>38.5</td>\n",
       "      <td>0.439</td>\n",
       "      <td>43</td>\n",
       "      <td>Yes</td>\n",
       "    </tr>\n",
       "    <tr>\n",
       "      <th>197</th>\n",
       "      <td>0</td>\n",
       "      <td>106</td>\n",
       "      <td>70</td>\n",
       "      <td>37</td>\n",
       "      <td>39.4</td>\n",
       "      <td>0.605</td>\n",
       "      <td>22</td>\n",
       "      <td>No</td>\n",
       "    </tr>\n",
       "    <tr>\n",
       "      <th>198</th>\n",
       "      <td>1</td>\n",
       "      <td>118</td>\n",
       "      <td>58</td>\n",
       "      <td>36</td>\n",
       "      <td>33.3</td>\n",
       "      <td>0.261</td>\n",
       "      <td>23</td>\n",
       "      <td>No</td>\n",
       "    </tr>\n",
       "    <tr>\n",
       "      <th>199</th>\n",
       "      <td>8</td>\n",
       "      <td>155</td>\n",
       "      <td>62</td>\n",
       "      <td>26</td>\n",
       "      <td>34.0</td>\n",
       "      <td>0.543</td>\n",
       "      <td>46</td>\n",
       "      <td>Yes</td>\n",
       "    </tr>\n",
       "  </tbody>\n",
       "</table>\n",
       "<p>200 rows × 8 columns</p>\n",
       "</div>"
      ],
      "text/plain": [
       "     npreg  glu  bp  skin   bmi    ped  age type\n",
       "0        5   86  68    28  30.2  0.364   24   No\n",
       "1        7  195  70    33  25.1  0.163   55  Yes\n",
       "2        5   77  82    41  35.8  0.156   35   No\n",
       "3        0  165  76    43  47.9  0.259   26   No\n",
       "4        0  107  60    25  26.4  0.133   23   No\n",
       "..     ...  ...  ..   ...   ...    ...  ...  ...\n",
       "195      2  141  58    34  25.4  0.699   24   No\n",
       "196      7  129  68    49  38.5  0.439   43  Yes\n",
       "197      0  106  70    37  39.4  0.605   22   No\n",
       "198      1  118  58    36  33.3  0.261   23   No\n",
       "199      8  155  62    26  34.0  0.543   46  Yes\n",
       "\n",
       "[200 rows x 8 columns]"
      ]
     },
     "execution_count": 54,
     "metadata": {},
     "output_type": "execute_result"
    }
   ],
   "source": [
    "df.data"
   ]
  },
  {
   "cell_type": "code",
   "execution_count": 55,
   "metadata": {
    "executionInfo": {
     "elapsed": 325,
     "status": "ok",
     "timestamp": 1662784687167,
     "user": {
      "displayName": "Richard Thames",
      "userId": "00258987493291873022"
     },
     "user_tz": -180
    },
    "id": "SYKw1Pfj2lmd"
   },
   "outputs": [],
   "source": [
    "df = df.data"
   ]
  },
  {
   "cell_type": "code",
   "execution_count": 56,
   "metadata": {
    "colab": {
     "base_uri": "https://localhost:8080/",
     "height": 206
    },
    "executionInfo": {
     "elapsed": 4,
     "status": "ok",
     "timestamp": 1662784687958,
     "user": {
      "displayName": "Richard Thames",
      "userId": "00258987493291873022"
     },
     "user_tz": -180
    },
    "id": "6vi-x7Xy2lme",
    "outputId": "cbcd85c7-d8a7-4384-922e-df7561232d59"
   },
   "outputs": [
    {
     "data": {
      "text/html": [
       "<div>\n",
       "<style scoped>\n",
       "    .dataframe tbody tr th:only-of-type {\n",
       "        vertical-align: middle;\n",
       "    }\n",
       "\n",
       "    .dataframe tbody tr th {\n",
       "        vertical-align: top;\n",
       "    }\n",
       "\n",
       "    .dataframe thead th {\n",
       "        text-align: right;\n",
       "    }\n",
       "</style>\n",
       "<table border=\"1\" class=\"dataframe\">\n",
       "  <thead>\n",
       "    <tr style=\"text-align: right;\">\n",
       "      <th></th>\n",
       "      <th>npreg</th>\n",
       "      <th>glu</th>\n",
       "      <th>bp</th>\n",
       "      <th>skin</th>\n",
       "      <th>bmi</th>\n",
       "      <th>ped</th>\n",
       "      <th>age</th>\n",
       "      <th>type</th>\n",
       "    </tr>\n",
       "  </thead>\n",
       "  <tbody>\n",
       "    <tr>\n",
       "      <th>0</th>\n",
       "      <td>5</td>\n",
       "      <td>86</td>\n",
       "      <td>68</td>\n",
       "      <td>28</td>\n",
       "      <td>30.2</td>\n",
       "      <td>0.364</td>\n",
       "      <td>24</td>\n",
       "      <td>No</td>\n",
       "    </tr>\n",
       "    <tr>\n",
       "      <th>1</th>\n",
       "      <td>7</td>\n",
       "      <td>195</td>\n",
       "      <td>70</td>\n",
       "      <td>33</td>\n",
       "      <td>25.1</td>\n",
       "      <td>0.163</td>\n",
       "      <td>55</td>\n",
       "      <td>Yes</td>\n",
       "    </tr>\n",
       "    <tr>\n",
       "      <th>2</th>\n",
       "      <td>5</td>\n",
       "      <td>77</td>\n",
       "      <td>82</td>\n",
       "      <td>41</td>\n",
       "      <td>35.8</td>\n",
       "      <td>0.156</td>\n",
       "      <td>35</td>\n",
       "      <td>No</td>\n",
       "    </tr>\n",
       "    <tr>\n",
       "      <th>3</th>\n",
       "      <td>0</td>\n",
       "      <td>165</td>\n",
       "      <td>76</td>\n",
       "      <td>43</td>\n",
       "      <td>47.9</td>\n",
       "      <td>0.259</td>\n",
       "      <td>26</td>\n",
       "      <td>No</td>\n",
       "    </tr>\n",
       "    <tr>\n",
       "      <th>4</th>\n",
       "      <td>0</td>\n",
       "      <td>107</td>\n",
       "      <td>60</td>\n",
       "      <td>25</td>\n",
       "      <td>26.4</td>\n",
       "      <td>0.133</td>\n",
       "      <td>23</td>\n",
       "      <td>No</td>\n",
       "    </tr>\n",
       "  </tbody>\n",
       "</table>\n",
       "</div>"
      ],
      "text/plain": [
       "   npreg  glu  bp  skin   bmi    ped  age type\n",
       "0      5   86  68    28  30.2  0.364   24   No\n",
       "1      7  195  70    33  25.1  0.163   55  Yes\n",
       "2      5   77  82    41  35.8  0.156   35   No\n",
       "3      0  165  76    43  47.9  0.259   26   No\n",
       "4      0  107  60    25  26.4  0.133   23   No"
      ]
     },
     "execution_count": 56,
     "metadata": {},
     "output_type": "execute_result"
    }
   ],
   "source": [
    "df.head()"
   ]
  },
  {
   "cell_type": "code",
   "execution_count": 57,
   "metadata": {
    "colab": {
     "base_uri": "https://localhost:8080/"
    },
    "executionInfo": {
     "elapsed": 3,
     "status": "ok",
     "timestamp": 1662784689808,
     "user": {
      "displayName": "Richard Thames",
      "userId": "00258987493291873022"
     },
     "user_tz": -180
    },
    "id": "FL2pS3wK2lme",
    "outputId": "a20a1976-7765-4bfd-eb64-4f08a0b1a2aa"
   },
   "outputs": [
    {
     "name": "stdout",
     "output_type": "stream",
     "text": [
      "<class 'pandas.core.frame.DataFrame'>\n",
      "RangeIndex: 200 entries, 0 to 199\n",
      "Data columns (total 8 columns):\n",
      " #   Column  Non-Null Count  Dtype  \n",
      "---  ------  --------------  -----  \n",
      " 0   npreg   200 non-null    int64  \n",
      " 1   glu     200 non-null    int64  \n",
      " 2   bp      200 non-null    int64  \n",
      " 3   skin    200 non-null    int64  \n",
      " 4   bmi     200 non-null    float64\n",
      " 5   ped     200 non-null    float64\n",
      " 6   age     200 non-null    int64  \n",
      " 7   type    200 non-null    object \n",
      "dtypes: float64(2), int64(5), object(1)\n",
      "memory usage: 12.6+ KB\n"
     ]
    }
   ],
   "source": [
    "df.info()"
   ]
  },
  {
   "cell_type": "code",
   "execution_count": 58,
   "metadata": {
    "colab": {
     "base_uri": "https://localhost:8080/",
     "height": 300
    },
    "executionInfo": {
     "elapsed": 328,
     "status": "ok",
     "timestamp": 1662784692475,
     "user": {
      "displayName": "Richard Thames",
      "userId": "00258987493291873022"
     },
     "user_tz": -180
    },
    "id": "hpuXURx2pkyB",
    "outputId": "aad31e4d-bf8d-43ac-ba5c-33aa96c85918"
   },
   "outputs": [
    {
     "data": {
      "text/html": [
       "<div>\n",
       "<style scoped>\n",
       "    .dataframe tbody tr th:only-of-type {\n",
       "        vertical-align: middle;\n",
       "    }\n",
       "\n",
       "    .dataframe tbody tr th {\n",
       "        vertical-align: top;\n",
       "    }\n",
       "\n",
       "    .dataframe thead th {\n",
       "        text-align: right;\n",
       "    }\n",
       "</style>\n",
       "<table border=\"1\" class=\"dataframe\">\n",
       "  <thead>\n",
       "    <tr style=\"text-align: right;\">\n",
       "      <th></th>\n",
       "      <th>npreg</th>\n",
       "      <th>glu</th>\n",
       "      <th>bp</th>\n",
       "      <th>skin</th>\n",
       "      <th>bmi</th>\n",
       "      <th>ped</th>\n",
       "      <th>age</th>\n",
       "    </tr>\n",
       "  </thead>\n",
       "  <tbody>\n",
       "    <tr>\n",
       "      <th>count</th>\n",
       "      <td>200.000000</td>\n",
       "      <td>200.000000</td>\n",
       "      <td>200.000000</td>\n",
       "      <td>200.000000</td>\n",
       "      <td>200.000000</td>\n",
       "      <td>200.000000</td>\n",
       "      <td>200.000000</td>\n",
       "    </tr>\n",
       "    <tr>\n",
       "      <th>mean</th>\n",
       "      <td>3.570000</td>\n",
       "      <td>123.970000</td>\n",
       "      <td>71.260000</td>\n",
       "      <td>29.215000</td>\n",
       "      <td>32.310000</td>\n",
       "      <td>0.460765</td>\n",
       "      <td>32.110000</td>\n",
       "    </tr>\n",
       "    <tr>\n",
       "      <th>std</th>\n",
       "      <td>3.366268</td>\n",
       "      <td>31.667225</td>\n",
       "      <td>11.479604</td>\n",
       "      <td>11.724594</td>\n",
       "      <td>6.130212</td>\n",
       "      <td>0.307225</td>\n",
       "      <td>10.975436</td>\n",
       "    </tr>\n",
       "    <tr>\n",
       "      <th>min</th>\n",
       "      <td>0.000000</td>\n",
       "      <td>56.000000</td>\n",
       "      <td>38.000000</td>\n",
       "      <td>7.000000</td>\n",
       "      <td>18.200000</td>\n",
       "      <td>0.085000</td>\n",
       "      <td>21.000000</td>\n",
       "    </tr>\n",
       "    <tr>\n",
       "      <th>25%</th>\n",
       "      <td>1.000000</td>\n",
       "      <td>100.000000</td>\n",
       "      <td>64.000000</td>\n",
       "      <td>20.750000</td>\n",
       "      <td>27.575000</td>\n",
       "      <td>0.253500</td>\n",
       "      <td>23.000000</td>\n",
       "    </tr>\n",
       "    <tr>\n",
       "      <th>50%</th>\n",
       "      <td>2.000000</td>\n",
       "      <td>120.500000</td>\n",
       "      <td>70.000000</td>\n",
       "      <td>29.000000</td>\n",
       "      <td>32.800000</td>\n",
       "      <td>0.372500</td>\n",
       "      <td>28.000000</td>\n",
       "    </tr>\n",
       "    <tr>\n",
       "      <th>75%</th>\n",
       "      <td>6.000000</td>\n",
       "      <td>144.000000</td>\n",
       "      <td>78.000000</td>\n",
       "      <td>36.000000</td>\n",
       "      <td>36.500000</td>\n",
       "      <td>0.616000</td>\n",
       "      <td>39.250000</td>\n",
       "    </tr>\n",
       "    <tr>\n",
       "      <th>max</th>\n",
       "      <td>14.000000</td>\n",
       "      <td>199.000000</td>\n",
       "      <td>110.000000</td>\n",
       "      <td>99.000000</td>\n",
       "      <td>47.900000</td>\n",
       "      <td>2.288000</td>\n",
       "      <td>63.000000</td>\n",
       "    </tr>\n",
       "  </tbody>\n",
       "</table>\n",
       "</div>"
      ],
      "text/plain": [
       "            npreg         glu          bp        skin         bmi         ped  \\\n",
       "count  200.000000  200.000000  200.000000  200.000000  200.000000  200.000000   \n",
       "mean     3.570000  123.970000   71.260000   29.215000   32.310000    0.460765   \n",
       "std      3.366268   31.667225   11.479604   11.724594    6.130212    0.307225   \n",
       "min      0.000000   56.000000   38.000000    7.000000   18.200000    0.085000   \n",
       "25%      1.000000  100.000000   64.000000   20.750000   27.575000    0.253500   \n",
       "50%      2.000000  120.500000   70.000000   29.000000   32.800000    0.372500   \n",
       "75%      6.000000  144.000000   78.000000   36.000000   36.500000    0.616000   \n",
       "max     14.000000  199.000000  110.000000   99.000000   47.900000    2.288000   \n",
       "\n",
       "              age  \n",
       "count  200.000000  \n",
       "mean    32.110000  \n",
       "std     10.975436  \n",
       "min     21.000000  \n",
       "25%     23.000000  \n",
       "50%     28.000000  \n",
       "75%     39.250000  \n",
       "max     63.000000  "
      ]
     },
     "execution_count": 58,
     "metadata": {},
     "output_type": "execute_result"
    }
   ],
   "source": [
    "df.describe()"
   ]
  },
  {
   "cell_type": "code",
   "execution_count": 59,
   "metadata": {
    "executionInfo": {
     "elapsed": 316,
     "status": "ok",
     "timestamp": 1662784695268,
     "user": {
      "displayName": "Richard Thames",
      "userId": "00258987493291873022"
     },
     "user_tz": -180
    },
    "id": "v5ZNrdCipfQR"
   },
   "outputs": [],
   "source": [
    "# Supposing that we hypothesize that the population mean of bmi among Pima Indian women is above 30.\n",
    "# Because we found sample mean as x_bar = 32.3"
   ]
  },
  {
   "cell_type": "code",
   "execution_count": 60,
   "metadata": {
    "executionInfo": {
     "elapsed": 1,
     "status": "ok",
     "timestamp": 1662784696652,
     "user": {
      "displayName": "Richard Thames",
      "userId": "00258987493291873022"
     },
     "user_tz": -180
    },
    "id": "UzADeHMr2lme"
   },
   "outputs": [],
   "source": [
    "# bmi mean:\n",
    "# Ho: mu = 30\n",
    "# Ha: mu >30"
   ]
  },
  {
   "cell_type": "code",
   "execution_count": 61,
   "metadata": {
    "colab": {
     "base_uri": "https://localhost:8080/"
    },
    "executionInfo": {
     "elapsed": 3,
     "status": "ok",
     "timestamp": 1662784697982,
     "user": {
      "displayName": "Richard Thames",
      "userId": "00258987493291873022"
     },
     "user_tz": -180
    },
    "id": "5A5ERaKV05V5",
    "outputId": "67fab5d0-5e91-4693-b831-ea53485b456a"
   },
   "outputs": [
    {
     "data": {
      "text/plain": [
       "32.30999999999998"
      ]
     },
     "execution_count": 61,
     "metadata": {},
     "output_type": "execute_result"
    }
   ],
   "source": [
    "df.bmi.mean()"
   ]
  },
  {
   "cell_type": "code",
   "execution_count": 62,
   "metadata": {
    "executionInfo": {
     "elapsed": 2,
     "status": "ok",
     "timestamp": 1662784699151,
     "user": {
      "displayName": "Richard Thames",
      "userId": "00258987493291873022"
     },
     "user_tz": -180
    },
    "id": "nMEr9EjNqPNZ"
   },
   "outputs": [],
   "source": [
    "# sample size = 200\n",
    "# sample std = 6.13\n",
    "# sample mean = 32.3"
   ]
  },
  {
   "cell_type": "code",
   "execution_count": 63,
   "metadata": {
    "colab": {
     "base_uri": "https://localhost:8080/"
    },
    "executionInfo": {
     "elapsed": 334,
     "status": "ok",
     "timestamp": 1662784767334,
     "user": {
      "displayName": "Richard Thames",
      "userId": "00258987493291873022"
     },
     "user_tz": -180
    },
    "id": "7RSwAYnJ1EtA",
    "outputId": "b7248466-738d-4377-de91-b92b2b6c1cdc"
   },
   "outputs": [
    {
     "data": {
      "text/plain": [
       "Ttest_1sampResult(statistic=5.329070841262502, pvalue=2.6614410307455736e-07)"
      ]
     },
     "execution_count": 63,
     "metadata": {},
     "output_type": "execute_result"
    }
   ],
   "source": [
    "onesample = stats.ttest_1samp(df[\"bmi\"], 30)\n",
    "onesample"
   ]
  },
  {
   "cell_type": "code",
   "execution_count": 64,
   "metadata": {
    "executionInfo": {
     "elapsed": 296,
     "status": "ok",
     "timestamp": 1662784753584,
     "user": {
      "displayName": "Richard Thames",
      "userId": "00258987493291873022"
     },
     "user_tz": -180
    },
    "id": "BajL1_hdbOhy"
   },
   "outputs": [],
   "source": [
    "# help(stats.ttest_1samp)"
   ]
  },
  {
   "cell_type": "code",
   "execution_count": 65,
   "metadata": {
    "colab": {
     "base_uri": "https://localhost:8080/"
    },
    "executionInfo": {
     "elapsed": 286,
     "status": "ok",
     "timestamp": 1662784771505,
     "user": {
      "displayName": "Richard Thames",
      "userId": "00258987493291873022"
     },
     "user_tz": -180
    },
    "id": "D7L_RW2Y_LDr",
    "outputId": "bdfe1b2d-9045-447b-abfc-cbe31e4e1ca2"
   },
   "outputs": [
    {
     "data": {
      "text/plain": [
       "1.3307205153727868e-07"
      ]
     },
     "execution_count": 65,
     "metadata": {},
     "output_type": "execute_result"
    }
   ],
   "source": [
    "onesample.pvalue/2  # because it is a two sided test we should divide the p_value by 2 at the and if we are seeking one side test."
   ]
  },
  {
   "cell_type": "code",
   "execution_count": 66,
   "metadata": {
    "colab": {
     "base_uri": "https://localhost:8080/"
    },
    "executionInfo": {
     "elapsed": 313,
     "status": "ok",
     "timestamp": 1662784809545,
     "user": {
      "displayName": "Richard Thames",
      "userId": "00258987493291873022"
     },
     "user_tz": -180
    },
    "id": "Y2nHYPl9KhtU",
    "outputId": "a493bf4e-5b75-4e00-a94d-656acd8c6fb5"
   },
   "outputs": [
    {
     "name": "stdout",
     "output_type": "stream",
     "text": [
      "At 0.05 level of significance, we can reject the null hypothesis in favor of alternative hypothesis.\n"
     ]
    }
   ],
   "source": [
    "alpha = 0.05\n",
    "\n",
    "if onesample.pvalue/2<alpha:\n",
    "    print('At {} level of significance, we can reject the null hypothesis in favor of alternative hypothesis.'.format(alpha))\n",
    "else:\n",
    "    print('At {} level of significance, we fail to reject the null hypothesis.'.format(alpha))"
   ]
  },
  {
   "cell_type": "markdown",
   "metadata": {
    "deletable": false,
    "editable": false
   },
   "source": [
    "<a href=\"https://clarusway.com/contact-us/\"><img align=\"center\" src=\"https://i.ibb.co/B43qn24/officially-licensed-logo.png\" alt=\"Open in Clarusway LMS\" width=\"110\" height=\"200\" title=\"This notebook is licensed by Clarusway IT training school. Please contact the authorized persons about the conditions under which you can use or share.\"></a>"
   ]
  }
 ],
 "metadata": {
  "colab": {
   "collapsed_sections": [],
   "provenance": [
    {
     "file_id": "1WkrGCoJV6zUcHgc560ZuesFbKuXT6_YH",
     "timestamp": 1644864723517
    },
    {
     "file_id": "1d2RZk4O4_0VzRxhKJcHCgVqwbCXLP4Zc",
     "timestamp": 1619099564054
    }
   ]
  },
  "kernelspec": {
   "display_name": "Python 3 (ipykernel)",
   "language": "python",
   "name": "python3"
  },
  "language_info": {
   "codemirror_mode": {
    "name": "ipython",
    "version": 3
   },
   "file_extension": ".py",
   "mimetype": "text/x-python",
   "name": "python",
   "nbconvert_exporter": "python",
   "pygments_lexer": "ipython3",
   "version": "3.9.13"
  },
  "toc": {
   "base_numbering": 1,
   "nav_menu": {},
   "number_sections": true,
   "sideBar": true,
   "skip_h1_title": false,
   "title_cell": "Table of Contents",
   "title_sidebar": "Contents",
   "toc_cell": false,
   "toc_position": {},
   "toc_section_display": true,
   "toc_window_display": true
  }
 },
 "nbformat": 4,
 "nbformat_minor": 1
}
