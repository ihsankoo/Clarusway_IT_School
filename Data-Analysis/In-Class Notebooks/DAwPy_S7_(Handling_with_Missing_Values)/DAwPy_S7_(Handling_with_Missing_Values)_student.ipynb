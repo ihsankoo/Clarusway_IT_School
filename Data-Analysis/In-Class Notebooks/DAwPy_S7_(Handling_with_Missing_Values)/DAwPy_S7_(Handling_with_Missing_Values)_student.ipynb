{
  "cells": [
    {
      "cell_type": "markdown",
      "metadata": {
        "id": "IlgneDcCDyzP"
      },
      "source": [
        "\n",
        "<p style=\"text-align: center;\"><img src=\"https://docs.google.com/uc?id=1lY0Uj5R04yMY3-ZppPWxqCr5pvBLYPnV\" class=\"img-fluid\" \n",
        "alt=\"CLRSWY\"></p>\n",
        "\n",
        "## <p style=\"background-color:#FDFEFE; font-family:newtimeroman; color:#9d4f8c; font-size:100%; text-align:center; border-radius:10px 10px;\">WAY TO REINVENT YOURSELF</p>"
      ]
    },
    {
      "cell_type": "markdown",
      "metadata": {
        "id": "U08URC_kDyzW"
      },
      "source": [
        "<img src=https://i.ibb.co/6gCsHd6/1200px-Pandas-logo-svg.png width=\"700\" height=\"200\">\n",
        "\n",
        "## <p style=\"background-color:#FDFEFE; font-family:newtimeroman; color:#060108; font-size:200%; text-align:center; border-radius:10px 10px;\">Data Analysis with Python</p>\n",
        "\n",
        "## <p style=\"background-color:#FDFEFE; font-family:newtimeroman; color:#060108; font-size:150%; text-align:center; border-radius:10px 10px;\">Session - 07</p>\n",
        "\n",
        "## <p style=\"background-color:#FDFEFE; font-family:newtimeroman; color:#4d77cf; font-size:200%; text-align:center; border-radius:10px 10px;\">Handling with Missing Values</p>"
      ]
    },
    {
      "cell_type": "markdown",
      "metadata": {
        "id": "3vnM00e0DyzX"
      },
      "source": [
        "<a id=\"toc\"></a>\n",
        "\n",
        "## <p style=\"background-color:#9d4f8c; font-family:newtimeroman; color:#FFF9ED; font-size:175%; text-align:center; border-radius:10px 10px;\">Content</p>\n",
        "\n",
        "* [IMPORTING LIBRARIES NEEDED IN THIS NOTEBOOK](#0)\n",
        "* [TYPE OF NAN VALUES](#1)\n",
        "* [DETECTING MISSING VALUES](#2)\n",
        "* [CONVERTING INAPPROPRIATE VALUES TO NAN VALUES](#3)    \n",
        "* [MISSING VALUE HANDLING METHODS](#4)    \n",
        "* [THE END OF THE SESSION - 07](#5)"
      ]
    },
    {
      "cell_type": "markdown",
      "metadata": {
        "id": "30XgnYRTDyzX"
      },
      "source": [
        "## <p style=\"background-color:#9d4f8c; font-family:newtimeroman; color:#FFF9ED; font-size:175%; text-align:center; border-radius:10px 10px;\">Importing Libraries Needed in This Notebook</p>\n",
        "\n",
        "<a id=\"0\"></a>\n",
        "<a href=\"#toc\" class=\"btn btn-primary btn-sm\" role=\"button\" aria-pressed=\"true\" \n",
        "style=\"color:blue; background-color:#dfa8e4\" data-toggle=\"popover\">Content</a>\n",
        "\n",
        "Once you've installed NumPy & Pandas you can import them as a library:"
      ]
    },
    {
      "cell_type": "code",
      "execution_count": null,
      "metadata": {
        "id": "-bhPlyEyDyzY"
      },
      "outputs": [],
      "source": [
        "import numpy as np\n",
        "import pandas as pd\n",
        "import seaborn as sns"
      ]
    },
    {
      "cell_type": "code",
      "execution_count": null,
      "metadata": {
        "id": "tbH43uTM98fP",
        "outputId": "05e86669-82f3-425c-8478-14a47097b792"
      },
      "outputs": [
        {
          "data": {
            "text/html": [
              "<div>\n",
              "<style scoped>\n",
              "    .dataframe tbody tr th:only-of-type {\n",
              "        vertical-align: middle;\n",
              "    }\n",
              "\n",
              "    .dataframe tbody tr th {\n",
              "        vertical-align: top;\n",
              "    }\n",
              "\n",
              "    .dataframe thead th {\n",
              "        text-align: right;\n",
              "    }\n",
              "</style>\n",
              "<table border=\"1\" class=\"dataframe\">\n",
              "  <thead>\n",
              "    <tr style=\"text-align: right;\">\n",
              "      <th></th>\n",
              "      <th>id</th>\n",
              "      <th>gender</th>\n",
              "      <th>status</th>\n",
              "      <th>dept</th>\n",
              "      <th>var1</th>\n",
              "      <th>var2</th>\n",
              "      <th>salary</th>\n",
              "    </tr>\n",
              "  </thead>\n",
              "  <tbody>\n",
              "    <tr>\n",
              "      <th>0</th>\n",
              "      <td>P001</td>\n",
              "      <td>M</td>\n",
              "      <td>FT</td>\n",
              "      <td>DS</td>\n",
              "      <td>2</td>\n",
              "      <td>8.0</td>\n",
              "      <td>NaN</td>\n",
              "    </tr>\n",
              "    <tr>\n",
              "      <th>1</th>\n",
              "      <td>P002</td>\n",
              "      <td>F</td>\n",
              "      <td>PT</td>\n",
              "      <td>FS</td>\n",
              "      <td>3</td>\n",
              "      <td>NaN</td>\n",
              "      <td>54</td>\n",
              "    </tr>\n",
              "    <tr>\n",
              "      <th>2</th>\n",
              "      <td>P003</td>\n",
              "      <td>M</td>\n",
              "      <td>-</td>\n",
              "      <td>AWS</td>\n",
              "      <td>5</td>\n",
              "      <td>5.0</td>\n",
              "      <td>59</td>\n",
              "    </tr>\n",
              "    <tr>\n",
              "      <th>3</th>\n",
              "      <td>P004</td>\n",
              "      <td>F</td>\n",
              "      <td>FT</td>\n",
              "      <td>AWS</td>\n",
              "      <td>nan</td>\n",
              "      <td>8.0</td>\n",
              "      <td>120</td>\n",
              "    </tr>\n",
              "    <tr>\n",
              "      <th>4</th>\n",
              "      <td>P005</td>\n",
              "      <td>M</td>\n",
              "      <td>PT</td>\n",
              "      <td>DS</td>\n",
              "      <td>7</td>\n",
              "      <td>11.0</td>\n",
              "      <td>58</td>\n",
              "    </tr>\n",
              "    <tr>\n",
              "      <th>5</th>\n",
              "      <td>P006</td>\n",
              "      <td>F</td>\n",
              "      <td>PT</td>\n",
              "      <td>None</td>\n",
              "      <td>1</td>\n",
              "      <td>NaN</td>\n",
              "      <td>75</td>\n",
              "    </tr>\n",
              "    <tr>\n",
              "      <th>6</th>\n",
              "      <td>P007</td>\n",
              "      <td>M</td>\n",
              "      <td>FT</td>\n",
              "      <td>FS</td>\n",
              "      <td>nan</td>\n",
              "      <td>NaN</td>\n",
              "      <td>None</td>\n",
              "    </tr>\n",
              "    <tr>\n",
              "      <th>7</th>\n",
              "      <td>P008</td>\n",
              "      <td>F</td>\n",
              "      <td>-</td>\n",
              "      <td>FS</td>\n",
              "      <td>10</td>\n",
              "      <td>2.0</td>\n",
              "      <td>136</td>\n",
              "    </tr>\n",
              "    <tr>\n",
              "      <th>8</th>\n",
              "      <td>P009</td>\n",
              "      <td>M</td>\n",
              "      <td>PT</td>\n",
              "      <td>NaN</td>\n",
              "      <td>14</td>\n",
              "      <td>3.0</td>\n",
              "      <td>60</td>\n",
              "    </tr>\n",
              "    <tr>\n",
              "      <th>9</th>\n",
              "      <td>P010</td>\n",
              "      <td>F</td>\n",
              "      <td>FT</td>\n",
              "      <td>DS</td>\n",
              "      <td>-</td>\n",
              "      <td>7.0</td>\n",
              "      <td>125</td>\n",
              "    </tr>\n",
              "    <tr>\n",
              "      <th>10</th>\n",
              "      <td>P011</td>\n",
              "      <td>M</td>\n",
              "      <td>NaN</td>\n",
              "      <td>AWS</td>\n",
              "      <td>6</td>\n",
              "      <td>9.0</td>\n",
              "      <td>NaN</td>\n",
              "    </tr>\n",
              "  </tbody>\n",
              "</table>\n",
              "</div>"
            ],
            "text/plain": [
              "      id gender status  dept var1  var2 salary\n",
              "0   P001      M     FT    DS    2   8.0    NaN\n",
              "1   P002      F     PT    FS    3   NaN     54\n",
              "2   P003      M      -   AWS    5   5.0     59\n",
              "3   P004      F     FT   AWS  nan   8.0    120\n",
              "4   P005      M     PT    DS    7  11.0     58\n",
              "5   P006      F     PT  None    1   NaN     75\n",
              "6   P007      M     FT    FS  nan   NaN   None\n",
              "7   P008      F      -    FS   10   2.0    136\n",
              "8   P009      M     PT   NaN   14   3.0     60\n",
              "9   P010      F     FT    DS    -   7.0    125\n",
              "10  P011      M    NaN   AWS    6   9.0    NaN"
            ]
          },
          "execution_count": 2,
          "metadata": {},
          "output_type": "execute_result"
        }
      ],
      "source": [
        "id_no = [\"P001\", \"P002\", \"P003\", \"P004\", \"P005\", \"P006\", \"P007\", \"P008\", \"P009\", \"P010\", \"P011\"]\n",
        "gender = [\"M\", \"F\", \"M\", \"F\", \"M\", \"F\", \"M\", \"F\", \"M\", \"F\", \"M\"]\n",
        "status = [\"FT\", \"PT\", \"-\", \"FT\", \"PT\", \"PT\", \"FT\", \"-\", \"PT\", \"FT\", np.nan]\n",
        "dept = [\"DS\", \"FS\", \"AWS\", \"AWS\", \"DS\", None, \"FS\", \"FS\", np.nan, \"DS\", \"AWS\"]\n",
        "V1 = np.array([2, 3, 5, np.nan, 7, 1, np.nan, 10, 14, \"-\", 6])\n",
        "V2 = np.array([8, np.nan, 5, 8, 11, np.nan, np.nan, 2, 3, 7, 9])\n",
        "salary = np.array([np.nan, 54, 59, 120, 58, 75, None, 136, 60, 125, np.nan])\n",
        "\n",
        "df = pd.DataFrame({\n",
        "                   \"id\" : id_no,\n",
        "                   \"gender\": gender,\n",
        "                   \"status\": status,\n",
        "                   \"dept\": dept,\n",
        "                   \"var1\" : V1,\n",
        "                   \"var2\" : V2,\n",
        "                   \"salary\" : salary\n",
        "                  })\n",
        "df"
      ]
    },
    {
      "cell_type": "markdown",
      "metadata": {
        "id": "Hs6sPY5O98fR"
      },
      "source": [
        "## <p style=\"background-color:#9d4f8c; font-family:newtimeroman; color:#FFF9ED; font-size:175%; text-align:center; border-radius:10px 10px;\">Type of NaN Values</p>\n",
        "\n",
        "<a id=\"1\"></a>\n",
        "<a href=\"#toc\" class=\"btn btn-primary btn-sm\" role=\"button\" aria-pressed=\"true\" \n",
        "style=\"color:blue; background-color:#dfa8e4\" data-toggle=\"popover\">Content</a>"
      ]
    },
    {
      "cell_type": "code",
      "execution_count": null,
      "metadata": {
        "id": "sAAPnC0rYHqP"
      },
      "outputs": [],
      "source": [
        ""
      ]
    },
    {
      "cell_type": "code",
      "execution_count": null,
      "metadata": {
        "id": "i8Ld832nYHqR"
      },
      "outputs": [],
      "source": [
        ""
      ]
    },
    {
      "cell_type": "code",
      "execution_count": null,
      "metadata": {
        "id": "zGSSZUQoYHqU"
      },
      "outputs": [],
      "source": [
        ""
      ]
    },
    {
      "cell_type": "code",
      "execution_count": null,
      "metadata": {
        "id": "aJInlACKYHqV"
      },
      "outputs": [],
      "source": [
        ""
      ]
    },
    {
      "cell_type": "code",
      "execution_count": null,
      "metadata": {
        "id": "csLywqkLYHqX"
      },
      "outputs": [],
      "source": [
        ""
      ]
    },
    {
      "cell_type": "code",
      "execution_count": null,
      "metadata": {
        "id": "sNB0uUNuYHqX"
      },
      "outputs": [],
      "source": [
        ""
      ]
    },
    {
      "cell_type": "code",
      "execution_count": null,
      "metadata": {
        "id": "lQR3kWrsYHqY"
      },
      "outputs": [],
      "source": [
        ""
      ]
    },
    {
      "cell_type": "code",
      "execution_count": null,
      "metadata": {
        "id": "TPdO_WUjYHqZ"
      },
      "outputs": [],
      "source": [
        ""
      ]
    },
    {
      "cell_type": "code",
      "execution_count": null,
      "metadata": {
        "id": "ug8E7VIRYHqa"
      },
      "outputs": [],
      "source": [
        ""
      ]
    },
    {
      "cell_type": "markdown",
      "metadata": {
        "id": "pSky472FYHqa"
      },
      "source": [
        "**What is the None keyword in Python? [ANSWER01](https://www.educative.io/edpresso/what-is-the-none-keyword-in-python), [ANSWER02](https://stackoverflow.com/questions/21095654/what-is-a-nonetype-object)**\n",
        "\n",
        "**Difference between None and NaN in Pandas [ANSWER01](https://www.skytowner.com/explore/difference_between_none_and_nan_in_pandas), [ANSWER02](https://kegui.medium.com/what-is-the-difference-between-nan-none-pd-nan-and-np-nan-a8ee0532e2eb)**\n",
        "\n",
        "**Difference between np.nan and np.NaN [ANSWER](https://stackoverflow.com/questions/53436339/difference-between-np-nan-and-np-nan)**\n",
        "\n",
        "**Difference between nan and 'nan' in Python [ANSWER01](https://stackoverflow.com/questions/40309789/difference-between-nan-and-nan-in-python), [ANSWER02](https://towardsdatascience.com/navigating-the-hell-of-nans-in-python-71b12558895b)**"
      ]
    },
    {
      "cell_type": "markdown",
      "metadata": {
        "id": "A3Bf1wQ_98fd"
      },
      "source": [
        "## <p style=\"background-color:#9d4f8c; font-family:newtimeroman; color:#FFF9ED; font-size:175%; text-align:center; border-radius:10px 10px;\">Detecting Missing Values</p>\n",
        "\n",
        "<a id=\"2\"></a>\n",
        "<a href=\"#toc\" class=\"btn btn-primary btn-sm\" role=\"button\" aria-pressed=\"true\" \n",
        "style=\"color:blue; background-color:#dfa8e4\" data-toggle=\"popover\">Content</a>\n",
        "\n",
        "**``NaN``**, standing for \"Not A Number\", is a numeric data type used to represent any value that is undefined or unpresentable.\n",
        "\n",
        "For example, 0/0 is undefined as a real number and is, therefore, represented by NaN. The square root of a negative number is an imaginary number that cannot be represented as a real number, so, it is represented by NaN.\n",
        "\n",
        "**``NaN``** is also assigned to variables, in a computation, that do not have values and have yet to be computed."
      ]
    },
    {
      "cell_type": "code",
      "execution_count": null,
      "metadata": {
        "id": "QTQfcEq_YHqf"
      },
      "outputs": [],
      "source": [
        ""
      ]
    },
    {
      "cell_type": "code",
      "execution_count": null,
      "metadata": {
        "id": "stB-AvmbYHqs"
      },
      "outputs": [],
      "source": [
        ""
      ]
    },
    {
      "cell_type": "code",
      "execution_count": null,
      "metadata": {
        "id": "0Hk88n4eYHqu"
      },
      "outputs": [],
      "source": [
        ""
      ]
    },
    {
      "cell_type": "code",
      "execution_count": null,
      "metadata": {
        "id": "QxayilmMYHqu"
      },
      "outputs": [],
      "source": [
        ""
      ]
    },
    {
      "cell_type": "code",
      "execution_count": null,
      "metadata": {
        "id": "y0fOewI7YHqv"
      },
      "outputs": [],
      "source": [
        ""
      ]
    },
    {
      "cell_type": "code",
      "execution_count": null,
      "metadata": {
        "id": "5oGjvVzRYHqw"
      },
      "outputs": [],
      "source": [
        ""
      ]
    },
    {
      "cell_type": "code",
      "execution_count": null,
      "metadata": {
        "id": "Ew5798xbYHqx"
      },
      "outputs": [],
      "source": [
        ""
      ]
    },
    {
      "cell_type": "code",
      "execution_count": null,
      "metadata": {
        "id": "pg3RhqTGYHqy"
      },
      "outputs": [],
      "source": [
        ""
      ]
    },
    {
      "cell_type": "code",
      "execution_count": null,
      "metadata": {
        "id": "Ur9d-rmsYHqy"
      },
      "outputs": [],
      "source": [
        ""
      ]
    },
    {
      "cell_type": "markdown",
      "metadata": {
        "id": "GBdWnW3b98fk"
      },
      "source": [
        "## <p style=\"background-color:#9d4f8c; font-family:newtimeroman; color:#FFF9ED; font-size:175%; text-align:center; border-radius:10px 10px;\">Converting Inappropriate Values to NaN Values</p>\n",
        "\n",
        "<a id=\"3\"></a>\n",
        "<a href=\"#toc\" class=\"btn btn-primary btn-sm\" role=\"button\" aria-pressed=\"true\" \n",
        "style=\"color:blue; background-color:#dfa8e4\" data-toggle=\"popover\">Content</a>\n",
        "\n",
        "- map()\n",
        "- replace()"
      ]
    },
    {
      "cell_type": "code",
      "execution_count": null,
      "metadata": {
        "id": "_Dj-LRcGYHq3"
      },
      "outputs": [],
      "source": [
        ""
      ]
    },
    {
      "cell_type": "code",
      "execution_count": null,
      "metadata": {
        "id": "CTJVQDsHYHq4"
      },
      "outputs": [],
      "source": [
        ""
      ]
    },
    {
      "cell_type": "markdown",
      "metadata": {
        "id": "9uCcRdRmYHq4"
      },
      "source": [
        "**Notes:** When **``arg``** parameter is a dictionary, values in Series that are NOT in the dictionary (as keys) are converted to NaN. However, if the dictionary is a dict subclass that defines __missing__ (i.e. provides a method for default values), then this default is used rather than NaN [SOURCE](https://www.w3resource.com/pandas/series/series-map.php#:~:text=The%20map()%20function%20is,a%20dict%20or%20a%20Series.&text=Mapping%20correspondence.&text=If%20'ignore'%2C%20propagate%20NaN,them%20to%20the%20mapping%20correspondence.)."
      ]
    },
    {
      "cell_type": "code",
      "execution_count": null,
      "metadata": {
        "id": "B9idFV6GYHq6"
      },
      "outputs": [],
      "source": [
        ""
      ]
    },
    {
      "cell_type": "code",
      "execution_count": null,
      "metadata": {
        "id": "dDuAbEoYYHq7"
      },
      "outputs": [],
      "source": [
        ""
      ]
    },
    {
      "cell_type": "code",
      "execution_count": null,
      "metadata": {
        "id": "9R2MPo6hYHq8"
      },
      "outputs": [],
      "source": [
        ""
      ]
    },
    {
      "cell_type": "code",
      "execution_count": null,
      "metadata": {
        "id": "dBrZ1BJ8YHq8"
      },
      "outputs": [],
      "source": [
        ""
      ]
    },
    {
      "cell_type": "code",
      "execution_count": null,
      "metadata": {
        "id": "k4KqeawCYHq9"
      },
      "outputs": [],
      "source": [
        ""
      ]
    },
    {
      "cell_type": "code",
      "execution_count": null,
      "metadata": {
        "id": "nphpKm2hYHq-"
      },
      "outputs": [],
      "source": [
        ""
      ]
    },
    {
      "cell_type": "code",
      "execution_count": null,
      "metadata": {
        "id": "6v2Kw0FcYHq-"
      },
      "outputs": [],
      "source": [
        ""
      ]
    },
    {
      "cell_type": "code",
      "execution_count": null,
      "metadata": {
        "id": "4JmKQom1YHq-"
      },
      "outputs": [],
      "source": [
        ""
      ]
    },
    {
      "cell_type": "code",
      "execution_count": null,
      "metadata": {
        "id": "p2-dKE1wYHq_"
      },
      "outputs": [],
      "source": [
        ""
      ]
    },
    {
      "cell_type": "markdown",
      "metadata": {
        "id": "djWju_X-PR9T"
      },
      "source": [
        "## <p style=\"background-color:#9d4f8c; font-family:newtimeroman; color:#FFF9ED; font-size:175%; text-align:center; border-radius:10px 10px;\">Missing Value Handling Methods</p>\n",
        "\n",
        "<a id=\"4\"></a>\n",
        "<a href=\"#toc\" class=\"btn btn-primary btn-sm\" role=\"button\" aria-pressed=\"true\" \n",
        "style=\"color:blue; background-color:#dfa8e4\" data-toggle=\"popover\">Content</a>\n",
        "\n",
        " 1. <b>Deleting (Dropping) Rows</b> ----->if it has more than 70-75% of missing values\n",
        "    \n",
        " 2. <b>Replacing (Filling) With Mean/Median/Mode (Imputation)</b>--->can be applied on a feature which has numeric data\n",
        "\n",
        " 3. <b> Assigning An Unique Category</b>--->If a categorical feature has definite number of classes, we can assign another class\n",
        "    \n",
        " 4. <b>Predicting The Missing Values</b>---> we can predict the nulls with the help of a machine learning algorithm like linear regression\n",
        "\n",
        " 5. <b>Using Algorithms Which Support Missing Values</b>--->KNN is a machine learning algorithm which works on the principle of distance measure.  This algorithm can be used when there are nulls present in the dataset.  KNN considers the missing values by taking the majority of the K nearest values"
      ]
    },
    {
      "cell_type": "markdown",
      "metadata": {
        "id": "F_0xNPexDyzk"
      },
      "source": [
        " ## 1 - Dropping\n",
        " \n",
        " - dropna()\n",
        " - drop()"
      ]
    },
    {
      "cell_type": "code",
      "execution_count": null,
      "metadata": {
        "id": "mDw6w58WYHrD"
      },
      "outputs": [],
      "source": [
        ""
      ]
    },
    {
      "cell_type": "code",
      "execution_count": null,
      "metadata": {
        "id": "0QSdcIQyYHrE"
      },
      "outputs": [],
      "source": [
        ""
      ]
    },
    {
      "cell_type": "code",
      "execution_count": null,
      "metadata": {
        "id": "sYwNxbzpYHrE"
      },
      "outputs": [],
      "source": [
        ""
      ]
    },
    {
      "cell_type": "code",
      "execution_count": null,
      "metadata": {
        "id": "YbWIWFzeYHrI"
      },
      "outputs": [],
      "source": [
        ""
      ]
    },
    {
      "cell_type": "markdown",
      "metadata": {
        "id": "cMS-x4e1YHrJ"
      },
      "source": [
        "* **``any``** : If any NA values are present, drop that row or column.\n",
        "* **``all``** : If all values are NA, drop that row or column [Source](https://www.journaldev.com/33492/pandas-dropna-drop-null-na-values-from-dataframe)."
      ]
    },
    {
      "cell_type": "code",
      "execution_count": null,
      "metadata": {
        "id": "oe0q1qPuYHrL"
      },
      "outputs": [],
      "source": [
        ""
      ]
    },
    {
      "cell_type": "code",
      "execution_count": null,
      "metadata": {
        "id": "jaQ-7lp-YHrL"
      },
      "outputs": [],
      "source": [
        ""
      ]
    },
    {
      "cell_type": "code",
      "execution_count": null,
      "metadata": {
        "id": "sYeV0I7_YHrM"
      },
      "outputs": [],
      "source": [
        ""
      ]
    },
    {
      "cell_type": "markdown",
      "metadata": {
        "id": "Eo_H2T7sYHrM"
      },
      "source": [
        "**``thresh=N``** requires that a column has at least N **non-NaNs to survive.** [Source](https://stackoverflow.com/questions/51584906/thresh-in-dropna-for-dataframe-in-pandas-in-python/51584935)"
      ]
    },
    {
      "cell_type": "code",
      "execution_count": null,
      "metadata": {
        "id": "jds2rDIDYHrN"
      },
      "outputs": [],
      "source": [
        ""
      ]
    },
    {
      "cell_type": "code",
      "execution_count": null,
      "metadata": {
        "id": "14wkwwdWYHrN"
      },
      "outputs": [],
      "source": [
        ""
      ]
    },
    {
      "cell_type": "code",
      "execution_count": null,
      "metadata": {
        "id": "BOrCYlQ6YHrO"
      },
      "outputs": [],
      "source": [
        ""
      ]
    },
    {
      "cell_type": "code",
      "execution_count": null,
      "metadata": {
        "id": "n9VI7_47YHrP"
      },
      "outputs": [],
      "source": [
        ""
      ]
    },
    {
      "cell_type": "markdown",
      "metadata": {
        "id": "0GmBZxqVDyzq"
      },
      "source": [
        " ## 2 - Filling Missing Values (Imputation)"
      ]
    },
    {
      "cell_type": "code",
      "execution_count": null,
      "metadata": {
        "id": "iJfgKxgOYHrQ"
      },
      "outputs": [],
      "source": [
        ""
      ]
    },
    {
      "cell_type": "markdown",
      "metadata": {
        "id": "OdUsVrEVDyzr"
      },
      "source": [
        " #### a.Filling with a specific value"
      ]
    },
    {
      "cell_type": "code",
      "execution_count": null,
      "metadata": {
        "id": "Iz-iP1j7YHrS"
      },
      "outputs": [],
      "source": [
        ""
      ]
    },
    {
      "cell_type": "code",
      "execution_count": null,
      "metadata": {
        "id": "IAwjHBOQYHrT"
      },
      "outputs": [],
      "source": [
        ""
      ]
    },
    {
      "cell_type": "code",
      "execution_count": null,
      "metadata": {
        "id": "52TWUSIRYHrT"
      },
      "outputs": [],
      "source": [
        ""
      ]
    },
    {
      "cell_type": "markdown",
      "metadata": {
        "id": "f2UjYRTMDyzt"
      },
      "source": [
        " #### b.Filling with any Proper Value"
      ]
    },
    {
      "cell_type": "code",
      "execution_count": null,
      "metadata": {
        "id": "eKJtAb-wYHrU"
      },
      "outputs": [],
      "source": [
        ""
      ]
    },
    {
      "cell_type": "code",
      "execution_count": null,
      "metadata": {
        "id": "22DeUxjtYHrU"
      },
      "outputs": [],
      "source": [
        ""
      ]
    },
    {
      "cell_type": "code",
      "execution_count": null,
      "metadata": {
        "id": "SPvr-qaGYHrU"
      },
      "outputs": [],
      "source": [
        ""
      ]
    },
    {
      "cell_type": "code",
      "execution_count": null,
      "metadata": {
        "id": "L0wc2iBJYHrV"
      },
      "outputs": [],
      "source": [
        ""
      ]
    },
    {
      "cell_type": "code",
      "execution_count": null,
      "metadata": {
        "id": "OcUbbIeLYHrV"
      },
      "outputs": [],
      "source": [
        ""
      ]
    },
    {
      "cell_type": "code",
      "execution_count": null,
      "metadata": {
        "id": "WgP45knCYHrW"
      },
      "outputs": [],
      "source": [
        ""
      ]
    },
    {
      "cell_type": "markdown",
      "metadata": {
        "id": "H_nrpRHzYHrW"
      },
      "source": [
        "**where() Replace values where the condition is False.**"
      ]
    },
    {
      "cell_type": "code",
      "execution_count": null,
      "metadata": {
        "id": "EDrg-gyPYHrX"
      },
      "outputs": [],
      "source": [
        ""
      ]
    },
    {
      "cell_type": "code",
      "execution_count": null,
      "metadata": {
        "id": "PvA1rLyEYHrY"
      },
      "outputs": [],
      "source": [
        ""
      ]
    },
    {
      "cell_type": "code",
      "execution_count": null,
      "metadata": {
        "id": "OkAPDM4_YHrZ"
      },
      "outputs": [],
      "source": [
        ""
      ]
    },
    {
      "cell_type": "markdown",
      "metadata": {
        "id": "i5lRkQn4YHrZ"
      },
      "source": [
        "**Fill NaN values using an interpolation method.**"
      ]
    },
    {
      "cell_type": "code",
      "execution_count": null,
      "metadata": {
        "id": "qJnELqp7YHra"
      },
      "outputs": [],
      "source": [
        ""
      ]
    },
    {
      "cell_type": "markdown",
      "metadata": {
        "id": "SbKv9PFAYHrc"
      },
      "source": [
        "For more information about [interpolation](https://www.geeksforgeeks.org/python-pandas-dataframe-interpolate/)"
      ]
    },
    {
      "cell_type": "markdown",
      "metadata": {
        "id": "Q7Yy8BDdDyzy"
      },
      "source": [
        " #### c.Filling the Missing Values of Categorical Variables"
      ]
    },
    {
      "cell_type": "code",
      "execution_count": null,
      "metadata": {
        "id": "FmMuoPQv98gJ",
        "outputId": "46e45a02-8aa6-4db3-ffe1-26baf056ba0e"
      },
      "outputs": [
        {
          "data": {
            "text/html": [
              "<div>\n",
              "<style scoped>\n",
              "    .dataframe tbody tr th:only-of-type {\n",
              "        vertical-align: middle;\n",
              "    }\n",
              "\n",
              "    .dataframe tbody tr th {\n",
              "        vertical-align: top;\n",
              "    }\n",
              "\n",
              "    .dataframe thead th {\n",
              "        text-align: right;\n",
              "    }\n",
              "</style>\n",
              "<table border=\"1\" class=\"dataframe\">\n",
              "  <thead>\n",
              "    <tr style=\"text-align: right;\">\n",
              "      <th></th>\n",
              "      <th>id</th>\n",
              "      <th>gender</th>\n",
              "      <th>status</th>\n",
              "      <th>dept</th>\n",
              "      <th>var1</th>\n",
              "      <th>var2</th>\n",
              "      <th>salary</th>\n",
              "    </tr>\n",
              "  </thead>\n",
              "  <tbody>\n",
              "    <tr>\n",
              "      <th>0</th>\n",
              "      <td>P001</td>\n",
              "      <td>M</td>\n",
              "      <td>FT</td>\n",
              "      <td>DS</td>\n",
              "      <td>2.0</td>\n",
              "      <td>8.0</td>\n",
              "      <td>NaN</td>\n",
              "    </tr>\n",
              "    <tr>\n",
              "      <th>1</th>\n",
              "      <td>P002</td>\n",
              "      <td>F</td>\n",
              "      <td>PT</td>\n",
              "      <td>FS</td>\n",
              "      <td>3.0</td>\n",
              "      <td>NaN</td>\n",
              "      <td>54</td>\n",
              "    </tr>\n",
              "    <tr>\n",
              "      <th>2</th>\n",
              "      <td>P003</td>\n",
              "      <td>M</td>\n",
              "      <td>NaN</td>\n",
              "      <td>AWS</td>\n",
              "      <td>5.0</td>\n",
              "      <td>5.0</td>\n",
              "      <td>59</td>\n",
              "    </tr>\n",
              "    <tr>\n",
              "      <th>3</th>\n",
              "      <td>P004</td>\n",
              "      <td>F</td>\n",
              "      <td>FT</td>\n",
              "      <td>AWS</td>\n",
              "      <td>NaN</td>\n",
              "      <td>8.0</td>\n",
              "      <td>120</td>\n",
              "    </tr>\n",
              "    <tr>\n",
              "      <th>4</th>\n",
              "      <td>P005</td>\n",
              "      <td>M</td>\n",
              "      <td>PT</td>\n",
              "      <td>DS</td>\n",
              "      <td>7.0</td>\n",
              "      <td>11.0</td>\n",
              "      <td>58</td>\n",
              "    </tr>\n",
              "    <tr>\n",
              "      <th>5</th>\n",
              "      <td>P006</td>\n",
              "      <td>F</td>\n",
              "      <td>PT</td>\n",
              "      <td>None</td>\n",
              "      <td>1.0</td>\n",
              "      <td>NaN</td>\n",
              "      <td>75</td>\n",
              "    </tr>\n",
              "    <tr>\n",
              "      <th>6</th>\n",
              "      <td>P007</td>\n",
              "      <td>M</td>\n",
              "      <td>FT</td>\n",
              "      <td>FS</td>\n",
              "      <td>NaN</td>\n",
              "      <td>NaN</td>\n",
              "      <td>None</td>\n",
              "    </tr>\n",
              "    <tr>\n",
              "      <th>7</th>\n",
              "      <td>P008</td>\n",
              "      <td>F</td>\n",
              "      <td>NaN</td>\n",
              "      <td>FS</td>\n",
              "      <td>10.0</td>\n",
              "      <td>2.0</td>\n",
              "      <td>136</td>\n",
              "    </tr>\n",
              "    <tr>\n",
              "      <th>8</th>\n",
              "      <td>P009</td>\n",
              "      <td>M</td>\n",
              "      <td>PT</td>\n",
              "      <td>NaN</td>\n",
              "      <td>14.0</td>\n",
              "      <td>3.0</td>\n",
              "      <td>60</td>\n",
              "    </tr>\n",
              "    <tr>\n",
              "      <th>9</th>\n",
              "      <td>P010</td>\n",
              "      <td>F</td>\n",
              "      <td>FT</td>\n",
              "      <td>DS</td>\n",
              "      <td>NaN</td>\n",
              "      <td>7.0</td>\n",
              "      <td>125</td>\n",
              "    </tr>\n",
              "    <tr>\n",
              "      <th>10</th>\n",
              "      <td>P011</td>\n",
              "      <td>M</td>\n",
              "      <td>NaN</td>\n",
              "      <td>AWS</td>\n",
              "      <td>6.0</td>\n",
              "      <td>9.0</td>\n",
              "      <td>NaN</td>\n",
              "    </tr>\n",
              "  </tbody>\n",
              "</table>\n",
              "</div>"
            ],
            "text/plain": [
              "      id gender status  dept  var1  var2 salary\n",
              "0   P001      M     FT    DS   2.0   8.0    NaN\n",
              "1   P002      F     PT    FS   3.0   NaN     54\n",
              "2   P003      M    NaN   AWS   5.0   5.0     59\n",
              "3   P004      F     FT   AWS   NaN   8.0    120\n",
              "4   P005      M     PT    DS   7.0  11.0     58\n",
              "5   P006      F     PT  None   1.0   NaN     75\n",
              "6   P007      M     FT    FS   NaN   NaN   None\n",
              "7   P008      F    NaN    FS  10.0   2.0    136\n",
              "8   P009      M     PT   NaN  14.0   3.0     60\n",
              "9   P010      F     FT    DS   NaN   7.0    125\n",
              "10  P011      M    NaN   AWS   6.0   9.0    NaN"
            ]
          },
          "execution_count": 73,
          "metadata": {},
          "output_type": "execute_result"
        }
      ],
      "source": [
        "df"
      ]
    },
    {
      "cell_type": "code",
      "execution_count": null,
      "metadata": {
        "id": "tCkw02-FDyzy",
        "outputId": "2c39d810-359f-4560-cf2f-973bf41c9a51"
      },
      "outputs": [
        {
          "data": {
            "text/plain": [
              "0    AWS\n",
              "1     DS\n",
              "2     FS\n",
              "dtype: object"
            ]
          },
          "execution_count": 74,
          "metadata": {},
          "output_type": "execute_result"
        }
      ],
      "source": [
        "df[\"dept\"].mode()"
      ]
    },
    {
      "cell_type": "code",
      "execution_count": null,
      "metadata": {
        "id": "2WrrX_YY98gJ",
        "outputId": "6fa98973-fb80-4169-c520-64f0580b081a"
      },
      "outputs": [
        {
          "data": {
            "text/plain": [
              "'AWS'"
            ]
          },
          "execution_count": 75,
          "metadata": {},
          "output_type": "execute_result"
        }
      ],
      "source": [
        "df[\"dept\"].mode()[0]"
      ]
    },
    {
      "cell_type": "code",
      "execution_count": null,
      "metadata": {
        "id": "DC924XHtDyzy",
        "outputId": "43df0d9c-223c-409c-c6ee-ceafd34f3f2c"
      },
      "outputs": [
        {
          "data": {
            "text/plain": [
              "0      DS\n",
              "1      FS\n",
              "2     AWS\n",
              "3     AWS\n",
              "4      DS\n",
              "5     AWS\n",
              "6      FS\n",
              "7      FS\n",
              "8     AWS\n",
              "9      DS\n",
              "10    AWS\n",
              "Name: dept, dtype: object"
            ]
          },
          "execution_count": 76,
          "metadata": {},
          "output_type": "execute_result"
        }
      ],
      "source": [
        "df[\"dept\"].fillna(df[\"dept\"].mode()[0])"
      ]
    },
    {
      "cell_type": "code",
      "execution_count": null,
      "metadata": {
        "id": "O8OKTSDU98gK",
        "outputId": "24a93d35-cdc0-47e9-aa48-d686e4425043"
      },
      "outputs": [
        {
          "data": {
            "text/plain": [
              "0      DS\n",
              "1      FS\n",
              "2     AWS\n",
              "3     AWS\n",
              "4      DS\n",
              "5      FS\n",
              "6      FS\n",
              "7      FS\n",
              "8      DS\n",
              "9      DS\n",
              "10    AWS\n",
              "Name: dept, dtype: object"
            ]
          },
          "execution_count": 77,
          "metadata": {},
          "output_type": "execute_result"
        }
      ],
      "source": [
        "df[\"dept\"].fillna(method = \"bfill\")"
      ]
    },
    {
      "cell_type": "code",
      "execution_count": null,
      "metadata": {
        "id": "_fenGmKt98gK",
        "outputId": "47137a6c-1371-4de4-d94c-a1c63d3b4b83"
      },
      "outputs": [
        {
          "data": {
            "text/plain": [
              "0     FT\n",
              "1     PT\n",
              "2     PT\n",
              "3     FT\n",
              "4     PT\n",
              "5     PT\n",
              "6     FT\n",
              "7     FT\n",
              "8     PT\n",
              "9     FT\n",
              "10    FT\n",
              "Name: status, dtype: object"
            ]
          },
          "execution_count": 78,
          "metadata": {},
          "output_type": "execute_result"
        }
      ],
      "source": [
        "df[\"status\"].fillna(method = \"ffill\")"
      ]
    },
    {
      "cell_type": "markdown",
      "metadata": {
        "id": "RzNmvKcrYHrn"
      },
      "source": [
        "- **pad / ffill:** propagate last valid observation forward to next valid\n",
        "- **backfill / bfill:** use next valid observation to fill gap."
      ]
    },
    {
      "cell_type": "markdown",
      "metadata": {
        "id": "pJ8ijx7RDyzw"
      },
      "source": [
        " #### d.Filling by condition & by Group of the Categorical Variables "
      ]
    },
    {
      "cell_type": "code",
      "execution_count": null,
      "metadata": {
        "id": "J38WrQwk98gK",
        "outputId": "adf5f731-fe39-46b5-b861-5f3d30aefdb8"
      },
      "outputs": [
        {
          "data": {
            "text/html": [
              "<div>\n",
              "<style scoped>\n",
              "    .dataframe tbody tr th:only-of-type {\n",
              "        vertical-align: middle;\n",
              "    }\n",
              "\n",
              "    .dataframe tbody tr th {\n",
              "        vertical-align: top;\n",
              "    }\n",
              "\n",
              "    .dataframe thead th {\n",
              "        text-align: right;\n",
              "    }\n",
              "</style>\n",
              "<table border=\"1\" class=\"dataframe\">\n",
              "  <thead>\n",
              "    <tr style=\"text-align: right;\">\n",
              "      <th></th>\n",
              "      <th>id</th>\n",
              "      <th>gender</th>\n",
              "      <th>status</th>\n",
              "      <th>dept</th>\n",
              "      <th>var1</th>\n",
              "      <th>var2</th>\n",
              "      <th>salary</th>\n",
              "    </tr>\n",
              "  </thead>\n",
              "  <tbody>\n",
              "    <tr>\n",
              "      <th>0</th>\n",
              "      <td>P001</td>\n",
              "      <td>M</td>\n",
              "      <td>FT</td>\n",
              "      <td>DS</td>\n",
              "      <td>2.0</td>\n",
              "      <td>8.0</td>\n",
              "      <td>NaN</td>\n",
              "    </tr>\n",
              "    <tr>\n",
              "      <th>1</th>\n",
              "      <td>P002</td>\n",
              "      <td>F</td>\n",
              "      <td>PT</td>\n",
              "      <td>FS</td>\n",
              "      <td>3.0</td>\n",
              "      <td>NaN</td>\n",
              "      <td>54</td>\n",
              "    </tr>\n",
              "    <tr>\n",
              "      <th>2</th>\n",
              "      <td>P003</td>\n",
              "      <td>M</td>\n",
              "      <td>NaN</td>\n",
              "      <td>AWS</td>\n",
              "      <td>5.0</td>\n",
              "      <td>5.0</td>\n",
              "      <td>59</td>\n",
              "    </tr>\n",
              "    <tr>\n",
              "      <th>3</th>\n",
              "      <td>P004</td>\n",
              "      <td>F</td>\n",
              "      <td>FT</td>\n",
              "      <td>AWS</td>\n",
              "      <td>NaN</td>\n",
              "      <td>8.0</td>\n",
              "      <td>120</td>\n",
              "    </tr>\n",
              "    <tr>\n",
              "      <th>4</th>\n",
              "      <td>P005</td>\n",
              "      <td>M</td>\n",
              "      <td>PT</td>\n",
              "      <td>DS</td>\n",
              "      <td>7.0</td>\n",
              "      <td>11.0</td>\n",
              "      <td>58</td>\n",
              "    </tr>\n",
              "    <tr>\n",
              "      <th>5</th>\n",
              "      <td>P006</td>\n",
              "      <td>F</td>\n",
              "      <td>PT</td>\n",
              "      <td>None</td>\n",
              "      <td>1.0</td>\n",
              "      <td>NaN</td>\n",
              "      <td>75</td>\n",
              "    </tr>\n",
              "    <tr>\n",
              "      <th>6</th>\n",
              "      <td>P007</td>\n",
              "      <td>M</td>\n",
              "      <td>FT</td>\n",
              "      <td>FS</td>\n",
              "      <td>NaN</td>\n",
              "      <td>NaN</td>\n",
              "      <td>None</td>\n",
              "    </tr>\n",
              "    <tr>\n",
              "      <th>7</th>\n",
              "      <td>P008</td>\n",
              "      <td>F</td>\n",
              "      <td>NaN</td>\n",
              "      <td>FS</td>\n",
              "      <td>10.0</td>\n",
              "      <td>2.0</td>\n",
              "      <td>136</td>\n",
              "    </tr>\n",
              "    <tr>\n",
              "      <th>8</th>\n",
              "      <td>P009</td>\n",
              "      <td>M</td>\n",
              "      <td>PT</td>\n",
              "      <td>NaN</td>\n",
              "      <td>14.0</td>\n",
              "      <td>3.0</td>\n",
              "      <td>60</td>\n",
              "    </tr>\n",
              "    <tr>\n",
              "      <th>9</th>\n",
              "      <td>P010</td>\n",
              "      <td>F</td>\n",
              "      <td>FT</td>\n",
              "      <td>DS</td>\n",
              "      <td>NaN</td>\n",
              "      <td>7.0</td>\n",
              "      <td>125</td>\n",
              "    </tr>\n",
              "    <tr>\n",
              "      <th>10</th>\n",
              "      <td>P011</td>\n",
              "      <td>M</td>\n",
              "      <td>NaN</td>\n",
              "      <td>AWS</td>\n",
              "      <td>6.0</td>\n",
              "      <td>9.0</td>\n",
              "      <td>NaN</td>\n",
              "    </tr>\n",
              "  </tbody>\n",
              "</table>\n",
              "</div>"
            ],
            "text/plain": [
              "      id gender status  dept  var1  var2 salary\n",
              "0   P001      M     FT    DS   2.0   8.0    NaN\n",
              "1   P002      F     PT    FS   3.0   NaN     54\n",
              "2   P003      M    NaN   AWS   5.0   5.0     59\n",
              "3   P004      F     FT   AWS   NaN   8.0    120\n",
              "4   P005      M     PT    DS   7.0  11.0     58\n",
              "5   P006      F     PT  None   1.0   NaN     75\n",
              "6   P007      M     FT    FS   NaN   NaN   None\n",
              "7   P008      F    NaN    FS  10.0   2.0    136\n",
              "8   P009      M     PT   NaN  14.0   3.0     60\n",
              "9   P010      F     FT    DS   NaN   7.0    125\n",
              "10  P011      M    NaN   AWS   6.0   9.0    NaN"
            ]
          },
          "execution_count": 79,
          "metadata": {},
          "output_type": "execute_result"
        }
      ],
      "source": [
        "df"
      ]
    },
    {
      "cell_type": "code",
      "execution_count": null,
      "metadata": {
        "id": "GYsl-2AR98gL",
        "outputId": "4b1a4de5-f524-45bc-cb65-9fff22c30531",
        "scrolled": true
      },
      "outputs": [
        {
          "data": {
            "text/html": [
              "<div>\n",
              "<style scoped>\n",
              "    .dataframe tbody tr th:only-of-type {\n",
              "        vertical-align: middle;\n",
              "    }\n",
              "\n",
              "    .dataframe tbody tr th {\n",
              "        vertical-align: top;\n",
              "    }\n",
              "\n",
              "    .dataframe thead th {\n",
              "        text-align: right;\n",
              "    }\n",
              "</style>\n",
              "<table border=\"1\" class=\"dataframe\">\n",
              "  <thead>\n",
              "    <tr style=\"text-align: right;\">\n",
              "      <th></th>\n",
              "      <th>id</th>\n",
              "      <th>gender</th>\n",
              "      <th>status</th>\n",
              "      <th>dept</th>\n",
              "      <th>var1</th>\n",
              "      <th>var2</th>\n",
              "      <th>salary</th>\n",
              "    </tr>\n",
              "  </thead>\n",
              "  <tbody>\n",
              "    <tr>\n",
              "      <th>0</th>\n",
              "      <td>P001</td>\n",
              "      <td>M</td>\n",
              "      <td>FT</td>\n",
              "      <td>DS</td>\n",
              "      <td>2.0</td>\n",
              "      <td>8.0</td>\n",
              "      <td>NaN</td>\n",
              "    </tr>\n",
              "    <tr>\n",
              "      <th>1</th>\n",
              "      <td>P002</td>\n",
              "      <td>F</td>\n",
              "      <td>PT</td>\n",
              "      <td>FS</td>\n",
              "      <td>3.0</td>\n",
              "      <td>NaN</td>\n",
              "      <td>54</td>\n",
              "    </tr>\n",
              "    <tr>\n",
              "      <th>2</th>\n",
              "      <td>P003</td>\n",
              "      <td>M</td>\n",
              "      <td>NaN</td>\n",
              "      <td>AWS</td>\n",
              "      <td>5.0</td>\n",
              "      <td>5.0</td>\n",
              "      <td>59</td>\n",
              "    </tr>\n",
              "    <tr>\n",
              "      <th>3</th>\n",
              "      <td>P004</td>\n",
              "      <td>F</td>\n",
              "      <td>FT</td>\n",
              "      <td>AWS</td>\n",
              "      <td>NaN</td>\n",
              "      <td>8.0</td>\n",
              "      <td>120</td>\n",
              "    </tr>\n",
              "    <tr>\n",
              "      <th>4</th>\n",
              "      <td>P005</td>\n",
              "      <td>M</td>\n",
              "      <td>PT</td>\n",
              "      <td>DS</td>\n",
              "      <td>7.0</td>\n",
              "      <td>11.0</td>\n",
              "      <td>58</td>\n",
              "    </tr>\n",
              "    <tr>\n",
              "      <th>5</th>\n",
              "      <td>P006</td>\n",
              "      <td>F</td>\n",
              "      <td>PT</td>\n",
              "      <td>DS</td>\n",
              "      <td>1.0</td>\n",
              "      <td>NaN</td>\n",
              "      <td>75</td>\n",
              "    </tr>\n",
              "    <tr>\n",
              "      <th>6</th>\n",
              "      <td>P007</td>\n",
              "      <td>M</td>\n",
              "      <td>FT</td>\n",
              "      <td>FS</td>\n",
              "      <td>NaN</td>\n",
              "      <td>NaN</td>\n",
              "      <td>None</td>\n",
              "    </tr>\n",
              "    <tr>\n",
              "      <th>7</th>\n",
              "      <td>P008</td>\n",
              "      <td>F</td>\n",
              "      <td>NaN</td>\n",
              "      <td>FS</td>\n",
              "      <td>10.0</td>\n",
              "      <td>2.0</td>\n",
              "      <td>136</td>\n",
              "    </tr>\n",
              "    <tr>\n",
              "      <th>8</th>\n",
              "      <td>P009</td>\n",
              "      <td>M</td>\n",
              "      <td>PT</td>\n",
              "      <td>FS</td>\n",
              "      <td>14.0</td>\n",
              "      <td>3.0</td>\n",
              "      <td>60</td>\n",
              "    </tr>\n",
              "    <tr>\n",
              "      <th>9</th>\n",
              "      <td>P010</td>\n",
              "      <td>F</td>\n",
              "      <td>FT</td>\n",
              "      <td>DS</td>\n",
              "      <td>NaN</td>\n",
              "      <td>7.0</td>\n",
              "      <td>125</td>\n",
              "    </tr>\n",
              "    <tr>\n",
              "      <th>10</th>\n",
              "      <td>P011</td>\n",
              "      <td>M</td>\n",
              "      <td>NaN</td>\n",
              "      <td>AWS</td>\n",
              "      <td>6.0</td>\n",
              "      <td>9.0</td>\n",
              "      <td>NaN</td>\n",
              "    </tr>\n",
              "  </tbody>\n",
              "</table>\n",
              "</div>"
            ],
            "text/plain": [
              "      id gender status dept  var1  var2 salary\n",
              "0   P001      M     FT   DS   2.0   8.0    NaN\n",
              "1   P002      F     PT   FS   3.0   NaN     54\n",
              "2   P003      M    NaN  AWS   5.0   5.0     59\n",
              "3   P004      F     FT  AWS   NaN   8.0    120\n",
              "4   P005      M     PT   DS   7.0  11.0     58\n",
              "5   P006      F     PT   DS   1.0   NaN     75\n",
              "6   P007      M     FT   FS   NaN   NaN   None\n",
              "7   P008      F    NaN   FS  10.0   2.0    136\n",
              "8   P009      M     PT   FS  14.0   3.0     60\n",
              "9   P010      F     FT   DS   NaN   7.0    125\n",
              "10  P011      M    NaN  AWS   6.0   9.0    NaN"
            ]
          },
          "execution_count": 80,
          "metadata": {},
          "output_type": "execute_result"
        }
      ],
      "source": [
        "df[\"dept\"].fillna(method=\"ffill\", inplace=True)\n",
        "df"
      ]
    },
    {
      "cell_type": "markdown",
      "metadata": {
        "id": "vvDy-YNfYHrs"
      },
      "source": [
        "**Let's fill the missing values at \"status\" column with defined condition by \"salary\"**"
      ]
    },
    {
      "cell_type": "code",
      "execution_count": null,
      "metadata": {
        "id": "A26cgOr898gL",
        "outputId": "eb9a6048-1609-4a20-adf0-4d0a70b0ed96"
      },
      "outputs": [
        {
          "data": {
            "text/plain": [
              "3     FT\n",
              "7    NaN\n",
              "9     FT\n",
              "Name: status, dtype: object"
            ]
          },
          "execution_count": 81,
          "metadata": {},
          "output_type": "execute_result"
        }
      ],
      "source": [
        "df.loc[df[\"salary\"]>=100, \"status\"]"
      ]
    },
    {
      "cell_type": "code",
      "execution_count": null,
      "metadata": {
        "id": "qY_e9aiJ98gL",
        "outputId": "4a3199d9-45fb-4646-b352-13f90a212d8a"
      },
      "outputs": [
        {
          "data": {
            "text/plain": [
              "1     PT\n",
              "2    NaN\n",
              "4     PT\n",
              "5     PT\n",
              "8     PT\n",
              "Name: status, dtype: object"
            ]
          },
          "execution_count": 82,
          "metadata": {},
          "output_type": "execute_result"
        }
      ],
      "source": [
        "df.loc[df[\"salary\"]<100, \"status\"]"
      ]
    },
    {
      "cell_type": "code",
      "execution_count": null,
      "metadata": {
        "id": "Ajw99H_c98gM",
        "outputId": "782e1082-25ba-4408-b3bf-8ee20af2c659"
      },
      "outputs": [
        {
          "data": {
            "text/html": [
              "<div>\n",
              "<style scoped>\n",
              "    .dataframe tbody tr th:only-of-type {\n",
              "        vertical-align: middle;\n",
              "    }\n",
              "\n",
              "    .dataframe tbody tr th {\n",
              "        vertical-align: top;\n",
              "    }\n",
              "\n",
              "    .dataframe thead th {\n",
              "        text-align: right;\n",
              "    }\n",
              "</style>\n",
              "<table border=\"1\" class=\"dataframe\">\n",
              "  <thead>\n",
              "    <tr style=\"text-align: right;\">\n",
              "      <th></th>\n",
              "      <th>id</th>\n",
              "      <th>gender</th>\n",
              "      <th>status</th>\n",
              "      <th>dept</th>\n",
              "      <th>var1</th>\n",
              "      <th>var2</th>\n",
              "      <th>salary</th>\n",
              "    </tr>\n",
              "  </thead>\n",
              "  <tbody>\n",
              "    <tr>\n",
              "      <th>0</th>\n",
              "      <td>P001</td>\n",
              "      <td>M</td>\n",
              "      <td>FT</td>\n",
              "      <td>DS</td>\n",
              "      <td>2.0</td>\n",
              "      <td>8.0</td>\n",
              "      <td>NaN</td>\n",
              "    </tr>\n",
              "    <tr>\n",
              "      <th>1</th>\n",
              "      <td>P002</td>\n",
              "      <td>F</td>\n",
              "      <td>PT</td>\n",
              "      <td>FS</td>\n",
              "      <td>3.0</td>\n",
              "      <td>NaN</td>\n",
              "      <td>54</td>\n",
              "    </tr>\n",
              "    <tr>\n",
              "      <th>2</th>\n",
              "      <td>P003</td>\n",
              "      <td>M</td>\n",
              "      <td>NaN</td>\n",
              "      <td>AWS</td>\n",
              "      <td>5.0</td>\n",
              "      <td>5.0</td>\n",
              "      <td>59</td>\n",
              "    </tr>\n",
              "    <tr>\n",
              "      <th>3</th>\n",
              "      <td>P004</td>\n",
              "      <td>F</td>\n",
              "      <td>FT</td>\n",
              "      <td>AWS</td>\n",
              "      <td>NaN</td>\n",
              "      <td>8.0</td>\n",
              "      <td>120</td>\n",
              "    </tr>\n",
              "    <tr>\n",
              "      <th>4</th>\n",
              "      <td>P005</td>\n",
              "      <td>M</td>\n",
              "      <td>PT</td>\n",
              "      <td>DS</td>\n",
              "      <td>7.0</td>\n",
              "      <td>11.0</td>\n",
              "      <td>58</td>\n",
              "    </tr>\n",
              "    <tr>\n",
              "      <th>5</th>\n",
              "      <td>P006</td>\n",
              "      <td>F</td>\n",
              "      <td>PT</td>\n",
              "      <td>DS</td>\n",
              "      <td>1.0</td>\n",
              "      <td>NaN</td>\n",
              "      <td>75</td>\n",
              "    </tr>\n",
              "    <tr>\n",
              "      <th>6</th>\n",
              "      <td>P007</td>\n",
              "      <td>M</td>\n",
              "      <td>FT</td>\n",
              "      <td>FS</td>\n",
              "      <td>NaN</td>\n",
              "      <td>NaN</td>\n",
              "      <td>None</td>\n",
              "    </tr>\n",
              "    <tr>\n",
              "      <th>7</th>\n",
              "      <td>P008</td>\n",
              "      <td>F</td>\n",
              "      <td>NaN</td>\n",
              "      <td>FS</td>\n",
              "      <td>10.0</td>\n",
              "      <td>2.0</td>\n",
              "      <td>136</td>\n",
              "    </tr>\n",
              "    <tr>\n",
              "      <th>8</th>\n",
              "      <td>P009</td>\n",
              "      <td>M</td>\n",
              "      <td>PT</td>\n",
              "      <td>FS</td>\n",
              "      <td>14.0</td>\n",
              "      <td>3.0</td>\n",
              "      <td>60</td>\n",
              "    </tr>\n",
              "    <tr>\n",
              "      <th>9</th>\n",
              "      <td>P010</td>\n",
              "      <td>F</td>\n",
              "      <td>FT</td>\n",
              "      <td>DS</td>\n",
              "      <td>NaN</td>\n",
              "      <td>7.0</td>\n",
              "      <td>125</td>\n",
              "    </tr>\n",
              "    <tr>\n",
              "      <th>10</th>\n",
              "      <td>P011</td>\n",
              "      <td>M</td>\n",
              "      <td>NaN</td>\n",
              "      <td>AWS</td>\n",
              "      <td>6.0</td>\n",
              "      <td>9.0</td>\n",
              "      <td>NaN</td>\n",
              "    </tr>\n",
              "  </tbody>\n",
              "</table>\n",
              "</div>"
            ],
            "text/plain": [
              "      id gender status dept  var1  var2 salary\n",
              "0   P001      M     FT   DS   2.0   8.0    NaN\n",
              "1   P002      F     PT   FS   3.0   NaN     54\n",
              "2   P003      M    NaN  AWS   5.0   5.0     59\n",
              "3   P004      F     FT  AWS   NaN   8.0    120\n",
              "4   P005      M     PT   DS   7.0  11.0     58\n",
              "5   P006      F     PT   DS   1.0   NaN     75\n",
              "6   P007      M     FT   FS   NaN   NaN   None\n",
              "7   P008      F    NaN   FS  10.0   2.0    136\n",
              "8   P009      M     PT   FS  14.0   3.0     60\n",
              "9   P010      F     FT   DS   NaN   7.0    125\n",
              "10  P011      M    NaN  AWS   6.0   9.0    NaN"
            ]
          },
          "execution_count": 83,
          "metadata": {},
          "output_type": "execute_result"
        }
      ],
      "source": [
        "# inplace=True didn't work\n",
        "\n",
        "df.loc[df[\"salary\"]>=100, \"status\"].fillna(df.loc[df[\"salary\"]>=100, \"status\"].mode()[0], inplace=True)\n",
        "df.loc[df[\"salary\"]<100, \"status\"].fillna(df.loc[df[\"salary\"]<100, \"status\"].mode()[0], inplace=True)\n",
        "df"
      ]
    },
    {
      "cell_type": "code",
      "execution_count": null,
      "metadata": {
        "id": "A4QpfRo498gM",
        "outputId": "17a425c7-4f0c-4edb-de56-8b1368624df9"
      },
      "outputs": [
        {
          "data": {
            "text/html": [
              "<div>\n",
              "<style scoped>\n",
              "    .dataframe tbody tr th:only-of-type {\n",
              "        vertical-align: middle;\n",
              "    }\n",
              "\n",
              "    .dataframe tbody tr th {\n",
              "        vertical-align: top;\n",
              "    }\n",
              "\n",
              "    .dataframe thead th {\n",
              "        text-align: right;\n",
              "    }\n",
              "</style>\n",
              "<table border=\"1\" class=\"dataframe\">\n",
              "  <thead>\n",
              "    <tr style=\"text-align: right;\">\n",
              "      <th></th>\n",
              "      <th>id</th>\n",
              "      <th>gender</th>\n",
              "      <th>status</th>\n",
              "      <th>dept</th>\n",
              "      <th>var1</th>\n",
              "      <th>var2</th>\n",
              "      <th>salary</th>\n",
              "    </tr>\n",
              "  </thead>\n",
              "  <tbody>\n",
              "    <tr>\n",
              "      <th>0</th>\n",
              "      <td>P001</td>\n",
              "      <td>M</td>\n",
              "      <td>FT</td>\n",
              "      <td>DS</td>\n",
              "      <td>2.0</td>\n",
              "      <td>8.0</td>\n",
              "      <td>NaN</td>\n",
              "    </tr>\n",
              "    <tr>\n",
              "      <th>1</th>\n",
              "      <td>P002</td>\n",
              "      <td>F</td>\n",
              "      <td>PT</td>\n",
              "      <td>FS</td>\n",
              "      <td>3.0</td>\n",
              "      <td>NaN</td>\n",
              "      <td>54</td>\n",
              "    </tr>\n",
              "    <tr>\n",
              "      <th>2</th>\n",
              "      <td>P003</td>\n",
              "      <td>M</td>\n",
              "      <td>PT</td>\n",
              "      <td>AWS</td>\n",
              "      <td>5.0</td>\n",
              "      <td>5.0</td>\n",
              "      <td>59</td>\n",
              "    </tr>\n",
              "    <tr>\n",
              "      <th>3</th>\n",
              "      <td>P004</td>\n",
              "      <td>F</td>\n",
              "      <td>FT</td>\n",
              "      <td>AWS</td>\n",
              "      <td>NaN</td>\n",
              "      <td>8.0</td>\n",
              "      <td>120</td>\n",
              "    </tr>\n",
              "    <tr>\n",
              "      <th>4</th>\n",
              "      <td>P005</td>\n",
              "      <td>M</td>\n",
              "      <td>PT</td>\n",
              "      <td>DS</td>\n",
              "      <td>7.0</td>\n",
              "      <td>11.0</td>\n",
              "      <td>58</td>\n",
              "    </tr>\n",
              "    <tr>\n",
              "      <th>5</th>\n",
              "      <td>P006</td>\n",
              "      <td>F</td>\n",
              "      <td>PT</td>\n",
              "      <td>DS</td>\n",
              "      <td>1.0</td>\n",
              "      <td>NaN</td>\n",
              "      <td>75</td>\n",
              "    </tr>\n",
              "    <tr>\n",
              "      <th>6</th>\n",
              "      <td>P007</td>\n",
              "      <td>M</td>\n",
              "      <td>FT</td>\n",
              "      <td>FS</td>\n",
              "      <td>NaN</td>\n",
              "      <td>NaN</td>\n",
              "      <td>None</td>\n",
              "    </tr>\n",
              "    <tr>\n",
              "      <th>7</th>\n",
              "      <td>P008</td>\n",
              "      <td>F</td>\n",
              "      <td>FT</td>\n",
              "      <td>FS</td>\n",
              "      <td>10.0</td>\n",
              "      <td>2.0</td>\n",
              "      <td>136</td>\n",
              "    </tr>\n",
              "    <tr>\n",
              "      <th>8</th>\n",
              "      <td>P009</td>\n",
              "      <td>M</td>\n",
              "      <td>PT</td>\n",
              "      <td>FS</td>\n",
              "      <td>14.0</td>\n",
              "      <td>3.0</td>\n",
              "      <td>60</td>\n",
              "    </tr>\n",
              "    <tr>\n",
              "      <th>9</th>\n",
              "      <td>P010</td>\n",
              "      <td>F</td>\n",
              "      <td>FT</td>\n",
              "      <td>DS</td>\n",
              "      <td>NaN</td>\n",
              "      <td>7.0</td>\n",
              "      <td>125</td>\n",
              "    </tr>\n",
              "    <tr>\n",
              "      <th>10</th>\n",
              "      <td>P011</td>\n",
              "      <td>M</td>\n",
              "      <td>NaN</td>\n",
              "      <td>AWS</td>\n",
              "      <td>6.0</td>\n",
              "      <td>9.0</td>\n",
              "      <td>NaN</td>\n",
              "    </tr>\n",
              "  </tbody>\n",
              "</table>\n",
              "</div>"
            ],
            "text/plain": [
              "      id gender status dept  var1  var2 salary\n",
              "0   P001      M     FT   DS   2.0   8.0    NaN\n",
              "1   P002      F     PT   FS   3.0   NaN     54\n",
              "2   P003      M     PT  AWS   5.0   5.0     59\n",
              "3   P004      F     FT  AWS   NaN   8.0    120\n",
              "4   P005      M     PT   DS   7.0  11.0     58\n",
              "5   P006      F     PT   DS   1.0   NaN     75\n",
              "6   P007      M     FT   FS   NaN   NaN   None\n",
              "7   P008      F     FT   FS  10.0   2.0    136\n",
              "8   P009      M     PT   FS  14.0   3.0     60\n",
              "9   P010      F     FT   DS   NaN   7.0    125\n",
              "10  P011      M    NaN  AWS   6.0   9.0    NaN"
            ]
          },
          "execution_count": 84,
          "metadata": {},
          "output_type": "execute_result"
        }
      ],
      "source": [
        "df.loc[df[\"salary\"]>=100, \"status\"] = df.loc[df[\"salary\"]>=100, \"status\"].fillna(df.loc[df[\"salary\"]>=100, \"status\"].mode()[0])\n",
        "df.loc[df[\"salary\"]<100, \"status\"] = df.loc[df[\"salary\"]<100, \"status\"].fillna(df.loc[df[\"salary\"]<100, \"status\"].mode()[0])\n",
        "df"
      ]
    },
    {
      "cell_type": "markdown",
      "metadata": {
        "id": "X9PUXCtEYHry"
      },
      "source": [
        "**Let's fill the last missing value at \"status\" column with the mode of the group of \"gender\" and \"dept\"**"
      ]
    },
    {
      "cell_type": "code",
      "execution_count": null,
      "metadata": {
        "id": "HWYpE_Sj98gM",
        "outputId": "e45bea08-a9c6-43bc-c5b6-fb5e509ec24f"
      },
      "outputs": [
        {
          "data": {
            "text/plain": [
              "gender  dept\n",
              "F       AWS     FT\n",
              "        DS      FT\n",
              "        FS      FT\n",
              "M       AWS     PT\n",
              "        DS      FT\n",
              "        FS      FT\n",
              "Name: status, dtype: object"
            ]
          },
          "execution_count": 85,
          "metadata": {},
          "output_type": "execute_result"
        }
      ],
      "source": [
        "df.groupby([\"gender\", \"dept\"])[\"status\"].apply(lambda x : x.mode()[0])"
      ]
    },
    {
      "cell_type": "code",
      "execution_count": null,
      "metadata": {
        "id": "NRb8nKNl98gN",
        "outputId": "a98d8f56-b31e-4de8-f461-46cdeeccd907"
      },
      "outputs": [
        {
          "data": {
            "text/plain": [
              "0     FT\n",
              "1     FT\n",
              "2     PT\n",
              "3     FT\n",
              "4     FT\n",
              "5     FT\n",
              "6     FT\n",
              "7     FT\n",
              "8     FT\n",
              "9     FT\n",
              "10    PT\n",
              "Name: status, dtype: object"
            ]
          },
          "execution_count": 86,
          "metadata": {},
          "output_type": "execute_result"
        }
      ],
      "source": [
        "df.groupby([\"gender\", \"dept\"])[\"status\"].transform(lambda x : x.mode()[0])"
      ]
    },
    {
      "cell_type": "code",
      "execution_count": null,
      "metadata": {
        "id": "lsZ87mKFYHr0",
        "outputId": "df595464-4fa4-41d6-bf81-3e34009e8cdb"
      },
      "outputs": [
        {
          "data": {
            "text/html": [
              "<div>\n",
              "<style scoped>\n",
              "    .dataframe tbody tr th:only-of-type {\n",
              "        vertical-align: middle;\n",
              "    }\n",
              "\n",
              "    .dataframe tbody tr th {\n",
              "        vertical-align: top;\n",
              "    }\n",
              "\n",
              "    .dataframe thead th {\n",
              "        text-align: right;\n",
              "    }\n",
              "</style>\n",
              "<table border=\"1\" class=\"dataframe\">\n",
              "  <thead>\n",
              "    <tr style=\"text-align: right;\">\n",
              "      <th></th>\n",
              "      <th>id</th>\n",
              "      <th>gender</th>\n",
              "      <th>status</th>\n",
              "      <th>dept</th>\n",
              "      <th>var1</th>\n",
              "      <th>var2</th>\n",
              "      <th>salary</th>\n",
              "      <th>trans_status</th>\n",
              "    </tr>\n",
              "  </thead>\n",
              "  <tbody>\n",
              "    <tr>\n",
              "      <th>0</th>\n",
              "      <td>P001</td>\n",
              "      <td>M</td>\n",
              "      <td>FT</td>\n",
              "      <td>DS</td>\n",
              "      <td>2.0</td>\n",
              "      <td>8.0</td>\n",
              "      <td>NaN</td>\n",
              "      <td>FT</td>\n",
              "    </tr>\n",
              "    <tr>\n",
              "      <th>1</th>\n",
              "      <td>P002</td>\n",
              "      <td>F</td>\n",
              "      <td>PT</td>\n",
              "      <td>FS</td>\n",
              "      <td>3.0</td>\n",
              "      <td>NaN</td>\n",
              "      <td>54</td>\n",
              "      <td>FT</td>\n",
              "    </tr>\n",
              "    <tr>\n",
              "      <th>2</th>\n",
              "      <td>P003</td>\n",
              "      <td>M</td>\n",
              "      <td>PT</td>\n",
              "      <td>AWS</td>\n",
              "      <td>5.0</td>\n",
              "      <td>5.0</td>\n",
              "      <td>59</td>\n",
              "      <td>PT</td>\n",
              "    </tr>\n",
              "    <tr>\n",
              "      <th>3</th>\n",
              "      <td>P004</td>\n",
              "      <td>F</td>\n",
              "      <td>FT</td>\n",
              "      <td>AWS</td>\n",
              "      <td>NaN</td>\n",
              "      <td>8.0</td>\n",
              "      <td>120</td>\n",
              "      <td>FT</td>\n",
              "    </tr>\n",
              "    <tr>\n",
              "      <th>4</th>\n",
              "      <td>P005</td>\n",
              "      <td>M</td>\n",
              "      <td>PT</td>\n",
              "      <td>DS</td>\n",
              "      <td>7.0</td>\n",
              "      <td>11.0</td>\n",
              "      <td>58</td>\n",
              "      <td>FT</td>\n",
              "    </tr>\n",
              "    <tr>\n",
              "      <th>5</th>\n",
              "      <td>P006</td>\n",
              "      <td>F</td>\n",
              "      <td>PT</td>\n",
              "      <td>DS</td>\n",
              "      <td>1.0</td>\n",
              "      <td>NaN</td>\n",
              "      <td>75</td>\n",
              "      <td>FT</td>\n",
              "    </tr>\n",
              "    <tr>\n",
              "      <th>6</th>\n",
              "      <td>P007</td>\n",
              "      <td>M</td>\n",
              "      <td>FT</td>\n",
              "      <td>FS</td>\n",
              "      <td>NaN</td>\n",
              "      <td>NaN</td>\n",
              "      <td>None</td>\n",
              "      <td>FT</td>\n",
              "    </tr>\n",
              "    <tr>\n",
              "      <th>7</th>\n",
              "      <td>P008</td>\n",
              "      <td>F</td>\n",
              "      <td>FT</td>\n",
              "      <td>FS</td>\n",
              "      <td>10.0</td>\n",
              "      <td>2.0</td>\n",
              "      <td>136</td>\n",
              "      <td>FT</td>\n",
              "    </tr>\n",
              "    <tr>\n",
              "      <th>8</th>\n",
              "      <td>P009</td>\n",
              "      <td>M</td>\n",
              "      <td>PT</td>\n",
              "      <td>FS</td>\n",
              "      <td>14.0</td>\n",
              "      <td>3.0</td>\n",
              "      <td>60</td>\n",
              "      <td>FT</td>\n",
              "    </tr>\n",
              "    <tr>\n",
              "      <th>9</th>\n",
              "      <td>P010</td>\n",
              "      <td>F</td>\n",
              "      <td>FT</td>\n",
              "      <td>DS</td>\n",
              "      <td>NaN</td>\n",
              "      <td>7.0</td>\n",
              "      <td>125</td>\n",
              "      <td>FT</td>\n",
              "    </tr>\n",
              "    <tr>\n",
              "      <th>10</th>\n",
              "      <td>P011</td>\n",
              "      <td>M</td>\n",
              "      <td>NaN</td>\n",
              "      <td>AWS</td>\n",
              "      <td>6.0</td>\n",
              "      <td>9.0</td>\n",
              "      <td>NaN</td>\n",
              "      <td>PT</td>\n",
              "    </tr>\n",
              "  </tbody>\n",
              "</table>\n",
              "</div>"
            ],
            "text/plain": [
              "      id gender status dept  var1  var2 salary trans_status\n",
              "0   P001      M     FT   DS   2.0   8.0    NaN           FT\n",
              "1   P002      F     PT   FS   3.0   NaN     54           FT\n",
              "2   P003      M     PT  AWS   5.0   5.0     59           PT\n",
              "3   P004      F     FT  AWS   NaN   8.0    120           FT\n",
              "4   P005      M     PT   DS   7.0  11.0     58           FT\n",
              "5   P006      F     PT   DS   1.0   NaN     75           FT\n",
              "6   P007      M     FT   FS   NaN   NaN   None           FT\n",
              "7   P008      F     FT   FS  10.0   2.0    136           FT\n",
              "8   P009      M     PT   FS  14.0   3.0     60           FT\n",
              "9   P010      F     FT   DS   NaN   7.0    125           FT\n",
              "10  P011      M    NaN  AWS   6.0   9.0    NaN           PT"
            ]
          },
          "execution_count": 87,
          "metadata": {},
          "output_type": "execute_result"
        }
      ],
      "source": [
        "df[\"trans_status\"] = df.groupby([\"gender\", \"dept\"])[\"status\"].transform(lambda x : x.mode()[0])\n",
        "df"
      ]
    },
    {
      "cell_type": "code",
      "execution_count": null,
      "metadata": {
        "id": "7qAeqrOt98gN",
        "outputId": "16fac010-daa6-45dc-b3ee-f8d90f77f090"
      },
      "outputs": [
        {
          "data": {
            "text/html": [
              "<div>\n",
              "<style scoped>\n",
              "    .dataframe tbody tr th:only-of-type {\n",
              "        vertical-align: middle;\n",
              "    }\n",
              "\n",
              "    .dataframe tbody tr th {\n",
              "        vertical-align: top;\n",
              "    }\n",
              "\n",
              "    .dataframe thead th {\n",
              "        text-align: right;\n",
              "    }\n",
              "</style>\n",
              "<table border=\"1\" class=\"dataframe\">\n",
              "  <thead>\n",
              "    <tr style=\"text-align: right;\">\n",
              "      <th></th>\n",
              "      <th>id</th>\n",
              "      <th>gender</th>\n",
              "      <th>status</th>\n",
              "      <th>dept</th>\n",
              "      <th>var1</th>\n",
              "      <th>var2</th>\n",
              "      <th>salary</th>\n",
              "      <th>trans_status</th>\n",
              "    </tr>\n",
              "  </thead>\n",
              "  <tbody>\n",
              "    <tr>\n",
              "      <th>0</th>\n",
              "      <td>P001</td>\n",
              "      <td>M</td>\n",
              "      <td>FT</td>\n",
              "      <td>DS</td>\n",
              "      <td>2.0</td>\n",
              "      <td>8.0</td>\n",
              "      <td>NaN</td>\n",
              "      <td>FT</td>\n",
              "    </tr>\n",
              "    <tr>\n",
              "      <th>1</th>\n",
              "      <td>P002</td>\n",
              "      <td>F</td>\n",
              "      <td>PT</td>\n",
              "      <td>FS</td>\n",
              "      <td>3.0</td>\n",
              "      <td>NaN</td>\n",
              "      <td>54</td>\n",
              "      <td>FT</td>\n",
              "    </tr>\n",
              "    <tr>\n",
              "      <th>2</th>\n",
              "      <td>P003</td>\n",
              "      <td>M</td>\n",
              "      <td>PT</td>\n",
              "      <td>AWS</td>\n",
              "      <td>5.0</td>\n",
              "      <td>5.0</td>\n",
              "      <td>59</td>\n",
              "      <td>PT</td>\n",
              "    </tr>\n",
              "    <tr>\n",
              "      <th>3</th>\n",
              "      <td>P004</td>\n",
              "      <td>F</td>\n",
              "      <td>FT</td>\n",
              "      <td>AWS</td>\n",
              "      <td>NaN</td>\n",
              "      <td>8.0</td>\n",
              "      <td>120</td>\n",
              "      <td>FT</td>\n",
              "    </tr>\n",
              "    <tr>\n",
              "      <th>4</th>\n",
              "      <td>P005</td>\n",
              "      <td>M</td>\n",
              "      <td>PT</td>\n",
              "      <td>DS</td>\n",
              "      <td>7.0</td>\n",
              "      <td>11.0</td>\n",
              "      <td>58</td>\n",
              "      <td>FT</td>\n",
              "    </tr>\n",
              "    <tr>\n",
              "      <th>5</th>\n",
              "      <td>P006</td>\n",
              "      <td>F</td>\n",
              "      <td>PT</td>\n",
              "      <td>DS</td>\n",
              "      <td>1.0</td>\n",
              "      <td>NaN</td>\n",
              "      <td>75</td>\n",
              "      <td>FT</td>\n",
              "    </tr>\n",
              "    <tr>\n",
              "      <th>6</th>\n",
              "      <td>P007</td>\n",
              "      <td>M</td>\n",
              "      <td>FT</td>\n",
              "      <td>FS</td>\n",
              "      <td>NaN</td>\n",
              "      <td>NaN</td>\n",
              "      <td>None</td>\n",
              "      <td>FT</td>\n",
              "    </tr>\n",
              "    <tr>\n",
              "      <th>7</th>\n",
              "      <td>P008</td>\n",
              "      <td>F</td>\n",
              "      <td>FT</td>\n",
              "      <td>FS</td>\n",
              "      <td>10.0</td>\n",
              "      <td>2.0</td>\n",
              "      <td>136</td>\n",
              "      <td>FT</td>\n",
              "    </tr>\n",
              "    <tr>\n",
              "      <th>8</th>\n",
              "      <td>P009</td>\n",
              "      <td>M</td>\n",
              "      <td>PT</td>\n",
              "      <td>FS</td>\n",
              "      <td>14.0</td>\n",
              "      <td>3.0</td>\n",
              "      <td>60</td>\n",
              "      <td>FT</td>\n",
              "    </tr>\n",
              "    <tr>\n",
              "      <th>9</th>\n",
              "      <td>P010</td>\n",
              "      <td>F</td>\n",
              "      <td>FT</td>\n",
              "      <td>DS</td>\n",
              "      <td>NaN</td>\n",
              "      <td>7.0</td>\n",
              "      <td>125</td>\n",
              "      <td>FT</td>\n",
              "    </tr>\n",
              "    <tr>\n",
              "      <th>10</th>\n",
              "      <td>P011</td>\n",
              "      <td>M</td>\n",
              "      <td>PT</td>\n",
              "      <td>AWS</td>\n",
              "      <td>6.0</td>\n",
              "      <td>9.0</td>\n",
              "      <td>NaN</td>\n",
              "      <td>PT</td>\n",
              "    </tr>\n",
              "  </tbody>\n",
              "</table>\n",
              "</div>"
            ],
            "text/plain": [
              "      id gender status dept  var1  var2 salary trans_status\n",
              "0   P001      M     FT   DS   2.0   8.0    NaN           FT\n",
              "1   P002      F     PT   FS   3.0   NaN     54           FT\n",
              "2   P003      M     PT  AWS   5.0   5.0     59           PT\n",
              "3   P004      F     FT  AWS   NaN   8.0    120           FT\n",
              "4   P005      M     PT   DS   7.0  11.0     58           FT\n",
              "5   P006      F     PT   DS   1.0   NaN     75           FT\n",
              "6   P007      M     FT   FS   NaN   NaN   None           FT\n",
              "7   P008      F     FT   FS  10.0   2.0    136           FT\n",
              "8   P009      M     PT   FS  14.0   3.0     60           FT\n",
              "9   P010      F     FT   DS   NaN   7.0    125           FT\n",
              "10  P011      M     PT  AWS   6.0   9.0    NaN           PT"
            ]
          },
          "execution_count": 88,
          "metadata": {},
          "output_type": "execute_result"
        }
      ],
      "source": [
        "df[\"status\"].fillna(df.groupby([\"gender\", \"dept\"])[\"status\"].transform(lambda x : x.mode()[0]), inplace=True)\n",
        "#df[\"status\"].fillna(df[\"trans_status\"], inplace=True)\n",
        "df"
      ]
    },
    {
      "cell_type": "markdown",
      "metadata": {
        "id": "fqGXZxIMYHr2"
      },
      "source": [
        "**Let's fill the missing values at \"salary\" column with the mean of the group of \"status\" and \"dept\"**"
      ]
    },
    {
      "cell_type": "code",
      "execution_count": null,
      "metadata": {
        "id": "GC65ySgoDyzx",
        "outputId": "12ae40f7-9c0a-4b5f-d75b-3b632dd03a8a"
      },
      "outputs": [
        {
          "data": {
            "text/plain": [
              "dept\n",
              "AWS    89.500000\n",
              "DS     86.000000\n",
              "FS     83.333333\n",
              "Name: salary, dtype: float64"
            ]
          },
          "execution_count": 89,
          "metadata": {},
          "output_type": "execute_result"
        }
      ],
      "source": [
        "# regarding to avg of \"salary\" in terms of \"department\"\n",
        "\n",
        "df.groupby(\"dept\")[\"salary\"].mean()"
      ]
    },
    {
      "cell_type": "code",
      "execution_count": null,
      "metadata": {
        "id": "oSJbPmQn98gO",
        "outputId": "d48fa4b9-6739-4ede-87f8-9179cb30b8f2"
      },
      "outputs": [
        {
          "data": {
            "text/plain": [
              "status  dept\n",
              "FT      AWS     120.0\n",
              "        DS      125.0\n",
              "        FS      136.0\n",
              "PT      AWS      59.0\n",
              "        DS       66.5\n",
              "        FS       57.0\n",
              "Name: salary, dtype: float64"
            ]
          },
          "execution_count": 90,
          "metadata": {},
          "output_type": "execute_result"
        }
      ],
      "source": [
        "#regarding to avg of \"salary\" in terms of \"status and department\"\n",
        "\n",
        "df.groupby([\"status\", \"dept\"])[\"salary\"].mean()"
      ]
    },
    {
      "cell_type": "code",
      "execution_count": null,
      "metadata": {
        "id": "x2Ar8tMo98gP",
        "outputId": "8ffaacd8-f089-4645-e236-a0163a8c0c58"
      },
      "outputs": [
        {
          "data": {
            "text/plain": [
              "0     125.0\n",
              "1      57.0\n",
              "2      59.0\n",
              "3     120.0\n",
              "4      66.5\n",
              "5      66.5\n",
              "6     136.0\n",
              "7     136.0\n",
              "8      57.0\n",
              "9     125.0\n",
              "10     59.0\n",
              "Name: salary, dtype: float64"
            ]
          },
          "execution_count": 91,
          "metadata": {},
          "output_type": "execute_result"
        }
      ],
      "source": [
        "df.groupby([\"status\", \"dept\"])[\"salary\"].transform(\"mean\")"
      ]
    },
    {
      "cell_type": "code",
      "execution_count": null,
      "metadata": {
        "id": "BSle4H6998gP",
        "outputId": "eac055c5-1f63-4735-ad07-3fef9797c66a"
      },
      "outputs": [
        {
          "data": {
            "text/html": [
              "<div>\n",
              "<style scoped>\n",
              "    .dataframe tbody tr th:only-of-type {\n",
              "        vertical-align: middle;\n",
              "    }\n",
              "\n",
              "    .dataframe tbody tr th {\n",
              "        vertical-align: top;\n",
              "    }\n",
              "\n",
              "    .dataframe thead th {\n",
              "        text-align: right;\n",
              "    }\n",
              "</style>\n",
              "<table border=\"1\" class=\"dataframe\">\n",
              "  <thead>\n",
              "    <tr style=\"text-align: right;\">\n",
              "      <th></th>\n",
              "      <th>id</th>\n",
              "      <th>gender</th>\n",
              "      <th>status</th>\n",
              "      <th>dept</th>\n",
              "      <th>var1</th>\n",
              "      <th>var2</th>\n",
              "      <th>salary</th>\n",
              "      <th>trans_status</th>\n",
              "      <th>trans_salary</th>\n",
              "    </tr>\n",
              "  </thead>\n",
              "  <tbody>\n",
              "    <tr>\n",
              "      <th>0</th>\n",
              "      <td>P001</td>\n",
              "      <td>M</td>\n",
              "      <td>FT</td>\n",
              "      <td>DS</td>\n",
              "      <td>2.0</td>\n",
              "      <td>8.0</td>\n",
              "      <td>NaN</td>\n",
              "      <td>FT</td>\n",
              "      <td>125.0</td>\n",
              "    </tr>\n",
              "    <tr>\n",
              "      <th>1</th>\n",
              "      <td>P002</td>\n",
              "      <td>F</td>\n",
              "      <td>PT</td>\n",
              "      <td>FS</td>\n",
              "      <td>3.0</td>\n",
              "      <td>NaN</td>\n",
              "      <td>54</td>\n",
              "      <td>FT</td>\n",
              "      <td>57.0</td>\n",
              "    </tr>\n",
              "    <tr>\n",
              "      <th>2</th>\n",
              "      <td>P003</td>\n",
              "      <td>M</td>\n",
              "      <td>PT</td>\n",
              "      <td>AWS</td>\n",
              "      <td>5.0</td>\n",
              "      <td>5.0</td>\n",
              "      <td>59</td>\n",
              "      <td>PT</td>\n",
              "      <td>59.0</td>\n",
              "    </tr>\n",
              "    <tr>\n",
              "      <th>3</th>\n",
              "      <td>P004</td>\n",
              "      <td>F</td>\n",
              "      <td>FT</td>\n",
              "      <td>AWS</td>\n",
              "      <td>NaN</td>\n",
              "      <td>8.0</td>\n",
              "      <td>120</td>\n",
              "      <td>FT</td>\n",
              "      <td>120.0</td>\n",
              "    </tr>\n",
              "    <tr>\n",
              "      <th>4</th>\n",
              "      <td>P005</td>\n",
              "      <td>M</td>\n",
              "      <td>PT</td>\n",
              "      <td>DS</td>\n",
              "      <td>7.0</td>\n",
              "      <td>11.0</td>\n",
              "      <td>58</td>\n",
              "      <td>FT</td>\n",
              "      <td>66.5</td>\n",
              "    </tr>\n",
              "    <tr>\n",
              "      <th>5</th>\n",
              "      <td>P006</td>\n",
              "      <td>F</td>\n",
              "      <td>PT</td>\n",
              "      <td>DS</td>\n",
              "      <td>1.0</td>\n",
              "      <td>NaN</td>\n",
              "      <td>75</td>\n",
              "      <td>FT</td>\n",
              "      <td>66.5</td>\n",
              "    </tr>\n",
              "    <tr>\n",
              "      <th>6</th>\n",
              "      <td>P007</td>\n",
              "      <td>M</td>\n",
              "      <td>FT</td>\n",
              "      <td>FS</td>\n",
              "      <td>NaN</td>\n",
              "      <td>NaN</td>\n",
              "      <td>None</td>\n",
              "      <td>FT</td>\n",
              "      <td>136.0</td>\n",
              "    </tr>\n",
              "    <tr>\n",
              "      <th>7</th>\n",
              "      <td>P008</td>\n",
              "      <td>F</td>\n",
              "      <td>FT</td>\n",
              "      <td>FS</td>\n",
              "      <td>10.0</td>\n",
              "      <td>2.0</td>\n",
              "      <td>136</td>\n",
              "      <td>FT</td>\n",
              "      <td>136.0</td>\n",
              "    </tr>\n",
              "    <tr>\n",
              "      <th>8</th>\n",
              "      <td>P009</td>\n",
              "      <td>M</td>\n",
              "      <td>PT</td>\n",
              "      <td>FS</td>\n",
              "      <td>14.0</td>\n",
              "      <td>3.0</td>\n",
              "      <td>60</td>\n",
              "      <td>FT</td>\n",
              "      <td>57.0</td>\n",
              "    </tr>\n",
              "    <tr>\n",
              "      <th>9</th>\n",
              "      <td>P010</td>\n",
              "      <td>F</td>\n",
              "      <td>FT</td>\n",
              "      <td>DS</td>\n",
              "      <td>NaN</td>\n",
              "      <td>7.0</td>\n",
              "      <td>125</td>\n",
              "      <td>FT</td>\n",
              "      <td>125.0</td>\n",
              "    </tr>\n",
              "    <tr>\n",
              "      <th>10</th>\n",
              "      <td>P011</td>\n",
              "      <td>M</td>\n",
              "      <td>PT</td>\n",
              "      <td>AWS</td>\n",
              "      <td>6.0</td>\n",
              "      <td>9.0</td>\n",
              "      <td>NaN</td>\n",
              "      <td>PT</td>\n",
              "      <td>59.0</td>\n",
              "    </tr>\n",
              "  </tbody>\n",
              "</table>\n",
              "</div>"
            ],
            "text/plain": [
              "      id gender status dept  var1  var2 salary trans_status  trans_salary\n",
              "0   P001      M     FT   DS   2.0   8.0    NaN           FT         125.0\n",
              "1   P002      F     PT   FS   3.0   NaN     54           FT          57.0\n",
              "2   P003      M     PT  AWS   5.0   5.0     59           PT          59.0\n",
              "3   P004      F     FT  AWS   NaN   8.0    120           FT         120.0\n",
              "4   P005      M     PT   DS   7.0  11.0     58           FT          66.5\n",
              "5   P006      F     PT   DS   1.0   NaN     75           FT          66.5\n",
              "6   P007      M     FT   FS   NaN   NaN   None           FT         136.0\n",
              "7   P008      F     FT   FS  10.0   2.0    136           FT         136.0\n",
              "8   P009      M     PT   FS  14.0   3.0     60           FT          57.0\n",
              "9   P010      F     FT   DS   NaN   7.0    125           FT         125.0\n",
              "10  P011      M     PT  AWS   6.0   9.0    NaN           PT          59.0"
            ]
          },
          "execution_count": 92,
          "metadata": {},
          "output_type": "execute_result"
        }
      ],
      "source": [
        "df[\"trans_salary\"] = df.groupby([\"status\",\"dept\"])[\"salary\"].transform(\"mean\")\n",
        "df"
      ]
    },
    {
      "cell_type": "code",
      "execution_count": null,
      "metadata": {
        "id": "f-osE7ADYHsC",
        "outputId": "aecfb750-710b-427b-925c-a28fbfe942f1"
      },
      "outputs": [
        {
          "data": {
            "text/html": [
              "<div>\n",
              "<style scoped>\n",
              "    .dataframe tbody tr th:only-of-type {\n",
              "        vertical-align: middle;\n",
              "    }\n",
              "\n",
              "    .dataframe tbody tr th {\n",
              "        vertical-align: top;\n",
              "    }\n",
              "\n",
              "    .dataframe thead th {\n",
              "        text-align: right;\n",
              "    }\n",
              "</style>\n",
              "<table border=\"1\" class=\"dataframe\">\n",
              "  <thead>\n",
              "    <tr style=\"text-align: right;\">\n",
              "      <th></th>\n",
              "      <th>id</th>\n",
              "      <th>gender</th>\n",
              "      <th>status</th>\n",
              "      <th>dept</th>\n",
              "      <th>var1</th>\n",
              "      <th>var2</th>\n",
              "      <th>salary</th>\n",
              "      <th>trans_status</th>\n",
              "      <th>trans_salary</th>\n",
              "    </tr>\n",
              "  </thead>\n",
              "  <tbody>\n",
              "    <tr>\n",
              "      <th>0</th>\n",
              "      <td>P001</td>\n",
              "      <td>M</td>\n",
              "      <td>FT</td>\n",
              "      <td>DS</td>\n",
              "      <td>2.0</td>\n",
              "      <td>8.0</td>\n",
              "      <td>125.0</td>\n",
              "      <td>FT</td>\n",
              "      <td>125.0</td>\n",
              "    </tr>\n",
              "    <tr>\n",
              "      <th>1</th>\n",
              "      <td>P002</td>\n",
              "      <td>F</td>\n",
              "      <td>PT</td>\n",
              "      <td>FS</td>\n",
              "      <td>3.0</td>\n",
              "      <td>NaN</td>\n",
              "      <td>54.0</td>\n",
              "      <td>FT</td>\n",
              "      <td>57.0</td>\n",
              "    </tr>\n",
              "    <tr>\n",
              "      <th>2</th>\n",
              "      <td>P003</td>\n",
              "      <td>M</td>\n",
              "      <td>PT</td>\n",
              "      <td>AWS</td>\n",
              "      <td>5.0</td>\n",
              "      <td>5.0</td>\n",
              "      <td>59.0</td>\n",
              "      <td>PT</td>\n",
              "      <td>59.0</td>\n",
              "    </tr>\n",
              "    <tr>\n",
              "      <th>3</th>\n",
              "      <td>P004</td>\n",
              "      <td>F</td>\n",
              "      <td>FT</td>\n",
              "      <td>AWS</td>\n",
              "      <td>NaN</td>\n",
              "      <td>8.0</td>\n",
              "      <td>120.0</td>\n",
              "      <td>FT</td>\n",
              "      <td>120.0</td>\n",
              "    </tr>\n",
              "    <tr>\n",
              "      <th>4</th>\n",
              "      <td>P005</td>\n",
              "      <td>M</td>\n",
              "      <td>PT</td>\n",
              "      <td>DS</td>\n",
              "      <td>7.0</td>\n",
              "      <td>11.0</td>\n",
              "      <td>58.0</td>\n",
              "      <td>FT</td>\n",
              "      <td>66.5</td>\n",
              "    </tr>\n",
              "    <tr>\n",
              "      <th>5</th>\n",
              "      <td>P006</td>\n",
              "      <td>F</td>\n",
              "      <td>PT</td>\n",
              "      <td>DS</td>\n",
              "      <td>1.0</td>\n",
              "      <td>NaN</td>\n",
              "      <td>75.0</td>\n",
              "      <td>FT</td>\n",
              "      <td>66.5</td>\n",
              "    </tr>\n",
              "    <tr>\n",
              "      <th>6</th>\n",
              "      <td>P007</td>\n",
              "      <td>M</td>\n",
              "      <td>FT</td>\n",
              "      <td>FS</td>\n",
              "      <td>NaN</td>\n",
              "      <td>NaN</td>\n",
              "      <td>136.0</td>\n",
              "      <td>FT</td>\n",
              "      <td>136.0</td>\n",
              "    </tr>\n",
              "    <tr>\n",
              "      <th>7</th>\n",
              "      <td>P008</td>\n",
              "      <td>F</td>\n",
              "      <td>FT</td>\n",
              "      <td>FS</td>\n",
              "      <td>10.0</td>\n",
              "      <td>2.0</td>\n",
              "      <td>136.0</td>\n",
              "      <td>FT</td>\n",
              "      <td>136.0</td>\n",
              "    </tr>\n",
              "    <tr>\n",
              "      <th>8</th>\n",
              "      <td>P009</td>\n",
              "      <td>M</td>\n",
              "      <td>PT</td>\n",
              "      <td>FS</td>\n",
              "      <td>14.0</td>\n",
              "      <td>3.0</td>\n",
              "      <td>60.0</td>\n",
              "      <td>FT</td>\n",
              "      <td>57.0</td>\n",
              "    </tr>\n",
              "    <tr>\n",
              "      <th>9</th>\n",
              "      <td>P010</td>\n",
              "      <td>F</td>\n",
              "      <td>FT</td>\n",
              "      <td>DS</td>\n",
              "      <td>NaN</td>\n",
              "      <td>7.0</td>\n",
              "      <td>125.0</td>\n",
              "      <td>FT</td>\n",
              "      <td>125.0</td>\n",
              "    </tr>\n",
              "    <tr>\n",
              "      <th>10</th>\n",
              "      <td>P011</td>\n",
              "      <td>M</td>\n",
              "      <td>PT</td>\n",
              "      <td>AWS</td>\n",
              "      <td>6.0</td>\n",
              "      <td>9.0</td>\n",
              "      <td>59.0</td>\n",
              "      <td>PT</td>\n",
              "      <td>59.0</td>\n",
              "    </tr>\n",
              "  </tbody>\n",
              "</table>\n",
              "</div>"
            ],
            "text/plain": [
              "      id gender status dept  var1  var2  salary trans_status  trans_salary\n",
              "0   P001      M     FT   DS   2.0   8.0   125.0           FT         125.0\n",
              "1   P002      F     PT   FS   3.0   NaN    54.0           FT          57.0\n",
              "2   P003      M     PT  AWS   5.0   5.0    59.0           PT          59.0\n",
              "3   P004      F     FT  AWS   NaN   8.0   120.0           FT         120.0\n",
              "4   P005      M     PT   DS   7.0  11.0    58.0           FT          66.5\n",
              "5   P006      F     PT   DS   1.0   NaN    75.0           FT          66.5\n",
              "6   P007      M     FT   FS   NaN   NaN   136.0           FT         136.0\n",
              "7   P008      F     FT   FS  10.0   2.0   136.0           FT         136.0\n",
              "8   P009      M     PT   FS  14.0   3.0    60.0           FT          57.0\n",
              "9   P010      F     FT   DS   NaN   7.0   125.0           FT         125.0\n",
              "10  P011      M     PT  AWS   6.0   9.0    59.0           PT          59.0"
            ]
          },
          "execution_count": 93,
          "metadata": {},
          "output_type": "execute_result"
        }
      ],
      "source": [
        "df[\"salary\"].fillna(df.groupby([\"status\", \"dept\"])[\"salary\"].transform(\"mean\"), inplace=True)\n",
        "#df[\"salary\"].fillna(df[\"trans_salary\"], inplace=True)\n",
        "df"
      ]
    },
    {
      "cell_type": "markdown",
      "metadata": {
        "id": "Oos4_YWdYHsD"
      },
      "source": [
        "**Let's fill the missing values at \"var1\" column with the mean of the group of \"gender\" and \"status\"**"
      ]
    },
    {
      "cell_type": "code",
      "execution_count": null,
      "metadata": {
        "id": "iL9Xw4eE98gP",
        "outputId": "d70562b7-74e1-46b8-a198-3d818ac3c051"
      },
      "outputs": [
        {
          "data": {
            "text/plain": [
              "gender  status\n",
              "F       FT        10.0\n",
              "        PT         2.0\n",
              "M       FT         2.0\n",
              "        PT         8.0\n",
              "Name: var1, dtype: float64"
            ]
          },
          "execution_count": 94,
          "metadata": {},
          "output_type": "execute_result"
        }
      ],
      "source": [
        "df.groupby([\"gender\", \"status\"])[\"var1\"].mean()"
      ]
    },
    {
      "cell_type": "code",
      "execution_count": null,
      "metadata": {
        "id": "-dtSjPv998gP",
        "outputId": "38354e12-e6df-4812-9472-dfa9da8bc5c2"
      },
      "outputs": [
        {
          "data": {
            "text/plain": [
              "0      2.0\n",
              "1      2.0\n",
              "2      8.0\n",
              "3     10.0\n",
              "4      8.0\n",
              "5      2.0\n",
              "6      2.0\n",
              "7     10.0\n",
              "8      8.0\n",
              "9     10.0\n",
              "10     8.0\n",
              "Name: var1, dtype: float64"
            ]
          },
          "execution_count": 95,
          "metadata": {},
          "output_type": "execute_result"
        }
      ],
      "source": [
        "df.groupby([\"gender\",\"status\"])[\"var1\"].transform(\"mean\")"
      ]
    },
    {
      "cell_type": "code",
      "execution_count": null,
      "metadata": {
        "id": "Y024TRGrYHsG"
      },
      "outputs": [],
      "source": [
        "trans_var1 = df.groupby([\"gender\", \"status\"])[\"var1\"].transform(\"mean\")"
      ]
    },
    {
      "cell_type": "code",
      "execution_count": null,
      "metadata": {
        "id": "AXsIYT4M98gQ",
        "outputId": "93ad3e48-ef76-43f5-882e-3e1b0d9773bb"
      },
      "outputs": [
        {
          "data": {
            "text/html": [
              "<div>\n",
              "<style scoped>\n",
              "    .dataframe tbody tr th:only-of-type {\n",
              "        vertical-align: middle;\n",
              "    }\n",
              "\n",
              "    .dataframe tbody tr th {\n",
              "        vertical-align: top;\n",
              "    }\n",
              "\n",
              "    .dataframe thead th {\n",
              "        text-align: right;\n",
              "    }\n",
              "</style>\n",
              "<table border=\"1\" class=\"dataframe\">\n",
              "  <thead>\n",
              "    <tr style=\"text-align: right;\">\n",
              "      <th></th>\n",
              "      <th>id</th>\n",
              "      <th>gender</th>\n",
              "      <th>status</th>\n",
              "      <th>dept</th>\n",
              "      <th>var1</th>\n",
              "      <th>var2</th>\n",
              "      <th>salary</th>\n",
              "      <th>trans_status</th>\n",
              "      <th>trans_salary</th>\n",
              "    </tr>\n",
              "  </thead>\n",
              "  <tbody>\n",
              "    <tr>\n",
              "      <th>0</th>\n",
              "      <td>P001</td>\n",
              "      <td>M</td>\n",
              "      <td>FT</td>\n",
              "      <td>DS</td>\n",
              "      <td>2.0</td>\n",
              "      <td>8.0</td>\n",
              "      <td>125.0</td>\n",
              "      <td>FT</td>\n",
              "      <td>125.0</td>\n",
              "    </tr>\n",
              "    <tr>\n",
              "      <th>1</th>\n",
              "      <td>P002</td>\n",
              "      <td>F</td>\n",
              "      <td>PT</td>\n",
              "      <td>FS</td>\n",
              "      <td>3.0</td>\n",
              "      <td>NaN</td>\n",
              "      <td>54.0</td>\n",
              "      <td>FT</td>\n",
              "      <td>57.0</td>\n",
              "    </tr>\n",
              "    <tr>\n",
              "      <th>2</th>\n",
              "      <td>P003</td>\n",
              "      <td>M</td>\n",
              "      <td>PT</td>\n",
              "      <td>AWS</td>\n",
              "      <td>5.0</td>\n",
              "      <td>5.0</td>\n",
              "      <td>59.0</td>\n",
              "      <td>PT</td>\n",
              "      <td>59.0</td>\n",
              "    </tr>\n",
              "    <tr>\n",
              "      <th>3</th>\n",
              "      <td>P004</td>\n",
              "      <td>F</td>\n",
              "      <td>FT</td>\n",
              "      <td>AWS</td>\n",
              "      <td>10.0</td>\n",
              "      <td>8.0</td>\n",
              "      <td>120.0</td>\n",
              "      <td>FT</td>\n",
              "      <td>120.0</td>\n",
              "    </tr>\n",
              "    <tr>\n",
              "      <th>4</th>\n",
              "      <td>P005</td>\n",
              "      <td>M</td>\n",
              "      <td>PT</td>\n",
              "      <td>DS</td>\n",
              "      <td>7.0</td>\n",
              "      <td>11.0</td>\n",
              "      <td>58.0</td>\n",
              "      <td>FT</td>\n",
              "      <td>66.5</td>\n",
              "    </tr>\n",
              "    <tr>\n",
              "      <th>5</th>\n",
              "      <td>P006</td>\n",
              "      <td>F</td>\n",
              "      <td>PT</td>\n",
              "      <td>DS</td>\n",
              "      <td>1.0</td>\n",
              "      <td>NaN</td>\n",
              "      <td>75.0</td>\n",
              "      <td>FT</td>\n",
              "      <td>66.5</td>\n",
              "    </tr>\n",
              "    <tr>\n",
              "      <th>6</th>\n",
              "      <td>P007</td>\n",
              "      <td>M</td>\n",
              "      <td>FT</td>\n",
              "      <td>FS</td>\n",
              "      <td>2.0</td>\n",
              "      <td>NaN</td>\n",
              "      <td>136.0</td>\n",
              "      <td>FT</td>\n",
              "      <td>136.0</td>\n",
              "    </tr>\n",
              "    <tr>\n",
              "      <th>7</th>\n",
              "      <td>P008</td>\n",
              "      <td>F</td>\n",
              "      <td>FT</td>\n",
              "      <td>FS</td>\n",
              "      <td>10.0</td>\n",
              "      <td>2.0</td>\n",
              "      <td>136.0</td>\n",
              "      <td>FT</td>\n",
              "      <td>136.0</td>\n",
              "    </tr>\n",
              "    <tr>\n",
              "      <th>8</th>\n",
              "      <td>P009</td>\n",
              "      <td>M</td>\n",
              "      <td>PT</td>\n",
              "      <td>FS</td>\n",
              "      <td>14.0</td>\n",
              "      <td>3.0</td>\n",
              "      <td>60.0</td>\n",
              "      <td>FT</td>\n",
              "      <td>57.0</td>\n",
              "    </tr>\n",
              "    <tr>\n",
              "      <th>9</th>\n",
              "      <td>P010</td>\n",
              "      <td>F</td>\n",
              "      <td>FT</td>\n",
              "      <td>DS</td>\n",
              "      <td>10.0</td>\n",
              "      <td>7.0</td>\n",
              "      <td>125.0</td>\n",
              "      <td>FT</td>\n",
              "      <td>125.0</td>\n",
              "    </tr>\n",
              "    <tr>\n",
              "      <th>10</th>\n",
              "      <td>P011</td>\n",
              "      <td>M</td>\n",
              "      <td>PT</td>\n",
              "      <td>AWS</td>\n",
              "      <td>6.0</td>\n",
              "      <td>9.0</td>\n",
              "      <td>59.0</td>\n",
              "      <td>PT</td>\n",
              "      <td>59.0</td>\n",
              "    </tr>\n",
              "  </tbody>\n",
              "</table>\n",
              "</div>"
            ],
            "text/plain": [
              "      id gender status dept  var1  var2  salary trans_status  trans_salary\n",
              "0   P001      M     FT   DS   2.0   8.0   125.0           FT         125.0\n",
              "1   P002      F     PT   FS   3.0   NaN    54.0           FT          57.0\n",
              "2   P003      M     PT  AWS   5.0   5.0    59.0           PT          59.0\n",
              "3   P004      F     FT  AWS  10.0   8.0   120.0           FT         120.0\n",
              "4   P005      M     PT   DS   7.0  11.0    58.0           FT          66.5\n",
              "5   P006      F     PT   DS   1.0   NaN    75.0           FT          66.5\n",
              "6   P007      M     FT   FS   2.0   NaN   136.0           FT         136.0\n",
              "7   P008      F     FT   FS  10.0   2.0   136.0           FT         136.0\n",
              "8   P009      M     PT   FS  14.0   3.0    60.0           FT          57.0\n",
              "9   P010      F     FT   DS  10.0   7.0   125.0           FT         125.0\n",
              "10  P011      M     PT  AWS   6.0   9.0    59.0           PT          59.0"
            ]
          },
          "execution_count": 97,
          "metadata": {},
          "output_type": "execute_result"
        }
      ],
      "source": [
        "df[\"var1\"].fillna(trans_var1, inplace=True)\n",
        "df"
      ]
    },
    {
      "cell_type": "markdown",
      "metadata": {
        "id": "Y8yQfr-YYHsI"
      },
      "source": [
        "**Let's fill the missing values at \"var2\" column with the mean of group of \"status\"**"
      ]
    },
    {
      "cell_type": "code",
      "execution_count": null,
      "metadata": {
        "id": "9fU8r2EBYHsJ",
        "outputId": "d6e503fb-5e5e-4da1-ff6b-bdb9af74fdf4"
      },
      "outputs": [
        {
          "data": {
            "text/plain": [
              "0      8.0\n",
              "1      NaN\n",
              "2      5.0\n",
              "3      8.0\n",
              "4     11.0\n",
              "5      NaN\n",
              "6      NaN\n",
              "7      2.0\n",
              "8      3.0\n",
              "9      7.0\n",
              "10     9.0\n",
              "Name: var2, dtype: float64"
            ]
          },
          "execution_count": 98,
          "metadata": {},
          "output_type": "execute_result"
        }
      ],
      "source": [
        "df[\"var2\"]"
      ]
    },
    {
      "cell_type": "code",
      "execution_count": null,
      "metadata": {
        "id": "G9qrXYXDYHsK",
        "outputId": "ab5e7235-42f0-49cc-be2b-a38a0427d301"
      },
      "outputs": [
        {
          "data": {
            "text/plain": [
              "status\n",
              "FT    6.25\n",
              "PT    7.00\n",
              "Name: var2, dtype: float64"
            ]
          },
          "execution_count": 99,
          "metadata": {},
          "output_type": "execute_result"
        }
      ],
      "source": [
        "df.groupby([\"status\"])[\"var2\"].mean()"
      ]
    },
    {
      "cell_type": "code",
      "execution_count": null,
      "metadata": {
        "id": "0OiZ7jUwYHsK",
        "outputId": "41f3a43c-34bc-441d-916a-7a3c4c310629"
      },
      "outputs": [
        {
          "data": {
            "text/plain": [
              "0     6.25\n",
              "1     7.00\n",
              "2     7.00\n",
              "3     6.25\n",
              "4     7.00\n",
              "5     7.00\n",
              "6     6.25\n",
              "7     6.25\n",
              "8     7.00\n",
              "9     6.25\n",
              "10    7.00\n",
              "Name: var2, dtype: float64"
            ]
          },
          "execution_count": 100,
          "metadata": {},
          "output_type": "execute_result"
        }
      ],
      "source": [
        "trans_var2 = df.groupby([\"status\"])[\"var2\"].transform(\"mean\")\n",
        "trans_var2"
      ]
    },
    {
      "cell_type": "code",
      "execution_count": null,
      "metadata": {
        "id": "FGYJWcDf98gR"
      },
      "outputs": [],
      "source": [
        "df[\"var2\"].fillna(trans_var2, inplace = True)"
      ]
    },
    {
      "cell_type": "code",
      "execution_count": null,
      "metadata": {
        "id": "Cg4VW0V598gR",
        "outputId": "fbff6ed8-0443-41b7-9d7e-953c1d8b0b52"
      },
      "outputs": [
        {
          "data": {
            "text/html": [
              "<div>\n",
              "<style scoped>\n",
              "    .dataframe tbody tr th:only-of-type {\n",
              "        vertical-align: middle;\n",
              "    }\n",
              "\n",
              "    .dataframe tbody tr th {\n",
              "        vertical-align: top;\n",
              "    }\n",
              "\n",
              "    .dataframe thead th {\n",
              "        text-align: right;\n",
              "    }\n",
              "</style>\n",
              "<table border=\"1\" class=\"dataframe\">\n",
              "  <thead>\n",
              "    <tr style=\"text-align: right;\">\n",
              "      <th></th>\n",
              "      <th>id</th>\n",
              "      <th>gender</th>\n",
              "      <th>status</th>\n",
              "      <th>dept</th>\n",
              "      <th>var1</th>\n",
              "      <th>var2</th>\n",
              "      <th>salary</th>\n",
              "      <th>trans_status</th>\n",
              "      <th>trans_salary</th>\n",
              "    </tr>\n",
              "  </thead>\n",
              "  <tbody>\n",
              "    <tr>\n",
              "      <th>0</th>\n",
              "      <td>P001</td>\n",
              "      <td>M</td>\n",
              "      <td>FT</td>\n",
              "      <td>DS</td>\n",
              "      <td>2.0</td>\n",
              "      <td>8.00</td>\n",
              "      <td>125.0</td>\n",
              "      <td>FT</td>\n",
              "      <td>125.0</td>\n",
              "    </tr>\n",
              "    <tr>\n",
              "      <th>1</th>\n",
              "      <td>P002</td>\n",
              "      <td>F</td>\n",
              "      <td>PT</td>\n",
              "      <td>FS</td>\n",
              "      <td>3.0</td>\n",
              "      <td>7.00</td>\n",
              "      <td>54.0</td>\n",
              "      <td>FT</td>\n",
              "      <td>57.0</td>\n",
              "    </tr>\n",
              "    <tr>\n",
              "      <th>2</th>\n",
              "      <td>P003</td>\n",
              "      <td>M</td>\n",
              "      <td>PT</td>\n",
              "      <td>AWS</td>\n",
              "      <td>5.0</td>\n",
              "      <td>5.00</td>\n",
              "      <td>59.0</td>\n",
              "      <td>PT</td>\n",
              "      <td>59.0</td>\n",
              "    </tr>\n",
              "    <tr>\n",
              "      <th>3</th>\n",
              "      <td>P004</td>\n",
              "      <td>F</td>\n",
              "      <td>FT</td>\n",
              "      <td>AWS</td>\n",
              "      <td>10.0</td>\n",
              "      <td>8.00</td>\n",
              "      <td>120.0</td>\n",
              "      <td>FT</td>\n",
              "      <td>120.0</td>\n",
              "    </tr>\n",
              "    <tr>\n",
              "      <th>4</th>\n",
              "      <td>P005</td>\n",
              "      <td>M</td>\n",
              "      <td>PT</td>\n",
              "      <td>DS</td>\n",
              "      <td>7.0</td>\n",
              "      <td>11.00</td>\n",
              "      <td>58.0</td>\n",
              "      <td>FT</td>\n",
              "      <td>66.5</td>\n",
              "    </tr>\n",
              "    <tr>\n",
              "      <th>5</th>\n",
              "      <td>P006</td>\n",
              "      <td>F</td>\n",
              "      <td>PT</td>\n",
              "      <td>DS</td>\n",
              "      <td>1.0</td>\n",
              "      <td>7.00</td>\n",
              "      <td>75.0</td>\n",
              "      <td>FT</td>\n",
              "      <td>66.5</td>\n",
              "    </tr>\n",
              "    <tr>\n",
              "      <th>6</th>\n",
              "      <td>P007</td>\n",
              "      <td>M</td>\n",
              "      <td>FT</td>\n",
              "      <td>FS</td>\n",
              "      <td>2.0</td>\n",
              "      <td>6.25</td>\n",
              "      <td>136.0</td>\n",
              "      <td>FT</td>\n",
              "      <td>136.0</td>\n",
              "    </tr>\n",
              "    <tr>\n",
              "      <th>7</th>\n",
              "      <td>P008</td>\n",
              "      <td>F</td>\n",
              "      <td>FT</td>\n",
              "      <td>FS</td>\n",
              "      <td>10.0</td>\n",
              "      <td>2.00</td>\n",
              "      <td>136.0</td>\n",
              "      <td>FT</td>\n",
              "      <td>136.0</td>\n",
              "    </tr>\n",
              "    <tr>\n",
              "      <th>8</th>\n",
              "      <td>P009</td>\n",
              "      <td>M</td>\n",
              "      <td>PT</td>\n",
              "      <td>FS</td>\n",
              "      <td>14.0</td>\n",
              "      <td>3.00</td>\n",
              "      <td>60.0</td>\n",
              "      <td>FT</td>\n",
              "      <td>57.0</td>\n",
              "    </tr>\n",
              "    <tr>\n",
              "      <th>9</th>\n",
              "      <td>P010</td>\n",
              "      <td>F</td>\n",
              "      <td>FT</td>\n",
              "      <td>DS</td>\n",
              "      <td>10.0</td>\n",
              "      <td>7.00</td>\n",
              "      <td>125.0</td>\n",
              "      <td>FT</td>\n",
              "      <td>125.0</td>\n",
              "    </tr>\n",
              "    <tr>\n",
              "      <th>10</th>\n",
              "      <td>P011</td>\n",
              "      <td>M</td>\n",
              "      <td>PT</td>\n",
              "      <td>AWS</td>\n",
              "      <td>6.0</td>\n",
              "      <td>9.00</td>\n",
              "      <td>59.0</td>\n",
              "      <td>PT</td>\n",
              "      <td>59.0</td>\n",
              "    </tr>\n",
              "  </tbody>\n",
              "</table>\n",
              "</div>"
            ],
            "text/plain": [
              "      id gender status dept  var1   var2  salary trans_status  trans_salary\n",
              "0   P001      M     FT   DS   2.0   8.00   125.0           FT         125.0\n",
              "1   P002      F     PT   FS   3.0   7.00    54.0           FT          57.0\n",
              "2   P003      M     PT  AWS   5.0   5.00    59.0           PT          59.0\n",
              "3   P004      F     FT  AWS  10.0   8.00   120.0           FT         120.0\n",
              "4   P005      M     PT   DS   7.0  11.00    58.0           FT          66.5\n",
              "5   P006      F     PT   DS   1.0   7.00    75.0           FT          66.5\n",
              "6   P007      M     FT   FS   2.0   6.25   136.0           FT         136.0\n",
              "7   P008      F     FT   FS  10.0   2.00   136.0           FT         136.0\n",
              "8   P009      M     PT   FS  14.0   3.00    60.0           FT          57.0\n",
              "9   P010      F     FT   DS  10.0   7.00   125.0           FT         125.0\n",
              "10  P011      M     PT  AWS   6.0   9.00    59.0           PT          59.0"
            ]
          },
          "execution_count": 102,
          "metadata": {},
          "output_type": "execute_result"
        }
      ],
      "source": [
        "df"
      ]
    },
    {
      "cell_type": "markdown",
      "metadata": {
        "id": "zorkPfI398gR"
      },
      "source": [
        "## filling with Interpolation\n",
        "\n",
        "Pandas **``dataframe.interpolate()``** function is basically used to fill NA values in the dataframe or series. But, this is a very powerful function to fill the missing values. It uses various interpolation technique to fill the missing values rather than hard-coding the value [Source 01](https://www.geeksforgeeks.org/python-pandas-dataframe-interpolate/) & [Source 02](https://pandas.pydata.org/docs/reference/api/pandas.DataFrame.interpolate.html)"
      ]
    },
    {
      "cell_type": "code",
      "execution_count": null,
      "metadata": {
        "id": "di5dNmNt98gS"
      },
      "outputs": [],
      "source": [
        "flights = sns.load_dataset(\"flights\")"
      ]
    },
    {
      "cell_type": "code",
      "execution_count": null,
      "metadata": {
        "id": "PMhXKj7f98gS",
        "outputId": "143cecd8-1da4-4139-d6fb-0fa9c0bb0e82"
      },
      "outputs": [
        {
          "data": {
            "text/html": [
              "<div>\n",
              "<style scoped>\n",
              "    .dataframe tbody tr th:only-of-type {\n",
              "        vertical-align: middle;\n",
              "    }\n",
              "\n",
              "    .dataframe tbody tr th {\n",
              "        vertical-align: top;\n",
              "    }\n",
              "\n",
              "    .dataframe thead th {\n",
              "        text-align: right;\n",
              "    }\n",
              "</style>\n",
              "<table border=\"1\" class=\"dataframe\">\n",
              "  <thead>\n",
              "    <tr style=\"text-align: right;\">\n",
              "      <th></th>\n",
              "      <th>year</th>\n",
              "      <th>month</th>\n",
              "      <th>passengers</th>\n",
              "    </tr>\n",
              "  </thead>\n",
              "  <tbody>\n",
              "    <tr>\n",
              "      <th>0</th>\n",
              "      <td>1949</td>\n",
              "      <td>Jan</td>\n",
              "      <td>112</td>\n",
              "    </tr>\n",
              "    <tr>\n",
              "      <th>1</th>\n",
              "      <td>1949</td>\n",
              "      <td>Feb</td>\n",
              "      <td>118</td>\n",
              "    </tr>\n",
              "    <tr>\n",
              "      <th>2</th>\n",
              "      <td>1949</td>\n",
              "      <td>Mar</td>\n",
              "      <td>132</td>\n",
              "    </tr>\n",
              "    <tr>\n",
              "      <th>3</th>\n",
              "      <td>1949</td>\n",
              "      <td>Apr</td>\n",
              "      <td>129</td>\n",
              "    </tr>\n",
              "    <tr>\n",
              "      <th>4</th>\n",
              "      <td>1949</td>\n",
              "      <td>May</td>\n",
              "      <td>121</td>\n",
              "    </tr>\n",
              "    <tr>\n",
              "      <th>...</th>\n",
              "      <td>...</td>\n",
              "      <td>...</td>\n",
              "      <td>...</td>\n",
              "    </tr>\n",
              "    <tr>\n",
              "      <th>139</th>\n",
              "      <td>1960</td>\n",
              "      <td>Aug</td>\n",
              "      <td>606</td>\n",
              "    </tr>\n",
              "    <tr>\n",
              "      <th>140</th>\n",
              "      <td>1960</td>\n",
              "      <td>Sep</td>\n",
              "      <td>508</td>\n",
              "    </tr>\n",
              "    <tr>\n",
              "      <th>141</th>\n",
              "      <td>1960</td>\n",
              "      <td>Oct</td>\n",
              "      <td>461</td>\n",
              "    </tr>\n",
              "    <tr>\n",
              "      <th>142</th>\n",
              "      <td>1960</td>\n",
              "      <td>Nov</td>\n",
              "      <td>390</td>\n",
              "    </tr>\n",
              "    <tr>\n",
              "      <th>143</th>\n",
              "      <td>1960</td>\n",
              "      <td>Dec</td>\n",
              "      <td>432</td>\n",
              "    </tr>\n",
              "  </tbody>\n",
              "</table>\n",
              "<p>144 rows × 3 columns</p>\n",
              "</div>"
            ],
            "text/plain": [
              "     year month  passengers\n",
              "0    1949   Jan         112\n",
              "1    1949   Feb         118\n",
              "2    1949   Mar         132\n",
              "3    1949   Apr         129\n",
              "4    1949   May         121\n",
              "..    ...   ...         ...\n",
              "139  1960   Aug         606\n",
              "140  1960   Sep         508\n",
              "141  1960   Oct         461\n",
              "142  1960   Nov         390\n",
              "143  1960   Dec         432\n",
              "\n",
              "[144 rows x 3 columns]"
            ]
          },
          "execution_count": 104,
          "metadata": {},
          "output_type": "execute_result"
        }
      ],
      "source": [
        "flights"
      ]
    },
    {
      "cell_type": "code",
      "execution_count": null,
      "metadata": {
        "id": "iRqQJ6ZO98gS",
        "outputId": "7cad7d5e-fd10-483e-f80d-381aaecf458c"
      },
      "outputs": [
        {
          "data": {
            "text/plain": [
              "year          0\n",
              "month         0\n",
              "passengers    0\n",
              "dtype: int64"
            ]
          },
          "execution_count": 105,
          "metadata": {},
          "output_type": "execute_result"
        }
      ],
      "source": [
        "flights.isnull().sum()"
      ]
    },
    {
      "cell_type": "code",
      "execution_count": null,
      "metadata": {
        "id": "SRkQS61D98gT",
        "outputId": "0ed6192e-c14d-4ecf-ca47-afafa0d5549a"
      },
      "outputs": [
        {
          "data": {
            "image/png": "[encoded data removed]",
            "text/plain": [
              "<Figure size 432x288 with 1 Axes>"
            ]
          },
          "metadata": {
            "needs_background": "light"
          },
          "output_type": "display_data"
        }
      ],
      "source": [
        "# you don't need to know how this plotting happens.\n",
        "# just focus on the time-series line\n",
        "\n",
        "flights.passengers.plot();"
      ]
    },
    {
      "cell_type": "code",
      "execution_count": null,
      "metadata": {
        "id": "VdNbjOAWYHsR"
      },
      "outputs": [],
      "source": [
        "flights_copy = flights.copy()"
      ]
    },
    {
      "cell_type": "code",
      "execution_count": null,
      "metadata": {
        "id": "QQvDDNRa98gT"
      },
      "outputs": [],
      "source": [
        "flights_copy.loc[np.random.randint(1, 144, 20),\"passengers\"] = None"
      ]
    },
    {
      "cell_type": "code",
      "execution_count": null,
      "metadata": {
        "id": "KnbUdZj198gT",
        "outputId": "bdcd717f-037d-4b18-bd87-c5b7e9f7dcf2"
      },
      "outputs": [
        {
          "data": {
            "text/plain": [
              "year           0\n",
              "month          0\n",
              "passengers    19\n",
              "dtype: int64"
            ]
          },
          "execution_count": 109,
          "metadata": {},
          "output_type": "execute_result"
        }
      ],
      "source": [
        "flights_copy.isnull().sum()"
      ]
    },
    {
      "cell_type": "code",
      "execution_count": null,
      "metadata": {
        "id": "SY2j_Foz98gT",
        "outputId": "a94bc6fe-ed55-4485-c618-2365e4d61da3"
      },
      "outputs": [
        {
          "data": {
            "image/png": "[encoded data removed]",
            "text/plain": [
              "<Figure size 432x288 with 1 Axes>"
            ]
          },
          "metadata": {
            "needs_background": "light"
          },
          "output_type": "display_data"
        }
      ],
      "source": [
        "flights_copy.passengers.plot();"
      ]
    },
    {
      "cell_type": "code",
      "execution_count": null,
      "metadata": {
        "id": "L8mLfMjp98gU",
        "outputId": "4524391f-7ad8-4de3-a3e1-a5031e7681f4"
      },
      "outputs": [
        {
          "data": {
            "application/javascript": [
              "\n",
              "        if (window._pyforest_update_imports_cell) { window._pyforest_update_imports_cell('import matplotlib.pyplot as plt'); }\n",
              "    "
            ],
            "text/plain": [
              "<IPython.core.display.Javascript object>"
            ]
          },
          "metadata": {},
          "output_type": "display_data"
        },
        {
          "data": {
            "image/png": "[encoded data removed]",
            "text/plain": [
              "<Figure size 720x432 with 1 Axes>"
            ]
          },
          "metadata": {
            "needs_background": "light"
          },
          "output_type": "display_data"
        }
      ],
      "source": [
        "plt.figure(figsize = (10, 6))\n",
        "\n",
        "flights_copy[\"passengers\"].interpolate().plot(kind=\"line\");"
      ]
    },
    {
      "cell_type": "code",
      "execution_count": null,
      "metadata": {
        "id": "4ffFvVWgYHsU",
        "outputId": "8b1e39d1-be63-4df4-ea2f-5e414b59bc19"
      },
      "outputs": [
        {
          "data": {
            "application/javascript": [
              "\n",
              "        if (window._pyforest_update_imports_cell) { window._pyforest_update_imports_cell('import matplotlib.pyplot as plt'); }\n",
              "    "
            ],
            "text/plain": [
              "<IPython.core.display.Javascript object>"
            ]
          },
          "metadata": {},
          "output_type": "display_data"
        },
        {
          "data": {
            "image/png": "[encoded data removed]",
            "text/plain": [
              "<Figure size 720x432 with 1 Axes>"
            ]
          },
          "metadata": {
            "needs_background": "light"
          },
          "output_type": "display_data"
        }
      ],
      "source": [
        "plt.figure(figsize = (10, 6))\n",
        "\n",
        "flights.passengers.plot();"
      ]
    },
    {
      "cell_type": "code",
      "execution_count": null,
      "metadata": {
        "id": "bem3miF398gU",
        "outputId": "6d2bfa1b-18ce-4d3c-a269-8a1248c20bc9"
      },
      "outputs": [
        {
          "data": {
            "application/javascript": [
              "\n",
              "        if (window._pyforest_update_imports_cell) { window._pyforest_update_imports_cell('import matplotlib.pyplot as plt'); }\n",
              "    "
            ],
            "text/plain": [
              "<IPython.core.display.Javascript object>"
            ]
          },
          "metadata": {},
          "output_type": "display_data"
        },
        {
          "data": {
            "image/png": "[encoded data removed]",
            "text/plain": [
              "<Figure size 720x432 with 1 Axes>"
            ]
          },
          "metadata": {
            "needs_background": "light"
          },
          "output_type": "display_data"
        }
      ],
      "source": [
        "plt.figure(figsize = (10, 6))\n",
        "\n",
        "flights_copy[\"passengers\"].fillna(method = \"ffill\").plot(kind=\"line\");"
      ]
    },
    {
      "cell_type": "markdown",
      "metadata": {
        "id": "0uysHncBYHsZ"
      },
      "source": [
        "## <p style=\"background-color:#FDFEFE; font-family:newtimeroman; color:#9d4f8c; font-size:150%; text-align:center; border-radius:10px 10px;\">The End of The Session - 07</p>\n",
        "\n",
        "<a id=\"5\"></a>\n",
        "<a href=\"#toc\" class=\"btn btn-primary btn-sm\" role=\"button\" aria-pressed=\"true\" \n",
        "style=\"color:blue; background-color:#dfa8e4\" data-toggle=\"popover\">Content</a>"
      ]
    },
    {
      "cell_type": "markdown",
      "metadata": {
        "id": "G4ru9v-TYHsZ"
      },
      "source": [
        "<p style=\"text-align: center;\"><img src=\"https://docs.google.com/uc?id=1lY0Uj5R04yMY3-ZppPWxqCr5pvBLYPnV\" class=\"img-fluid\" \n",
        "alt=\"CLRSWY\"></p>\n",
        "\n",
        "## <p style=\"background-color:#FDFEFE; font-family:newtimeroman; color:#9d4f8c; font-size:100%; text-align:center; border-radius:10px 10px;\">WAY TO REINVENT YOURSELF</p>\n",
        "\n",
        "________"
      ]
    }
  ],
  "metadata": {
    "colab": {
      "name": "DAwPy_S7_(Handling_with_Missing_Values)-student.ipynb",
      "provenance": []
    },
    "kernelspec": {
      "display_name": "Python 3",
      "language": "python",
      "name": "python3"
    },
    "language_info": {
      "codemirror_mode": {
        "name": "ipython",
        "version": 3
      },
      "file_extension": ".py",
      "mimetype": "text/x-python",
      "name": "python",
      "nbconvert_exporter": "python",
      "pygments_lexer": "ipython3",
      "version": "3.7.6"
    },
    "toc": {
      "base_numbering": 1,
      "nav_menu": {},
      "number_sections": false,
      "sideBar": true,
      "skip_h1_title": false,
      "title_cell": "Table of Contents",
      "title_sidebar": "Contents",
      "toc_cell": false,
      "toc_position": {
        "height": "calc(100% - 180px)",
        "left": "10px",
        "top": "150px",
        "width": "231.475px"
      },
      "toc_section_display": true,
      "toc_window_display": false
    }
  },
  "nbformat": 4,
  "nbformat_minor": 0
}