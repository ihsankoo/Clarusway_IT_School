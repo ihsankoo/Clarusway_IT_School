{
 "cells": [
  {
   "cell_type": "markdown",
   "id": "32fa3833-3684-4ae3-a5be-7a1003a69905",
   "metadata": {},
   "source": [
    "<a data-flickr-embed=\"true\" href=\"https://www.flickr.com/photos/kirbyurner/52030543667/in/dateposted-public/\" title=\"Zoom Background\"><img src=\"https://live.staticflickr.com/65535/52030543667_1ec272fe0c_w.jpg\" width=\"400\" height=\"225\" alt=\"Zoom Background\"></a><script async src=\"//embedr.flickr.com/assets/client-code.js\" charset=\"utf-8\"></script>\n",
    "\n",
    "#### Showing...\n",
    "\n",
    "About Broadcasting.\n",
    "\n",
    "<a data-flickr-embed=\"true\" href=\"https://www.flickr.com/photos/kirbyurner/52023352728/in/dateposted-public/\" title=\"Broadcasting\"><img src=\"https://live.staticflickr.com/65535/52023352728_a80a93ccba_z.jpg\" width=\"640\" height=\"485\" alt=\"Broadcasting\"></a><script async src=\"//embedr.flickr.com/assets/client-code.js\" charset=\"utf-8\"></script>"
   ]
  },
  {
   "cell_type": "code",
   "execution_count": null,
   "id": "73045778-3267-4f64-a18b-8c4eb50d1150",
   "metadata": {},
   "outputs": [],
   "source": [
    "import numpy as np"
   ]
  },
  {
   "cell_type": "code",
   "execution_count": 2,
   "id": "9d89e02d-1837-431f-b863-2f8796ce1c22",
   "metadata": {},
   "outputs": [
    {
     "data": {
      "text/plain": [
       "array([[1, 2, 3],\n",
       "       [4, 5, 6],\n",
       "       [7, 8, 9]])"
      ]
     },
     "execution_count": 2,
     "metadata": {},
     "output_type": "execute_result"
    }
   ],
   "source": [
    "arr = np.arange(1,10).reshape(3,3)\n",
    "arr"
   ]
  },
  {
   "cell_type": "code",
   "execution_count": 3,
   "id": "de41f0ce-b293-4eef-978a-7a3d6c9acc9c",
   "metadata": {},
   "outputs": [],
   "source": [
    "arr2 = np.array([-1,0,1])"
   ]
  },
  {
   "cell_type": "code",
   "execution_count": 4,
   "id": "fa95f6b1-9251-4c49-a5a3-3b3c2f5a4fa9",
   "metadata": {},
   "outputs": [
    {
     "data": {
      "text/plain": [
       "array([[-1,  0,  3],\n",
       "       [-4,  0,  6],\n",
       "       [-7,  0,  9]])"
      ]
     },
     "execution_count": 4,
     "metadata": {},
     "output_type": "execute_result"
    }
   ],
   "source": [
    "arr * arr2"
   ]
  },
  {
   "cell_type": "code",
   "execution_count": 5,
   "id": "6aed2ff1-093f-4200-abd5-57fe82089089",
   "metadata": {},
   "outputs": [],
   "source": [
    "vert_arr = np.array([3, 6, 9]).reshape(3,1)"
   ]
  },
  {
   "cell_type": "code",
   "execution_count": 6,
   "id": "64dfaaad-845a-41a9-a601-a7a6d2e44716",
   "metadata": {},
   "outputs": [
    {
     "data": {
      "text/plain": [
       "array([[3],\n",
       "       [6],\n",
       "       [9]])"
      ]
     },
     "execution_count": 6,
     "metadata": {},
     "output_type": "execute_result"
    }
   ],
   "source": [
    "vert_arr"
   ]
  },
  {
   "cell_type": "code",
   "execution_count": 7,
   "id": "4fa60559-c4ce-49ea-be72-73225f204e12",
   "metadata": {},
   "outputs": [
    {
     "data": {
      "text/plain": [
       "array([[1, 2, 3],\n",
       "       [4, 5, 6],\n",
       "       [7, 8, 9]])"
      ]
     },
     "execution_count": 7,
     "metadata": {},
     "output_type": "execute_result"
    }
   ],
   "source": [
    "arr"
   ]
  },
  {
   "cell_type": "code",
   "execution_count": 8,
   "id": "adcace21-cceb-444a-99aa-3935663d82d1",
   "metadata": {},
   "outputs": [
    {
     "data": {
      "text/plain": [
       "array([[0.33333333, 0.66666667, 1.        ],\n",
       "       [0.66666667, 0.83333333, 1.        ],\n",
       "       [0.77777778, 0.88888889, 1.        ]])"
      ]
     },
     "execution_count": 8,
     "metadata": {},
     "output_type": "execute_result"
    }
   ],
   "source": [
    "arr / vert_arr"
   ]
  },
  {
   "cell_type": "markdown",
   "id": "3d04372d-dc77-446b-92cd-74cc30ea1afb",
   "metadata": {},
   "source": [
    " Official documentation: [np.around](https://numpy.org/doc/stable/reference/generated/numpy.around.html)"
   ]
  },
  {
   "cell_type": "code",
   "execution_count": 9,
   "id": "ccc9bfcc-bc87-4864-ba81-c0fc21042146",
   "metadata": {},
   "outputs": [
    {
     "data": {
      "text/plain": [
       "array([[0.3, 0.7, 1. ],\n",
       "       [0.7, 0.8, 1. ],\n",
       "       [0.8, 0.9, 1. ]])"
      ]
     },
     "execution_count": 9,
     "metadata": {},
     "output_type": "execute_result"
    }
   ],
   "source": [
    "np.around(arr / vert_arr, 1)"
   ]
  },
  {
   "cell_type": "markdown",
   "id": "22117bde-b515-4196-b751-df63d7d18a82",
   "metadata": {},
   "source": [
    "[Examples of rounding in numpy](https://pythonguides.com/python-numpy-round/)"
   ]
  },
  {
   "cell_type": "code",
   "execution_count": 21,
   "id": "54864c73-85cd-47da-aeb5-53c7586d6b5a",
   "metadata": {},
   "outputs": [
    {
     "data": {
      "text/plain": [
       "array([[0.33, 0.67, 1.  ],\n",
       "       [0.67, 0.83, 1.  ],\n",
       "       [0.78, 0.89, 1.  ]])"
      ]
     },
     "execution_count": 21,
     "metadata": {},
     "output_type": "execute_result"
    }
   ],
   "source": [
    "np.round(arr / vert_arr, 2)"
   ]
  },
  {
   "cell_type": "code",
   "execution_count": 19,
   "id": "2ccf2c76-23a5-411d-ada7-fef0cdf0c520",
   "metadata": {},
   "outputs": [
    {
     "data": {
      "text/plain": [
       "array([[0., 0., 1.],\n",
       "       [0., 0., 1.],\n",
       "       [0., 0., 1.]])"
      ]
     },
     "execution_count": 19,
     "metadata": {},
     "output_type": "execute_result"
    }
   ],
   "source": [
    "np.floor(arr / vert_arr)"
   ]
  },
  {
   "cell_type": "code",
   "execution_count": 10,
   "id": "ef3b94d6-0ffd-4ac8-8764-a3580aab29cb",
   "metadata": {},
   "outputs": [
    {
     "data": {
      "text/plain": [
       "array([[1, 2, 3],\n",
       "       [2, 4, 6],\n",
       "       [3, 6, 9]])"
      ]
     },
     "execution_count": 10,
     "metadata": {},
     "output_type": "execute_result"
    }
   ],
   "source": [
    "np.array([1,2,3]) * np.array([1,2,3]).reshape(3,1)"
   ]
  },
  {
   "cell_type": "code",
   "execution_count": 11,
   "id": "1a66292b-48e3-4eb3-9a42-8450b9c38e8f",
   "metadata": {},
   "outputs": [],
   "source": [
    "L = list(range(10))"
   ]
  },
  {
   "cell_type": "code",
   "execution_count": 13,
   "id": "6bbc81ea-dffc-44a7-8822-561ca79c4aa7",
   "metadata": {},
   "outputs": [],
   "source": [
    "L[:3] = 42, 42, 42"
   ]
  },
  {
   "cell_type": "code",
   "execution_count": 14,
   "id": "9fe09b67-759b-4323-bb4b-e009b0a2e8af",
   "metadata": {},
   "outputs": [
    {
     "data": {
      "text/plain": [
       "[42, 42, 42, 3, 4, 5, 6, 7, 8, 9]"
      ]
     },
     "execution_count": 14,
     "metadata": {},
     "output_type": "execute_result"
    }
   ],
   "source": [
    "L"
   ]
  },
  {
   "cell_type": "code",
   "execution_count": 15,
   "id": "1c8ed678-4d56-40db-8980-565581e1e89c",
   "metadata": {},
   "outputs": [
    {
     "data": {
      "text/plain": [
       "array([0, 1, 2, 3, 4, 5, 6, 7, 8, 9])"
      ]
     },
     "execution_count": 15,
     "metadata": {},
     "output_type": "execute_result"
    }
   ],
   "source": [
    "M = np.array(range(10))\n",
    "M"
   ]
  },
  {
   "cell_type": "code",
   "execution_count": 16,
   "id": "711bbb5f-8632-43a2-9740-f4a8b1773821",
   "metadata": {},
   "outputs": [],
   "source": [
    "M[:3] = 42"
   ]
  },
  {
   "cell_type": "code",
   "execution_count": 17,
   "id": "08c8ded5-b4fd-4f5c-95a9-01a72044ec62",
   "metadata": {},
   "outputs": [
    {
     "data": {
      "text/plain": [
       "array([42, 42, 42,  3,  4,  5,  6,  7,  8,  9])"
      ]
     },
     "execution_count": 17,
     "metadata": {},
     "output_type": "execute_result"
    }
   ],
   "source": [
    "M"
   ]
  },
  {
   "cell_type": "code",
   "execution_count": null,
   "id": "4fffaa12-5021-4000-8202-6f77799cea4f",
   "metadata": {},
   "outputs": [],
   "source": []
  }
 ],
 "metadata": {
  "kernelspec": {
   "display_name": "Python 3 (ipykernel)",
   "language": "python",
   "name": "python3"
  },
  "language_info": {
   "codemirror_mode": {
    "name": "ipython",
    "version": 3
   },
   "file_extension": ".py",
   "mimetype": "text/x-python",
   "name": "python",
   "nbconvert_exporter": "python",
   "pygments_lexer": "ipython3",
   "version": "3.9.12"
  }
 },
 "nbformat": 4,
 "nbformat_minor": 5
}
