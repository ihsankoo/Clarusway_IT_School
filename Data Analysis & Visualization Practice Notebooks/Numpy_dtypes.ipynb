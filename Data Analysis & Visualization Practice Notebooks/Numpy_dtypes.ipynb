{
 "cells": [
  {
   "cell_type": "markdown",
   "id": "aad67ec1-1d55-425d-bd34-7ce9f79f0d36",
   "metadata": {},
   "source": [
    "<a data-flickr-embed=\"true\" href=\"https://www.flickr.com/photos/kirbyurner/52030543667/in/dateposted-public/\" title=\"Zoom Background\"><img src=\"https://live.staticflickr.com/65535/52030543667_1ec272fe0c_w.jpg\" width=\"400\" height=\"225\" alt=\"Zoom Background\"></a><script async src=\"//embedr.flickr.com/assets/client-code.js\" charset=\"utf-8\"></script>\n",
    "\n",
    "#### Showing...\n",
    "\n",
    "About numpy dtypes.\n",
    "\n",
    "Official documentation:\n",
    "\n",
    "* [numpy dtypes](https://numpy.org/doc/stable/reference/arrays.dtypes.html)"
   ]
  },
  {
   "cell_type": "code",
   "execution_count": 1,
   "id": "c250d11d-b8c9-4745-be9f-a74563f291f2",
   "metadata": {},
   "outputs": [],
   "source": [
    "import numpy as np"
   ]
  },
  {
   "cell_type": "code",
   "execution_count": 11,
   "id": "27d8daa2-558d-4e2b-bea9-f5be623ffe83",
   "metadata": {},
   "outputs": [
    {
     "data": {
      "text/plain": [
       "{'?': numpy.bool_,\n",
       " 0: numpy.bool_,\n",
       " 'byte': numpy.int8,\n",
       " 'b': numpy.int8,\n",
       " 1: numpy.int8,\n",
       " 'ubyte': numpy.uint8,\n",
       " 'B': numpy.uint8,\n",
       " 2: numpy.uint8,\n",
       " 'short': numpy.int16,\n",
       " 'h': numpy.int16,\n",
       " 3: numpy.int16,\n",
       " 'ushort': numpy.uint16,\n",
       " 'H': numpy.uint16,\n",
       " 4: numpy.uint16,\n",
       " 'i': numpy.int32,\n",
       " 5: numpy.int32,\n",
       " 'uint': numpy.uint64,\n",
       " 'I': numpy.uint32,\n",
       " 6: numpy.uint32,\n",
       " 'intp': numpy.int64,\n",
       " 'p': numpy.int64,\n",
       " 7: numpy.int64,\n",
       " 'uintp': numpy.uint64,\n",
       " 'P': numpy.uint64,\n",
       " 8: numpy.uint64,\n",
       " 'long': numpy.int64,\n",
       " 'l': numpy.int64,\n",
       " 'L': numpy.uint64,\n",
       " 'longlong': numpy.longlong,\n",
       " 'q': numpy.longlong,\n",
       " 9: numpy.longlong,\n",
       " 'ulonglong': numpy.ulonglong,\n",
       " 'Q': numpy.ulonglong,\n",
       " 10: numpy.ulonglong,\n",
       " 'half': numpy.float16,\n",
       " 'e': numpy.float16,\n",
       " 23: numpy.float16,\n",
       " 'f': numpy.float32,\n",
       " 11: numpy.float32,\n",
       " 'double': numpy.float64,\n",
       " 'd': numpy.float64,\n",
       " 12: numpy.float64,\n",
       " 'longdouble': numpy.float128,\n",
       " 'g': numpy.float128,\n",
       " 13: numpy.float128,\n",
       " 'cfloat': numpy.complex128,\n",
       " 'F': numpy.complex64,\n",
       " 14: numpy.complex64,\n",
       " 'cdouble': numpy.complex128,\n",
       " 'D': numpy.complex128,\n",
       " 15: numpy.complex128,\n",
       " 'clongdouble': numpy.complex256,\n",
       " 'G': numpy.complex256,\n",
       " 16: numpy.complex256,\n",
       " 'O': numpy.object_,\n",
       " 17: numpy.object_,\n",
       " 'S': numpy.bytes_,\n",
       " 18: numpy.bytes_,\n",
       " 'unicode': numpy.str_,\n",
       " 'U': numpy.str_,\n",
       " 19: numpy.str_,\n",
       " 'void': numpy.void,\n",
       " 'V': numpy.void,\n",
       " 20: numpy.void,\n",
       " 'M': numpy.datetime64,\n",
       " 21: numpy.datetime64,\n",
       " 'm': numpy.timedelta64,\n",
       " 22: numpy.timedelta64,\n",
       " 'bool8': numpy.bool_,\n",
       " 'b1': numpy.bool_,\n",
       " 'int64': numpy.int64,\n",
       " 'i8': numpy.int64,\n",
       " 'uint64': numpy.uint64,\n",
       " 'u8': numpy.uint64,\n",
       " 'float16': numpy.float16,\n",
       " 'f2': numpy.float16,\n",
       " 'float32': numpy.float32,\n",
       " 'f4': numpy.float32,\n",
       " 'float64': numpy.float64,\n",
       " 'f8': numpy.float64,\n",
       " 'float128': numpy.float128,\n",
       " 'f16': numpy.float128,\n",
       " 'complex64': numpy.complex64,\n",
       " 'c8': numpy.complex64,\n",
       " 'complex128': numpy.complex128,\n",
       " 'c16': numpy.complex128,\n",
       " 'complex256': numpy.complex256,\n",
       " 'c32': numpy.complex256,\n",
       " 'object0': numpy.object_,\n",
       " 'bytes0': numpy.bytes_,\n",
       " 'str0': numpy.str_,\n",
       " 'void0': numpy.void,\n",
       " 'datetime64': numpy.datetime64,\n",
       " 'M8': numpy.datetime64,\n",
       " 'timedelta64': numpy.timedelta64,\n",
       " 'm8': numpy.timedelta64,\n",
       " 'Bytes0': numpy.bytes_,\n",
       " 'Datetime64': numpy.datetime64,\n",
       " 'Str0': numpy.str_,\n",
       " 'Uint64': numpy.uint64,\n",
       " 'int32': numpy.int32,\n",
       " 'i4': numpy.int32,\n",
       " 'uint32': numpy.uint32,\n",
       " 'u4': numpy.uint32,\n",
       " 'int16': numpy.int16,\n",
       " 'i2': numpy.int16,\n",
       " 'uint16': numpy.uint16,\n",
       " 'u2': numpy.uint16,\n",
       " 'int8': numpy.int8,\n",
       " 'i1': numpy.int8,\n",
       " 'uint8': numpy.uint8,\n",
       " 'u1': numpy.uint8,\n",
       " 'complex_': numpy.complex128,\n",
       " 'int0': numpy.int64,\n",
       " 'uint0': numpy.uint64,\n",
       " 'single': numpy.float32,\n",
       " 'csingle': numpy.complex64,\n",
       " 'singlecomplex': numpy.complex64,\n",
       " 'float_': numpy.float64,\n",
       " 'intc': numpy.int32,\n",
       " 'uintc': numpy.uint32,\n",
       " 'int_': numpy.int64,\n",
       " 'longfloat': numpy.float128,\n",
       " 'clongfloat': numpy.complex256,\n",
       " 'longcomplex': numpy.complex256,\n",
       " 'bool_': numpy.bool_,\n",
       " 'bytes_': numpy.bytes_,\n",
       " 'string_': numpy.bytes_,\n",
       " 'str_': numpy.str_,\n",
       " 'unicode_': numpy.str_,\n",
       " 'object_': numpy.object_,\n",
       " 'int': numpy.int64,\n",
       " 'float': numpy.float64,\n",
       " 'complex': numpy.complex128,\n",
       " 'bool': numpy.bool_,\n",
       " 'object': numpy.object_,\n",
       " 'str': numpy.str_,\n",
       " 'bytes': numpy.bytes_,\n",
       " 'a': numpy.bytes_}"
      ]
     },
     "execution_count": 11,
     "metadata": {},
     "output_type": "execute_result"
    }
   ],
   "source": [
    "np.sctypeDict"
   ]
  },
  {
   "cell_type": "markdown",
   "id": "7ad6e780-9bd7-49ce-9bed-900f90bfcdc6",
   "metadata": {},
   "source": [
    "The datatype below will be built using Void. Internally, the fields have names."
   ]
  },
  {
   "cell_type": "code",
   "execution_count": 12,
   "id": "e3cac3a4-6e40-4a8e-b358-f8a9c7278a20",
   "metadata": {},
   "outputs": [],
   "source": [
    "dt = np.dtype([('name', np.unicode_, 16), ('grades', np.float64, (2,))])"
   ]
  },
  {
   "cell_type": "code",
   "execution_count": 3,
   "id": "62b89239-cc7a-4a16-8aa0-4cd2811d4be5",
   "metadata": {},
   "outputs": [
    {
     "data": {
      "text/plain": [
       "dtype('<U16')"
      ]
     },
     "execution_count": 3,
     "metadata": {},
     "output_type": "execute_result"
    }
   ],
   "source": [
    "dt['name']"
   ]
  },
  {
   "cell_type": "code",
   "execution_count": 4,
   "id": "aa57ede9-5bb6-4169-ab50-ca9602950511",
   "metadata": {},
   "outputs": [
    {
     "data": {
      "text/plain": [
       "dtype(('<f8', (2,)))"
      ]
     },
     "execution_count": 4,
     "metadata": {},
     "output_type": "execute_result"
    }
   ],
   "source": [
    "dt['grades']"
   ]
  },
  {
   "cell_type": "code",
   "execution_count": 13,
   "id": "89f1948b-b33d-4428-adfd-685da5bf3f63",
   "metadata": {},
   "outputs": [
    {
     "data": {
      "text/plain": [
       "('John', [6., 7.])"
      ]
     },
     "execution_count": 13,
     "metadata": {},
     "output_type": "execute_result"
    }
   ],
   "source": [
    "x = np.array([('Sarah', (8.0, 7.0)), ('John', (6.0, 7.0))], dtype=dt)\n",
    "x[1]"
   ]
  },
  {
   "cell_type": "code",
   "execution_count": 14,
   "id": "e605821d-d7fe-4ab7-8630-72180a8d7524",
   "metadata": {},
   "outputs": [
    {
     "data": {
      "text/plain": [
       "dtype([('name', '<U16'), ('grades', '<f8', (2,))])"
      ]
     },
     "execution_count": 14,
     "metadata": {},
     "output_type": "execute_result"
    }
   ],
   "source": [
    "x.dtype"
   ]
  },
  {
   "cell_type": "code",
   "execution_count": 15,
   "id": "26f4f626-3a45-4d7d-a67b-9b9b9e65ff6c",
   "metadata": {},
   "outputs": [
    {
     "data": {
      "text/plain": [
       "'V'"
      ]
     },
     "execution_count": 15,
     "metadata": {},
     "output_type": "execute_result"
    }
   ],
   "source": [
    "dt.kind"
   ]
  },
  {
   "cell_type": "code",
   "execution_count": 16,
   "id": "58f81f1c-2fd5-41ae-af61-7f29fc2a5abb",
   "metadata": {},
   "outputs": [
    {
     "data": {
      "text/plain": [
       "'V'"
      ]
     },
     "execution_count": 16,
     "metadata": {},
     "output_type": "execute_result"
    }
   ],
   "source": [
    "dt.char"
   ]
  },
  {
   "cell_type": "code",
   "execution_count": 17,
   "id": "14d0a9f3-86bb-418b-808d-c5c15acc5db0",
   "metadata": {},
   "outputs": [
    {
     "data": {
      "text/plain": [
       "20"
      ]
     },
     "execution_count": 17,
     "metadata": {},
     "output_type": "execute_result"
    }
   ],
   "source": [
    "dt.num"
   ]
  },
  {
   "cell_type": "code",
   "execution_count": 18,
   "id": "37d8f21c-8274-4af1-9283-7f0c006b8de7",
   "metadata": {},
   "outputs": [
    {
     "data": {
      "text/plain": [
       "'|V80'"
      ]
     },
     "execution_count": 18,
     "metadata": {},
     "output_type": "execute_result"
    }
   ],
   "source": [
    "dt.str"
   ]
  },
  {
   "cell_type": "code",
   "execution_count": 19,
   "id": "0b2356ac-145d-41a1-a0dd-275e18284e9d",
   "metadata": {},
   "outputs": [
    {
     "data": {
      "text/plain": [
       "'void640'"
      ]
     },
     "execution_count": 19,
     "metadata": {},
     "output_type": "execute_result"
    }
   ],
   "source": [
    "dt.name"
   ]
  },
  {
   "cell_type": "code",
   "execution_count": 20,
   "id": "b64ec311-2519-4edb-8b27-607a40efafac",
   "metadata": {},
   "outputs": [
    {
     "data": {
      "text/plain": [
       "mappingproxy({'name': (dtype('<U16'), 0),\n",
       "              'grades': (dtype(('<f8', (2,))), 64)})"
      ]
     },
     "execution_count": 20,
     "metadata": {},
     "output_type": "execute_result"
    }
   ],
   "source": [
    "dt.fields"
   ]
  },
  {
   "cell_type": "code",
   "execution_count": 23,
   "id": "74c80240-6a68-4c4c-add7-2ae89d500a98",
   "metadata": {},
   "outputs": [
    {
     "data": {
      "text/plain": [
       "[('name', '<U16'), ('grades', '<f8', (2,))]"
      ]
     },
     "execution_count": 23,
     "metadata": {},
     "output_type": "execute_result"
    }
   ],
   "source": [
    "dt.descr"
   ]
  },
  {
   "cell_type": "code",
   "execution_count": 7,
   "id": "8271f69e-41ab-464b-94f3-3e5495cc9aa3",
   "metadata": {},
   "outputs": [],
   "source": [
    "structured_type = np.dtype(\"i4, (2,3)f8, f4\")"
   ]
  },
  {
   "cell_type": "code",
   "execution_count": 25,
   "id": "3a9d8207-1b5d-4d21-9b7a-ffdc564020c8",
   "metadata": {},
   "outputs": [
    {
     "data": {
      "text/plain": [
       "array([[1., 2., 3.],\n",
       "       [4., 5., 6.]])"
      ]
     },
     "execution_count": 25,
     "metadata": {},
     "output_type": "execute_result"
    }
   ],
   "source": [
    "d = np.array([1,2,3,4,5,6],dtype='f8').reshape(2,3)\n",
    "d"
   ]
  },
  {
   "cell_type": "code",
   "execution_count": 36,
   "id": "6254458e-1096-4bdb-a00e-1df65312d27f",
   "metadata": {},
   "outputs": [
    {
     "data": {
      "text/plain": [
       "array((1, [[1., 1., 1.], [1., 1., 1.]], 1.),\n",
       "      dtype=[('f0', '<i4'), ('f1', '<f8', (2, 3)), ('f2', '<f4')])"
      ]
     },
     "execution_count": 36,
     "metadata": {},
     "output_type": "execute_result"
    }
   ],
   "source": [
    "x = np.array(1, dtype=structured_type)\n",
    "x"
   ]
  },
  {
   "cell_type": "code",
   "execution_count": 37,
   "id": "b90426f5-236d-4ca1-a64f-0439323ede30",
   "metadata": {},
   "outputs": [
    {
     "data": {
      "text/plain": [
       "array((2, [[2., 2., 2.], [2., 2., 2.]], 2.),\n",
       "      dtype=[('f0', '<i4'), ('f1', '<f8', (2, 3)), ('f2', '<f4')])"
      ]
     },
     "execution_count": 37,
     "metadata": {},
     "output_type": "execute_result"
    }
   ],
   "source": [
    "y = np.array(2, dtype=structured_type)\n",
    "y"
   ]
  },
  {
   "cell_type": "code",
   "execution_count": 21,
   "id": "3de704c9-aad0-4517-afd9-2669f414e601",
   "metadata": {},
   "outputs": [],
   "source": [
    "structured_dtype = np.dtype(\"a3, 3u8, (3,4)a10\")"
   ]
  },
  {
   "cell_type": "markdown",
   "id": "28972659-394a-491c-a7b3-8fc6fefceb86",
   "metadata": {},
   "source": [
    "[vstack](https://www.w3resource.com/numpy/manipulation/vstack.php)"
   ]
  },
  {
   "cell_type": "code",
   "execution_count": 39,
   "id": "1b0c0128-a409-431c-ad75-3d2fa764aabe",
   "metadata": {},
   "outputs": [
    {
     "data": {
      "text/plain": [
       "array([[(1, [[1., 1., 1.], [1., 1., 1.]], 1.)],\n",
       "       [(2, [[2., 2., 2.], [2., 2., 2.]], 2.)]],\n",
       "      dtype=[('f0', '<i4'), ('f1', '<f8', (2, 3)), ('f2', '<f4')])"
      ]
     },
     "execution_count": 39,
     "metadata": {},
     "output_type": "execute_result"
    }
   ],
   "source": [
    "np.vstack((x,y))"
   ]
  },
  {
   "cell_type": "code",
   "execution_count": 40,
   "id": "9c9422c9-f92b-4ac1-95e1-d9b34b33d4e3",
   "metadata": {},
   "outputs": [],
   "source": [
    "data = np.vstack((x,y))"
   ]
  },
  {
   "cell_type": "code",
   "execution_count": 41,
   "id": "f3451d52-6652-41f8-8ba9-4b36788acff5",
   "metadata": {},
   "outputs": [
    {
     "data": {
      "text/plain": [
       "array([[1],\n",
       "       [2]], dtype=int32)"
      ]
     },
     "execution_count": 41,
     "metadata": {},
     "output_type": "execute_result"
    }
   ],
   "source": [
    "data['f0']"
   ]
  },
  {
   "cell_type": "code",
   "execution_count": 42,
   "id": "904050ef-8b72-4cc2-8b0b-31d0a122ba6d",
   "metadata": {},
   "outputs": [
    {
     "data": {
      "text/plain": [
       "array([[[[1., 1., 1.],\n",
       "         [1., 1., 1.]]],\n",
       "\n",
       "\n",
       "       [[[2., 2., 2.],\n",
       "         [2., 2., 2.]]]])"
      ]
     },
     "execution_count": 42,
     "metadata": {},
     "output_type": "execute_result"
    }
   ],
   "source": [
    "data['f1']"
   ]
  },
  {
   "cell_type": "code",
   "execution_count": null,
   "id": "905b8a72-967b-4c0b-8ba0-163b4c99fd2a",
   "metadata": {},
   "outputs": [],
   "source": []
  }
 ],
 "metadata": {
  "kernelspec": {
   "display_name": "Python 3 (ipykernel)",
   "language": "python",
   "name": "python3"
  },
  "language_info": {
   "codemirror_mode": {
    "name": "ipython",
    "version": 3
   },
   "file_extension": ".py",
   "mimetype": "text/x-python",
   "name": "python",
   "nbconvert_exporter": "python",
   "pygments_lexer": "ipython3",
   "version": "3.9.12"
  }
 },
 "nbformat": 4,
 "nbformat_minor": 5
}
