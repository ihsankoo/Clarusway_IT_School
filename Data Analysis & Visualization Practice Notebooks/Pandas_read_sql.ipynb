{
 "cells": [
  {
   "cell_type": "markdown",
   "id": "cd82b624-ee85-468e-a4f5-98d52f5ae789",
   "metadata": {},
   "source": [
    "<a data-flickr-embed=\"true\" href=\"https://www.flickr.com/photos/kirbyurner/52030543667/in/dateposted-public/\" title=\"Zoom Background\"><img src=\"https://live.staticflickr.com/65535/52030543667_1ec272fe0c_w.jpg\" width=\"400\" height=\"225\" alt=\"Zoom Background\"></a><script async src=\"//embedr.flickr.com/assets/client-code.js\" charset=\"utf-8\"></script>\n",
    "\n",
    "#### Showing...\n",
    "\n",
    "How to make pandas read from an SQL database, once we have a connection.\n",
    "\n",
    "How to build a context manager in pure Python, as a convenience for working with databases."
   ]
  },
  {
   "cell_type": "code",
   "execution_count": 1,
   "id": "498e1306-0c22-422e-a772-87e71960b023",
   "metadata": {},
   "outputs": [],
   "source": [
    "import pandas as pd\n",
    "import numpy as np"
   ]
  },
  {
   "cell_type": "code",
   "execution_count": 2,
   "id": "97bf5e1d-b222-49e2-a17b-8087ae6ec100",
   "metadata": {},
   "outputs": [],
   "source": [
    "import sqlite3 as sql  # part of Python Standard Library"
   ]
  },
  {
   "cell_type": "markdown",
   "id": "72edf68f-3106-4204-b186-4971a2128a5a",
   "metadata": {},
   "source": [
    "Have you encountered the Context Manager pattern?  Dunder (\"double underline\") `enter` and `exit` (i.e. `__enter__` and `__exit__`) get triggered by entering and exiting a context.\n",
    "\n",
    "What's a context?  An indented code block identified by the keyword `with`.\n",
    "\n",
    "Inside a context, you might typically want to have some temporary settings, or perhaps an open file or database connection.  Leaving the context returns the settings to normal and/or closes the file or connection.\n",
    "\n",
    "When I say:\n",
    "```python\n",
    "    \n",
    "    print(\"Entering context...\")\n",
    "    with Connector('airports.db') as DB:\n",
    "        df = pd.read_sql(\"SELECT * FROM Airports;\", con=DB.conn)\n",
    "        print(\"Exiting context...\")\n",
    "```\n",
    "\n",
    "I'm triggering three events:\n",
    "* the `__init__` of the Connector class, in calling it to initialize it\n",
    "* the `__enter__` method, triggered by `with`, returns the object to be known as... (your choice of legal Python names, DB in this case)\n",
    "* the `__exit__` method of DB upon exiting the indented scope (the context)"
   ]
  },
  {
   "cell_type": "code",
   "execution_count": 3,
   "id": "f2514716-cebd-4fc0-b0a5-fdb54a6b70b1",
   "metadata": {},
   "outputs": [],
   "source": [
    "class Connector:\n",
    "    \n",
    "    def __init__(self, conn_name):\n",
    "        self.cn_name = conn_name\n",
    "        \n",
    "    def __enter__(self):\n",
    "        try:\n",
    "            self.conn = sql.connect(self.cn_name)\n",
    "            print(\"Connection: \", self.conn)\n",
    "            self.curs = self.conn.cursor()\n",
    "            # self.list_tables() # optional\n",
    "        except:\n",
    "            print(\"No connection\")\n",
    "            raise\n",
    "\n",
    "        return self\n",
    "    \n",
    "    def lookup(self, table, column, code):\n",
    "        \"\"\"\n",
    "        return the data for column = code condition\n",
    "        \"\"\"\n",
    "        self.curs.execute(f\"SELECT * FROM {table} WHERE {column} = ?\", (code, ))\n",
    "        return self.curs.fetchone() # could be None, could be a tuple\n",
    "    \n",
    "    def list_tables(self):\n",
    "        \"\"\"\n",
    "        print a listing of all the tables in this db\n",
    "        https://www.sqlitetutorial.net/sqlite-show-tables/\n",
    "        \"\"\"\n",
    "        self.curs.execute(\"\"\"SELECT name FROM sqlite_schema  \n",
    "                            WHERE type ='table' AND name \n",
    "                            NOT LIKE 'sqlite_%';\n",
    "                            \"\"\")    \n",
    "        # loop through whatever table names were found \n",
    "        # and filtered and print them out.\n",
    "        for nm in self.curs.fetchall():\n",
    "            print(nm)\n",
    "         \n",
    "    def __exit__(self, *oops):\n",
    "        \"\"\"\n",
    "        I process exceptions i.e. *oops consists of \n",
    "        a 3-tuple, we hope filled with Nones because \n",
    "        all went well.  Otherwise, exception info.\n",
    "        return either True or False to determine if\n",
    "        __exit__ does or does not raise an exception.\n",
    "        \"\"\"\n",
    "        self.conn.close()\n",
    "        if oops[0]:\n",
    "            print(\"An error occurred\")\n",
    "            return False  # raise exception\n",
    "        return True       # all good"
   ]
  },
  {
   "cell_type": "code",
   "execution_count": 4,
   "id": "d6be11f0-e8e4-47b4-81cf-be7b21fa0cbb",
   "metadata": {},
   "outputs": [
    {
     "name": "stdout",
     "output_type": "stream",
     "text": [
      "-rw-r--r--  1 kirbyurner  475136 Aug 18 11:25 airports.db\n"
     ]
    }
   ],
   "source": [
    "! ls -o airports.db  # make sure we have the db and that it's not 0 bytes"
   ]
  },
  {
   "cell_type": "code",
   "execution_count": 5,
   "id": "32105d71-7051-49d1-acab-db3dead4bfd3",
   "metadata": {},
   "outputs": [
    {
     "name": "stdout",
     "output_type": "stream",
     "text": [
      "Connection:  <sqlite3.Connection object at 0x7fab9bb42b70>\n",
      "('Airports',)\n",
      "('SFO', 'US', 'San Francisco International Airport', 'NA', 'airport', 37.615215, -122.38988, 'large', 1)\n",
      "('PDX', 'US', 'Portland International Airport', 'NA', 'airport', 45.588997, -122.5929, 'large', 1)\n"
     ]
    }
   ],
   "source": [
    "with Connector(\"./airports.db\") as DB:\n",
    "    DB.list_tables()\n",
    "    df = pd.read_sql(\"SELECT * FROM Airports\", con = DB.conn)\n",
    "    print(DB.lookup(\"Airports\", \"iata\", \"SFO\"))\n",
    "    print(DB.lookup(\"Airports\", \"iata\", \"PDX\"))"
   ]
  },
  {
   "cell_type": "markdown",
   "id": "ae73039a-1d3d-45d4-a7a3-9a7963147412",
   "metadata": {},
   "source": [
    "We see above that all went well. `Airports` got listed as the one table inside `airports.db`, and we were apparently able to create a new DataFrame.\n",
    "\n",
    "Inside the scope of the context, we have a \"connected call\" e.g. we can use the DB object returned by `__enter__` to communicate with the sqlite3 engine.\n",
    "\n",
    "The conventions for talking to an SQL database are summarized in what's called the [DB API](https://peps.python.org/pep-0249/), and it's designed to work across languages.\n",
    "\n",
    "`DB.conn` holds the connection object, while `DB.curs` holds something called a cursor, the holder of the important `execute` method.\n",
    "\n",
    "`pd.read_sql` is smart enough to only need a connection, and is capable of getting its own cursor object behind the scenes."
   ]
  },
  {
   "cell_type": "code",
   "execution_count": 6,
   "id": "f9c88c80-d24e-4ce0-a86f-318b63db9355",
   "metadata": {},
   "outputs": [
    {
     "data": {
      "text/html": [
       "<div>\n",
       "<style scoped>\n",
       "    .dataframe tbody tr th:only-of-type {\n",
       "        vertical-align: middle;\n",
       "    }\n",
       "\n",
       "    .dataframe tbody tr th {\n",
       "        vertical-align: top;\n",
       "    }\n",
       "\n",
       "    .dataframe thead th {\n",
       "        text-align: right;\n",
       "    }\n",
       "</style>\n",
       "<table border=\"1\" class=\"dataframe\">\n",
       "  <thead>\n",
       "    <tr style=\"text-align: right;\">\n",
       "      <th></th>\n",
       "      <th>iata</th>\n",
       "      <th>iso</th>\n",
       "      <th>name</th>\n",
       "      <th>continent</th>\n",
       "      <th>type</th>\n",
       "      <th>lat</th>\n",
       "      <th>lon</th>\n",
       "      <th>size</th>\n",
       "      <th>status</th>\n",
       "    </tr>\n",
       "  </thead>\n",
       "  <tbody>\n",
       "    <tr>\n",
       "      <th>0</th>\n",
       "      <td>UTK</td>\n",
       "      <td>MH</td>\n",
       "      <td>Utirik Airport</td>\n",
       "      <td>OC</td>\n",
       "      <td>airport</td>\n",
       "      <td>11.233333</td>\n",
       "      <td>169.86667</td>\n",
       "      <td>small</td>\n",
       "      <td>1</td>\n",
       "    </tr>\n",
       "    <tr>\n",
       "      <th>1</th>\n",
       "      <td>FIV</td>\n",
       "      <td>US</td>\n",
       "      <td>Five Finger CG Heliport</td>\n",
       "      <td>NA</td>\n",
       "      <td>heliport</td>\n",
       "      <td>NaN</td>\n",
       "      <td>NaN</td>\n",
       "      <td>None</td>\n",
       "      <td>1</td>\n",
       "    </tr>\n",
       "    <tr>\n",
       "      <th>2</th>\n",
       "      <td>FAK</td>\n",
       "      <td>US</td>\n",
       "      <td>False Island Seaplane Base</td>\n",
       "      <td>NA</td>\n",
       "      <td>seaplanes</td>\n",
       "      <td>NaN</td>\n",
       "      <td>NaN</td>\n",
       "      <td>None</td>\n",
       "      <td>1</td>\n",
       "    </tr>\n",
       "    <tr>\n",
       "      <th>3</th>\n",
       "      <td>BWS</td>\n",
       "      <td>US</td>\n",
       "      <td>Blaine Municipal Airport</td>\n",
       "      <td>NA</td>\n",
       "      <td>closed</td>\n",
       "      <td>NaN</td>\n",
       "      <td>NaN</td>\n",
       "      <td>None</td>\n",
       "      <td>0</td>\n",
       "    </tr>\n",
       "    <tr>\n",
       "      <th>4</th>\n",
       "      <td>WKK</td>\n",
       "      <td>US</td>\n",
       "      <td>Aleknagik / New Airport</td>\n",
       "      <td>NA</td>\n",
       "      <td>airport</td>\n",
       "      <td>59.277780</td>\n",
       "      <td>-158.61111</td>\n",
       "      <td>medium</td>\n",
       "      <td>1</td>\n",
       "    </tr>\n",
       "  </tbody>\n",
       "</table>\n",
       "</div>"
      ],
      "text/plain": [
       "  iata iso                        name continent       type        lat  \\\n",
       "0  UTK  MH              Utirik Airport        OC    airport  11.233333   \n",
       "1  FIV  US     Five Finger CG Heliport        NA   heliport        NaN   \n",
       "2  FAK  US  False Island Seaplane Base        NA  seaplanes        NaN   \n",
       "3  BWS  US    Blaine Municipal Airport        NA     closed        NaN   \n",
       "4  WKK  US     Aleknagik / New Airport        NA    airport  59.277780   \n",
       "\n",
       "         lon    size  status  \n",
       "0  169.86667   small       1  \n",
       "1        NaN    None       1  \n",
       "2        NaN    None       1  \n",
       "3        NaN    None       0  \n",
       "4 -158.61111  medium       1  "
      ]
     },
     "execution_count": 6,
     "metadata": {},
     "output_type": "execute_result"
    }
   ],
   "source": [
    "df.head()"
   ]
  },
  {
   "cell_type": "code",
   "execution_count": 7,
   "id": "0f299fdc-64cb-46a7-aa7c-9c1eacd1e800",
   "metadata": {},
   "outputs": [
    {
     "name": "stdout",
     "output_type": "stream",
     "text": [
      "<class 'pandas.core.frame.DataFrame'>\n",
      "RangeIndex: 6726 entries, 0 to 6725\n",
      "Data columns (total 9 columns):\n",
      " #   Column     Non-Null Count  Dtype  \n",
      "---  ------     --------------  -----  \n",
      " 0   iata       6726 non-null   object \n",
      " 1   iso        6726 non-null   object \n",
      " 2   name       6247 non-null   object \n",
      " 3   continent  6726 non-null   object \n",
      " 4   type       6726 non-null   object \n",
      " 5   lat        6345 non-null   float64\n",
      " 6   lon        6345 non-null   float64\n",
      " 7   size       6546 non-null   object \n",
      " 8   status     6726 non-null   int64  \n",
      "dtypes: float64(2), int64(1), object(6)\n",
      "memory usage: 473.0+ KB\n"
     ]
    }
   ],
   "source": [
    "df.info()"
   ]
  }
 ],
 "metadata": {
  "kernelspec": {
   "display_name": "Python 3 (ipykernel)",
   "language": "python",
   "name": "python3"
  },
  "language_info": {
   "codemirror_mode": {
    "name": "ipython",
    "version": 3
   },
   "file_extension": ".py",
   "mimetype": "text/x-python",
   "name": "python",
   "nbconvert_exporter": "python",
   "pygments_lexer": "ipython3",
   "version": "3.9.12"
  }
 },
 "nbformat": 4,
 "nbformat_minor": 5
}
