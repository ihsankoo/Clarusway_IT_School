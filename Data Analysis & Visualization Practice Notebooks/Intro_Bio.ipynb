{
 "cells": [
  {
   "cell_type": "markdown",
   "id": "bdb1e706-103e-4ddf-8bf9-33a4b3dc1d27",
   "metadata": {
    "tags": []
   },
   "source": [
    "## Hello, World!\n",
    "\n",
    "### Who am I?\n",
    "\n",
    "<a data-flickr-embed=\"true\" href=\"https://www.flickr.com/photos/kirbyurner/52031791276/in/dateposted-public/\" title=\"Teacher Booth\"><img src=\"https://live.staticflickr.com/65535/52031791276_2d8e2c0e2b.jpg\" width=\"500\" height=\"413\" alt=\"Teacher Booth\"></a><script async src=\"//embedr.flickr.com/assets/client-code.js\" charset=\"utf-8\"></script>\n",
    "\n",
    "<a data-flickr-embed=\"true\" href=\"https://www.flickr.com/photos/kirbyurner/52030986344/in/dateposted-public/\" title=\"Way to Reinvent Yourself\"><img src=\"https://live.staticflickr.com/65535/52030986344_4929d3ae6d.jpg\" width=\"500\" height=\"375\" alt=\"Way to Reinvent Yourself\"></a><script async src=\"//embedr.flickr.com/assets/client-code.js\" charset=\"utf-8\"></script>\n",
    "\n",
    "<i>Note to teachers:  I use this page as an example of how to set up a personal identity page (like a resume or c.v. perhaps) in a Notebook on Github.</i>\n",
    "\n",
    "#### Bio / Work History \n",
    "Here's [some bio](https://kirbyurner.academia.edu/) on academia.edu\n",
    "\n",
    "One of my best Python teaching gigs was the [Hubble Space Telescope Faculty](https://worldgame.blogspot.com/2010/04/python-gig.html) (where numarray was born, a precursor of NumPy)\n",
    "\n",
    "I am active [on Quora](https://www.quora.com/profile/Kirby-Urner)\n",
    "\n",
    "Where do I use [python](https://python.org), [numpy](https://numpy.org/), [pandas](https://pandas.pydata.org/) etc.?\n",
    "\n",
    "Some exhibits:\n",
    "\n",
    "* [course instruction](https://github.com/4dsolutions/clarusway_data_analysis) materials\n",
    "* [curriculum writing](https://github.com/4dsolutions/elite_school) for schools\n",
    "* [computer graphics](https://github.com/4dsolutions/School_of_Tomorrow/blob/master/Flextegrity_Lattice.ipynb) for clients\n",
    "\n",
    "Testimonial: Numpy + Pandas + Matplotlib allows me to keep up with professional standards when it comes to the look and feel of electronic documents.\n",
    "\n",
    "<a data-flickr-embed=\"true\" href=\"https://www.flickr.com/photos/kirbyurner/51989560145/in/dateposted-public/\" title=\"TetraBook Page Sweepout\"><img src=\"https://live.staticflickr.com/65535/51989560145_0dd50f039d_n.jpg\" width=\"320\" height=\"175\" alt=\"TetraBook Page Sweepout\"></a><script async src=\"//embedr.flickr.com/assets/client-code.js\" charset=\"utf-8\"></script>\n",
    "\n",
    "How do I participate in my community?\n",
    "\n",
    "* [OSCON](https://flic.kr/s/aHsjALw38w) program committee\n",
    "* [Python edu-sig](https://www.python.org/community/sigs/current/edu-sig/) discussion list\n",
    "* [ISEPP.org](https://isepp.org)\n",
    "* [Pycon](https://flic.kr/s/aHskWPWVYK) and Python User Groups\n",
    "* other User Groups and conferences\n",
    "\n",
    "Open Source Projects:\n",
    "\n",
    "[Repos on Github](https://github.com/4dsolutions)\n",
    "\n",
    "Proprietary Projects (with public footprint):\n",
    "\n",
    "* [Clarusway courses](https://github.com/4dsolutions/clarusway_data_analysis)\n",
    "* [Sunshine Elite Education](https://www.sunshineeliteeducation.com/index.php)\n",
    "* [Coding with Kids](https://github.com/4dsolutions/python_camp/blob/master/README.md)\n",
    "\n",
    "Other links of interest:\n",
    "\n",
    "* [Guide to Numpy 1st edition](https://archive.org/details/NumPyBook/NumPyBook) (by Oliphant, where numpy began)\n",
    "* [The Scientific Paper is Obsolete](https://www.theatlantic.com/science/archive/2018/04/the-scientific-paper-is-obsolete/556676/) (why Jupyter is transforming publishing)\n",
    "* [As We May Think](https://www.theatlantic.com/magazine/archive/1945/07/as-we-may-think/303881/) (predicts search engines in 1945)\n",
    "* [Allen Downey curriculum](https://www.allendowney.com/wp/books/) (generous free helping of stats + python)\n",
    "* [Jake Vanderplas curriculum](https://github.com/wangyingsm/Python-Data-Science-Handbook) (whole stats textbook on Github)\n",
    "* [Titanic Database](https://www.kaggle.com/c/titanic)\n",
    "* [MNIST](https://en.wikipedia.org/wiki/MNIST_database)\n",
    "\n",
    "\n",
    "<a data-flickr-embed=\"true\" href=\"https://www.flickr.com/photos/kirbyurner/52030728871/in/dateposted-public/\" title=\"ndarray guts\"><img src=\"https://live.staticflickr.com/65535/52030728871_67043fe5ee_w.jpg\" width=\"400\" height=\"224\" alt=\"ndarray guts\"></a><script async src=\"//embedr.flickr.com/assets/client-code.js\" charset=\"utf-8\"></script>\n",
    "\n",
    "\n",
    "<a data-flickr-embed=\"true\" href=\"https://www.flickr.com/photos/kirbyurner/51860825059/\" title=\"O&#x27;Reilly School of Technology Business Card\"><img src=\"https://live.staticflickr.com/65535/51860825059_f0067c828a_z.jpg\" width=\"320\" height=\"191\" alt=\"O&#x27;Reilly School of Technology Business Card\"></a><script async src=\"//embedr.flickr.com/assets/client-code.js\" charset=\"utf-8\"></script>\n",
    "<br />\n",
    "<i>biz card from a previous job</i>\n"
   ]
  },
  {
   "cell_type": "markdown",
   "id": "d138f4e8-4997-4704-825c-9befb0c19085",
   "metadata": {},
   "source": [
    "<a data-flickr-embed=\"true\" href=\"https://www.flickr.com/photos/kirbyurner/52030543667/in/dateposted-public/\" title=\"Zoom Background\"><img src=\"https://live.staticflickr.com/65535/52030543667_1ec272fe0c_w.jpg\" width=\"400\" height=\"225\" alt=\"Zoom Background\"></a><script async src=\"//embedr.flickr.com/assets/client-code.js\" charset=\"utf-8\"></script>\n",
    "\n",
    "<a data-flickr-embed=\"true\" href=\"https://www.flickr.com/photos/kirbyurner/52036240491/in/dateposted-public/\" title=\"LMS_schedule\"><img src=\"https://live.staticflickr.com/65535/52036240491_b3f8099949.jpg\" width=\"500\" height=\"298\" alt=\"LMS_schedule\"></a><script async src=\"//embedr.flickr.com/assets/client-code.js\" charset=\"utf-8\"></script>"
   ]
  },
  {
   "cell_type": "markdown",
   "id": "9db33c42-5eef-4f0f-acb7-3c1f0d953095",
   "metadata": {},
   "source": [
    "<a data-flickr-embed=\"true\" href=\"https://www.flickr.com/photos/kirbyurner/51997693969/in/dateposted-public/\" title=\"Snow Covered 3-frequency Hollow CCP\"><img src=\"https://live.staticflickr.com/65535/51997693969_3922a5e400_w.jpg\" width=\"300\" height=\"400\" alt=\"Snow Covered 3-frequency Hollow CCP\"></a><script async src=\"//embedr.flickr.com/assets/client-code.js\" charset=\"utf-8\"></script>"
   ]
  }
 ],
 "metadata": {
  "kernelspec": {
   "display_name": "Python 3 (ipykernel)",
   "language": "python",
   "name": "python3"
  },
  "language_info": {
   "codemirror_mode": {
    "name": "ipython",
    "version": 3
   },
   "file_extension": ".py",
   "mimetype": "text/x-python",
   "name": "python",
   "nbconvert_exporter": "python",
   "pygments_lexer": "ipython3",
   "version": "3.9.12"
  }
 },
 "nbformat": 4,
 "nbformat_minor": 5
}
