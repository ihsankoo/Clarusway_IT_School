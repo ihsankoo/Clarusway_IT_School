{
 "cells": [
  {
   "cell_type": "markdown",
   "id": "32fa3833-3684-4ae3-a5be-7a1003a69905",
   "metadata": {},
   "source": [
    "<a data-flickr-embed=\"true\" href=\"https://www.flickr.com/photos/kirbyurner/52030543667/in/dateposted-public/\" title=\"Zoom Background\"><img src=\"https://live.staticflickr.com/65535/52030543667_1ec272fe0c_w.jpg\" width=\"400\" height=\"225\" alt=\"Zoom Background\"></a><script async src=\"//embedr.flickr.com/assets/client-code.js\" charset=\"utf-8\"></script>\n",
    "\n",
    "#### Showing...\n",
    "\n",
    "About Using Emoji in np.arrays.\n"
   ]
  },
  {
   "cell_type": "code",
   "execution_count": 1,
   "id": "73045778-3267-4f64-a18b-8c4eb50d1150",
   "metadata": {},
   "outputs": [],
   "source": [
    "import numpy as np\n",
    "import pandas as pd"
   ]
  },
  {
   "cell_type": "code",
   "execution_count": 2,
   "id": "9d89e02d-1837-431f-b863-2f8796ce1c22",
   "metadata": {},
   "outputs": [
    {
     "data": {
      "text/plain": [
       "array([['😊', '😊', '😊'],\n",
       "       ['😊', '😊', '😊'],\n",
       "       ['😊', '😊', '😊']], dtype='<U1')"
      ]
     },
     "execution_count": 2,
     "metadata": {},
     "output_type": "execute_result"
    }
   ],
   "source": [
    "all_smiles = np.array(9 * ['😊']).reshape(3,3)\n",
    "all_smiles"
   ]
  },
  {
   "cell_type": "code",
   "execution_count": 3,
   "id": "de41f0ce-b293-4eef-978a-7a3d6c9acc9c",
   "metadata": {},
   "outputs": [
    {
     "data": {
      "text/plain": [
       "array([['😊', '😊', '😊'],\n",
       "       ['😊', '😊', '😊'],\n",
       "       ['😊', '😊', '😊']], dtype='<U1')"
      ]
     },
     "execution_count": 3,
     "metadata": {},
     "output_type": "execute_result"
    }
   ],
   "source": [
    "all_smiles"
   ]
  },
  {
   "cell_type": "code",
   "execution_count": 4,
   "id": "fa95f6b1-9251-4c49-a5a3-3b3c2f5a4fa9",
   "metadata": {},
   "outputs": [
    {
     "data": {
      "text/plain": [
       "128522"
      ]
     },
     "execution_count": 4,
     "metadata": {},
     "output_type": "execute_result"
    }
   ],
   "source": [
    "ord('😊')"
   ]
  },
  {
   "cell_type": "code",
   "execution_count": 5,
   "id": "6aed2ff1-093f-4200-abd5-57fe82089089",
   "metadata": {},
   "outputs": [
    {
     "data": {
      "text/plain": [
       "'😊'"
      ]
     },
     "execution_count": 5,
     "metadata": {},
     "output_type": "execute_result"
    }
   ],
   "source": [
    "chr(128522)"
   ]
  },
  {
   "cell_type": "code",
   "execution_count": 6,
   "id": "64dfaaad-845a-41a9-a601-a7a6d2e44716",
   "metadata": {},
   "outputs": [
    {
     "data": {
      "text/plain": [
       "'😎'"
      ]
     },
     "execution_count": 6,
     "metadata": {},
     "output_type": "execute_result"
    }
   ],
   "source": [
    "chr(128522 + 4)"
   ]
  },
  {
   "cell_type": "code",
   "execution_count": 7,
   "id": "4fa60559-c4ce-49ea-be72-73225f204e12",
   "metadata": {},
   "outputs": [],
   "source": [
    "@np.vectorize\n",
    "def add_offset(cell, offset):\n",
    "    return chr(ord(cell) + offset)\n",
    "\n",
    "# same as: add_offset = np.vectorize(add_offset)"
   ]
  },
  {
   "cell_type": "code",
   "execution_count": 8,
   "id": "adcace21-cceb-444a-99aa-3935663d82d1",
   "metadata": {},
   "outputs": [
    {
     "data": {
      "text/plain": [
       "array([['😎', '😎', '😎'],\n",
       "       ['😎', '😎', '😎'],\n",
       "       ['😎', '😎', '😎']], dtype='<U1')"
      ]
     },
     "execution_count": 8,
     "metadata": {},
     "output_type": "execute_result"
    }
   ],
   "source": [
    "add_offset(all_smiles, 4)"
   ]
  },
  {
   "cell_type": "code",
   "execution_count": 9,
   "id": "4fffaa12-5021-4000-8202-6f77799cea4f",
   "metadata": {},
   "outputs": [
    {
     "data": {
      "text/html": [
       "<div>\n",
       "<style scoped>\n",
       "    .dataframe tbody tr th:only-of-type {\n",
       "        vertical-align: middle;\n",
       "    }\n",
       "\n",
       "    .dataframe tbody tr th {\n",
       "        vertical-align: top;\n",
       "    }\n",
       "\n",
       "    .dataframe thead th {\n",
       "        text-align: right;\n",
       "    }\n",
       "</style>\n",
       "<table border=\"1\" class=\"dataframe\">\n",
       "  <thead>\n",
       "    <tr style=\"text-align: right;\">\n",
       "      <th></th>\n",
       "      <th>x</th>\n",
       "      <th>y</th>\n",
       "      <th>z</th>\n",
       "    </tr>\n",
       "  </thead>\n",
       "  <tbody>\n",
       "    <tr>\n",
       "      <th>a</th>\n",
       "      <td>😊</td>\n",
       "      <td>😊</td>\n",
       "      <td>😊</td>\n",
       "    </tr>\n",
       "    <tr>\n",
       "      <th>b</th>\n",
       "      <td>😊</td>\n",
       "      <td>😊</td>\n",
       "      <td>😊</td>\n",
       "    </tr>\n",
       "    <tr>\n",
       "      <th>c</th>\n",
       "      <td>😊</td>\n",
       "      <td>😊</td>\n",
       "      <td>😊</td>\n",
       "    </tr>\n",
       "  </tbody>\n",
       "</table>\n",
       "</div>"
      ],
      "text/plain": [
       "   x  y  z\n",
       "a  😊  😊  😊\n",
       "b  😊  😊  😊\n",
       "c  😊  😊  😊"
      ]
     },
     "execution_count": 9,
     "metadata": {},
     "output_type": "execute_result"
    }
   ],
   "source": [
    "df = pd.DataFrame(all_smiles, \n",
    "                index=['a','b', 'c'],\n",
    "                columns = ['x','y','z'])\n",
    "df"
   ]
  },
  {
   "cell_type": "code",
   "execution_count": 10,
   "id": "201cd7be-dfe3-4bbe-bfec-9078f0ab821c",
   "metadata": {},
   "outputs": [
    {
     "data": {
      "text/html": [
       "<div>\n",
       "<style scoped>\n",
       "    .dataframe tbody tr th:only-of-type {\n",
       "        vertical-align: middle;\n",
       "    }\n",
       "\n",
       "    .dataframe tbody tr th {\n",
       "        vertical-align: top;\n",
       "    }\n",
       "\n",
       "    .dataframe thead th {\n",
       "        text-align: right;\n",
       "    }\n",
       "</style>\n",
       "<table border=\"1\" class=\"dataframe\">\n",
       "  <thead>\n",
       "    <tr style=\"text-align: right;\">\n",
       "      <th></th>\n",
       "      <th>x</th>\n",
       "      <th>y</th>\n",
       "      <th>z</th>\n",
       "    </tr>\n",
       "  </thead>\n",
       "  <tbody>\n",
       "    <tr>\n",
       "      <th>a</th>\n",
       "      <td>😎</td>\n",
       "      <td>😎</td>\n",
       "      <td>😎</td>\n",
       "    </tr>\n",
       "    <tr>\n",
       "      <th>b</th>\n",
       "      <td>😎</td>\n",
       "      <td>😎</td>\n",
       "      <td>😎</td>\n",
       "    </tr>\n",
       "    <tr>\n",
       "      <th>c</th>\n",
       "      <td>😎</td>\n",
       "      <td>😎</td>\n",
       "      <td>😎</td>\n",
       "    </tr>\n",
       "  </tbody>\n",
       "</table>\n",
       "</div>"
      ],
      "text/plain": [
       "   x  y  z\n",
       "a  😎  😎  😎\n",
       "b  😎  😎  😎\n",
       "c  😎  😎  😎"
      ]
     },
     "execution_count": 10,
     "metadata": {},
     "output_type": "execute_result"
    }
   ],
   "source": [
    "df.transform(lambda x: add_offset(x, 4))"
   ]
  },
  {
   "cell_type": "code",
   "execution_count": 11,
   "id": "676cf4bf-4760-458d-8e9d-4e3da8e5d795",
   "metadata": {},
   "outputs": [
    {
     "data": {
      "text/html": [
       "<div>\n",
       "<style scoped>\n",
       "    .dataframe tbody tr th:only-of-type {\n",
       "        vertical-align: middle;\n",
       "    }\n",
       "\n",
       "    .dataframe tbody tr th {\n",
       "        vertical-align: top;\n",
       "    }\n",
       "\n",
       "    .dataframe thead th {\n",
       "        text-align: right;\n",
       "    }\n",
       "</style>\n",
       "<table border=\"1\" class=\"dataframe\">\n",
       "  <thead>\n",
       "    <tr style=\"text-align: right;\">\n",
       "      <th></th>\n",
       "      <th>x</th>\n",
       "      <th>y</th>\n",
       "      <th>z</th>\n",
       "    </tr>\n",
       "  </thead>\n",
       "  <tbody>\n",
       "    <tr>\n",
       "      <th>a</th>\n",
       "      <td>😊</td>\n",
       "      <td>😊</td>\n",
       "      <td>😊</td>\n",
       "    </tr>\n",
       "    <tr>\n",
       "      <th>b</th>\n",
       "      <td>😊</td>\n",
       "      <td>😊</td>\n",
       "      <td>😊</td>\n",
       "    </tr>\n",
       "    <tr>\n",
       "      <th>c</th>\n",
       "      <td>😊</td>\n",
       "      <td>😊</td>\n",
       "      <td>😊</td>\n",
       "    </tr>\n",
       "  </tbody>\n",
       "</table>\n",
       "</div>"
      ],
      "text/plain": [
       "   x  y  z\n",
       "a  😊  😊  😊\n",
       "b  😊  😊  😊\n",
       "c  😊  😊  😊"
      ]
     },
     "execution_count": 11,
     "metadata": {},
     "output_type": "execute_result"
    }
   ],
   "source": [
    "df"
   ]
  },
  {
   "cell_type": "code",
   "execution_count": 12,
   "id": "13e17e00-d70c-49fc-a043-426999ccf366",
   "metadata": {},
   "outputs": [],
   "source": [
    "df.loc['b', 'y'] = chr(ord(df.loc['b', 'y']) + 4)"
   ]
  },
  {
   "cell_type": "code",
   "execution_count": 13,
   "id": "5e910721-0ec8-4274-b552-152c63455054",
   "metadata": {},
   "outputs": [
    {
     "data": {
      "text/html": [
       "<div>\n",
       "<style scoped>\n",
       "    .dataframe tbody tr th:only-of-type {\n",
       "        vertical-align: middle;\n",
       "    }\n",
       "\n",
       "    .dataframe tbody tr th {\n",
       "        vertical-align: top;\n",
       "    }\n",
       "\n",
       "    .dataframe thead th {\n",
       "        text-align: right;\n",
       "    }\n",
       "</style>\n",
       "<table border=\"1\" class=\"dataframe\">\n",
       "  <thead>\n",
       "    <tr style=\"text-align: right;\">\n",
       "      <th></th>\n",
       "      <th>x</th>\n",
       "      <th>y</th>\n",
       "      <th>z</th>\n",
       "    </tr>\n",
       "  </thead>\n",
       "  <tbody>\n",
       "    <tr>\n",
       "      <th>a</th>\n",
       "      <td>😊</td>\n",
       "      <td>😊</td>\n",
       "      <td>😊</td>\n",
       "    </tr>\n",
       "    <tr>\n",
       "      <th>b</th>\n",
       "      <td>😊</td>\n",
       "      <td>😎</td>\n",
       "      <td>😊</td>\n",
       "    </tr>\n",
       "    <tr>\n",
       "      <th>c</th>\n",
       "      <td>😊</td>\n",
       "      <td>😊</td>\n",
       "      <td>😊</td>\n",
       "    </tr>\n",
       "  </tbody>\n",
       "</table>\n",
       "</div>"
      ],
      "text/plain": [
       "   x  y  z\n",
       "a  😊  😊  😊\n",
       "b  😊  😎  😊\n",
       "c  😊  😊  😊"
      ]
     },
     "execution_count": 13,
     "metadata": {},
     "output_type": "execute_result"
    }
   ],
   "source": [
    "df"
   ]
  }
 ],
 "metadata": {
  "kernelspec": {
   "display_name": "Python 3 (ipykernel)",
   "language": "python",
   "name": "python3"
  },
  "language_info": {
   "codemirror_mode": {
    "name": "ipython",
    "version": 3
   },
   "file_extension": ".py",
   "mimetype": "text/x-python",
   "name": "python",
   "nbconvert_exporter": "python",
   "pygments_lexer": "ipython3",
   "version": "3.9.12"
  }
 },
 "nbformat": 4,
 "nbformat_minor": 5
}
