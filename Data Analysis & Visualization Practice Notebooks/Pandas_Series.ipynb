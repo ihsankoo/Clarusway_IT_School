{
 "cells": [
  {
   "cell_type": "markdown",
   "id": "b84d0398-0a9b-4d1f-9d9e-14ac478921f6",
   "metadata": {},
   "source": [
    "<a data-flickr-embed=\"true\" href=\"https://www.flickr.com/photos/kirbyurner/52030543667/in/dateposted-public/\" title=\"Zoom Background\"><img src=\"https://live.staticflickr.com/65535/52030543667_1ec272fe0c_w.jpg\" width=\"400\" height=\"225\" alt=\"Zoom Background\"></a><script async src=\"//embedr.flickr.com/assets/client-code.js\" charset=\"utf-8\"></script>\n",
    "\n",
    "#### Showing...\n",
    "\n",
    "Casting a pandas Series to various output types."
   ]
  },
  {
   "cell_type": "code",
   "execution_count": 1,
   "id": "81369336-de34-4dcb-ae02-17e39d8e1ad9",
   "metadata": {},
   "outputs": [],
   "source": [
    "import pandas as pd\n",
    "import numpy as np"
   ]
  },
  {
   "cell_type": "code",
   "execution_count": 2,
   "id": "e938e4fc-4c23-43fc-aad3-fff9e20ca839",
   "metadata": {},
   "outputs": [],
   "source": [
    "the_data = np.array([1, 2, 3, 4, 4, 5, 6])"
   ]
  },
  {
   "cell_type": "code",
   "execution_count": 3,
   "id": "f7a1e297-df35-408e-995e-a69988aa5f24",
   "metadata": {},
   "outputs": [
    {
     "data": {
      "text/plain": [
       "array([1, 2, 3, 4, 4, 5, 6])"
      ]
     },
     "execution_count": 3,
     "metadata": {},
     "output_type": "execute_result"
    }
   ],
   "source": [
    "the_data"
   ]
  },
  {
   "cell_type": "code",
   "execution_count": 4,
   "id": "896bdd53-673e-4e44-b727-355afd9a72d8",
   "metadata": {},
   "outputs": [
    {
     "data": {
      "text/plain": [
       "A    1\n",
       "B    2\n",
       "C    3\n",
       "D    4\n",
       "E    4\n",
       "F    5\n",
       "G    6\n",
       "Name: Dupes, dtype: int64"
      ]
     },
     "execution_count": 4,
     "metadata": {},
     "output_type": "execute_result"
    }
   ],
   "source": [
    "s = pd.Series(the_data, index = list(\"ABCDEFG\"), name=\"Dupes\")\n",
    "s"
   ]
  },
  {
   "cell_type": "code",
   "execution_count": 5,
   "id": "abc26bb9-3007-4480-8908-f7afad0b6ea5",
   "metadata": {},
   "outputs": [
    {
     "data": {
      "text/plain": [
       "A    1.0\n",
       "B    2.0\n",
       "C    3.0\n",
       "D    4.0\n",
       "E    4.0\n",
       "F    5.0\n",
       "G    6.0\n",
       "Name: Dupes, dtype: float32"
      ]
     },
     "execution_count": 5,
     "metadata": {},
     "output_type": "execute_result"
    }
   ],
   "source": [
    "s.astype(np.float32)"
   ]
  },
  {
   "cell_type": "code",
   "execution_count": 6,
   "id": "97b663e5-073d-4d44-bb72-e6f35207d91e",
   "metadata": {},
   "outputs": [],
   "source": [
    "with pd.ExcelWriter(\"the_series.xlsx\") as writer:\n",
    "    s.to_excel(writer) "
   ]
  },
  {
   "cell_type": "code",
   "execution_count": 7,
   "id": "cd3a9b20-116b-4dc3-b343-56d9565ecf6b",
   "metadata": {},
   "outputs": [
    {
     "data": {
      "text/plain": [
       "{'A': 1, 'B': 2, 'C': 3, 'D': 4, 'E': 4, 'F': 5, 'G': 6}"
      ]
     },
     "execution_count": 7,
     "metadata": {},
     "output_type": "execute_result"
    }
   ],
   "source": [
    "s.to_dict()"
   ]
  },
  {
   "cell_type": "code",
   "execution_count": 8,
   "id": "d9bdc79b-ff84-4a31-b963-df7adc9149e1",
   "metadata": {},
   "outputs": [
    {
     "data": {
      "text/plain": [
       "array([1, 2, 3, 4, 4, 5, 6])"
      ]
     },
     "execution_count": 8,
     "metadata": {},
     "output_type": "execute_result"
    }
   ],
   "source": [
    "s.to_numpy()"
   ]
  }
 ],
 "metadata": {
  "kernelspec": {
   "display_name": "Python 3 (ipykernel)",
   "language": "python",
   "name": "python3"
  },
  "language_info": {
   "codemirror_mode": {
    "name": "ipython",
    "version": 3
   },
   "file_extension": ".py",
   "mimetype": "text/x-python",
   "name": "python",
   "nbconvert_exporter": "python",
   "pygments_lexer": "ipython3",
   "version": "3.9.12"
  }
 },
 "nbformat": 4,
 "nbformat_minor": 5
}
