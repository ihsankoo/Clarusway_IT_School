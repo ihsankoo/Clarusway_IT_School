{
 "cells": [
  {
   "cell_type": "markdown",
   "id": "d9ccad0d-df0d-4e73-afb7-716ac005a5a2",
   "metadata": {},
   "source": [
    "<a data-flickr-embed=\"true\" href=\"https://www.flickr.com/photos/kirbyurner/52030543667/in/dateposted-public/\" title=\"Zoom Background\"><img src=\"https://live.staticflickr.com/65535/52030543667_1ec272fe0c_w.jpg\" width=\"400\" height=\"225\" alt=\"Zoom Background\"></a><script async src=\"//embedr.flickr.com/assets/client-code.js\" charset=\"utf-8\"></script>\n",
    "\n",
    "#### Showing...\n",
    "\n",
    "How numpy treats the Python int type.\n",
    "\n",
    "To work as fast and efficiently as it does, numpy needs fixed size datatypes. If that's not possible, the object type is used.  Usually, for numeric fields, we avoid the object type, but for arbitrary length integers like in Python, we have no other choice.\n",
    "\n",
    "[StackOverFlow](https://stackoverflow.com/questions/53755046/numpy-large-integer-failed)"
   ]
  },
  {
   "cell_type": "markdown",
   "id": "285576a9-f328-472a-b4f4-2af5913c7c49",
   "metadata": {},
   "source": [
    "First, let's introduce the numpy product function."
   ]
  },
  {
   "cell_type": "code",
   "execution_count": 1,
   "id": "6227a46d-3129-4c49-8023-756dfeed1616",
   "metadata": {},
   "outputs": [],
   "source": [
    "import numpy as np"
   ]
  },
  {
   "cell_type": "code",
   "execution_count": 2,
   "id": "2168b43f-c3e8-4558-bc59-d758bd5cf6e6",
   "metadata": {},
   "outputs": [
    {
     "data": {
      "text/plain": [
       "120"
      ]
     },
     "execution_count": 2,
     "metadata": {},
     "output_type": "execute_result"
    }
   ],
   "source": [
    "np.product([1,2,3,4,5])"
   ]
  },
  {
   "cell_type": "markdown",
   "id": "efc5421e-7284-4ca4-8476-3a8ae65c6dac",
   "metadata": {},
   "source": [
    "Same as $\\Pi$, which multiplies, versus $\\Sigma$ which adds."
   ]
  },
  {
   "cell_type": "code",
   "execution_count": 3,
   "id": "809aa7d8-8ca7-42e6-8692-b3b556cdb6d3",
   "metadata": {},
   "outputs": [
    {
     "data": {
      "text/plain": [
       "15"
      ]
     },
     "execution_count": 3,
     "metadata": {},
     "output_type": "execute_result"
    }
   ],
   "source": [
    "np.sum([1,2,3,4,5])"
   ]
  },
  {
   "cell_type": "code",
   "execution_count": 4,
   "id": "84cb3dd4-a3cc-469b-a0f9-6cd92d61646a",
   "metadata": {},
   "outputs": [
    {
     "data": {
      "text/plain": [
       "933262154439441526816992388562667004907159682643816214685929638952175999932299156089414639761565182862536979208272237582511852109168640000000000000000000000"
      ]
     },
     "execution_count": 4,
     "metadata": {},
     "output_type": "execute_result"
    }
   ],
   "source": [
    "from math import factorial\n",
    "factorial(99)"
   ]
  },
  {
   "cell_type": "code",
   "execution_count": 6,
   "id": "597b4e80-f19f-4c7c-883e-eb29e9ec9c20",
   "metadata": {},
   "outputs": [
    {
     "data": {
      "text/plain": [
       "0"
      ]
     },
     "execution_count": 6,
     "metadata": {},
     "output_type": "execute_result"
    }
   ],
   "source": [
    "np.arange(1, 100).prod() # fast but wrong"
   ]
  },
  {
   "cell_type": "code",
   "execution_count": 5,
   "id": "f017dc84-330d-452a-812a-82bfe80ce59e",
   "metadata": {},
   "outputs": [
    {
     "data": {
      "text/plain": [
       "dtype('int64')"
      ]
     },
     "execution_count": 5,
     "metadata": {},
     "output_type": "execute_result"
    }
   ],
   "source": [
    "arr = np.arange(1,100)\n",
    "arr.dtype"
   ]
  },
  {
   "cell_type": "code",
   "execution_count": 7,
   "id": "713a84a3-d55b-4bbd-bfdb-e4731ba24b3d",
   "metadata": {},
   "outputs": [
    {
     "data": {
      "text/plain": [
       "933262154439441526816992388562667004907159682643816214685929638952175999932299156089414639761565182862536979208272237582511852109168640000000000000000000000"
      ]
     },
     "execution_count": 7,
     "metadata": {},
     "output_type": "execute_result"
    }
   ],
   "source": [
    "np.arange(1, 100, dtype=object).prod() # slow but correct"
   ]
  }
 ],
 "metadata": {
  "kernelspec": {
   "display_name": "Python 3 (ipykernel)",
   "language": "python",
   "name": "python3"
  },
  "language_info": {
   "codemirror_mode": {
    "name": "ipython",
    "version": 3
   },
   "file_extension": ".py",
   "mimetype": "text/x-python",
   "name": "python",
   "nbconvert_exporter": "python",
   "pygments_lexer": "ipython3",
   "version": "3.9.12"
  }
 },
 "nbformat": 4,
 "nbformat_minor": 5
}
